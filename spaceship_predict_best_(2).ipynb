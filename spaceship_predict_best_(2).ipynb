{
  "cells": [
    {
      "cell_type": "markdown",
      "metadata": {
        "id": "view-in-github",
        "colab_type": "text"
      },
      "source": [
        "<a href=\"https://colab.research.google.com/github/Flaviofrc97/DASCIENSE-MACHINE-LEARNING/blob/main/spaceship_predict_best_(2).ipynb\" target=\"_parent\"><img src=\"https://colab.research.google.com/assets/colab-badge.svg\" alt=\"Open In Colab\"/></a>"
      ]
    },
    {
      "cell_type": "markdown",
      "source": [
        "## IMPORTS"
      ],
      "metadata": {
        "id": "9-MOxeI7l0W-"
      }
    },
    {
      "cell_type": "code",
      "source": [
        "!pip install scikit-learn-intelex"
      ],
      "metadata": {
        "colab": {
          "base_uri": "https://localhost:8080/"
        },
        "id": "b-wSrqsHQIp0",
        "outputId": "9ddfd083-1a5c-42c5-9947-3e862782303d"
      },
      "execution_count": null,
      "outputs": [
        {
          "output_type": "stream",
          "name": "stdout",
          "text": [
            "Requirement already satisfied: scikit-learn-intelex in /usr/local/lib/python3.7/dist-packages (2021.5.3)\n",
            "Requirement already satisfied: daal4py==2021.5.3 in /usr/local/lib/python3.7/dist-packages (from scikit-learn-intelex) (2021.5.3)\n",
            "Requirement already satisfied: scikit-learn>=0.22 in /usr/local/lib/python3.7/dist-packages (from scikit-learn-intelex) (1.0.2)\n",
            "Requirement already satisfied: numpy>=1.15 in /usr/local/lib/python3.7/dist-packages (from daal4py==2021.5.3->scikit-learn-intelex) (1.21.5)\n",
            "Requirement already satisfied: daal==2021.5.3 in /usr/local/lib/python3.7/dist-packages (from daal4py==2021.5.3->scikit-learn-intelex) (2021.5.3)\n",
            "Requirement already satisfied: tbb==2021.* in /usr/local/lib/python3.7/dist-packages (from daal==2021.5.3->daal4py==2021.5.3->scikit-learn-intelex) (2021.5.1)\n",
            "Requirement already satisfied: threadpoolctl>=2.0.0 in /usr/local/lib/python3.7/dist-packages (from scikit-learn>=0.22->scikit-learn-intelex) (3.1.0)\n",
            "Requirement already satisfied: scipy>=1.1.0 in /usr/local/lib/python3.7/dist-packages (from scikit-learn>=0.22->scikit-learn-intelex) (1.4.1)\n",
            "Requirement already satisfied: joblib>=0.11 in /usr/local/lib/python3.7/dist-packages (from scikit-learn>=0.22->scikit-learn-intelex) (1.1.0)\n"
          ]
        }
      ]
    },
    {
      "cell_type": "code",
      "source": [
        "from sklearnex import patch_sklearn\n",
        "patch_sklearn()"
      ],
      "metadata": {
        "colab": {
          "base_uri": "https://localhost:8080/"
        },
        "id": "TXogofnvQbtD",
        "outputId": "14d2cc78-bf7a-4caf-c0b7-2faf5b0c74fb"
      },
      "execution_count": null,
      "outputs": [
        {
          "output_type": "stream",
          "name": "stderr",
          "text": [
            "Intel(R) Extension for Scikit-learn* enabled (https://github.com/intel/scikit-learn-intelex)\n"
          ]
        }
      ]
    },
    {
      "cell_type": "code",
      "source": [
        "!pip install optuna\n",
        "!pip install vecstack"
      ],
      "metadata": {
        "id": "MrlmOlyM9pLH"
      },
      "execution_count": null,
      "outputs": []
    },
    {
      "cell_type": "code",
      "execution_count": null,
      "metadata": {
        "id": "qoF0-jg_v0XJ"
      },
      "outputs": [],
      "source": [
        "#DataFrame\n",
        "import numpy as np # linear algebra\n",
        "import pandas as pd # data processing, CSV file I/O (e.g. pd.read_csv)\n",
        "\n",
        "#charts\n",
        "import seaborn as sns\n",
        "import matplotlib.pyplot as plt\n",
        "import scipy.stats as ss\n",
        "\n",
        "#Preprocessig\n",
        "from sklearn.preprocessing import LabelEncoder\n",
        "from sklearn.preprocessing import MinMaxScaler, StandardScaler, RobustScaler\n",
        "\n",
        "#stacking\n",
        "from sklearn.model_selection import train_test_split\n",
        "from sklearn.metrics import accuracy_score\n",
        "from vecstack import stacking\n",
        "\n",
        "#Models\n",
        "from lightgbm import LGBMClassifier\n",
        "from sklearn.neighbors import KNeighborsClassifier\n",
        "from sklearn.ensemble import RandomForestClassifier\n",
        "from xgboost import XGBClassifier\n",
        "\n",
        "#tunning\n",
        "import optuna\n",
        "from optuna.samplers import TPESampler\n",
        "from sklearn.pipeline import make_pipeline\n",
        "from sklearn.model_selection import cross_val_score\n",
        "from sklearn.model_selection import StratifiedKFold\n",
        "\n",
        "\n",
        "import warnings\n",
        "warnings.filterwarnings( 'ignore' )\n",
        "\n",
        "plt.style.use(\"ggplot\")\n",
        "plt.rcParams[\"figure.figsize\"] = (15,7)"
      ]
    },
    {
      "cell_type": "markdown",
      "metadata": {
        "id": "GUg4NIKtv0XO"
      },
      "source": [
        "## File and Data Field Descriptions"
      ]
    },
    {
      "cell_type": "markdown",
      "metadata": {
        "id": "lgCyRzwUv0XT"
      },
      "source": [
        "**train.csv** - Personal records for about two-thirds (~8700) of the passengers, to be used as training data.\n",
        "\n",
        "**PassengerId** - A unique Id for each passenger. Each Id takes the form gggg_pp where gggg indicates a group the passenger is travelling with and pp is their number within the group. People in a group are often family members, but not always.\n",
        "\n",
        "**HomePlanet** - The planet the passenger departed from, typically their planet of permanent residence.\n",
        "\n",
        "**CryoSleep** - Indicates whether the passenger elected to be put into suspended animation for the duration of the voyage. Passengers in cryosleep are confined to their cabins.\n",
        "\n",
        "**Cabin** - The cabin number where the passenger is staying. Takes the form deck/num/side, where side can be either P for Port or S for Starboard.\n",
        "\n",
        "**Destination** - The planet the passenger will be debarking to.\n",
        "\n",
        "**Age** - The age of the passenger.\n",
        "\n",
        "**VIP** - Whether the passenger has paid for special VIP service during the voyage.\n",
        "\n",
        "**RoomService, FoodCourt, ShoppingMall, Spa, VRDeck** - Amount the passenger has billed at each of the Spaceship Titanic's many luxury amenities.\n",
        "\n",
        "**Name** - The first and last names of the passenger.\n",
        "\n",
        "**Transported** - Whether the passenger was transported to another dimension. This is the target, the column you are trying to predict."
      ]
    },
    {
      "cell_type": "markdown",
      "source": [
        "## READ FILE"
      ],
      "metadata": {
        "id": "IJuQlM78lOLc"
      }
    },
    {
      "cell_type": "code",
      "execution_count": null,
      "metadata": {
        "colab": {
          "base_uri": "https://localhost:8080/"
        },
        "id": "Css6z87veeQH",
        "outputId": "96c3bdc4-eab4-4061-b26e-94a8caf71cb5"
      },
      "outputs": [
        {
          "output_type": "stream",
          "name": "stdout",
          "text": [
            "Mounted at /content/drive\n"
          ]
        }
      ],
      "source": [
        "from google.colab import drive\n",
        "drive.mount('/content/drive')"
      ]
    },
    {
      "cell_type": "code",
      "execution_count": null,
      "metadata": {
        "id": "af2KNe2AeRMx"
      },
      "outputs": [],
      "source": [
        "train = \"/content/drive/MyDrive/Datasests/SPACE/train.csv\"\n",
        "test = \"/content/drive/MyDrive/Datasests/SPACE/test.csv\"\n",
        "sub=\"/content/drive/MyDrive/Datasests/SPACE/sample_submission.csv\""
      ]
    },
    {
      "cell_type": "code",
      "execution_count": null,
      "metadata": {
        "id": "wX3vGv0Gv0XW"
      },
      "outputs": [],
      "source": [
        "train = pd.read_csv(train)\n",
        "test = pd.read_csv(test)\n",
        "sub = pd.read_csv(sub)\n",
        "\n",
        "train['Transported'] = train['Transported'].astype(int)"
      ]
    },
    {
      "cell_type": "markdown",
      "source": [
        "## DESCRIPTION DATA"
      ],
      "metadata": {
        "id": "ktVuweRXlmXs"
      }
    },
    {
      "cell_type": "code",
      "execution_count": null,
      "metadata": {
        "colab": {
          "base_uri": "https://localhost:8080/",
          "height": 206
        },
        "id": "plB3Pj4sv0XY",
        "outputId": "186d4a98-39ca-44d7-b297-4f8b1e1e119f"
      },
      "outputs": [
        {
          "output_type": "execute_result",
          "data": {
            "text/plain": [
              "  PassengerId HomePlanet CryoSleep  Cabin  Destination   Age    VIP  \\\n",
              "0     0001_01     Europa     False  B/0/P  TRAPPIST-1e  39.0  False   \n",
              "1     0002_01      Earth     False  F/0/S  TRAPPIST-1e  24.0  False   \n",
              "2     0003_01     Europa     False  A/0/S  TRAPPIST-1e  58.0   True   \n",
              "3     0003_02     Europa     False  A/0/S  TRAPPIST-1e  33.0  False   \n",
              "4     0004_01      Earth     False  F/1/S  TRAPPIST-1e  16.0  False   \n",
              "\n",
              "   RoomService  FoodCourt  ShoppingMall     Spa  VRDeck               Name  \\\n",
              "0          0.0        0.0           0.0     0.0     0.0    Maham Ofracculy   \n",
              "1        109.0        9.0          25.0   549.0    44.0       Juanna Vines   \n",
              "2         43.0     3576.0           0.0  6715.0    49.0      Altark Susent   \n",
              "3          0.0     1283.0         371.0  3329.0   193.0       Solam Susent   \n",
              "4        303.0       70.0         151.0   565.0     2.0  Willy Santantines   \n",
              "\n",
              "   Transported  \n",
              "0            0  \n",
              "1            1  \n",
              "2            0  \n",
              "3            0  \n",
              "4            1  "
            ],
            "text/html": [
              "\n",
              "  <div id=\"df-f49f5d8a-3d07-485c-9be1-50732bea9862\">\n",
              "    <div class=\"colab-df-container\">\n",
              "      <div>\n",
              "<style scoped>\n",
              "    .dataframe tbody tr th:only-of-type {\n",
              "        vertical-align: middle;\n",
              "    }\n",
              "\n",
              "    .dataframe tbody tr th {\n",
              "        vertical-align: top;\n",
              "    }\n",
              "\n",
              "    .dataframe thead th {\n",
              "        text-align: right;\n",
              "    }\n",
              "</style>\n",
              "<table border=\"1\" class=\"dataframe\">\n",
              "  <thead>\n",
              "    <tr style=\"text-align: right;\">\n",
              "      <th></th>\n",
              "      <th>PassengerId</th>\n",
              "      <th>HomePlanet</th>\n",
              "      <th>CryoSleep</th>\n",
              "      <th>Cabin</th>\n",
              "      <th>Destination</th>\n",
              "      <th>Age</th>\n",
              "      <th>VIP</th>\n",
              "      <th>RoomService</th>\n",
              "      <th>FoodCourt</th>\n",
              "      <th>ShoppingMall</th>\n",
              "      <th>Spa</th>\n",
              "      <th>VRDeck</th>\n",
              "      <th>Name</th>\n",
              "      <th>Transported</th>\n",
              "    </tr>\n",
              "  </thead>\n",
              "  <tbody>\n",
              "    <tr>\n",
              "      <th>0</th>\n",
              "      <td>0001_01</td>\n",
              "      <td>Europa</td>\n",
              "      <td>False</td>\n",
              "      <td>B/0/P</td>\n",
              "      <td>TRAPPIST-1e</td>\n",
              "      <td>39.0</td>\n",
              "      <td>False</td>\n",
              "      <td>0.0</td>\n",
              "      <td>0.0</td>\n",
              "      <td>0.0</td>\n",
              "      <td>0.0</td>\n",
              "      <td>0.0</td>\n",
              "      <td>Maham Ofracculy</td>\n",
              "      <td>0</td>\n",
              "    </tr>\n",
              "    <tr>\n",
              "      <th>1</th>\n",
              "      <td>0002_01</td>\n",
              "      <td>Earth</td>\n",
              "      <td>False</td>\n",
              "      <td>F/0/S</td>\n",
              "      <td>TRAPPIST-1e</td>\n",
              "      <td>24.0</td>\n",
              "      <td>False</td>\n",
              "      <td>109.0</td>\n",
              "      <td>9.0</td>\n",
              "      <td>25.0</td>\n",
              "      <td>549.0</td>\n",
              "      <td>44.0</td>\n",
              "      <td>Juanna Vines</td>\n",
              "      <td>1</td>\n",
              "    </tr>\n",
              "    <tr>\n",
              "      <th>2</th>\n",
              "      <td>0003_01</td>\n",
              "      <td>Europa</td>\n",
              "      <td>False</td>\n",
              "      <td>A/0/S</td>\n",
              "      <td>TRAPPIST-1e</td>\n",
              "      <td>58.0</td>\n",
              "      <td>True</td>\n",
              "      <td>43.0</td>\n",
              "      <td>3576.0</td>\n",
              "      <td>0.0</td>\n",
              "      <td>6715.0</td>\n",
              "      <td>49.0</td>\n",
              "      <td>Altark Susent</td>\n",
              "      <td>0</td>\n",
              "    </tr>\n",
              "    <tr>\n",
              "      <th>3</th>\n",
              "      <td>0003_02</td>\n",
              "      <td>Europa</td>\n",
              "      <td>False</td>\n",
              "      <td>A/0/S</td>\n",
              "      <td>TRAPPIST-1e</td>\n",
              "      <td>33.0</td>\n",
              "      <td>False</td>\n",
              "      <td>0.0</td>\n",
              "      <td>1283.0</td>\n",
              "      <td>371.0</td>\n",
              "      <td>3329.0</td>\n",
              "      <td>193.0</td>\n",
              "      <td>Solam Susent</td>\n",
              "      <td>0</td>\n",
              "    </tr>\n",
              "    <tr>\n",
              "      <th>4</th>\n",
              "      <td>0004_01</td>\n",
              "      <td>Earth</td>\n",
              "      <td>False</td>\n",
              "      <td>F/1/S</td>\n",
              "      <td>TRAPPIST-1e</td>\n",
              "      <td>16.0</td>\n",
              "      <td>False</td>\n",
              "      <td>303.0</td>\n",
              "      <td>70.0</td>\n",
              "      <td>151.0</td>\n",
              "      <td>565.0</td>\n",
              "      <td>2.0</td>\n",
              "      <td>Willy Santantines</td>\n",
              "      <td>1</td>\n",
              "    </tr>\n",
              "  </tbody>\n",
              "</table>\n",
              "</div>\n",
              "      <button class=\"colab-df-convert\" onclick=\"convertToInteractive('df-f49f5d8a-3d07-485c-9be1-50732bea9862')\"\n",
              "              title=\"Convert this dataframe to an interactive table.\"\n",
              "              style=\"display:none;\">\n",
              "        \n",
              "  <svg xmlns=\"http://www.w3.org/2000/svg\" height=\"24px\"viewBox=\"0 0 24 24\"\n",
              "       width=\"24px\">\n",
              "    <path d=\"M0 0h24v24H0V0z\" fill=\"none\"/>\n",
              "    <path d=\"M18.56 5.44l.94 2.06.94-2.06 2.06-.94-2.06-.94-.94-2.06-.94 2.06-2.06.94zm-11 1L8.5 8.5l.94-2.06 2.06-.94-2.06-.94L8.5 2.5l-.94 2.06-2.06.94zm10 10l.94 2.06.94-2.06 2.06-.94-2.06-.94-.94-2.06-.94 2.06-2.06.94z\"/><path d=\"M17.41 7.96l-1.37-1.37c-.4-.4-.92-.59-1.43-.59-.52 0-1.04.2-1.43.59L10.3 9.45l-7.72 7.72c-.78.78-.78 2.05 0 2.83L4 21.41c.39.39.9.59 1.41.59.51 0 1.02-.2 1.41-.59l7.78-7.78 2.81-2.81c.8-.78.8-2.07 0-2.86zM5.41 20L4 18.59l7.72-7.72 1.47 1.35L5.41 20z\"/>\n",
              "  </svg>\n",
              "      </button>\n",
              "      \n",
              "  <style>\n",
              "    .colab-df-container {\n",
              "      display:flex;\n",
              "      flex-wrap:wrap;\n",
              "      gap: 12px;\n",
              "    }\n",
              "\n",
              "    .colab-df-convert {\n",
              "      background-color: #E8F0FE;\n",
              "      border: none;\n",
              "      border-radius: 50%;\n",
              "      cursor: pointer;\n",
              "      display: none;\n",
              "      fill: #1967D2;\n",
              "      height: 32px;\n",
              "      padding: 0 0 0 0;\n",
              "      width: 32px;\n",
              "    }\n",
              "\n",
              "    .colab-df-convert:hover {\n",
              "      background-color: #E2EBFA;\n",
              "      box-shadow: 0px 1px 2px rgba(60, 64, 67, 0.3), 0px 1px 3px 1px rgba(60, 64, 67, 0.15);\n",
              "      fill: #174EA6;\n",
              "    }\n",
              "\n",
              "    [theme=dark] .colab-df-convert {\n",
              "      background-color: #3B4455;\n",
              "      fill: #D2E3FC;\n",
              "    }\n",
              "\n",
              "    [theme=dark] .colab-df-convert:hover {\n",
              "      background-color: #434B5C;\n",
              "      box-shadow: 0px 1px 3px 1px rgba(0, 0, 0, 0.15);\n",
              "      filter: drop-shadow(0px 1px 2px rgba(0, 0, 0, 0.3));\n",
              "      fill: #FFFFFF;\n",
              "    }\n",
              "  </style>\n",
              "\n",
              "      <script>\n",
              "        const buttonEl =\n",
              "          document.querySelector('#df-f49f5d8a-3d07-485c-9be1-50732bea9862 button.colab-df-convert');\n",
              "        buttonEl.style.display =\n",
              "          google.colab.kernel.accessAllowed ? 'block' : 'none';\n",
              "\n",
              "        async function convertToInteractive(key) {\n",
              "          const element = document.querySelector('#df-f49f5d8a-3d07-485c-9be1-50732bea9862');\n",
              "          const dataTable =\n",
              "            await google.colab.kernel.invokeFunction('convertToInteractive',\n",
              "                                                     [key], {});\n",
              "          if (!dataTable) return;\n",
              "\n",
              "          const docLinkHtml = 'Like what you see? Visit the ' +\n",
              "            '<a target=\"_blank\" href=https://colab.research.google.com/notebooks/data_table.ipynb>data table notebook</a>'\n",
              "            + ' to learn more about interactive tables.';\n",
              "          element.innerHTML = '';\n",
              "          dataTable['output_type'] = 'display_data';\n",
              "          await google.colab.output.renderOutput(dataTable, element);\n",
              "          const docLink = document.createElement('div');\n",
              "          docLink.innerHTML = docLinkHtml;\n",
              "          element.appendChild(docLink);\n",
              "        }\n",
              "      </script>\n",
              "    </div>\n",
              "  </div>\n",
              "  "
            ]
          },
          "metadata": {},
          "execution_count": 8
        }
      ],
      "source": [
        "train.head()"
      ]
    },
    {
      "cell_type": "code",
      "execution_count": null,
      "metadata": {
        "colab": {
          "base_uri": "https://localhost:8080/"
        },
        "id": "dq2fl2d6v0XZ",
        "outputId": "75115177-6977-4ab2-8eee-2b0ee25d22b3"
      },
      "outputs": [
        {
          "output_type": "execute_result",
          "data": {
            "text/plain": [
              "((8693, 14), (4277, 13))"
            ]
          },
          "metadata": {},
          "execution_count": 10
        }
      ],
      "source": [
        "train.shape, test.shape"
      ]
    },
    {
      "cell_type": "code",
      "execution_count": null,
      "metadata": {
        "colab": {
          "base_uri": "https://localhost:8080/"
        },
        "id": "T1DakjvYv0Xa",
        "outputId": "50caf2d2-8983-410c-a85e-d886a74395c7"
      },
      "outputs": [
        {
          "output_type": "execute_result",
          "data": {
            "text/plain": [
              "PassengerId       0\n",
              "HomePlanet      201\n",
              "CryoSleep       217\n",
              "Cabin           199\n",
              "Destination     182\n",
              "Age             179\n",
              "VIP             203\n",
              "RoomService     181\n",
              "FoodCourt       183\n",
              "ShoppingMall    208\n",
              "Spa             183\n",
              "VRDeck          188\n",
              "Name            200\n",
              "Transported       0\n",
              "dtype: int64"
            ]
          },
          "metadata": {},
          "execution_count": 11
        }
      ],
      "source": [
        "train.isna().sum()"
      ]
    },
    {
      "cell_type": "markdown",
      "metadata": {
        "id": "xxBBiDqQxRYJ"
      },
      "source": [
        "# **Feature Engeeneing**"
      ]
    },
    {
      "cell_type": "code",
      "execution_count": null,
      "metadata": {
        "id": "xIYUdX3ev0Xx"
      },
      "outputs": [],
      "source": [
        "TARGET = train[['Transported']]\n",
        "train1 = train.copy()\n",
        "test1 = test.copy()"
      ]
    },
    {
      "cell_type": "code",
      "execution_count": null,
      "metadata": {
        "id": "y-HLfuszv0Xy"
      },
      "outputs": [],
      "source": [
        "def fill_cat(df: pd.DataFrame):\n",
        "    col_feat = list(train1.select_dtypes(exclude=['int64', 'float64']).columns)\n",
        "    col_feat.remove('PassengerId')\n",
        "    for col in col_feat:\n",
        "        df[col].fillna(df[col].mode()[0], inplace=True)\n",
        "    return df\n",
        "        \n",
        "def fill_num(df: pd.DataFrame):\n",
        "    col_feat = list(train1.select_dtypes(include=['int64', 'float64']).columns)\n",
        "    col_feat.remove('Transported')\n",
        "    for col in col_feat:\n",
        "        df[col].fillna(df[col].median(), inplace=True)\n",
        "    return df\n",
        "        \n",
        "def convert_bainary(df: pd.DataFrame):\n",
        "    cols = ['VIP','CryoSleep']\n",
        "    for col in cols:\n",
        "        df[col] = df[col].astype(int)\n",
        "    return df\n",
        "\n",
        "#off\n",
        "def log_transform(df: pd.DataFrame):\n",
        "    col_feat = ['RoomService', 'FoodCourt', 'ShoppingMall', 'Spa', 'VRDeck', 'vr_spend' ]\n",
        "    for col in col_feat:\n",
        "        df[col] = np.log(1+df[col])\n",
        "    return df"
      ]
    },
    {
      "cell_type": "code",
      "execution_count": null,
      "metadata": {
        "id": "zJCqvCMUv0Xz"
      },
      "outputs": [],
      "source": [
        "def create_columns(df: pd.DataFrame):\n",
        "    df['deck'] = df['Cabin'].apply(lambda x: x.split('/')[0])\n",
        "    df['num'] = df['Cabin'].apply(lambda x: x.split('/')[1])\n",
        "    df['side'] = df['Cabin'].apply(lambda x: x.split('/')[2])\n",
        "    df['LastName'] = df.Name.str.split(' ').str[1]\n",
        "    \n",
        "    df['group'] = df['PassengerId'].apply(lambda x: x[0:4])\n",
        "    df['vr_spend']=df['RoomService']+df['FoodCourt']+df['ShoppingMall']+df['Spa']+df['VRDeck']\n",
        "    df['no_spend'] = df['vr_spend'].apply(lambda row: 1 if row == 0 else 0)\n",
        "    \n",
        "    df['familyCounts'] = df.groupby(['LastName'])['LastName'].transform('count')\n",
        "    # fill the values with name 'Disivering'\n",
        "    df['familyCounts'] =  df['familyCounts'].apply(lambda x: 0 if x > 200 else x)\n",
        "    \n",
        "    #df['isChild'] = df['Age'].apply(lambda x: 1 if x < 10 else 0)\n",
        "    #df['isOld'] = df['Age'].apply(lambda x: 1 if x > 60 else 0)\n",
        "    #new columns form Age\n",
        "    df['0_18'] = df['Age'].apply(lambda x: 1 if x <= 18 else 0)\n",
        "    df['19_30'] = df['Age'].apply(lambda x: 1 if x > 18 and x <= 30  else 0)\n",
        "    df['more_30'] = df['Age'].apply(lambda x: 1 if x > 30 else 0)\n",
        "    \n",
        "    return df\n",
        "\n",
        "def drop_cols(df: pd.DataFrame):\n",
        "    df.drop(['Name', 'Cabin', 'Age', 'LastName'], axis=1, inplace=True)\n",
        "    return df\n",
        "\n",
        "\n",
        "def reduce_cardinality(df: pd.DataFrame ):\n",
        "    col_ = ['Cabin', 'deck','num', 'side']\n",
        "    for col in col_:\n",
        "        #get a list of categories which contain one value\n",
        "        tmp=list(df[col].value_counts()[df[col].value_counts()<2].index)\n",
        "        #Replace with 'other'\n",
        "        df[col]=df[col].apply(lambda x:'other' if x in tmp else x)\n",
        "    return df"
      ]
    },
    {
      "cell_type": "code",
      "execution_count": null,
      "metadata": {
        "colab": {
          "base_uri": "https://localhost:8080/"
        },
        "id": "N8UOLJsUv0X1",
        "outputId": "59ab0a8f-7eb5-4df5-8e51-7284cef4f7d6"
      },
      "outputs": [
        {
          "output_type": "stream",
          "name": "stdout",
          "text": [
            "CPU times: user 121 ms, sys: 3.02 ms, total: 125 ms\n",
            "Wall time: 124 ms\n"
          ]
        }
      ],
      "source": [
        "%%time\n",
        "train1 = (train1.pipe(fill_cat).pipe(fill_num).pipe(convert_bainary))\n",
        "test1 = (test1.pipe(fill_cat).pipe(fill_num).pipe(convert_bainary))\n",
        "\n",
        "train1 = (train1.pipe(create_columns).pipe(drop_cols))\n",
        "test1 = (test1.pipe(create_columns).pipe(drop_cols))"
      ]
    },
    {
      "cell_type": "code",
      "execution_count": null,
      "metadata": {
        "colab": {
          "base_uri": "https://localhost:8080/",
          "height": 280
        },
        "id": "cmE8UMTfeCRp",
        "outputId": "871335f9-9bbf-4ac1-bdab-a0f7fbf89a9a"
      },
      "outputs": [
        {
          "output_type": "execute_result",
          "data": {
            "text/plain": [
              "  PassengerId HomePlanet  CryoSleep  Destination  VIP  RoomService  FoodCourt  \\\n",
              "0     0001_01     Europa          0  TRAPPIST-1e    0          0.0        0.0   \n",
              "1     0002_01      Earth          0  TRAPPIST-1e    0        109.0        9.0   \n",
              "2     0003_01     Europa          0  TRAPPIST-1e    1         43.0     3576.0   \n",
              "3     0003_02     Europa          0  TRAPPIST-1e    0          0.0     1283.0   \n",
              "4     0004_01      Earth          0  TRAPPIST-1e    0        303.0       70.0   \n",
              "\n",
              "   ShoppingMall     Spa  VRDeck  ...  deck num side group vr_spend  no_spend  \\\n",
              "0           0.0     0.0     0.0  ...     B   0    P  0001      0.0         1   \n",
              "1          25.0   549.0    44.0  ...     F   0    S  0002    736.0         0   \n",
              "2           0.0  6715.0    49.0  ...     A   0    S  0003  10383.0         0   \n",
              "3         371.0  3329.0   193.0  ...     A   0    S  0003   5176.0         0   \n",
              "4         151.0   565.0     2.0  ...     F   1    S  0004   1091.0         0   \n",
              "\n",
              "   familyCounts  0_18  19_30  more_30  \n",
              "0             1     0      0        1  \n",
              "1             4     0      1        0  \n",
              "2             6     0      0        1  \n",
              "3             6     0      0        1  \n",
              "4             6     1      0        0  \n",
              "\n",
              "[5 rows x 21 columns]"
            ],
            "text/html": [
              "\n",
              "  <div id=\"df-d40794d0-2449-4a57-b0b1-48b1807a3f16\">\n",
              "    <div class=\"colab-df-container\">\n",
              "      <div>\n",
              "<style scoped>\n",
              "    .dataframe tbody tr th:only-of-type {\n",
              "        vertical-align: middle;\n",
              "    }\n",
              "\n",
              "    .dataframe tbody tr th {\n",
              "        vertical-align: top;\n",
              "    }\n",
              "\n",
              "    .dataframe thead th {\n",
              "        text-align: right;\n",
              "    }\n",
              "</style>\n",
              "<table border=\"1\" class=\"dataframe\">\n",
              "  <thead>\n",
              "    <tr style=\"text-align: right;\">\n",
              "      <th></th>\n",
              "      <th>PassengerId</th>\n",
              "      <th>HomePlanet</th>\n",
              "      <th>CryoSleep</th>\n",
              "      <th>Destination</th>\n",
              "      <th>VIP</th>\n",
              "      <th>RoomService</th>\n",
              "      <th>FoodCourt</th>\n",
              "      <th>ShoppingMall</th>\n",
              "      <th>Spa</th>\n",
              "      <th>VRDeck</th>\n",
              "      <th>...</th>\n",
              "      <th>deck</th>\n",
              "      <th>num</th>\n",
              "      <th>side</th>\n",
              "      <th>group</th>\n",
              "      <th>vr_spend</th>\n",
              "      <th>no_spend</th>\n",
              "      <th>familyCounts</th>\n",
              "      <th>0_18</th>\n",
              "      <th>19_30</th>\n",
              "      <th>more_30</th>\n",
              "    </tr>\n",
              "  </thead>\n",
              "  <tbody>\n",
              "    <tr>\n",
              "      <th>0</th>\n",
              "      <td>0001_01</td>\n",
              "      <td>Europa</td>\n",
              "      <td>0</td>\n",
              "      <td>TRAPPIST-1e</td>\n",
              "      <td>0</td>\n",
              "      <td>0.0</td>\n",
              "      <td>0.0</td>\n",
              "      <td>0.0</td>\n",
              "      <td>0.0</td>\n",
              "      <td>0.0</td>\n",
              "      <td>...</td>\n",
              "      <td>B</td>\n",
              "      <td>0</td>\n",
              "      <td>P</td>\n",
              "      <td>0001</td>\n",
              "      <td>0.0</td>\n",
              "      <td>1</td>\n",
              "      <td>1</td>\n",
              "      <td>0</td>\n",
              "      <td>0</td>\n",
              "      <td>1</td>\n",
              "    </tr>\n",
              "    <tr>\n",
              "      <th>1</th>\n",
              "      <td>0002_01</td>\n",
              "      <td>Earth</td>\n",
              "      <td>0</td>\n",
              "      <td>TRAPPIST-1e</td>\n",
              "      <td>0</td>\n",
              "      <td>109.0</td>\n",
              "      <td>9.0</td>\n",
              "      <td>25.0</td>\n",
              "      <td>549.0</td>\n",
              "      <td>44.0</td>\n",
              "      <td>...</td>\n",
              "      <td>F</td>\n",
              "      <td>0</td>\n",
              "      <td>S</td>\n",
              "      <td>0002</td>\n",
              "      <td>736.0</td>\n",
              "      <td>0</td>\n",
              "      <td>4</td>\n",
              "      <td>0</td>\n",
              "      <td>1</td>\n",
              "      <td>0</td>\n",
              "    </tr>\n",
              "    <tr>\n",
              "      <th>2</th>\n",
              "      <td>0003_01</td>\n",
              "      <td>Europa</td>\n",
              "      <td>0</td>\n",
              "      <td>TRAPPIST-1e</td>\n",
              "      <td>1</td>\n",
              "      <td>43.0</td>\n",
              "      <td>3576.0</td>\n",
              "      <td>0.0</td>\n",
              "      <td>6715.0</td>\n",
              "      <td>49.0</td>\n",
              "      <td>...</td>\n",
              "      <td>A</td>\n",
              "      <td>0</td>\n",
              "      <td>S</td>\n",
              "      <td>0003</td>\n",
              "      <td>10383.0</td>\n",
              "      <td>0</td>\n",
              "      <td>6</td>\n",
              "      <td>0</td>\n",
              "      <td>0</td>\n",
              "      <td>1</td>\n",
              "    </tr>\n",
              "    <tr>\n",
              "      <th>3</th>\n",
              "      <td>0003_02</td>\n",
              "      <td>Europa</td>\n",
              "      <td>0</td>\n",
              "      <td>TRAPPIST-1e</td>\n",
              "      <td>0</td>\n",
              "      <td>0.0</td>\n",
              "      <td>1283.0</td>\n",
              "      <td>371.0</td>\n",
              "      <td>3329.0</td>\n",
              "      <td>193.0</td>\n",
              "      <td>...</td>\n",
              "      <td>A</td>\n",
              "      <td>0</td>\n",
              "      <td>S</td>\n",
              "      <td>0003</td>\n",
              "      <td>5176.0</td>\n",
              "      <td>0</td>\n",
              "      <td>6</td>\n",
              "      <td>0</td>\n",
              "      <td>0</td>\n",
              "      <td>1</td>\n",
              "    </tr>\n",
              "    <tr>\n",
              "      <th>4</th>\n",
              "      <td>0004_01</td>\n",
              "      <td>Earth</td>\n",
              "      <td>0</td>\n",
              "      <td>TRAPPIST-1e</td>\n",
              "      <td>0</td>\n",
              "      <td>303.0</td>\n",
              "      <td>70.0</td>\n",
              "      <td>151.0</td>\n",
              "      <td>565.0</td>\n",
              "      <td>2.0</td>\n",
              "      <td>...</td>\n",
              "      <td>F</td>\n",
              "      <td>1</td>\n",
              "      <td>S</td>\n",
              "      <td>0004</td>\n",
              "      <td>1091.0</td>\n",
              "      <td>0</td>\n",
              "      <td>6</td>\n",
              "      <td>1</td>\n",
              "      <td>0</td>\n",
              "      <td>0</td>\n",
              "    </tr>\n",
              "  </tbody>\n",
              "</table>\n",
              "<p>5 rows × 21 columns</p>\n",
              "</div>\n",
              "      <button class=\"colab-df-convert\" onclick=\"convertToInteractive('df-d40794d0-2449-4a57-b0b1-48b1807a3f16')\"\n",
              "              title=\"Convert this dataframe to an interactive table.\"\n",
              "              style=\"display:none;\">\n",
              "        \n",
              "  <svg xmlns=\"http://www.w3.org/2000/svg\" height=\"24px\"viewBox=\"0 0 24 24\"\n",
              "       width=\"24px\">\n",
              "    <path d=\"M0 0h24v24H0V0z\" fill=\"none\"/>\n",
              "    <path d=\"M18.56 5.44l.94 2.06.94-2.06 2.06-.94-2.06-.94-.94-2.06-.94 2.06-2.06.94zm-11 1L8.5 8.5l.94-2.06 2.06-.94-2.06-.94L8.5 2.5l-.94 2.06-2.06.94zm10 10l.94 2.06.94-2.06 2.06-.94-2.06-.94-.94-2.06-.94 2.06-2.06.94z\"/><path d=\"M17.41 7.96l-1.37-1.37c-.4-.4-.92-.59-1.43-.59-.52 0-1.04.2-1.43.59L10.3 9.45l-7.72 7.72c-.78.78-.78 2.05 0 2.83L4 21.41c.39.39.9.59 1.41.59.51 0 1.02-.2 1.41-.59l7.78-7.78 2.81-2.81c.8-.78.8-2.07 0-2.86zM5.41 20L4 18.59l7.72-7.72 1.47 1.35L5.41 20z\"/>\n",
              "  </svg>\n",
              "      </button>\n",
              "      \n",
              "  <style>\n",
              "    .colab-df-container {\n",
              "      display:flex;\n",
              "      flex-wrap:wrap;\n",
              "      gap: 12px;\n",
              "    }\n",
              "\n",
              "    .colab-df-convert {\n",
              "      background-color: #E8F0FE;\n",
              "      border: none;\n",
              "      border-radius: 50%;\n",
              "      cursor: pointer;\n",
              "      display: none;\n",
              "      fill: #1967D2;\n",
              "      height: 32px;\n",
              "      padding: 0 0 0 0;\n",
              "      width: 32px;\n",
              "    }\n",
              "\n",
              "    .colab-df-convert:hover {\n",
              "      background-color: #E2EBFA;\n",
              "      box-shadow: 0px 1px 2px rgba(60, 64, 67, 0.3), 0px 1px 3px 1px rgba(60, 64, 67, 0.15);\n",
              "      fill: #174EA6;\n",
              "    }\n",
              "\n",
              "    [theme=dark] .colab-df-convert {\n",
              "      background-color: #3B4455;\n",
              "      fill: #D2E3FC;\n",
              "    }\n",
              "\n",
              "    [theme=dark] .colab-df-convert:hover {\n",
              "      background-color: #434B5C;\n",
              "      box-shadow: 0px 1px 3px 1px rgba(0, 0, 0, 0.15);\n",
              "      filter: drop-shadow(0px 1px 2px rgba(0, 0, 0, 0.3));\n",
              "      fill: #FFFFFF;\n",
              "    }\n",
              "  </style>\n",
              "\n",
              "      <script>\n",
              "        const buttonEl =\n",
              "          document.querySelector('#df-d40794d0-2449-4a57-b0b1-48b1807a3f16 button.colab-df-convert');\n",
              "        buttonEl.style.display =\n",
              "          google.colab.kernel.accessAllowed ? 'block' : 'none';\n",
              "\n",
              "        async function convertToInteractive(key) {\n",
              "          const element = document.querySelector('#df-d40794d0-2449-4a57-b0b1-48b1807a3f16');\n",
              "          const dataTable =\n",
              "            await google.colab.kernel.invokeFunction('convertToInteractive',\n",
              "                                                     [key], {});\n",
              "          if (!dataTable) return;\n",
              "\n",
              "          const docLinkHtml = 'Like what you see? Visit the ' +\n",
              "            '<a target=\"_blank\" href=https://colab.research.google.com/notebooks/data_table.ipynb>data table notebook</a>'\n",
              "            + ' to learn more about interactive tables.';\n",
              "          element.innerHTML = '';\n",
              "          dataTable['output_type'] = 'display_data';\n",
              "          await google.colab.output.renderOutput(dataTable, element);\n",
              "          const docLink = document.createElement('div');\n",
              "          docLink.innerHTML = docLinkHtml;\n",
              "          element.appendChild(docLink);\n",
              "        }\n",
              "      </script>\n",
              "    </div>\n",
              "  </div>\n",
              "  "
            ]
          },
          "metadata": {},
          "execution_count": 66
        }
      ],
      "source": [
        "train1.head()"
      ]
    },
    {
      "cell_type": "markdown",
      "metadata": {
        "id": "oIEKbvCbv0Xd"
      },
      "source": [
        "# **EDA**"
      ]
    },
    {
      "cell_type": "markdown",
      "source": [
        "## **LABEL ENCODER**"
      ],
      "metadata": {
        "id": "XZ4Dz_mBSgzj"
      }
    },
    {
      "cell_type": "code",
      "execution_count": null,
      "metadata": {
        "id": "GEqi7dJwv0X5",
        "colab": {
          "base_uri": "https://localhost:8080/"
        },
        "outputId": "cbab4f69-e226-419f-b094-562881880e3f"
      },
      "outputs": [
        {
          "output_type": "stream",
          "name": "stdout",
          "text": [
            "HomePlanet\n",
            "Destination\n",
            "deck\n",
            "num\n",
            "side\n",
            "group\n"
          ]
        }
      ],
      "source": [
        "cats = list(train1.select_dtypes(exclude=['int64', 'float64']).columns)\n",
        "cats.remove('PassengerId')\n",
        "for i in cats:\n",
        "    print(i)\n",
        "    le=LabelEncoder()\n",
        "    arr=np.concatenate((train1[i], test1[i])).astype(str)\n",
        "    le.fit(arr)\n",
        "    train1[i]=le.transform(train1[i].astype(str))\n",
        "    test1[i]=le.transform(test1[i].astype(str))"
      ]
    },
    {
      "cell_type": "markdown",
      "source": [
        "## **TARGET**"
      ],
      "metadata": {
        "id": "OlzlAXjlSdae"
      }
    },
    {
      "cell_type": "code",
      "execution_count": null,
      "metadata": {
        "id": "KbtNJht3v0Xh",
        "colab": {
          "base_uri": "https://localhost:8080/",
          "height": 462
        },
        "outputId": "92b2438c-bd6f-450a-c7a9-8bd05e09a33a"
      },
      "outputs": [
        {
          "output_type": "display_data",
          "data": {
            "text/plain": [
              "<Figure size 1080x504 with 1 Axes>"
            ],
            "image/png": "[encoded data removed]"
          },
          "metadata": {}
        }
      ],
      "source": [
        "g = sns.countplot(x = 'Transported', data = train , palette=['g' if c == True else 'r' for c in train['Transported']]);\n",
        "for p in g.patches:\n",
        "    height = p.get_height()\n",
        "    g.text(p.get_x()+p.get_width()/2.,\n",
        "            height/2,\n",
        "            '{}'.format(round(height)),\n",
        "            ha=\"center\", color='white')\n",
        "plt.title('TARGET');"
      ]
    },
    {
      "cell_type": "markdown",
      "metadata": {
        "id": "Fsa9B8pDv0Xi"
      },
      "source": [
        "**We have a balanced class**"
      ]
    },
    {
      "cell_type": "markdown",
      "metadata": {
        "id": "c5JTlTsQv0Xk"
      },
      "source": [
        "## **Bivariate Analysis**"
      ]
    },
    {
      "cell_type": "code",
      "execution_count": null,
      "metadata": {
        "id": "6JJI3PM2v0Xk"
      },
      "outputs": [],
      "source": [
        "num_feat = train1.select_dtypes(exclude='object')\n",
        "num_feat.drop('Transported', axis=1, inplace=True)"
      ]
    },
    {
      "cell_type": "markdown",
      "metadata": {
        "id": "yiC3hGgRv0Xp"
      },
      "source": [
        " ## **Numerical Variable**"
      ]
    },
    {
      "cell_type": "code",
      "execution_count": null,
      "metadata": {
        "colab": {
          "base_uri": "https://localhost:8080/",
          "height": 394
        },
        "id": "Up_6VxAOv0Xp",
        "outputId": "ac27a383-fd83-49f6-b143-ed1a4c2b18cd"
      },
      "outputs": [
        {
          "output_type": "execute_result",
          "data": {
            "text/plain": [
              "        HomePlanet    CryoSleep        Cabin  Destination          Age  \\\n",
              "count  8693.000000  8693.000000  8693.000000  8693.000000  8693.000000   \n",
              "mean      0.649833     0.349362  4819.036466     1.494306    28.790291   \n",
              "std       0.795183     0.476796  3032.501554     0.814966    14.341404   \n",
              "min       0.000000     0.000000     0.000000     0.000000     0.000000   \n",
              "25%       0.000000     0.000000  1968.000000     1.000000    20.000000   \n",
              "50%       0.000000     0.000000  4815.000000     2.000000    27.000000   \n",
              "75%       1.000000     1.000000  7563.000000     2.000000    37.000000   \n",
              "max       2.000000     1.000000  9822.000000     2.000000    79.000000   \n",
              "\n",
              "               VIP   RoomService     FoodCourt  ShoppingMall           Spa  \\\n",
              "count  8693.000000   8693.000000   8693.000000   8693.000000   8693.000000   \n",
              "mean      0.022892    220.009318    448.434027    169.572300    304.588865   \n",
              "std       0.149568    660.519050   1595.790627    598.007164   1125.562559   \n",
              "min       0.000000      0.000000      0.000000      0.000000      0.000000   \n",
              "25%       0.000000      0.000000      0.000000      0.000000      0.000000   \n",
              "50%       0.000000      0.000000      0.000000      0.000000      0.000000   \n",
              "75%       0.000000     41.000000     61.000000     22.000000     53.000000   \n",
              "max       1.000000  14327.000000  29813.000000  23492.000000  22408.000000   \n",
              "\n",
              "       ...         deck          num         side     LastName        group  \\\n",
              "count  ...  8693.000000  8693.000000  8693.000000  8693.000000  8693.000000   \n",
              "mean   ...     4.344185  1011.745197     0.516162  1194.661452  4632.389624   \n",
              "std    ...     1.775938   535.059773     0.499767   689.883384  2671.028856   \n",
              "min    ...     0.000000     0.000000     0.000000     0.000000     0.000000   \n",
              "25%    ...     3.000000   531.000000     0.000000   626.000000  2318.000000   \n",
              "50%    ...     5.000000  1084.000000     1.000000  1194.000000  4629.000000   \n",
              "75%    ...     6.000000  1438.000000     1.000000  1770.000000  6882.000000   \n",
              "max    ...     7.000000  1893.000000     1.000000  2405.000000  9279.000000   \n",
              "\n",
              "           vr_spend     no_spend  familyCounts      isChild        isOld  \n",
              "count   8693.000000  8693.000000   8693.000000  8693.000000  8693.000000  \n",
              "mean    1440.866329     0.420223      5.297596     0.078109     0.025308  \n",
              "std     2803.045694     0.493623      2.975454     0.268358     0.157067  \n",
              "min        0.000000     0.000000      0.000000     0.000000     0.000000  \n",
              "25%        0.000000     0.000000      3.000000     0.000000     0.000000  \n",
              "50%      716.000000     0.000000      5.000000     0.000000     0.000000  \n",
              "75%     1441.000000     1.000000      7.000000     0.000000     0.000000  \n",
              "max    35987.000000     1.000000     18.000000     1.000000     1.000000  \n",
              "\n",
              "[8 rows x 21 columns]"
            ],
            "text/html": [
              "\n",
              "  <div id=\"df-8b4ac5a9-7ae4-44ba-8594-617d0d8650d1\">\n",
              "    <div class=\"colab-df-container\">\n",
              "      <div>\n",
              "<style scoped>\n",
              "    .dataframe tbody tr th:only-of-type {\n",
              "        vertical-align: middle;\n",
              "    }\n",
              "\n",
              "    .dataframe tbody tr th {\n",
              "        vertical-align: top;\n",
              "    }\n",
              "\n",
              "    .dataframe thead th {\n",
              "        text-align: right;\n",
              "    }\n",
              "</style>\n",
              "<table border=\"1\" class=\"dataframe\">\n",
              "  <thead>\n",
              "    <tr style=\"text-align: right;\">\n",
              "      <th></th>\n",
              "      <th>HomePlanet</th>\n",
              "      <th>CryoSleep</th>\n",
              "      <th>Cabin</th>\n",
              "      <th>Destination</th>\n",
              "      <th>Age</th>\n",
              "      <th>VIP</th>\n",
              "      <th>RoomService</th>\n",
              "      <th>FoodCourt</th>\n",
              "      <th>ShoppingMall</th>\n",
              "      <th>Spa</th>\n",
              "      <th>...</th>\n",
              "      <th>deck</th>\n",
              "      <th>num</th>\n",
              "      <th>side</th>\n",
              "      <th>LastName</th>\n",
              "      <th>group</th>\n",
              "      <th>vr_spend</th>\n",
              "      <th>no_spend</th>\n",
              "      <th>familyCounts</th>\n",
              "      <th>isChild</th>\n",
              "      <th>isOld</th>\n",
              "    </tr>\n",
              "  </thead>\n",
              "  <tbody>\n",
              "    <tr>\n",
              "      <th>count</th>\n",
              "      <td>8693.000000</td>\n",
              "      <td>8693.000000</td>\n",
              "      <td>8693.000000</td>\n",
              "      <td>8693.000000</td>\n",
              "      <td>8693.000000</td>\n",
              "      <td>8693.000000</td>\n",
              "      <td>8693.000000</td>\n",
              "      <td>8693.000000</td>\n",
              "      <td>8693.000000</td>\n",
              "      <td>8693.000000</td>\n",
              "      <td>...</td>\n",
              "      <td>8693.000000</td>\n",
              "      <td>8693.000000</td>\n",
              "      <td>8693.000000</td>\n",
              "      <td>8693.000000</td>\n",
              "      <td>8693.000000</td>\n",
              "      <td>8693.000000</td>\n",
              "      <td>8693.000000</td>\n",
              "      <td>8693.000000</td>\n",
              "      <td>8693.000000</td>\n",
              "      <td>8693.000000</td>\n",
              "    </tr>\n",
              "    <tr>\n",
              "      <th>mean</th>\n",
              "      <td>0.649833</td>\n",
              "      <td>0.349362</td>\n",
              "      <td>4819.036466</td>\n",
              "      <td>1.494306</td>\n",
              "      <td>28.790291</td>\n",
              "      <td>0.022892</td>\n",
              "      <td>220.009318</td>\n",
              "      <td>448.434027</td>\n",
              "      <td>169.572300</td>\n",
              "      <td>304.588865</td>\n",
              "      <td>...</td>\n",
              "      <td>4.344185</td>\n",
              "      <td>1011.745197</td>\n",
              "      <td>0.516162</td>\n",
              "      <td>1194.661452</td>\n",
              "      <td>4632.389624</td>\n",
              "      <td>1440.866329</td>\n",
              "      <td>0.420223</td>\n",
              "      <td>5.297596</td>\n",
              "      <td>0.078109</td>\n",
              "      <td>0.025308</td>\n",
              "    </tr>\n",
              "    <tr>\n",
              "      <th>std</th>\n",
              "      <td>0.795183</td>\n",
              "      <td>0.476796</td>\n",
              "      <td>3032.501554</td>\n",
              "      <td>0.814966</td>\n",
              "      <td>14.341404</td>\n",
              "      <td>0.149568</td>\n",
              "      <td>660.519050</td>\n",
              "      <td>1595.790627</td>\n",
              "      <td>598.007164</td>\n",
              "      <td>1125.562559</td>\n",
              "      <td>...</td>\n",
              "      <td>1.775938</td>\n",
              "      <td>535.059773</td>\n",
              "      <td>0.499767</td>\n",
              "      <td>689.883384</td>\n",
              "      <td>2671.028856</td>\n",
              "      <td>2803.045694</td>\n",
              "      <td>0.493623</td>\n",
              "      <td>2.975454</td>\n",
              "      <td>0.268358</td>\n",
              "      <td>0.157067</td>\n",
              "    </tr>\n",
              "    <tr>\n",
              "      <th>min</th>\n",
              "      <td>0.000000</td>\n",
              "      <td>0.000000</td>\n",
              "      <td>0.000000</td>\n",
              "      <td>0.000000</td>\n",
              "      <td>0.000000</td>\n",
              "      <td>0.000000</td>\n",
              "      <td>0.000000</td>\n",
              "      <td>0.000000</td>\n",
              "      <td>0.000000</td>\n",
              "      <td>0.000000</td>\n",
              "      <td>...</td>\n",
              "      <td>0.000000</td>\n",
              "      <td>0.000000</td>\n",
              "      <td>0.000000</td>\n",
              "      <td>0.000000</td>\n",
              "      <td>0.000000</td>\n",
              "      <td>0.000000</td>\n",
              "      <td>0.000000</td>\n",
              "      <td>0.000000</td>\n",
              "      <td>0.000000</td>\n",
              "      <td>0.000000</td>\n",
              "    </tr>\n",
              "    <tr>\n",
              "      <th>25%</th>\n",
              "      <td>0.000000</td>\n",
              "      <td>0.000000</td>\n",
              "      <td>1968.000000</td>\n",
              "      <td>1.000000</td>\n",
              "      <td>20.000000</td>\n",
              "      <td>0.000000</td>\n",
              "      <td>0.000000</td>\n",
              "      <td>0.000000</td>\n",
              "      <td>0.000000</td>\n",
              "      <td>0.000000</td>\n",
              "      <td>...</td>\n",
              "      <td>3.000000</td>\n",
              "      <td>531.000000</td>\n",
              "      <td>0.000000</td>\n",
              "      <td>626.000000</td>\n",
              "      <td>2318.000000</td>\n",
              "      <td>0.000000</td>\n",
              "      <td>0.000000</td>\n",
              "      <td>3.000000</td>\n",
              "      <td>0.000000</td>\n",
              "      <td>0.000000</td>\n",
              "    </tr>\n",
              "    <tr>\n",
              "      <th>50%</th>\n",
              "      <td>0.000000</td>\n",
              "      <td>0.000000</td>\n",
              "      <td>4815.000000</td>\n",
              "      <td>2.000000</td>\n",
              "      <td>27.000000</td>\n",
              "      <td>0.000000</td>\n",
              "      <td>0.000000</td>\n",
              "      <td>0.000000</td>\n",
              "      <td>0.000000</td>\n",
              "      <td>0.000000</td>\n",
              "      <td>...</td>\n",
              "      <td>5.000000</td>\n",
              "      <td>1084.000000</td>\n",
              "      <td>1.000000</td>\n",
              "      <td>1194.000000</td>\n",
              "      <td>4629.000000</td>\n",
              "      <td>716.000000</td>\n",
              "      <td>0.000000</td>\n",
              "      <td>5.000000</td>\n",
              "      <td>0.000000</td>\n",
              "      <td>0.000000</td>\n",
              "    </tr>\n",
              "    <tr>\n",
              "      <th>75%</th>\n",
              "      <td>1.000000</td>\n",
              "      <td>1.000000</td>\n",
              "      <td>7563.000000</td>\n",
              "      <td>2.000000</td>\n",
              "      <td>37.000000</td>\n",
              "      <td>0.000000</td>\n",
              "      <td>41.000000</td>\n",
              "      <td>61.000000</td>\n",
              "      <td>22.000000</td>\n",
              "      <td>53.000000</td>\n",
              "      <td>...</td>\n",
              "      <td>6.000000</td>\n",
              "      <td>1438.000000</td>\n",
              "      <td>1.000000</td>\n",
              "      <td>1770.000000</td>\n",
              "      <td>6882.000000</td>\n",
              "      <td>1441.000000</td>\n",
              "      <td>1.000000</td>\n",
              "      <td>7.000000</td>\n",
              "      <td>0.000000</td>\n",
              "      <td>0.000000</td>\n",
              "    </tr>\n",
              "    <tr>\n",
              "      <th>max</th>\n",
              "      <td>2.000000</td>\n",
              "      <td>1.000000</td>\n",
              "      <td>9822.000000</td>\n",
              "      <td>2.000000</td>\n",
              "      <td>79.000000</td>\n",
              "      <td>1.000000</td>\n",
              "      <td>14327.000000</td>\n",
              "      <td>29813.000000</td>\n",
              "      <td>23492.000000</td>\n",
              "      <td>22408.000000</td>\n",
              "      <td>...</td>\n",
              "      <td>7.000000</td>\n",
              "      <td>1893.000000</td>\n",
              "      <td>1.000000</td>\n",
              "      <td>2405.000000</td>\n",
              "      <td>9279.000000</td>\n",
              "      <td>35987.000000</td>\n",
              "      <td>1.000000</td>\n",
              "      <td>18.000000</td>\n",
              "      <td>1.000000</td>\n",
              "      <td>1.000000</td>\n",
              "    </tr>\n",
              "  </tbody>\n",
              "</table>\n",
              "<p>8 rows × 21 columns</p>\n",
              "</div>\n",
              "      <button class=\"colab-df-convert\" onclick=\"convertToInteractive('df-8b4ac5a9-7ae4-44ba-8594-617d0d8650d1')\"\n",
              "              title=\"Convert this dataframe to an interactive table.\"\n",
              "              style=\"display:none;\">\n",
              "        \n",
              "  <svg xmlns=\"http://www.w3.org/2000/svg\" height=\"24px\"viewBox=\"0 0 24 24\"\n",
              "       width=\"24px\">\n",
              "    <path d=\"M0 0h24v24H0V0z\" fill=\"none\"/>\n",
              "    <path d=\"M18.56 5.44l.94 2.06.94-2.06 2.06-.94-2.06-.94-.94-2.06-.94 2.06-2.06.94zm-11 1L8.5 8.5l.94-2.06 2.06-.94-2.06-.94L8.5 2.5l-.94 2.06-2.06.94zm10 10l.94 2.06.94-2.06 2.06-.94-2.06-.94-.94-2.06-.94 2.06-2.06.94z\"/><path d=\"M17.41 7.96l-1.37-1.37c-.4-.4-.92-.59-1.43-.59-.52 0-1.04.2-1.43.59L10.3 9.45l-7.72 7.72c-.78.78-.78 2.05 0 2.83L4 21.41c.39.39.9.59 1.41.59.51 0 1.02-.2 1.41-.59l7.78-7.78 2.81-2.81c.8-.78.8-2.07 0-2.86zM5.41 20L4 18.59l7.72-7.72 1.47 1.35L5.41 20z\"/>\n",
              "  </svg>\n",
              "      </button>\n",
              "      \n",
              "  <style>\n",
              "    .colab-df-container {\n",
              "      display:flex;\n",
              "      flex-wrap:wrap;\n",
              "      gap: 12px;\n",
              "    }\n",
              "\n",
              "    .colab-df-convert {\n",
              "      background-color: #E8F0FE;\n",
              "      border: none;\n",
              "      border-radius: 50%;\n",
              "      cursor: pointer;\n",
              "      display: none;\n",
              "      fill: #1967D2;\n",
              "      height: 32px;\n",
              "      padding: 0 0 0 0;\n",
              "      width: 32px;\n",
              "    }\n",
              "\n",
              "    .colab-df-convert:hover {\n",
              "      background-color: #E2EBFA;\n",
              "      box-shadow: 0px 1px 2px rgba(60, 64, 67, 0.3), 0px 1px 3px 1px rgba(60, 64, 67, 0.15);\n",
              "      fill: #174EA6;\n",
              "    }\n",
              "\n",
              "    [theme=dark] .colab-df-convert {\n",
              "      background-color: #3B4455;\n",
              "      fill: #D2E3FC;\n",
              "    }\n",
              "\n",
              "    [theme=dark] .colab-df-convert:hover {\n",
              "      background-color: #434B5C;\n",
              "      box-shadow: 0px 1px 3px 1px rgba(0, 0, 0, 0.15);\n",
              "      filter: drop-shadow(0px 1px 2px rgba(0, 0, 0, 0.3));\n",
              "      fill: #FFFFFF;\n",
              "    }\n",
              "  </style>\n",
              "\n",
              "      <script>\n",
              "        const buttonEl =\n",
              "          document.querySelector('#df-8b4ac5a9-7ae4-44ba-8594-617d0d8650d1 button.colab-df-convert');\n",
              "        buttonEl.style.display =\n",
              "          google.colab.kernel.accessAllowed ? 'block' : 'none';\n",
              "\n",
              "        async function convertToInteractive(key) {\n",
              "          const element = document.querySelector('#df-8b4ac5a9-7ae4-44ba-8594-617d0d8650d1');\n",
              "          const dataTable =\n",
              "            await google.colab.kernel.invokeFunction('convertToInteractive',\n",
              "                                                     [key], {});\n",
              "          if (!dataTable) return;\n",
              "\n",
              "          const docLinkHtml = 'Like what you see? Visit the ' +\n",
              "            '<a target=\"_blank\" href=https://colab.research.google.com/notebooks/data_table.ipynb>data table notebook</a>'\n",
              "            + ' to learn more about interactive tables.';\n",
              "          element.innerHTML = '';\n",
              "          dataTable['output_type'] = 'display_data';\n",
              "          await google.colab.output.renderOutput(dataTable, element);\n",
              "          const docLink = document.createElement('div');\n",
              "          docLink.innerHTML = docLinkHtml;\n",
              "          element.appendChild(docLink);\n",
              "        }\n",
              "      </script>\n",
              "    </div>\n",
              "  </div>\n",
              "  "
            ]
          },
          "metadata": {},
          "execution_count": 20
        }
      ],
      "source": [
        "num_feat.describe()"
      ]
    },
    {
      "cell_type": "code",
      "execution_count": null,
      "metadata": {
        "colab": {
          "base_uri": "https://localhost:8080/",
          "height": 670
        },
        "id": "yPNpo8CIv0Xp",
        "outputId": "d6129ce8-4c0b-414c-97e5-46b20a17046e"
      },
      "outputs": [
        {
          "output_type": "display_data",
          "data": {
            "text/plain": [
              "<Figure size 1080x720 with 19 Axes>"
            ],
            "image/png": "[encoded data removed]"
          },
          "metadata": {}
        }
      ],
      "source": [
        "plt.figure(figsize=(15,10));\n",
        "for i, feat in enumerate(num_feat):\n",
        "    plt.subplot( 8, 3, i + 1 );\n",
        "    sns.distplot(x=num_feat[feat], color = 'c')\n",
        "    plt.xlabel(feat);\n",
        "    plt.tight_layout();"
      ]
    },
    {
      "cell_type": "markdown",
      "metadata": {
        "id": "END1VyR-v0Xq"
      },
      "source": [
        "**As we can see, some columns doesnt have a normal curve.**"
      ]
    },
    {
      "cell_type": "markdown",
      "metadata": {
        "id": "PrAiK9pBv0Xr"
      },
      "source": [
        "## **MULTIVARIETED ANALYSI**S"
      ]
    },
    {
      "cell_type": "code",
      "execution_count": null,
      "metadata": {
        "colab": {
          "base_uri": "https://localhost:8080/",
          "height": 598
        },
        "id": "3tUb40PDv0Xr",
        "outputId": "32f8f5d9-7bb0-4cbb-a624-77ca789becb3"
      },
      "outputs": [
        {
          "output_type": "display_data",
          "data": {
            "text/plain": [
              "<Figure size 1440x648 with 2 Axes>"
            ],
            "image/png": "[encoded data removed]"
          },
          "metadata": {}
        }
      ],
      "source": [
        "plt.figure(figsize=(20,9));\n",
        "num_corr = num_feat.corr();\n",
        "sns.heatmap(num_corr, annot=True);"
      ]
    },
    {
      "cell_type": "markdown",
      "metadata": {
        "id": "5KAAkfi6v0Xv"
      },
      "source": [
        "## **CHECK OUTLIERS**"
      ]
    },
    {
      "cell_type": "code",
      "execution_count": null,
      "metadata": {
        "colab": {
          "base_uri": "https://localhost:8080/",
          "height": 670
        },
        "id": "zu0whvyHv0Xv",
        "outputId": "ce01e36e-d003-4ed8-e8c6-617b434db289"
      },
      "outputs": [
        {
          "output_type": "display_data",
          "data": {
            "text/plain": [
              "<Figure size 1080x720 with 19 Axes>"
            ],
            "image/png": "[encoded data removed]"
          },
          "metadata": {}
        }
      ],
      "source": [
        "plt.figure(figsize=(15,10));\n",
        "for i, feat_num in enumerate(num_feat):\n",
        "    plt.subplot( 8, 3, i + 1 );\n",
        "    sns.boxplot(x=num_feat[feat_num], color = 'c')\n",
        "    plt.xlabel(feat_num);\n",
        "    plt.tight_layout()"
      ]
    },
    {
      "cell_type": "markdown",
      "metadata": {
        "id": "9eCvUFcBv0X6"
      },
      "source": [
        "## **STANDARD SCALER**"
      ]
    },
    {
      "cell_type": "code",
      "execution_count": null,
      "metadata": {
        "id": "MgS7K6Kgv0YH"
      },
      "outputs": [],
      "source": [
        "X = train1.drop(['PassengerId', 'Transported'],axis=1)\n",
        "X_test1 = test1.drop('PassengerId', axis=1)\n",
        "y = TARGET\n",
        "\n",
        "cols = list(X.columns)\n",
        "#cols.remove('Transported')\n",
        "\n",
        "# Feature Scaling\n",
        "\n",
        "sc = StandardScaler()\n",
        "X[cols] = sc.fit_transform(X[cols])\n",
        "X_test1[cols] = sc.transform(X_test1[cols])"
      ]
    },
    {
      "cell_type": "code",
      "source": [
        "X.head()"
      ],
      "metadata": {
        "id": "ULlzLHatfny2",
        "outputId": "7e0698c6-d182-4af3-faf4-a36ae776b07a",
        "colab": {
          "base_uri": "https://localhost:8080/",
          "height": 270
        }
      },
      "execution_count": null,
      "outputs": [
        {
          "output_type": "execute_result",
          "data": {
            "text/plain": [
              "   HomePlanet  CryoSleep  Destination       VIP  RoomService  FoodCourt  \\\n",
              "0    0.440385   -0.73277     0.620545 -0.153063    -0.333105  -0.281027   \n",
              "1   -0.817259   -0.73277     0.620545 -0.153063    -0.168073  -0.275387   \n",
              "2    0.440385   -0.73277     0.620545  6.533255    -0.268001   1.959998   \n",
              "3    0.440385   -0.73277     0.620545 -0.153063    -0.333105   0.523010   \n",
              "4   -0.817259   -0.73277     0.620545 -0.153063     0.125652  -0.237159   \n",
              "\n",
              "   ShoppingMall       Spa    VRDeck      deck       num      side     group  \\\n",
              "0     -0.283579 -0.270626 -0.263003 -1.883161 -1.891010 -1.032865 -1.734409   \n",
              "1     -0.241771  0.217158 -0.224205  0.369299 -1.891010  0.968181 -1.734034   \n",
              "2     -0.283579  5.695623 -0.219796 -2.446276 -1.891010  0.968181 -1.733660   \n",
              "3      0.336851  2.687176 -0.092818 -2.446276 -1.891010  0.968181 -1.733660   \n",
              "4     -0.031059  0.231374 -0.261240  0.369299 -1.889141  0.968181 -1.733286   \n",
              "\n",
              "   vr_spend  no_spend  familyCounts      0_18     19_30   more_30  \n",
              "0 -0.514066  1.174601     -1.444433 -0.522628 -0.804767  1.244395  \n",
              "1 -0.251479 -0.851353     -0.436125 -0.522628  1.242596 -0.803603  \n",
              "2  3.190333 -0.851353      0.236080 -0.522628 -0.804767  1.244395  \n",
              "3  1.332604 -0.851353      0.236080 -0.522628 -0.804767  1.244395  \n",
              "4 -0.124824 -0.851353      0.236080  1.913407 -0.804767 -0.803603  "
            ],
            "text/html": [
              "\n",
              "  <div id=\"df-b28436fd-dda2-436e-bcb7-9d60f6c4311b\">\n",
              "    <div class=\"colab-df-container\">\n",
              "      <div>\n",
              "<style scoped>\n",
              "    .dataframe tbody tr th:only-of-type {\n",
              "        vertical-align: middle;\n",
              "    }\n",
              "\n",
              "    .dataframe tbody tr th {\n",
              "        vertical-align: top;\n",
              "    }\n",
              "\n",
              "    .dataframe thead th {\n",
              "        text-align: right;\n",
              "    }\n",
              "</style>\n",
              "<table border=\"1\" class=\"dataframe\">\n",
              "  <thead>\n",
              "    <tr style=\"text-align: right;\">\n",
              "      <th></th>\n",
              "      <th>HomePlanet</th>\n",
              "      <th>CryoSleep</th>\n",
              "      <th>Destination</th>\n",
              "      <th>VIP</th>\n",
              "      <th>RoomService</th>\n",
              "      <th>FoodCourt</th>\n",
              "      <th>ShoppingMall</th>\n",
              "      <th>Spa</th>\n",
              "      <th>VRDeck</th>\n",
              "      <th>deck</th>\n",
              "      <th>num</th>\n",
              "      <th>side</th>\n",
              "      <th>group</th>\n",
              "      <th>vr_spend</th>\n",
              "      <th>no_spend</th>\n",
              "      <th>familyCounts</th>\n",
              "      <th>0_18</th>\n",
              "      <th>19_30</th>\n",
              "      <th>more_30</th>\n",
              "    </tr>\n",
              "  </thead>\n",
              "  <tbody>\n",
              "    <tr>\n",
              "      <th>0</th>\n",
              "      <td>0.440385</td>\n",
              "      <td>-0.73277</td>\n",
              "      <td>0.620545</td>\n",
              "      <td>-0.153063</td>\n",
              "      <td>-0.333105</td>\n",
              "      <td>-0.281027</td>\n",
              "      <td>-0.283579</td>\n",
              "      <td>-0.270626</td>\n",
              "      <td>-0.263003</td>\n",
              "      <td>-1.883161</td>\n",
              "      <td>-1.891010</td>\n",
              "      <td>-1.032865</td>\n",
              "      <td>-1.734409</td>\n",
              "      <td>-0.514066</td>\n",
              "      <td>1.174601</td>\n",
              "      <td>-1.444433</td>\n",
              "      <td>-0.522628</td>\n",
              "      <td>-0.804767</td>\n",
              "      <td>1.244395</td>\n",
              "    </tr>\n",
              "    <tr>\n",
              "      <th>1</th>\n",
              "      <td>-0.817259</td>\n",
              "      <td>-0.73277</td>\n",
              "      <td>0.620545</td>\n",
              "      <td>-0.153063</td>\n",
              "      <td>-0.168073</td>\n",
              "      <td>-0.275387</td>\n",
              "      <td>-0.241771</td>\n",
              "      <td>0.217158</td>\n",
              "      <td>-0.224205</td>\n",
              "      <td>0.369299</td>\n",
              "      <td>-1.891010</td>\n",
              "      <td>0.968181</td>\n",
              "      <td>-1.734034</td>\n",
              "      <td>-0.251479</td>\n",
              "      <td>-0.851353</td>\n",
              "      <td>-0.436125</td>\n",
              "      <td>-0.522628</td>\n",
              "      <td>1.242596</td>\n",
              "      <td>-0.803603</td>\n",
              "    </tr>\n",
              "    <tr>\n",
              "      <th>2</th>\n",
              "      <td>0.440385</td>\n",
              "      <td>-0.73277</td>\n",
              "      <td>0.620545</td>\n",
              "      <td>6.533255</td>\n",
              "      <td>-0.268001</td>\n",
              "      <td>1.959998</td>\n",
              "      <td>-0.283579</td>\n",
              "      <td>5.695623</td>\n",
              "      <td>-0.219796</td>\n",
              "      <td>-2.446276</td>\n",
              "      <td>-1.891010</td>\n",
              "      <td>0.968181</td>\n",
              "      <td>-1.733660</td>\n",
              "      <td>3.190333</td>\n",
              "      <td>-0.851353</td>\n",
              "      <td>0.236080</td>\n",
              "      <td>-0.522628</td>\n",
              "      <td>-0.804767</td>\n",
              "      <td>1.244395</td>\n",
              "    </tr>\n",
              "    <tr>\n",
              "      <th>3</th>\n",
              "      <td>0.440385</td>\n",
              "      <td>-0.73277</td>\n",
              "      <td>0.620545</td>\n",
              "      <td>-0.153063</td>\n",
              "      <td>-0.333105</td>\n",
              "      <td>0.523010</td>\n",
              "      <td>0.336851</td>\n",
              "      <td>2.687176</td>\n",
              "      <td>-0.092818</td>\n",
              "      <td>-2.446276</td>\n",
              "      <td>-1.891010</td>\n",
              "      <td>0.968181</td>\n",
              "      <td>-1.733660</td>\n",
              "      <td>1.332604</td>\n",
              "      <td>-0.851353</td>\n",
              "      <td>0.236080</td>\n",
              "      <td>-0.522628</td>\n",
              "      <td>-0.804767</td>\n",
              "      <td>1.244395</td>\n",
              "    </tr>\n",
              "    <tr>\n",
              "      <th>4</th>\n",
              "      <td>-0.817259</td>\n",
              "      <td>-0.73277</td>\n",
              "      <td>0.620545</td>\n",
              "      <td>-0.153063</td>\n",
              "      <td>0.125652</td>\n",
              "      <td>-0.237159</td>\n",
              "      <td>-0.031059</td>\n",
              "      <td>0.231374</td>\n",
              "      <td>-0.261240</td>\n",
              "      <td>0.369299</td>\n",
              "      <td>-1.889141</td>\n",
              "      <td>0.968181</td>\n",
              "      <td>-1.733286</td>\n",
              "      <td>-0.124824</td>\n",
              "      <td>-0.851353</td>\n",
              "      <td>0.236080</td>\n",
              "      <td>1.913407</td>\n",
              "      <td>-0.804767</td>\n",
              "      <td>-0.803603</td>\n",
              "    </tr>\n",
              "  </tbody>\n",
              "</table>\n",
              "</div>\n",
              "      <button class=\"colab-df-convert\" onclick=\"convertToInteractive('df-b28436fd-dda2-436e-bcb7-9d60f6c4311b')\"\n",
              "              title=\"Convert this dataframe to an interactive table.\"\n",
              "              style=\"display:none;\">\n",
              "        \n",
              "  <svg xmlns=\"http://www.w3.org/2000/svg\" height=\"24px\"viewBox=\"0 0 24 24\"\n",
              "       width=\"24px\">\n",
              "    <path d=\"M0 0h24v24H0V0z\" fill=\"none\"/>\n",
              "    <path d=\"M18.56 5.44l.94 2.06.94-2.06 2.06-.94-2.06-.94-.94-2.06-.94 2.06-2.06.94zm-11 1L8.5 8.5l.94-2.06 2.06-.94-2.06-.94L8.5 2.5l-.94 2.06-2.06.94zm10 10l.94 2.06.94-2.06 2.06-.94-2.06-.94-.94-2.06-.94 2.06-2.06.94z\"/><path d=\"M17.41 7.96l-1.37-1.37c-.4-.4-.92-.59-1.43-.59-.52 0-1.04.2-1.43.59L10.3 9.45l-7.72 7.72c-.78.78-.78 2.05 0 2.83L4 21.41c.39.39.9.59 1.41.59.51 0 1.02-.2 1.41-.59l7.78-7.78 2.81-2.81c.8-.78.8-2.07 0-2.86zM5.41 20L4 18.59l7.72-7.72 1.47 1.35L5.41 20z\"/>\n",
              "  </svg>\n",
              "      </button>\n",
              "      \n",
              "  <style>\n",
              "    .colab-df-container {\n",
              "      display:flex;\n",
              "      flex-wrap:wrap;\n",
              "      gap: 12px;\n",
              "    }\n",
              "\n",
              "    .colab-df-convert {\n",
              "      background-color: #E8F0FE;\n",
              "      border: none;\n",
              "      border-radius: 50%;\n",
              "      cursor: pointer;\n",
              "      display: none;\n",
              "      fill: #1967D2;\n",
              "      height: 32px;\n",
              "      padding: 0 0 0 0;\n",
              "      width: 32px;\n",
              "    }\n",
              "\n",
              "    .colab-df-convert:hover {\n",
              "      background-color: #E2EBFA;\n",
              "      box-shadow: 0px 1px 2px rgba(60, 64, 67, 0.3), 0px 1px 3px 1px rgba(60, 64, 67, 0.15);\n",
              "      fill: #174EA6;\n",
              "    }\n",
              "\n",
              "    [theme=dark] .colab-df-convert {\n",
              "      background-color: #3B4455;\n",
              "      fill: #D2E3FC;\n",
              "    }\n",
              "\n",
              "    [theme=dark] .colab-df-convert:hover {\n",
              "      background-color: #434B5C;\n",
              "      box-shadow: 0px 1px 3px 1px rgba(0, 0, 0, 0.15);\n",
              "      filter: drop-shadow(0px 1px 2px rgba(0, 0, 0, 0.3));\n",
              "      fill: #FFFFFF;\n",
              "    }\n",
              "  </style>\n",
              "\n",
              "      <script>\n",
              "        const buttonEl =\n",
              "          document.querySelector('#df-b28436fd-dda2-436e-bcb7-9d60f6c4311b button.colab-df-convert');\n",
              "        buttonEl.style.display =\n",
              "          google.colab.kernel.accessAllowed ? 'block' : 'none';\n",
              "\n",
              "        async function convertToInteractive(key) {\n",
              "          const element = document.querySelector('#df-b28436fd-dda2-436e-bcb7-9d60f6c4311b');\n",
              "          const dataTable =\n",
              "            await google.colab.kernel.invokeFunction('convertToInteractive',\n",
              "                                                     [key], {});\n",
              "          if (!dataTable) return;\n",
              "\n",
              "          const docLinkHtml = 'Like what you see? Visit the ' +\n",
              "            '<a target=\"_blank\" href=https://colab.research.google.com/notebooks/data_table.ipynb>data table notebook</a>'\n",
              "            + ' to learn more about interactive tables.';\n",
              "          element.innerHTML = '';\n",
              "          dataTable['output_type'] = 'display_data';\n",
              "          await google.colab.output.renderOutput(dataTable, element);\n",
              "          const docLink = document.createElement('div');\n",
              "          docLink.innerHTML = docLinkHtml;\n",
              "          element.appendChild(docLink);\n",
              "        }\n",
              "      </script>\n",
              "    </div>\n",
              "  </div>\n",
              "  "
            ]
          },
          "metadata": {},
          "execution_count": 69
        }
      ]
    },
    {
      "cell_type": "markdown",
      "source": [
        "## STACKING"
      ],
      "metadata": {
        "id": "QfFz4pl0mTUc"
      }
    },
    {
      "cell_type": "code",
      "source": [
        "X_train, X_val, y_train, y_val = train_test_split(X, y, test_size=0.2, random_state=0)"
      ],
      "metadata": {
        "id": "VTeG2xNvWXHy"
      },
      "execution_count": null,
      "outputs": []
    },
    {
      "cell_type": "markdown",
      "source": [
        "### **KNN**"
      ],
      "metadata": {
        "id": "HqHsTD5-AIzS"
      }
    },
    {
      "cell_type": "code",
      "source": [
        "# Which hyperparameters to tune: https://machinelearningmastery.com/hyperparameters-for-classification-machine-learning-algorithms/\n",
        "\n",
        "def objective(trial):              \n",
        "    # -- Tune estimator algorithm\n",
        "    n_neighbors = trial.suggest_int(\"n_neighbors\", 1, 80)\n",
        "    weights = trial.suggest_categorical(\"weights\", ['uniform', 'distance'])\n",
        "    metric = trial.suggest_categorical(\"metric\", ['euclidean', 'manhattan', 'minkowski'])\n",
        "    knn = KNeighborsClassifier(n_neighbors=n_neighbors, weights=weights, metric=metric)\n",
        "        \n",
        "    # -- Make a pipeline\n",
        "    pipeline = make_pipeline(knn)\n",
        "\n",
        "    # -- Cross-validate the features reduced by dimensionality reduction methods\n",
        "    kfold = StratifiedKFold(n_splits=10)\n",
        "    score = cross_val_score(pipeline, X, y, scoring='accuracy', cv=kfold)\n",
        "    score = score.mean()\n",
        "    return score\n",
        "\n",
        "sampler = TPESampler(seed=42) # create a seed for the sampler for reproducibility\n",
        "study = optuna.create_study(direction=\"maximize\", sampler=sampler)\n",
        "study.optimize(objective, n_trials=300)"
      ],
      "metadata": {
        "id": "hoxX_kkOVCKR",
        "colab": {
          "base_uri": "https://localhost:8080/"
        },
        "outputId": "f2ea649d-1dfe-4d3e-dd4e-17e333ccd5db"
      },
      "execution_count": null,
      "outputs": [
        {
          "output_type": "stream",
          "name": "stderr",
          "text": [
            "\u001b[32m[I 2022-04-07 13:22:24,694]\u001b[0m A new study created in memory with name: no-name-53dc2a5c-4ac9-45d0-8c52-ba0b0616761f\u001b[0m\n",
            "\u001b[32m[I 2022-04-07 13:22:25,207]\u001b[0m Trial 0 finished with value: 0.7684402735341191 and parameters: {'n_neighbors': 30, 'weights': 'uniform', 'metric': 'euclidean'}. Best is trial 0 with value: 0.7684402735341191.\u001b[0m\n",
            "\u001b[32m[I 2022-04-07 13:22:25,603]\u001b[0m Trial 1 finished with value: 0.7653341798605876 and parameters: {'n_neighbors': 5, 'weights': 'uniform', 'metric': 'minkowski'}. Best is trial 0 with value: 0.7684402735341191.\u001b[0m\n",
            "\u001b[32m[I 2022-04-07 13:22:26,316]\u001b[0m Trial 2 finished with value: 0.7678635768421888 and parameters: {'n_neighbors': 67, 'weights': 'uniform', 'metric': 'minkowski'}. Best is trial 0 with value: 0.7684402735341191.\u001b[0m\n",
            "\u001b[32m[I 2022-04-07 13:22:26,889]\u001b[0m Trial 3 finished with value: 0.7641826382550957 and parameters: {'n_neighbors': 35, 'weights': 'distance', 'metric': 'minkowski'}. Best is trial 0 with value: 0.7684402735341191.\u001b[0m\n",
            "\u001b[32m[I 2022-04-07 13:22:29,108]\u001b[0m Trial 4 finished with value: 0.7785657976535323 and parameters: {'n_neighbors': 37, 'weights': 'uniform', 'metric': 'manhattan'}. Best is trial 4 with value: 0.7785657976535323.\u001b[0m\n",
            "\u001b[32m[I 2022-04-07 13:22:31,237]\u001b[0m Trial 5 finished with value: 0.7805219369601735 and parameters: {'n_neighbors': 49, 'weights': 'uniform', 'metric': 'manhattan'}. Best is trial 5 with value: 0.7805219369601735.\u001b[0m\n",
            "\u001b[32m[I 2022-04-07 13:22:31,749]\u001b[0m Trial 6 finished with value: 0.7649896168141476 and parameters: {'n_neighbors': 25, 'weights': 'distance', 'metric': 'minkowski'}. Best is trial 5 with value: 0.7805219369601735.\u001b[0m\n",
            "\u001b[32m[I 2022-04-07 13:22:32,113]\u001b[0m Trial 7 finished with value: 0.7549815483512557 and parameters: {'n_neighbors': 3, 'weights': 'uniform', 'metric': 'euclidean'}. Best is trial 5 with value: 0.7805219369601735.\u001b[0m\n",
            "\u001b[32m[I 2022-04-07 13:22:34,032]\u001b[0m Trial 8 finished with value: 0.7793706598944488 and parameters: {'n_neighbors': 44, 'weights': 'distance', 'metric': 'manhattan'}. Best is trial 5 with value: 0.7805219369601735.\u001b[0m\n",
            "\u001b[32m[I 2022-04-07 13:22:34,644]\u001b[0m Trial 9 finished with value: 0.7731559594195998 and parameters: {'n_neighbors': 48, 'weights': 'uniform', 'metric': 'minkowski'}. Best is trial 5 with value: 0.7805219369601735.\u001b[0m\n",
            "\u001b[32m[I 2022-04-07 13:22:36,813]\u001b[0m Trial 10 finished with value: 0.7824749017896114 and parameters: {'n_neighbors': 77, 'weights': 'uniform', 'metric': 'manhattan'}. Best is trial 10 with value: 0.7824749017896114.\u001b[0m\n",
            "\u001b[32m[I 2022-04-07 13:22:39,039]\u001b[0m Trial 11 finished with value: 0.7812102694337526 and parameters: {'n_neighbors': 75, 'weights': 'uniform', 'metric': 'manhattan'}. Best is trial 10 with value: 0.7824749017896114.\u001b[0m\n",
            "\u001b[32m[I 2022-04-07 13:22:41,227]\u001b[0m Trial 12 finished with value: 0.7810945332857162 and parameters: {'n_neighbors': 79, 'weights': 'uniform', 'metric': 'manhattan'}. Best is trial 10 with value: 0.7824749017896114.\u001b[0m\n",
            "\u001b[32m[I 2022-04-07 13:22:43,399]\u001b[0m Trial 13 finished with value: 0.7810942687459492 and parameters: {'n_neighbors': 80, 'weights': 'uniform', 'metric': 'manhattan'}. Best is trial 10 with value: 0.7824749017896114.\u001b[0m\n",
            "\u001b[32m[I 2022-04-07 13:22:45,566]\u001b[0m Trial 14 finished with value: 0.7801740671666468 and parameters: {'n_neighbors': 64, 'weights': 'uniform', 'metric': 'manhattan'}. Best is trial 10 with value: 0.7824749017896114.\u001b[0m\n",
            "\u001b[32m[I 2022-04-07 13:22:47,523]\u001b[0m Trial 15 finished with value: 0.7807498379693927 and parameters: {'n_neighbors': 63, 'weights': 'distance', 'metric': 'manhattan'}. Best is trial 10 with value: 0.7824749017896114.\u001b[0m\n",
            "\u001b[32m[I 2022-04-07 13:22:49,716]\u001b[0m Trial 16 finished with value: 0.781554700210309 and parameters: {'n_neighbors': 71, 'weights': 'uniform', 'metric': 'manhattan'}. Best is trial 10 with value: 0.7824749017896114.\u001b[0m\n",
            "\u001b[32m[I 2022-04-07 13:22:50,369]\u001b[0m Trial 17 finished with value: 0.7680945200587278 and parameters: {'n_neighbors': 56, 'weights': 'uniform', 'metric': 'euclidean'}. Best is trial 10 with value: 0.7824749017896114.\u001b[0m\n",
            "\u001b[32m[I 2022-04-07 13:22:52,341]\u001b[0m Trial 18 finished with value: 0.7825911670171818 and parameters: {'n_neighbors': 70, 'weights': 'distance', 'metric': 'manhattan'}. Best is trial 18 with value: 0.7825911670171818.\u001b[0m\n",
            "\u001b[32m[I 2022-04-07 13:22:54,963]\u001b[0m Trial 19 finished with value: 0.7810971786833856 and parameters: {'n_neighbors': 57, 'weights': 'distance', 'metric': 'manhattan'}. Best is trial 18 with value: 0.7825911670171818.\u001b[0m\n",
            "\u001b[32m[I 2022-04-07 13:22:55,985]\u001b[0m Trial 20 finished with value: 0.7647560281999392 and parameters: {'n_neighbors': 59, 'weights': 'distance', 'metric': 'euclidean'}. Best is trial 18 with value: 0.7825911670171818.\u001b[0m\n",
            "\u001b[32m[I 2022-04-07 13:22:58,147]\u001b[0m Trial 21 finished with value: 0.7825910347472984 and parameters: {'n_neighbors': 71, 'weights': 'distance', 'metric': 'manhattan'}. Best is trial 18 with value: 0.7825911670171818.\u001b[0m\n",
            "\u001b[32m[I 2022-04-07 13:23:00,797]\u001b[0m Trial 22 finished with value: 0.7825910347472984 and parameters: {'n_neighbors': 71, 'weights': 'distance', 'metric': 'manhattan'}. Best is trial 18 with value: 0.7825911670171818.\u001b[0m\n",
            "\u001b[32m[I 2022-04-07 13:23:04,054]\u001b[0m Trial 23 finished with value: 0.7816700395486952 and parameters: {'n_neighbors': 69, 'weights': 'distance', 'metric': 'manhattan'}. Best is trial 18 with value: 0.7825911670171818.\u001b[0m\n",
            "\u001b[32m[I 2022-04-07 13:23:05,992]\u001b[0m Trial 24 finished with value: 0.7817870983955664 and parameters: {'n_neighbors': 52, 'weights': 'distance', 'metric': 'manhattan'}. Best is trial 18 with value: 0.7825911670171818.\u001b[0m\n",
            "\u001b[32m[I 2022-04-07 13:23:07,966]\u001b[0m Trial 25 finished with value: 0.782246074891208 and parameters: {'n_neighbors': 72, 'weights': 'distance', 'metric': 'manhattan'}. Best is trial 18 with value: 0.7825911670171818.\u001b[0m\n",
            "\u001b[32m[I 2022-04-07 13:23:09,938]\u001b[0m Trial 26 finished with value: 0.7815556260994934 and parameters: {'n_neighbors': 62, 'weights': 'distance', 'metric': 'manhattan'}. Best is trial 18 with value: 0.7825911670171818.\u001b[0m\n",
            "\u001b[32m[I 2022-04-07 13:23:11,892]\u001b[0m Trial 27 finished with value: 0.7808654418475458 and parameters: {'n_neighbors': 68, 'weights': 'distance', 'metric': 'manhattan'}. Best is trial 18 with value: 0.7825911670171818.\u001b[0m\n",
            "\u001b[32m[I 2022-04-07 13:23:13,858]\u001b[0m Trial 28 finished with value: 0.7813257410420221 and parameters: {'n_neighbors': 74, 'weights': 'distance', 'metric': 'manhattan'}. Best is trial 18 with value: 0.7825911670171818.\u001b[0m\n",
            "\u001b[32m[I 2022-04-07 13:23:14,299]\u001b[0m Trial 29 finished with value: 0.7682082721585123 and parameters: {'n_neighbors': 13, 'weights': 'distance', 'metric': 'euclidean'}. Best is trial 18 with value: 0.7825911670171818.\u001b[0m\n",
            "\u001b[32m[I 2022-04-07 13:23:14,818]\u001b[0m Trial 30 finished with value: 0.7649896168141476 and parameters: {'n_neighbors': 25, 'weights': 'distance', 'metric': 'euclidean'}. Best is trial 18 with value: 0.7825911670171818.\u001b[0m\n",
            "\u001b[32m[I 2022-04-07 13:23:16,789]\u001b[0m Trial 31 finished with value: 0.7813252119624883 and parameters: {'n_neighbors': 78, 'weights': 'distance', 'metric': 'manhattan'}. Best is trial 18 with value: 0.7825911670171818.\u001b[0m\n",
            "\u001b[32m[I 2022-04-07 13:23:19,510]\u001b[0m Trial 32 finished with value: 0.7813257410420221 and parameters: {'n_neighbors': 74, 'weights': 'distance', 'metric': 'manhattan'}. Best is trial 18 with value: 0.7825911670171818.\u001b[0m\n",
            "\u001b[32m[I 2022-04-07 13:23:22,595]\u001b[0m Trial 33 finished with value: 0.7812110630530535 and parameters: {'n_neighbors': 66, 'weights': 'distance', 'metric': 'manhattan'}. Best is trial 18 with value: 0.7825911670171818.\u001b[0m\n",
            "\u001b[32m[I 2022-04-07 13:23:23,421]\u001b[0m Trial 34 finished with value: 0.762455061307091 and parameters: {'n_neighbors': 80, 'weights': 'distance', 'metric': 'minkowski'}. Best is trial 18 with value: 0.7825911670171818.\u001b[0m\n",
            "\u001b[32m[I 2022-04-07 13:23:25,361]\u001b[0m Trial 35 finished with value: 0.781786437046149 and parameters: {'n_neighbors': 60, 'weights': 'distance', 'metric': 'manhattan'}. Best is trial 18 with value: 0.7825911670171818.\u001b[0m\n",
            "\u001b[32m[I 2022-04-07 13:23:27,929]\u001b[0m Trial 36 finished with value: 0.7812119889422378 and parameters: {'n_neighbors': 53, 'weights': 'distance', 'metric': 'manhattan'}. Best is trial 18 with value: 0.7825911670171818.\u001b[0m\n",
            "\u001b[32m[I 2022-04-07 13:23:29,006]\u001b[0m Trial 37 finished with value: 0.7665981508670291 and parameters: {'n_neighbors': 70, 'weights': 'uniform', 'metric': 'minkowski'}. Best is trial 18 with value: 0.7825911670171818.\u001b[0m\n",
            "\u001b[32m[I 2022-04-07 13:23:31,153]\u001b[0m Trial 38 finished with value: 0.7822454135417906 and parameters: {'n_neighbors': 76, 'weights': 'distance', 'metric': 'manhattan'}. Best is trial 18 with value: 0.7825911670171818.\u001b[0m\n",
            "\u001b[32m[I 2022-04-07 13:23:33,323]\u001b[0m Trial 39 finished with value: 0.7804051426530693 and parameters: {'n_neighbors': 66, 'weights': 'uniform', 'metric': 'manhattan'}. Best is trial 18 with value: 0.7825911670171818.\u001b[0m\n",
            "\u001b[32m[I 2022-04-07 13:23:33,891]\u001b[0m Trial 40 finished with value: 0.7677483697736862 and parameters: {'n_neighbors': 36, 'weights': 'distance', 'metric': 'minkowski'}. Best is trial 18 with value: 0.7825911670171818.\u001b[0m\n",
            "\u001b[32m[I 2022-04-07 13:23:35,841]\u001b[0m Trial 41 finished with value: 0.7825910347472984 and parameters: {'n_neighbors': 71, 'weights': 'distance', 'metric': 'manhattan'}. Best is trial 18 with value: 0.7825911670171818.\u001b[0m\n",
            "\u001b[32m[I 2022-04-07 13:23:37,808]\u001b[0m Trial 42 finished with value: 0.782246074891208 and parameters: {'n_neighbors': 72, 'weights': 'distance', 'metric': 'manhattan'}. Best is trial 18 with value: 0.7825911670171818.\u001b[0m\n",
            "\u001b[32m[I 2022-04-07 13:23:39,772]\u001b[0m Trial 43 finished with value: 0.780980252106398 and parameters: {'n_neighbors': 67, 'weights': 'distance', 'metric': 'manhattan'}. Best is trial 18 with value: 0.7825911670171818.\u001b[0m\n",
            "\u001b[32m[I 2022-04-07 13:23:41,737]\u001b[0m Trial 44 finished with value: 0.7822454135417906 and parameters: {'n_neighbors': 76, 'weights': 'distance', 'metric': 'manhattan'}. Best is trial 18 with value: 0.7825911670171818.\u001b[0m\n",
            "\u001b[32m[I 2022-04-07 13:23:43,860]\u001b[0m Trial 45 finished with value: 0.7809818393449997 and parameters: {'n_neighbors': 41, 'weights': 'uniform', 'metric': 'manhattan'}. Best is trial 18 with value: 0.7825911670171818.\u001b[0m\n",
            "\u001b[32m[I 2022-04-07 13:23:45,819]\u001b[0m Trial 46 finished with value: 0.7807498379693927 and parameters: {'n_neighbors': 63, 'weights': 'distance', 'metric': 'manhattan'}. Best is trial 18 with value: 0.7825911670171818.\u001b[0m\n",
            "\u001b[32m[I 2022-04-07 13:23:47,956]\u001b[0m Trial 47 finished with value: 0.7784512519344471 and parameters: {'n_neighbors': 48, 'weights': 'uniform', 'metric': 'manhattan'}. Best is trial 18 with value: 0.7825911670171818.\u001b[0m\n",
            "\u001b[32m[I 2022-04-07 13:23:48,492]\u001b[0m Trial 48 finished with value: 0.7632623044059098 and parameters: {'n_neighbors': 31, 'weights': 'distance', 'metric': 'minkowski'}. Best is trial 18 with value: 0.7825911670171818.\u001b[0m\n",
            "\u001b[32m[I 2022-04-07 13:23:48,892]\u001b[0m Trial 49 finished with value: 0.7707424308559183 and parameters: {'n_neighbors': 9, 'weights': 'uniform', 'metric': 'euclidean'}. Best is trial 18 with value: 0.7825911670171818.\u001b[0m\n",
            "\u001b[32m[I 2022-04-07 13:23:50,862]\u001b[0m Trial 50 finished with value: 0.782246074891208 and parameters: {'n_neighbors': 72, 'weights': 'distance', 'metric': 'manhattan'}. Best is trial 18 with value: 0.7825911670171818.\u001b[0m\n",
            "\u001b[32m[I 2022-04-07 13:23:52,842]\u001b[0m Trial 51 finished with value: 0.7815549647500761 and parameters: {'n_neighbors': 77, 'weights': 'distance', 'metric': 'manhattan'}. Best is trial 18 with value: 0.7825911670171818.\u001b[0m\n",
            "\u001b[32m[I 2022-04-07 13:23:54,799]\u001b[0m Trial 52 finished with value: 0.7825911670171818 and parameters: {'n_neighbors': 70, 'weights': 'distance', 'metric': 'manhattan'}. Best is trial 18 with value: 0.7825911670171818.\u001b[0m\n",
            "\u001b[32m[I 2022-04-07 13:23:56,772]\u001b[0m Trial 53 finished with value: 0.781786172506382 and parameters: {'n_neighbors': 65, 'weights': 'distance', 'metric': 'manhattan'}. Best is trial 18 with value: 0.7825911670171818.\u001b[0m\n",
            "\u001b[32m[I 2022-04-07 13:23:58,729]\u001b[0m Trial 54 finished with value: 0.7816700395486952 and parameters: {'n_neighbors': 69, 'weights': 'distance', 'metric': 'manhattan'}. Best is trial 18 with value: 0.7825911670171818.\u001b[0m\n",
            "\u001b[32m[I 2022-04-07 13:24:00,876]\u001b[0m Trial 55 finished with value: 0.779944314379059 and parameters: {'n_neighbors': 60, 'weights': 'uniform', 'metric': 'manhattan'}. Best is trial 18 with value: 0.7825911670171818.\u001b[0m\n",
            "\u001b[32m[I 2022-04-07 13:24:02,827]\u001b[0m Trial 56 finished with value: 0.7813266669312064 and parameters: {'n_neighbors': 56, 'weights': 'distance', 'metric': 'manhattan'}. Best is trial 18 with value: 0.7825911670171818.\u001b[0m\n",
            "\u001b[32m[I 2022-04-07 13:24:04,797]\u001b[0m Trial 57 finished with value: 0.7813257410420221 and parameters: {'n_neighbors': 74, 'weights': 'distance', 'metric': 'manhattan'}. Best is trial 18 with value: 0.7825911670171818.\u001b[0m\n",
            "\u001b[32m[I 2022-04-07 13:24:06,958]\u001b[0m Trial 58 finished with value: 0.7810945332857162 and parameters: {'n_neighbors': 79, 'weights': 'uniform', 'metric': 'manhattan'}. Best is trial 18 with value: 0.7825911670171818.\u001b[0m\n",
            "\u001b[32m[I 2022-04-07 13:24:08,921]\u001b[0m Trial 59 finished with value: 0.7825910347472984 and parameters: {'n_neighbors': 71, 'weights': 'distance', 'metric': 'manhattan'}. Best is trial 18 with value: 0.7825911670171818.\u001b[0m\n",
            "\u001b[32m[I 2022-04-07 13:24:09,684]\u001b[0m Trial 60 finished with value: 0.7647558959300558 and parameters: {'n_neighbors': 70, 'weights': 'distance', 'metric': 'euclidean'}. Best is trial 18 with value: 0.7825911670171818.\u001b[0m\n",
            "\u001b[32m[I 2022-04-07 13:24:11,656]\u001b[0m Trial 61 finished with value: 0.781095326905017 and parameters: {'n_neighbors': 73, 'weights': 'distance', 'metric': 'manhattan'}. Best is trial 18 with value: 0.7825911670171818.\u001b[0m\n",
            "\u001b[32m[I 2022-04-07 13:24:13,602]\u001b[0m Trial 62 finished with value: 0.7807498379693927 and parameters: {'n_neighbors': 63, 'weights': 'distance', 'metric': 'manhattan'}. Best is trial 18 with value: 0.7825911670171818.\u001b[0m\n",
            "\u001b[32m[I 2022-04-07 13:24:15,555]\u001b[0m Trial 63 finished with value: 0.7808654418475458 and parameters: {'n_neighbors': 68, 'weights': 'distance', 'metric': 'manhattan'}. Best is trial 18 with value: 0.7825911670171818.\u001b[0m\n",
            "\u001b[32m[I 2022-04-07 13:24:17,530]\u001b[0m Trial 64 finished with value: 0.7815549647500761 and parameters: {'n_neighbors': 77, 'weights': 'distance', 'metric': 'manhattan'}. Best is trial 18 with value: 0.7825911670171818.\u001b[0m\n",
            "\u001b[32m[I 2022-04-07 13:24:19,496]\u001b[0m Trial 65 finished with value: 0.7825910347472984 and parameters: {'n_neighbors': 71, 'weights': 'distance', 'metric': 'manhattan'}. Best is trial 18 with value: 0.7825911670171818.\u001b[0m\n",
            "\u001b[32m[I 2022-04-07 13:24:21,453]\u001b[0m Trial 66 finished with value: 0.781786172506382 and parameters: {'n_neighbors': 65, 'weights': 'distance', 'metric': 'manhattan'}. Best is trial 18 with value: 0.7825911670171818.\u001b[0m\n",
            "\u001b[32m[I 2022-04-07 13:24:23,425]\u001b[0m Trial 67 finished with value: 0.7825910347472984 and parameters: {'n_neighbors': 71, 'weights': 'distance', 'metric': 'manhattan'}. Best is trial 18 with value: 0.7825911670171818.\u001b[0m\n",
            "\u001b[32m[I 2022-04-07 13:24:24,123]\u001b[0m Trial 68 finished with value: 0.7641811832863775 and parameters: {'n_neighbors': 61, 'weights': 'distance', 'metric': 'minkowski'}. Best is trial 18 with value: 0.7825911670171818.\u001b[0m\n",
            "\u001b[32m[I 2022-04-07 13:24:26,060]\u001b[0m Trial 69 finished with value: 0.7812119889422378 and parameters: {'n_neighbors': 53, 'weights': 'distance', 'metric': 'manhattan'}. Best is trial 18 with value: 0.7825911670171818.\u001b[0m\n",
            "\u001b[32m[I 2022-04-07 13:24:27,991]\u001b[0m Trial 70 finished with value: 0.7822467362406254 and parameters: {'n_neighbors': 58, 'weights': 'distance', 'metric': 'manhattan'}. Best is trial 18 with value: 0.7825911670171818.\u001b[0m\n",
            "\u001b[32m[I 2022-04-07 13:24:29,938]\u001b[0m Trial 71 finished with value: 0.7825910347472984 and parameters: {'n_neighbors': 71, 'weights': 'distance', 'metric': 'manhattan'}. Best is trial 18 with value: 0.7825911670171818.\u001b[0m\n",
            "\u001b[32m[I 2022-04-07 13:24:31,894]\u001b[0m Trial 72 finished with value: 0.7808654418475458 and parameters: {'n_neighbors': 68, 'weights': 'distance', 'metric': 'manhattan'}. Best is trial 18 with value: 0.7825911670171818.\u001b[0m\n",
            "\u001b[32m[I 2022-04-07 13:24:33,857]\u001b[0m Trial 73 finished with value: 0.782131000092589 and parameters: {'n_neighbors': 75, 'weights': 'distance', 'metric': 'manhattan'}. Best is trial 18 with value: 0.7825911670171818.\u001b[0m\n",
            "\u001b[32m[I 2022-04-07 13:24:35,815]\u001b[0m Trial 74 finished with value: 0.7825911670171818 and parameters: {'n_neighbors': 70, 'weights': 'distance', 'metric': 'manhattan'}. Best is trial 18 with value: 0.7825911670171818.\u001b[0m\n",
            "\u001b[32m[I 2022-04-07 13:24:37,796]\u001b[0m Trial 75 finished with value: 0.7825901088581141 and parameters: {'n_neighbors': 80, 'weights': 'distance', 'metric': 'manhattan'}. Best is trial 18 with value: 0.7825911670171818.\u001b[0m\n",
            "\u001b[32m[I 2022-04-07 13:24:38,530]\u001b[0m Trial 76 finished with value: 0.7647557636601723 and parameters: {'n_neighbors': 66, 'weights': 'distance', 'metric': 'euclidean'}. Best is trial 18 with value: 0.7825911670171818.\u001b[0m\n",
            "\u001b[32m[I 2022-04-07 13:24:40,508]\u001b[0m Trial 77 finished with value: 0.7816700395486952 and parameters: {'n_neighbors': 69, 'weights': 'distance', 'metric': 'manhattan'}. Best is trial 18 with value: 0.7825911670171818.\u001b[0m\n",
            "\u001b[32m[I 2022-04-07 13:24:42,390]\u001b[0m Trial 78 finished with value: 0.7769569990608838 and parameters: {'n_neighbors': 17, 'weights': 'distance', 'metric': 'manhattan'}. Best is trial 18 with value: 0.7825911670171818.\u001b[0m\n",
            "\u001b[32m[I 2022-04-07 13:24:45,084]\u001b[0m Trial 79 finished with value: 0.7813257410420221 and parameters: {'n_neighbors': 74, 'weights': 'distance', 'metric': 'manhattan'}. Best is trial 18 with value: 0.7825911670171818.\u001b[0m\n",
            "\u001b[32m[I 2022-04-07 13:24:47,028]\u001b[0m Trial 80 finished with value: 0.7813252119624882 and parameters: {'n_neighbors': 64, 'weights': 'distance', 'metric': 'manhattan'}. Best is trial 18 with value: 0.7825911670171818.\u001b[0m\n",
            "\u001b[32m[I 2022-04-07 13:24:48,987]\u001b[0m Trial 81 finished with value: 0.7825910347472984 and parameters: {'n_neighbors': 71, 'weights': 'distance', 'metric': 'manhattan'}. Best is trial 18 with value: 0.7825911670171818.\u001b[0m\n",
            "\u001b[32m[I 2022-04-07 13:24:50,956]\u001b[0m Trial 82 finished with value: 0.782246074891208 and parameters: {'n_neighbors': 72, 'weights': 'distance', 'metric': 'manhattan'}. Best is trial 18 with value: 0.7825911670171818.\u001b[0m\n",
            "\u001b[32m[I 2022-04-07 13:24:52,929]\u001b[0m Trial 83 finished with value: 0.7825911670171818 and parameters: {'n_neighbors': 70, 'weights': 'distance', 'metric': 'manhattan'}. Best is trial 18 with value: 0.7825911670171818.\u001b[0m\n",
            "\u001b[32m[I 2022-04-07 13:24:54,890]\u001b[0m Trial 84 finished with value: 0.780980252106398 and parameters: {'n_neighbors': 67, 'weights': 'distance', 'metric': 'manhattan'}. Best is trial 18 with value: 0.7825911670171818.\u001b[0m\n",
            "\u001b[32m[I 2022-04-07 13:24:56,862]\u001b[0m Trial 85 finished with value: 0.7822454135417906 and parameters: {'n_neighbors': 76, 'weights': 'distance', 'metric': 'manhattan'}. Best is trial 18 with value: 0.7825911670171818.\u001b[0m\n",
            "\u001b[32m[I 2022-04-07 13:24:57,667]\u001b[0m Trial 86 finished with value: 0.7626848140946787 and parameters: {'n_neighbors': 78, 'weights': 'distance', 'metric': 'minkowski'}. Best is trial 18 with value: 0.7825911670171818.\u001b[0m\n",
            "\u001b[32m[I 2022-04-07 13:24:59,630]\u001b[0m Trial 87 finished with value: 0.781095326905017 and parameters: {'n_neighbors': 73, 'weights': 'distance', 'metric': 'manhattan'}. Best is trial 18 with value: 0.7825911670171818.\u001b[0m\n",
            "\u001b[32m[I 2022-04-07 13:25:01,586]\u001b[0m Trial 88 finished with value: 0.7816700395486952 and parameters: {'n_neighbors': 69, 'weights': 'distance', 'metric': 'manhattan'}. Best is trial 18 with value: 0.7825911670171818.\u001b[0m\n",
            "\u001b[32m[I 2022-04-07 13:25:03,537]\u001b[0m Trial 89 finished with value: 0.7815556260994934 and parameters: {'n_neighbors': 62, 'weights': 'distance', 'metric': 'manhattan'}. Best is trial 18 with value: 0.7825911670171818.\u001b[0m\n",
            "\u001b[32m[I 2022-04-07 13:25:04,346]\u001b[0m Trial 90 finished with value: 0.7626849463645623 and parameters: {'n_neighbors': 75, 'weights': 'distance', 'metric': 'euclidean'}. Best is trial 18 with value: 0.7825911670171818.\u001b[0m\n",
            "\u001b[32m[I 2022-04-07 13:25:06,301]\u001b[0m Trial 91 finished with value: 0.7825910347472984 and parameters: {'n_neighbors': 71, 'weights': 'distance', 'metric': 'manhattan'}. Best is trial 18 with value: 0.7825911670171818.\u001b[0m\n",
            "\u001b[32m[I 2022-04-07 13:25:08,270]\u001b[0m Trial 92 finished with value: 0.7825911670171818 and parameters: {'n_neighbors': 70, 'weights': 'distance', 'metric': 'manhattan'}. Best is trial 18 with value: 0.7825911670171818.\u001b[0m\n",
            "\u001b[32m[I 2022-04-07 13:25:09,429]\u001b[0m Trial 93 finished with value: 0.724039257701414 and parameters: {'n_neighbors': 1, 'weights': 'distance', 'metric': 'manhattan'}. Best is trial 18 with value: 0.7825911670171818.\u001b[0m\n",
            "\u001b[32m[I 2022-04-07 13:25:11,406]\u001b[0m Trial 94 finished with value: 0.780980252106398 and parameters: {'n_neighbors': 67, 'weights': 'distance', 'metric': 'manhattan'}. Best is trial 18 with value: 0.7825911670171818.\u001b[0m\n",
            "\u001b[32m[I 2022-04-07 13:25:13,365]\u001b[0m Trial 95 finished with value: 0.7825911670171818 and parameters: {'n_neighbors': 70, 'weights': 'distance', 'metric': 'manhattan'}. Best is trial 18 with value: 0.7825911670171818.\u001b[0m\n",
            "\u001b[32m[I 2022-04-07 13:25:15,317]\u001b[0m Trial 96 finished with value: 0.7813252119624882 and parameters: {'n_neighbors': 64, 'weights': 'distance', 'metric': 'manhattan'}. Best is trial 18 with value: 0.7825911670171818.\u001b[0m\n",
            "\u001b[32m[I 2022-04-07 13:25:17,280]\u001b[0m Trial 97 finished with value: 0.7825911670171818 and parameters: {'n_neighbors': 70, 'weights': 'distance', 'metric': 'manhattan'}. Best is trial 18 with value: 0.7825911670171818.\u001b[0m\n",
            "\u001b[32m[I 2022-04-07 13:25:19,239]\u001b[0m Trial 98 finished with value: 0.781095326905017 and parameters: {'n_neighbors': 73, 'weights': 'distance', 'metric': 'manhattan'}. Best is trial 18 with value: 0.7825911670171818.\u001b[0m\n",
            "\u001b[32m[I 2022-04-07 13:25:21,189]\u001b[0m Trial 99 finished with value: 0.7812110630530535 and parameters: {'n_neighbors': 66, 'weights': 'distance', 'metric': 'manhattan'}. Best is trial 18 with value: 0.7825911670171818.\u001b[0m\n",
            "\u001b[32m[I 2022-04-07 13:25:21,939]\u001b[0m Trial 100 finished with value: 0.7638355620808699 and parameters: {'n_neighbors': 68, 'weights': 'distance', 'metric': 'minkowski'}. Best is trial 18 with value: 0.7825911670171818.\u001b[0m\n",
            "\u001b[32m[I 2022-04-07 13:25:23,897]\u001b[0m Trial 101 finished with value: 0.7816700395486952 and parameters: {'n_neighbors': 69, 'weights': 'distance', 'metric': 'manhattan'}. Best is trial 18 with value: 0.7825911670171818.\u001b[0m\n",
            "\u001b[32m[I 2022-04-07 13:25:25,838]\u001b[0m Trial 102 finished with value: 0.781095326905017 and parameters: {'n_neighbors': 73, 'weights': 'distance', 'metric': 'manhattan'}. Best is trial 18 with value: 0.7825911670171818.\u001b[0m\n",
            "\u001b[32m[I 2022-04-07 13:25:27,770]\u001b[0m Trial 103 finished with value: 0.7825911670171818 and parameters: {'n_neighbors': 70, 'weights': 'distance', 'metric': 'manhattan'}. Best is trial 18 with value: 0.7825911670171818.\u001b[0m\n",
            "\u001b[32m[I 2022-04-07 13:25:29,712]\u001b[0m Trial 104 finished with value: 0.7813252119624883 and parameters: {'n_neighbors': 78, 'weights': 'distance', 'metric': 'manhattan'}. Best is trial 18 with value: 0.7825911670171818.\u001b[0m\n",
            "\u001b[32m[I 2022-04-07 13:25:31,644]\u001b[0m Trial 105 finished with value: 0.781786172506382 and parameters: {'n_neighbors': 65, 'weights': 'distance', 'metric': 'manhattan'}. Best is trial 18 with value: 0.7825911670171818.\u001b[0m\n",
            "\u001b[32m[I 2022-04-07 13:25:33,586]\u001b[0m Trial 106 finished with value: 0.7825911670171818 and parameters: {'n_neighbors': 70, 'weights': 'distance', 'metric': 'manhattan'}. Best is trial 18 with value: 0.7825911670171818.\u001b[0m\n",
            "\u001b[32m[I 2022-04-07 13:25:35,474]\u001b[0m Trial 107 finished with value: 0.7781053661891724 and parameters: {'n_neighbors': 43, 'weights': 'distance', 'metric': 'manhattan'}. Best is trial 18 with value: 0.7825911670171818.\u001b[0m\n",
            "\u001b[32m[I 2022-04-07 13:25:37,400]\u001b[0m Trial 108 finished with value: 0.782131000092589 and parameters: {'n_neighbors': 75, 'weights': 'distance', 'metric': 'manhattan'}. Best is trial 18 with value: 0.7825911670171818.\u001b[0m\n",
            "\u001b[32m[I 2022-04-07 13:25:39,300]\u001b[0m Trial 109 finished with value: 0.7825911670171818 and parameters: {'n_neighbors': 70, 'weights': 'distance', 'metric': 'manhattan'}. Best is trial 18 with value: 0.7825911670171818.\u001b[0m\n",
            "\u001b[32m[I 2022-04-07 13:25:41,487]\u001b[0m Trial 110 finished with value: 0.7825911670171818 and parameters: {'n_neighbors': 70, 'weights': 'distance', 'metric': 'manhattan'}. Best is trial 18 with value: 0.7825911670171818.\u001b[0m\n",
            "\u001b[32m[I 2022-04-07 13:25:43,876]\u001b[0m Trial 111 finished with value: 0.7825911670171818 and parameters: {'n_neighbors': 70, 'weights': 'distance', 'metric': 'manhattan'}. Best is trial 18 with value: 0.7825911670171818.\u001b[0m\n",
            "\u001b[32m[I 2022-04-07 13:25:45,791]\u001b[0m Trial 112 finished with value: 0.780980252106398 and parameters: {'n_neighbors': 67, 'weights': 'distance', 'metric': 'manhattan'}. Best is trial 18 with value: 0.7825911670171818.\u001b[0m\n",
            "\u001b[32m[I 2022-04-07 13:25:47,707]\u001b[0m Trial 113 finished with value: 0.7816700395486952 and parameters: {'n_neighbors': 69, 'weights': 'distance', 'metric': 'manhattan'}. Best is trial 18 with value: 0.7825911670171818.\u001b[0m\n",
            "\u001b[32m[I 2022-04-07 13:25:49,615]\u001b[0m Trial 114 finished with value: 0.7815556260994934 and parameters: {'n_neighbors': 62, 'weights': 'distance', 'metric': 'manhattan'}. Best is trial 18 with value: 0.7825911670171818.\u001b[0m\n",
            "\u001b[32m[I 2022-04-07 13:25:51,525]\u001b[0m Trial 115 finished with value: 0.7825911670171818 and parameters: {'n_neighbors': 70, 'weights': 'distance', 'metric': 'manhattan'}. Best is trial 18 with value: 0.7825911670171818.\u001b[0m\n",
            "\u001b[32m[I 2022-04-07 13:25:53,454]\u001b[0m Trial 116 finished with value: 0.781095326905017 and parameters: {'n_neighbors': 73, 'weights': 'distance', 'metric': 'manhattan'}. Best is trial 18 with value: 0.7825911670171818.\u001b[0m\n",
            "\u001b[32m[I 2022-04-07 13:25:54,190]\u001b[0m Trial 117 finished with value: 0.7642961258151131 and parameters: {'n_neighbors': 65, 'weights': 'distance', 'metric': 'euclidean'}. Best is trial 18 with value: 0.7825911670171818.\u001b[0m\n",
            "\u001b[32m[I 2022-04-07 13:25:56,286]\u001b[0m Trial 118 finished with value: 0.7804050103831858 and parameters: {'n_neighbors': 59, 'weights': 'uniform', 'metric': 'manhattan'}. Best is trial 18 with value: 0.7825911670171818.\u001b[0m\n",
            "\u001b[32m[I 2022-04-07 13:25:58,193]\u001b[0m Trial 119 finished with value: 0.780980252106398 and parameters: {'n_neighbors': 67, 'weights': 'distance', 'metric': 'manhattan'}. Best is trial 18 with value: 0.7825911670171818.\u001b[0m\n",
            "\u001b[32m[I 2022-04-07 13:26:00,097]\u001b[0m Trial 120 finished with value: 0.7816700395486952 and parameters: {'n_neighbors': 69, 'weights': 'distance', 'metric': 'manhattan'}. Best is trial 18 with value: 0.7825911670171818.\u001b[0m\n",
            "\u001b[32m[I 2022-04-07 13:26:02,006]\u001b[0m Trial 121 finished with value: 0.7825911670171818 and parameters: {'n_neighbors': 70, 'weights': 'distance', 'metric': 'manhattan'}. Best is trial 18 with value: 0.7825911670171818.\u001b[0m\n",
            "\u001b[32m[I 2022-04-07 13:26:03,921]\u001b[0m Trial 122 finished with value: 0.7825911670171818 and parameters: {'n_neighbors': 70, 'weights': 'distance', 'metric': 'manhattan'}. Best is trial 18 with value: 0.7825911670171818.\u001b[0m\n",
            "\u001b[32m[I 2022-04-07 13:26:05,827]\u001b[0m Trial 123 finished with value: 0.7822454135417906 and parameters: {'n_neighbors': 76, 'weights': 'distance', 'metric': 'manhattan'}. Best is trial 18 with value: 0.7825911670171818.\u001b[0m\n",
            "\u001b[32m[I 2022-04-07 13:26:07,752]\u001b[0m Trial 124 finished with value: 0.7813257410420221 and parameters: {'n_neighbors': 74, 'weights': 'distance', 'metric': 'manhattan'}. Best is trial 18 with value: 0.7825911670171818.\u001b[0m\n",
            "\u001b[32m[I 2022-04-07 13:26:09,665]\u001b[0m Trial 125 finished with value: 0.782246074891208 and parameters: {'n_neighbors': 72, 'weights': 'distance', 'metric': 'manhattan'}. Best is trial 18 with value: 0.7825911670171818.\u001b[0m\n",
            "\u001b[32m[I 2022-04-07 13:26:11,570]\u001b[0m Trial 126 finished with value: 0.7825911670171818 and parameters: {'n_neighbors': 70, 'weights': 'distance', 'metric': 'manhattan'}. Best is trial 18 with value: 0.7825911670171818.\u001b[0m\n",
            "\u001b[32m[I 2022-04-07 13:26:13,473]\u001b[0m Trial 127 finished with value: 0.7807498379693927 and parameters: {'n_neighbors': 63, 'weights': 'distance', 'metric': 'manhattan'}. Best is trial 18 with value: 0.7825911670171818.\u001b[0m\n",
            "\u001b[32m[I 2022-04-07 13:26:14,232]\u001b[0m Trial 128 finished with value: 0.7640659762178749 and parameters: {'n_neighbors': 67, 'weights': 'distance', 'metric': 'minkowski'}. Best is trial 18 with value: 0.7825911670171818.\u001b[0m\n",
            "\u001b[32m[I 2022-04-07 13:26:16,126]\u001b[0m Trial 129 finished with value: 0.781786172506382 and parameters: {'n_neighbors': 65, 'weights': 'distance', 'metric': 'manhattan'}. Best is trial 18 with value: 0.7825911670171818.\u001b[0m\n",
            "\u001b[32m[I 2022-04-07 13:26:18,053]\u001b[0m Trial 130 finished with value: 0.782131000092589 and parameters: {'n_neighbors': 75, 'weights': 'distance', 'metric': 'manhattan'}. Best is trial 18 with value: 0.7825911670171818.\u001b[0m\n",
            "\u001b[32m[I 2022-04-07 13:26:19,914]\u001b[0m Trial 131 finished with value: 0.7782201764480245 and parameters: {'n_neighbors': 33, 'weights': 'distance', 'metric': 'manhattan'}. Best is trial 18 with value: 0.7825911670171818.\u001b[0m\n",
            "\u001b[32m[I 2022-04-07 13:26:21,851]\u001b[0m Trial 132 finished with value: 0.7825911670171818 and parameters: {'n_neighbors': 70, 'weights': 'distance', 'metric': 'manhattan'}. Best is trial 18 with value: 0.7825911670171818.\u001b[0m\n",
            "\u001b[32m[I 2022-04-07 13:26:23,768]\u001b[0m Trial 133 finished with value: 0.7808654418475458 and parameters: {'n_neighbors': 68, 'weights': 'distance', 'metric': 'manhattan'}. Best is trial 18 with value: 0.7825911670171818.\u001b[0m\n",
            "\u001b[32m[I 2022-04-07 13:26:25,694]\u001b[0m Trial 134 finished with value: 0.782246074891208 and parameters: {'n_neighbors': 72, 'weights': 'distance', 'metric': 'manhattan'}. Best is trial 18 with value: 0.7825911670171818.\u001b[0m\n",
            "\u001b[32m[I 2022-04-07 13:26:27,537]\u001b[0m Trial 135 finished with value: 0.7776458606139968 and parameters: {'n_neighbors': 21, 'weights': 'distance', 'metric': 'manhattan'}. Best is trial 18 with value: 0.7825911670171818.\u001b[0m\n",
            "\u001b[32m[I 2022-04-07 13:26:29,409]\u001b[0m Trial 136 finished with value: 0.7810967818737351 and parameters: {'n_neighbors': 38, 'weights': 'distance', 'metric': 'manhattan'}. Best is trial 18 with value: 0.7825911670171818.\u001b[0m\n",
            "\u001b[32m[I 2022-04-07 13:26:31,356]\u001b[0m Trial 137 finished with value: 0.7825911670171818 and parameters: {'n_neighbors': 70, 'weights': 'distance', 'metric': 'manhattan'}. Best is trial 18 with value: 0.7825911670171818.\u001b[0m\n",
            "\u001b[32m[I 2022-04-07 13:26:33,501]\u001b[0m Trial 138 finished with value: 0.7805194238323876 and parameters: {'n_neighbors': 74, 'weights': 'uniform', 'metric': 'manhattan'}. Best is trial 18 with value: 0.7825911670171818.\u001b[0m\n",
            "\u001b[32m[I 2022-04-07 13:26:34,221]\u001b[0m Trial 139 finished with value: 0.7647557636601723 and parameters: {'n_neighbors': 66, 'weights': 'distance', 'metric': 'euclidean'}. Best is trial 18 with value: 0.7825911670171818.\u001b[0m\n",
            "\u001b[32m[I 2022-04-07 13:26:36,255]\u001b[0m Trial 140 finished with value: 0.782246074891208 and parameters: {'n_neighbors': 72, 'weights': 'distance', 'metric': 'manhattan'}. Best is trial 18 with value: 0.7825911670171818.\u001b[0m\n",
            "\u001b[32m[I 2022-04-07 13:26:39,604]\u001b[0m Trial 141 finished with value: 0.7825911670171818 and parameters: {'n_neighbors': 70, 'weights': 'distance', 'metric': 'manhattan'}. Best is trial 18 with value: 0.7825911670171818.\u001b[0m\n",
            "\u001b[32m[I 2022-04-07 13:26:42,655]\u001b[0m Trial 142 finished with value: 0.7808654418475458 and parameters: {'n_neighbors': 68, 'weights': 'distance', 'metric': 'manhattan'}. Best is trial 18 with value: 0.7825911670171818.\u001b[0m\n",
            "\u001b[32m[I 2022-04-07 13:26:46,240]\u001b[0m Trial 143 finished with value: 0.7825911670171818 and parameters: {'n_neighbors': 70, 'weights': 'distance', 'metric': 'manhattan'}. Best is trial 18 with value: 0.7825911670171818.\u001b[0m\n",
            "\u001b[32m[I 2022-04-07 13:26:48,269]\u001b[0m Trial 144 finished with value: 0.7815549647500761 and parameters: {'n_neighbors': 77, 'weights': 'distance', 'metric': 'manhattan'}. Best is trial 18 with value: 0.7825911670171818.\u001b[0m\n",
            "\u001b[32m[I 2022-04-07 13:26:50,184]\u001b[0m Trial 145 finished with value: 0.782246074891208 and parameters: {'n_neighbors': 72, 'weights': 'distance', 'metric': 'manhattan'}. Best is trial 18 with value: 0.7825911670171818.\u001b[0m\n",
            "\u001b[32m[I 2022-04-07 13:26:52,118]\u001b[0m Trial 146 finished with value: 0.7816700395486952 and parameters: {'n_neighbors': 69, 'weights': 'distance', 'metric': 'manhattan'}. Best is trial 18 with value: 0.7825911670171818.\u001b[0m\n",
            "\u001b[32m[I 2022-04-07 13:26:54,041]\u001b[0m Trial 147 finished with value: 0.781095326905017 and parameters: {'n_neighbors': 73, 'weights': 'distance', 'metric': 'manhattan'}. Best is trial 18 with value: 0.7825911670171818.\u001b[0m\n",
            "\u001b[32m[I 2022-04-07 13:26:55,948]\u001b[0m Trial 148 finished with value: 0.7812110630530535 and parameters: {'n_neighbors': 66, 'weights': 'distance', 'metric': 'manhattan'}. Best is trial 18 with value: 0.7825911670171818.\u001b[0m\n",
            "\u001b[32m[I 2022-04-07 13:26:57,861]\u001b[0m Trial 149 finished with value: 0.7808654418475458 and parameters: {'n_neighbors': 68, 'weights': 'distance', 'metric': 'manhattan'}. Best is trial 18 with value: 0.7825911670171818.\u001b[0m\n",
            "\u001b[32m[I 2022-04-07 13:26:59,802]\u001b[0m Trial 150 finished with value: 0.7813252119624882 and parameters: {'n_neighbors': 64, 'weights': 'distance', 'metric': 'manhattan'}. Best is trial 18 with value: 0.7825911670171818.\u001b[0m\n",
            "\u001b[32m[I 2022-04-07 13:27:01,758]\u001b[0m Trial 151 finished with value: 0.7825911670171818 and parameters: {'n_neighbors': 70, 'weights': 'distance', 'metric': 'manhattan'}. Best is trial 18 with value: 0.7825911670171818.\u001b[0m\n",
            "\u001b[32m[I 2022-04-07 13:27:03,670]\u001b[0m Trial 152 finished with value: 0.7825910347472984 and parameters: {'n_neighbors': 71, 'weights': 'distance', 'metric': 'manhattan'}. Best is trial 18 with value: 0.7825911670171818.\u001b[0m\n",
            "\u001b[32m[I 2022-04-07 13:27:05,584]\u001b[0m Trial 153 finished with value: 0.7825911670171818 and parameters: {'n_neighbors': 70, 'weights': 'distance', 'metric': 'manhattan'}. Best is trial 18 with value: 0.7825911670171818.\u001b[0m\n",
            "\u001b[32m[I 2022-04-07 13:27:07,510]\u001b[0m Trial 154 finished with value: 0.7813257410420221 and parameters: {'n_neighbors': 74, 'weights': 'distance', 'metric': 'manhattan'}. Best is trial 18 with value: 0.7825911670171818.\u001b[0m\n",
            "\u001b[32m[I 2022-04-07 13:27:09,417]\u001b[0m Trial 155 finished with value: 0.7808654418475458 and parameters: {'n_neighbors': 68, 'weights': 'distance', 'metric': 'manhattan'}. Best is trial 18 with value: 0.7825911670171818.\u001b[0m\n",
            "\u001b[32m[I 2022-04-07 13:27:10,071]\u001b[0m Trial 156 finished with value: 0.765216724204066 and parameters: {'n_neighbors': 51, 'weights': 'distance', 'metric': 'minkowski'}. Best is trial 18 with value: 0.7825911670171818.\u001b[0m\n",
            "\u001b[32m[I 2022-04-07 13:27:12,069]\u001b[0m Trial 157 finished with value: 0.7825910347472984 and parameters: {'n_neighbors': 71, 'weights': 'distance', 'metric': 'manhattan'}. Best is trial 18 with value: 0.7825911670171818.\u001b[0m\n",
            "\u001b[32m[I 2022-04-07 13:27:13,987]\u001b[0m Trial 158 finished with value: 0.7816700395486952 and parameters: {'n_neighbors': 69, 'weights': 'distance', 'metric': 'manhattan'}. Best is trial 18 with value: 0.7825911670171818.\u001b[0m\n",
            "\u001b[32m[I 2022-04-07 13:27:16,154]\u001b[0m Trial 159 finished with value: 0.781095326905017 and parameters: {'n_neighbors': 73, 'weights': 'distance', 'metric': 'manhattan'}. Best is trial 18 with value: 0.7825911670171818.\u001b[0m\n",
            "\u001b[32m[I 2022-04-07 13:27:19,013]\u001b[0m Trial 160 finished with value: 0.7805195561022711 and parameters: {'n_neighbors': 67, 'weights': 'uniform', 'metric': 'manhattan'}. Best is trial 18 with value: 0.7825911670171818.\u001b[0m\n",
            "\u001b[32m[I 2022-04-07 13:27:22,521]\u001b[0m Trial 161 finished with value: 0.7825911670171818 and parameters: {'n_neighbors': 70, 'weights': 'distance', 'metric': 'manhattan'}. Best is trial 18 with value: 0.7825911670171818.\u001b[0m\n",
            "\u001b[32m[I 2022-04-07 13:27:25,065]\u001b[0m Trial 162 finished with value: 0.7825911670171818 and parameters: {'n_neighbors': 70, 'weights': 'distance', 'metric': 'manhattan'}. Best is trial 18 with value: 0.7825911670171818.\u001b[0m\n",
            "\u001b[32m[I 2022-04-07 13:27:27,466]\u001b[0m Trial 163 finished with value: 0.782246074891208 and parameters: {'n_neighbors': 72, 'weights': 'distance', 'metric': 'manhattan'}. Best is trial 18 with value: 0.7825911670171818.\u001b[0m\n",
            "\u001b[32m[I 2022-04-07 13:27:30,241]\u001b[0m Trial 164 finished with value: 0.780980252106398 and parameters: {'n_neighbors': 67, 'weights': 'distance', 'metric': 'manhattan'}. Best is trial 18 with value: 0.7825911670171818.\u001b[0m\n",
            "\u001b[32m[I 2022-04-07 13:27:32,908]\u001b[0m Trial 165 finished with value: 0.782131000092589 and parameters: {'n_neighbors': 75, 'weights': 'distance', 'metric': 'manhattan'}. Best is trial 18 with value: 0.7825911670171818.\u001b[0m\n",
            "\u001b[32m[I 2022-04-07 13:27:35,509]\u001b[0m Trial 166 finished with value: 0.7816700395486952 and parameters: {'n_neighbors': 69, 'weights': 'distance', 'metric': 'manhattan'}. Best is trial 18 with value: 0.7825911670171818.\u001b[0m\n",
            "\u001b[32m[I 2022-04-07 13:27:39,173]\u001b[0m Trial 167 finished with value: 0.781786172506382 and parameters: {'n_neighbors': 65, 'weights': 'distance', 'metric': 'manhattan'}. Best is trial 18 with value: 0.7825911670171818.\u001b[0m\n",
            "\u001b[32m[I 2022-04-07 13:27:42,293]\u001b[0m Trial 168 finished with value: 0.782246074891208 and parameters: {'n_neighbors': 72, 'weights': 'distance', 'metric': 'manhattan'}. Best is trial 18 with value: 0.7825911670171818.\u001b[0m\n",
            "\u001b[32m[I 2022-04-07 13:27:43,148]\u001b[0m Trial 169 finished with value: 0.7669450947713715 and parameters: {'n_neighbors': 27, 'weights': 'distance', 'metric': 'euclidean'}. Best is trial 18 with value: 0.7825911670171818.\u001b[0m\n",
            "\u001b[32m[I 2022-04-07 13:27:45,787]\u001b[0m Trial 170 finished with value: 0.7825911670171818 and parameters: {'n_neighbors': 70, 'weights': 'distance', 'metric': 'manhattan'}. Best is trial 18 with value: 0.7825911670171818.\u001b[0m\n",
            "\u001b[32m[I 2022-04-07 13:27:47,711]\u001b[0m Trial 171 finished with value: 0.7825910347472984 and parameters: {'n_neighbors': 71, 'weights': 'distance', 'metric': 'manhattan'}. Best is trial 18 with value: 0.7825911670171818.\u001b[0m\n",
            "\u001b[32m[I 2022-04-07 13:27:49,631]\u001b[0m Trial 172 finished with value: 0.7808654418475458 and parameters: {'n_neighbors': 68, 'weights': 'distance', 'metric': 'manhattan'}. Best is trial 18 with value: 0.7825911670171818.\u001b[0m\n",
            "\u001b[32m[I 2022-04-07 13:27:51,559]\u001b[0m Trial 173 finished with value: 0.7825911670171818 and parameters: {'n_neighbors': 70, 'weights': 'distance', 'metric': 'manhattan'}. Best is trial 18 with value: 0.7825911670171818.\u001b[0m\n",
            "\u001b[32m[I 2022-04-07 13:27:53,478]\u001b[0m Trial 174 finished with value: 0.781095326905017 and parameters: {'n_neighbors': 73, 'weights': 'distance', 'metric': 'manhattan'}. Best is trial 18 with value: 0.7825911670171818.\u001b[0m\n",
            "\u001b[32m[I 2022-04-07 13:27:55,388]\u001b[0m Trial 175 finished with value: 0.7825911670171818 and parameters: {'n_neighbors': 70, 'weights': 'distance', 'metric': 'manhattan'}. Best is trial 18 with value: 0.7825911670171818.\u001b[0m\n",
            "\u001b[32m[I 2022-04-07 13:27:57,273]\u001b[0m Trial 176 finished with value: 0.7796013385712206 and parameters: {'n_neighbors': 46, 'weights': 'distance', 'metric': 'manhattan'}. Best is trial 18 with value: 0.7825911670171818.\u001b[0m\n",
            "\u001b[32m[I 2022-04-07 13:27:59,180]\u001b[0m Trial 177 finished with value: 0.7812110630530535 and parameters: {'n_neighbors': 66, 'weights': 'distance', 'metric': 'manhattan'}. Best is trial 18 with value: 0.7825911670171818.\u001b[0m\n",
            "\u001b[32m[I 2022-04-07 13:28:01,126]\u001b[0m Trial 178 finished with value: 0.7822454135417906 and parameters: {'n_neighbors': 76, 'weights': 'distance', 'metric': 'manhattan'}. Best is trial 18 with value: 0.7825911670171818.\u001b[0m\n",
            "\u001b[32m[I 2022-04-07 13:28:03,050]\u001b[0m Trial 179 finished with value: 0.7813257410420221 and parameters: {'n_neighbors': 74, 'weights': 'distance', 'metric': 'manhattan'}. Best is trial 18 with value: 0.7825911670171818.\u001b[0m\n",
            "\u001b[32m[I 2022-04-07 13:28:04,966]\u001b[0m Trial 180 finished with value: 0.7816700395486952 and parameters: {'n_neighbors': 69, 'weights': 'distance', 'metric': 'manhattan'}. Best is trial 18 with value: 0.7825911670171818.\u001b[0m\n",
            "\u001b[32m[I 2022-04-07 13:28:06,880]\u001b[0m Trial 181 finished with value: 0.7825910347472984 and parameters: {'n_neighbors': 71, 'weights': 'distance', 'metric': 'manhattan'}. Best is trial 18 with value: 0.7825911670171818.\u001b[0m\n",
            "\u001b[32m[I 2022-04-07 13:28:08,937]\u001b[0m Trial 182 finished with value: 0.7808654418475458 and parameters: {'n_neighbors': 68, 'weights': 'distance', 'metric': 'manhattan'}. Best is trial 18 with value: 0.7825911670171818.\u001b[0m\n",
            "\u001b[32m[I 2022-04-07 13:28:10,854]\u001b[0m Trial 183 finished with value: 0.7825911670171818 and parameters: {'n_neighbors': 70, 'weights': 'distance', 'metric': 'manhattan'}. Best is trial 18 with value: 0.7825911670171818.\u001b[0m\n",
            "\u001b[32m[I 2022-04-07 13:28:12,773]\u001b[0m Trial 184 finished with value: 0.782246074891208 and parameters: {'n_neighbors': 72, 'weights': 'distance', 'metric': 'manhattan'}. Best is trial 18 with value: 0.7825911670171818.\u001b[0m\n",
            "\u001b[32m[I 2022-04-07 13:28:14,683]\u001b[0m Trial 185 finished with value: 0.780980252106398 and parameters: {'n_neighbors': 67, 'weights': 'distance', 'metric': 'manhattan'}. Best is trial 18 with value: 0.7825911670171818.\u001b[0m\n",
            "\u001b[32m[I 2022-04-07 13:28:16,602]\u001b[0m Trial 186 finished with value: 0.7825911670171818 and parameters: {'n_neighbors': 70, 'weights': 'distance', 'metric': 'manhattan'}. Best is trial 18 with value: 0.7825911670171818.\u001b[0m\n",
            "\u001b[32m[I 2022-04-07 13:28:18,519]\u001b[0m Trial 187 finished with value: 0.7816700395486952 and parameters: {'n_neighbors': 69, 'weights': 'distance', 'metric': 'manhattan'}. Best is trial 18 with value: 0.7825911670171818.\u001b[0m\n",
            "\u001b[32m[I 2022-04-07 13:28:20,444]\u001b[0m Trial 188 finished with value: 0.781095326905017 and parameters: {'n_neighbors': 73, 'weights': 'distance', 'metric': 'manhattan'}. Best is trial 18 with value: 0.7825911670171818.\u001b[0m\n",
            "\u001b[32m[I 2022-04-07 13:28:21,228]\u001b[0m Trial 189 finished with value: 0.7641807864767272 and parameters: {'n_neighbors': 71, 'weights': 'distance', 'metric': 'minkowski'}. Best is trial 18 with value: 0.7825911670171818.\u001b[0m\n",
            "\u001b[32m[I 2022-04-07 13:28:23,293]\u001b[0m Trial 190 finished with value: 0.7631493459254262 and parameters: {'n_neighbors': 6, 'weights': 'uniform', 'metric': 'manhattan'}. Best is trial 18 with value: 0.7825911670171818.\u001b[0m\n",
            "\u001b[32m[I 2022-04-07 13:28:25,198]\u001b[0m Trial 191 finished with value: 0.7825911670171818 and parameters: {'n_neighbors': 70, 'weights': 'distance', 'metric': 'manhattan'}. Best is trial 18 with value: 0.7825911670171818.\u001b[0m\n",
            "\u001b[32m[I 2022-04-07 13:28:27,122]\u001b[0m Trial 192 finished with value: 0.7816700395486952 and parameters: {'n_neighbors': 69, 'weights': 'distance', 'metric': 'manhattan'}. Best is trial 18 with value: 0.7825911670171818.\u001b[0m\n",
            "\u001b[32m[I 2022-04-07 13:28:29,038]\u001b[0m Trial 193 finished with value: 0.7825910347472984 and parameters: {'n_neighbors': 71, 'weights': 'distance', 'metric': 'manhattan'}. Best is trial 18 with value: 0.7825911670171818.\u001b[0m\n",
            "\u001b[32m[I 2022-04-07 13:28:30,952]\u001b[0m Trial 194 finished with value: 0.780980252106398 and parameters: {'n_neighbors': 67, 'weights': 'distance', 'metric': 'manhattan'}. Best is trial 18 with value: 0.7825911670171818.\u001b[0m\n",
            "\u001b[32m[I 2022-04-07 13:28:32,856]\u001b[0m Trial 195 finished with value: 0.7825911670171818 and parameters: {'n_neighbors': 70, 'weights': 'distance', 'metric': 'manhattan'}. Best is trial 18 with value: 0.7825911670171818.\u001b[0m\n",
            "\u001b[32m[I 2022-04-07 13:28:34,758]\u001b[0m Trial 196 finished with value: 0.7812110630530535 and parameters: {'n_neighbors': 66, 'weights': 'distance', 'metric': 'manhattan'}. Best is trial 18 with value: 0.7825911670171818.\u001b[0m\n",
            "\u001b[32m[I 2022-04-07 13:28:36,701]\u001b[0m Trial 197 finished with value: 0.781095326905017 and parameters: {'n_neighbors': 73, 'weights': 'distance', 'metric': 'manhattan'}. Best is trial 18 with value: 0.7825911670171818.\u001b[0m\n",
            "\u001b[32m[I 2022-04-07 13:28:38,624]\u001b[0m Trial 198 finished with value: 0.7808654418475458 and parameters: {'n_neighbors': 68, 'weights': 'distance', 'metric': 'manhattan'}. Best is trial 18 with value: 0.7825911670171818.\u001b[0m\n",
            "\u001b[32m[I 2022-04-07 13:28:40,530]\u001b[0m Trial 199 finished with value: 0.7813252119624882 and parameters: {'n_neighbors': 64, 'weights': 'distance', 'metric': 'manhattan'}. Best is trial 18 with value: 0.7825911670171818.\u001b[0m\n",
            "\u001b[32m[I 2022-04-07 13:28:42,444]\u001b[0m Trial 200 finished with value: 0.7825910347472984 and parameters: {'n_neighbors': 71, 'weights': 'distance', 'metric': 'manhattan'}. Best is trial 18 with value: 0.7825911670171818.\u001b[0m\n",
            "\u001b[32m[I 2022-04-07 13:28:44,360]\u001b[0m Trial 201 finished with value: 0.7825911670171818 and parameters: {'n_neighbors': 70, 'weights': 'distance', 'metric': 'manhattan'}. Best is trial 18 with value: 0.7825911670171818.\u001b[0m\n",
            "\u001b[32m[I 2022-04-07 13:28:46,278]\u001b[0m Trial 202 finished with value: 0.782246074891208 and parameters: {'n_neighbors': 72, 'weights': 'distance', 'metric': 'manhattan'}. Best is trial 18 with value: 0.7825911670171818.\u001b[0m\n",
            "\u001b[32m[I 2022-04-07 13:28:48,221]\u001b[0m Trial 203 finished with value: 0.7816700395486952 and parameters: {'n_neighbors': 69, 'weights': 'distance', 'metric': 'manhattan'}. Best is trial 18 with value: 0.7825911670171818.\u001b[0m\n",
            "\u001b[32m[I 2022-04-07 13:28:50,133]\u001b[0m Trial 204 finished with value: 0.7808654418475458 and parameters: {'n_neighbors': 68, 'weights': 'distance', 'metric': 'manhattan'}. Best is trial 18 with value: 0.7825911670171818.\u001b[0m\n",
            "\u001b[32m[I 2022-04-07 13:28:52,058]\u001b[0m Trial 205 finished with value: 0.7813257410420221 and parameters: {'n_neighbors': 74, 'weights': 'distance', 'metric': 'manhattan'}. Best is trial 18 with value: 0.7825911670171818.\u001b[0m\n",
            "\u001b[32m[I 2022-04-07 13:28:52,815]\u001b[0m Trial 206 finished with value: 0.7647558959300558 and parameters: {'n_neighbors': 70, 'weights': 'distance', 'metric': 'euclidean'}. Best is trial 18 with value: 0.7825911670171818.\u001b[0m\n",
            "\u001b[32m[I 2022-04-07 13:28:54,723]\u001b[0m Trial 207 finished with value: 0.782246074891208 and parameters: {'n_neighbors': 72, 'weights': 'distance', 'metric': 'manhattan'}. Best is trial 18 with value: 0.7825911670171818.\u001b[0m\n",
            "\u001b[32m[I 2022-04-07 13:28:56,631]\u001b[0m Trial 208 finished with value: 0.780980252106398 and parameters: {'n_neighbors': 67, 'weights': 'distance', 'metric': 'manhattan'}. Best is trial 18 with value: 0.7825911670171818.\u001b[0m\n",
            "\u001b[32m[I 2022-04-07 13:28:58,533]\u001b[0m Trial 209 finished with value: 0.7825911670171818 and parameters: {'n_neighbors': 70, 'weights': 'distance', 'metric': 'manhattan'}. Best is trial 18 with value: 0.7825911670171818.\u001b[0m\n",
            "\u001b[32m[I 2022-04-07 13:29:00,448]\u001b[0m Trial 210 finished with value: 0.782131000092589 and parameters: {'n_neighbors': 75, 'weights': 'distance', 'metric': 'manhattan'}. Best is trial 18 with value: 0.7825911670171818.\u001b[0m\n",
            "\u001b[32m[I 2022-04-07 13:29:02,359]\u001b[0m Trial 211 finished with value: 0.7825910347472984 and parameters: {'n_neighbors': 71, 'weights': 'distance', 'metric': 'manhattan'}. Best is trial 18 with value: 0.7825911670171818.\u001b[0m\n",
            "\u001b[32m[I 2022-04-07 13:29:04,277]\u001b[0m Trial 212 finished with value: 0.7816700395486952 and parameters: {'n_neighbors': 69, 'weights': 'distance', 'metric': 'manhattan'}. Best is trial 18 with value: 0.7825911670171818.\u001b[0m\n",
            "\u001b[32m[I 2022-04-07 13:29:06,185]\u001b[0m Trial 213 finished with value: 0.782246074891208 and parameters: {'n_neighbors': 72, 'weights': 'distance', 'metric': 'manhattan'}. Best is trial 18 with value: 0.7825911670171818.\u001b[0m\n",
            "\u001b[32m[I 2022-04-07 13:29:08,095]\u001b[0m Trial 214 finished with value: 0.7825911670171818 and parameters: {'n_neighbors': 70, 'weights': 'distance', 'metric': 'manhattan'}. Best is trial 18 with value: 0.7825911670171818.\u001b[0m\n",
            "\u001b[32m[I 2022-04-07 13:29:10,006]\u001b[0m Trial 215 finished with value: 0.7808654418475458 and parameters: {'n_neighbors': 68, 'weights': 'distance', 'metric': 'manhattan'}. Best is trial 18 with value: 0.7825911670171818.\u001b[0m\n",
            "\u001b[32m[I 2022-04-07 13:29:11,929]\u001b[0m Trial 216 finished with value: 0.7825911670171818 and parameters: {'n_neighbors': 70, 'weights': 'distance', 'metric': 'manhattan'}. Best is trial 18 with value: 0.7825911670171818.\u001b[0m\n",
            "\u001b[32m[I 2022-04-07 13:29:13,832]\u001b[0m Trial 217 finished with value: 0.7812110630530535 and parameters: {'n_neighbors': 66, 'weights': 'distance', 'metric': 'manhattan'}. Best is trial 18 with value: 0.7825911670171818.\u001b[0m\n",
            "\u001b[32m[I 2022-04-07 13:29:15,745]\u001b[0m Trial 218 finished with value: 0.781095326905017 and parameters: {'n_neighbors': 73, 'weights': 'distance', 'metric': 'manhattan'}. Best is trial 18 with value: 0.7825911670171818.\u001b[0m\n",
            "\u001b[32m[I 2022-04-07 13:29:17,655]\u001b[0m Trial 219 finished with value: 0.7816700395486952 and parameters: {'n_neighbors': 69, 'weights': 'distance', 'metric': 'manhattan'}. Best is trial 18 with value: 0.7825911670171818.\u001b[0m\n",
            "\u001b[32m[I 2022-04-07 13:29:19,565]\u001b[0m Trial 220 finished with value: 0.7825910347472984 and parameters: {'n_neighbors': 71, 'weights': 'distance', 'metric': 'manhattan'}. Best is trial 18 with value: 0.7825911670171818.\u001b[0m\n",
            "\u001b[32m[I 2022-04-07 13:29:21,468]\u001b[0m Trial 221 finished with value: 0.7808654418475458 and parameters: {'n_neighbors': 68, 'weights': 'distance', 'metric': 'manhattan'}. Best is trial 18 with value: 0.7825911670171818.\u001b[0m\n",
            "\u001b[32m[I 2022-04-07 13:29:23,388]\u001b[0m Trial 222 finished with value: 0.7825911670171818 and parameters: {'n_neighbors': 70, 'weights': 'distance', 'metric': 'manhattan'}. Best is trial 18 with value: 0.7825911670171818.\u001b[0m\n",
            "\u001b[32m[I 2022-04-07 13:29:26,008]\u001b[0m Trial 223 finished with value: 0.7825911670171818 and parameters: {'n_neighbors': 70, 'weights': 'distance', 'metric': 'manhattan'}. Best is trial 18 with value: 0.7825911670171818.\u001b[0m\n",
            "\u001b[32m[I 2022-04-07 13:29:27,929]\u001b[0m Trial 224 finished with value: 0.782246074891208 and parameters: {'n_neighbors': 72, 'weights': 'distance', 'metric': 'manhattan'}. Best is trial 18 with value: 0.7825911670171818.\u001b[0m\n",
            "\u001b[32m[I 2022-04-07 13:29:29,837]\u001b[0m Trial 225 finished with value: 0.7825911670171818 and parameters: {'n_neighbors': 70, 'weights': 'distance', 'metric': 'manhattan'}. Best is trial 18 with value: 0.7825911670171818.\u001b[0m\n",
            "\u001b[32m[I 2022-04-07 13:29:30,594]\u001b[0m Trial 226 finished with value: 0.7638355620808699 and parameters: {'n_neighbors': 68, 'weights': 'distance', 'metric': 'minkowski'}. Best is trial 18 with value: 0.7825911670171818.\u001b[0m\n",
            "\u001b[32m[I 2022-04-07 13:29:32,504]\u001b[0m Trial 227 finished with value: 0.7825911670171818 and parameters: {'n_neighbors': 70, 'weights': 'distance', 'metric': 'manhattan'}. Best is trial 18 with value: 0.7825911670171818.\u001b[0m\n",
            "\u001b[32m[I 2022-04-07 13:29:34,412]\u001b[0m Trial 228 finished with value: 0.781095326905017 and parameters: {'n_neighbors': 73, 'weights': 'distance', 'metric': 'manhattan'}. Best is trial 18 with value: 0.7825911670171818.\u001b[0m\n",
            "\u001b[32m[I 2022-04-07 13:29:36,503]\u001b[0m Trial 229 finished with value: 0.7804051426530693 and parameters: {'n_neighbors': 66, 'weights': 'uniform', 'metric': 'manhattan'}. Best is trial 18 with value: 0.7825911670171818.\u001b[0m\n",
            "\u001b[32m[I 2022-04-07 13:29:38,404]\u001b[0m Trial 230 finished with value: 0.782246074891208 and parameters: {'n_neighbors': 72, 'weights': 'distance', 'metric': 'manhattan'}. Best is trial 18 with value: 0.7825911670171818.\u001b[0m\n",
            "\u001b[32m[I 2022-04-07 13:29:40,319]\u001b[0m Trial 231 finished with value: 0.7825911670171818 and parameters: {'n_neighbors': 70, 'weights': 'distance', 'metric': 'manhattan'}. Best is trial 18 with value: 0.7825911670171818.\u001b[0m\n",
            "\u001b[32m[I 2022-04-07 13:29:42,231]\u001b[0m Trial 232 finished with value: 0.7816700395486952 and parameters: {'n_neighbors': 69, 'weights': 'distance', 'metric': 'manhattan'}. Best is trial 18 with value: 0.7825911670171818.\u001b[0m\n",
            "\u001b[32m[I 2022-04-07 13:29:44,142]\u001b[0m Trial 233 finished with value: 0.7825910347472984 and parameters: {'n_neighbors': 71, 'weights': 'distance', 'metric': 'manhattan'}. Best is trial 18 with value: 0.7825911670171818.\u001b[0m\n",
            "\u001b[32m[I 2022-04-07 13:29:46,064]\u001b[0m Trial 234 finished with value: 0.7816700395486952 and parameters: {'n_neighbors': 69, 'weights': 'distance', 'metric': 'manhattan'}. Best is trial 18 with value: 0.7825911670171818.\u001b[0m\n",
            "\u001b[32m[I 2022-04-07 13:29:47,978]\u001b[0m Trial 235 finished with value: 0.7825910347472984 and parameters: {'n_neighbors': 71, 'weights': 'distance', 'metric': 'manhattan'}. Best is trial 18 with value: 0.7825911670171818.\u001b[0m\n",
            "\u001b[32m[I 2022-04-07 13:29:49,904]\u001b[0m Trial 236 finished with value: 0.7825911670171818 and parameters: {'n_neighbors': 70, 'weights': 'distance', 'metric': 'manhattan'}. Best is trial 18 with value: 0.7825911670171818.\u001b[0m\n",
            "\u001b[32m[I 2022-04-07 13:29:51,812]\u001b[0m Trial 237 finished with value: 0.7808654418475458 and parameters: {'n_neighbors': 68, 'weights': 'distance', 'metric': 'manhattan'}. Best is trial 18 with value: 0.7825911670171818.\u001b[0m\n",
            "\u001b[32m[I 2022-04-07 13:29:53,739]\u001b[0m Trial 238 finished with value: 0.7813257410420221 and parameters: {'n_neighbors': 74, 'weights': 'distance', 'metric': 'manhattan'}. Best is trial 18 with value: 0.7825911670171818.\u001b[0m\n",
            "\u001b[32m[I 2022-04-07 13:29:55,662]\u001b[0m Trial 239 finished with value: 0.7825910347472984 and parameters: {'n_neighbors': 71, 'weights': 'distance', 'metric': 'manhattan'}. Best is trial 18 with value: 0.7825911670171818.\u001b[0m\n",
            "\u001b[32m[I 2022-04-07 13:29:57,576]\u001b[0m Trial 240 finished with value: 0.780980252106398 and parameters: {'n_neighbors': 67, 'weights': 'distance', 'metric': 'manhattan'}. Best is trial 18 with value: 0.7825911670171818.\u001b[0m\n",
            "\u001b[32m[I 2022-04-07 13:29:59,496]\u001b[0m Trial 241 finished with value: 0.7816700395486952 and parameters: {'n_neighbors': 69, 'weights': 'distance', 'metric': 'manhattan'}. Best is trial 18 with value: 0.7825911670171818.\u001b[0m\n",
            "\u001b[32m[I 2022-04-07 13:30:01,410]\u001b[0m Trial 242 finished with value: 0.782246074891208 and parameters: {'n_neighbors': 72, 'weights': 'distance', 'metric': 'manhattan'}. Best is trial 18 with value: 0.7825911670171818.\u001b[0m\n",
            "\u001b[32m[I 2022-04-07 13:30:03,321]\u001b[0m Trial 243 finished with value: 0.7825911670171818 and parameters: {'n_neighbors': 70, 'weights': 'distance', 'metric': 'manhattan'}. Best is trial 18 with value: 0.7825911670171818.\u001b[0m\n",
            "\u001b[32m[I 2022-04-07 13:30:05,228]\u001b[0m Trial 244 finished with value: 0.7816700395486952 and parameters: {'n_neighbors': 69, 'weights': 'distance', 'metric': 'manhattan'}. Best is trial 18 with value: 0.7825911670171818.\u001b[0m\n",
            "\u001b[32m[I 2022-04-07 13:30:07,131]\u001b[0m Trial 245 finished with value: 0.780980252106398 and parameters: {'n_neighbors': 67, 'weights': 'distance', 'metric': 'manhattan'}. Best is trial 18 with value: 0.7825911670171818.\u001b[0m\n",
            "\u001b[32m[I 2022-04-07 13:30:09,040]\u001b[0m Trial 246 finished with value: 0.7825910347472984 and parameters: {'n_neighbors': 71, 'weights': 'distance', 'metric': 'manhattan'}. Best is trial 18 with value: 0.7825911670171818.\u001b[0m\n",
            "\u001b[32m[I 2022-04-07 13:30:09,837]\u001b[0m Trial 247 finished with value: 0.7629154927714509 and parameters: {'n_neighbors': 73, 'weights': 'distance', 'metric': 'euclidean'}. Best is trial 18 with value: 0.7825911670171818.\u001b[0m\n",
            "\u001b[32m[I 2022-04-07 13:30:11,762]\u001b[0m Trial 248 finished with value: 0.7808654418475458 and parameters: {'n_neighbors': 68, 'weights': 'distance', 'metric': 'manhattan'}. Best is trial 18 with value: 0.7825911670171818.\u001b[0m\n",
            "\u001b[32m[I 2022-04-07 13:30:13,667]\u001b[0m Trial 249 finished with value: 0.7825911670171818 and parameters: {'n_neighbors': 70, 'weights': 'distance', 'metric': 'manhattan'}. Best is trial 18 with value: 0.7825911670171818.\u001b[0m\n",
            "\u001b[32m[I 2022-04-07 13:30:15,580]\u001b[0m Trial 250 finished with value: 0.782246074891208 and parameters: {'n_neighbors': 72, 'weights': 'distance', 'metric': 'manhattan'}. Best is trial 18 with value: 0.7825911670171818.\u001b[0m\n",
            "\u001b[32m[I 2022-04-07 13:30:17,495]\u001b[0m Trial 251 finished with value: 0.7825911670171818 and parameters: {'n_neighbors': 70, 'weights': 'distance', 'metric': 'manhattan'}. Best is trial 18 with value: 0.7825911670171818.\u001b[0m\n",
            "\u001b[32m[I 2022-04-07 13:30:19,412]\u001b[0m Trial 252 finished with value: 0.7813257410420221 and parameters: {'n_neighbors': 74, 'weights': 'distance', 'metric': 'manhattan'}. Best is trial 18 with value: 0.7825911670171818.\u001b[0m\n",
            "\u001b[32m[I 2022-04-07 13:30:21,323]\u001b[0m Trial 253 finished with value: 0.7825911670171818 and parameters: {'n_neighbors': 70, 'weights': 'distance', 'metric': 'manhattan'}. Best is trial 18 with value: 0.7825911670171818.\u001b[0m\n",
            "\u001b[32m[I 2022-04-07 13:30:23,234]\u001b[0m Trial 254 finished with value: 0.7808654418475458 and parameters: {'n_neighbors': 68, 'weights': 'distance', 'metric': 'manhattan'}. Best is trial 18 with value: 0.7825911670171818.\u001b[0m\n",
            "\u001b[32m[I 2022-04-07 13:30:25,139]\u001b[0m Trial 255 finished with value: 0.7812110630530535 and parameters: {'n_neighbors': 66, 'weights': 'distance', 'metric': 'manhattan'}. Best is trial 18 with value: 0.7825911670171818.\u001b[0m\n",
            "\u001b[32m[I 2022-04-07 13:30:27,062]\u001b[0m Trial 256 finished with value: 0.7825910347472984 and parameters: {'n_neighbors': 71, 'weights': 'distance', 'metric': 'manhattan'}. Best is trial 18 with value: 0.7825911670171818.\u001b[0m\n",
            "\u001b[32m[I 2022-04-07 13:30:29,176]\u001b[0m Trial 257 finished with value: 0.78143962541169 and parameters: {'n_neighbors': 73, 'weights': 'uniform', 'metric': 'manhattan'}. Best is trial 18 with value: 0.7825911670171818.\u001b[0m\n",
            "\u001b[32m[I 2022-04-07 13:30:31,100]\u001b[0m Trial 258 finished with value: 0.7816700395486952 and parameters: {'n_neighbors': 69, 'weights': 'distance', 'metric': 'manhattan'}. Best is trial 18 with value: 0.7825911670171818.\u001b[0m\n",
            "\u001b[32m[I 2022-04-07 13:30:31,858]\u001b[0m Trial 259 finished with value: 0.7647558959300558 and parameters: {'n_neighbors': 70, 'weights': 'distance', 'metric': 'minkowski'}. Best is trial 18 with value: 0.7825911670171818.\u001b[0m\n",
            "\u001b[32m[I 2022-04-07 13:30:33,763]\u001b[0m Trial 260 finished with value: 0.781786172506382 and parameters: {'n_neighbors': 65, 'weights': 'distance', 'metric': 'manhattan'}. Best is trial 18 with value: 0.7825911670171818.\u001b[0m\n",
            "\u001b[32m[I 2022-04-07 13:30:35,686]\u001b[0m Trial 261 finished with value: 0.782246074891208 and parameters: {'n_neighbors': 72, 'weights': 'distance', 'metric': 'manhattan'}. Best is trial 18 with value: 0.7825911670171818.\u001b[0m\n",
            "\u001b[32m[I 2022-04-07 13:30:37,595]\u001b[0m Trial 262 finished with value: 0.780980252106398 and parameters: {'n_neighbors': 67, 'weights': 'distance', 'metric': 'manhattan'}. Best is trial 18 with value: 0.7825911670171818.\u001b[0m\n",
            "\u001b[32m[I 2022-04-07 13:30:39,507]\u001b[0m Trial 263 finished with value: 0.7816700395486952 and parameters: {'n_neighbors': 69, 'weights': 'distance', 'metric': 'manhattan'}. Best is trial 18 with value: 0.7825911670171818.\u001b[0m\n",
            "\u001b[32m[I 2022-04-07 13:30:41,428]\u001b[0m Trial 264 finished with value: 0.7825911670171818 and parameters: {'n_neighbors': 70, 'weights': 'distance', 'metric': 'manhattan'}. Best is trial 18 with value: 0.7825911670171818.\u001b[0m\n",
            "\u001b[32m[I 2022-04-07 13:30:43,353]\u001b[0m Trial 265 finished with value: 0.7813257410420221 and parameters: {'n_neighbors': 74, 'weights': 'distance', 'metric': 'manhattan'}. Best is trial 18 with value: 0.7825911670171818.\u001b[0m\n",
            "\u001b[32m[I 2022-04-07 13:30:45,272]\u001b[0m Trial 266 finished with value: 0.7825910347472984 and parameters: {'n_neighbors': 71, 'weights': 'distance', 'metric': 'manhattan'}. Best is trial 18 with value: 0.7825911670171818.\u001b[0m\n",
            "\u001b[32m[I 2022-04-07 13:30:47,164]\u001b[0m Trial 267 finished with value: 0.7808654418475458 and parameters: {'n_neighbors': 68, 'weights': 'distance', 'metric': 'manhattan'}. Best is trial 18 with value: 0.7825911670171818.\u001b[0m\n",
            "\u001b[32m[I 2022-04-07 13:30:49,086]\u001b[0m Trial 268 finished with value: 0.7825910347472984 and parameters: {'n_neighbors': 71, 'weights': 'distance', 'metric': 'manhattan'}. Best is trial 18 with value: 0.7825911670171818.\u001b[0m\n",
            "\u001b[32m[I 2022-04-07 13:30:50,996]\u001b[0m Trial 269 finished with value: 0.7825911670171818 and parameters: {'n_neighbors': 70, 'weights': 'distance', 'metric': 'manhattan'}. Best is trial 18 with value: 0.7825911670171818.\u001b[0m\n",
            "\u001b[32m[I 2022-04-07 13:30:52,899]\u001b[0m Trial 270 finished with value: 0.782246074891208 and parameters: {'n_neighbors': 72, 'weights': 'distance', 'metric': 'manhattan'}. Best is trial 18 with value: 0.7825911670171818.\u001b[0m\n",
            "\u001b[32m[I 2022-04-07 13:30:53,660]\u001b[0m Trial 271 finished with value: 0.7640659762178749 and parameters: {'n_neighbors': 67, 'weights': 'distance', 'metric': 'euclidean'}. Best is trial 18 with value: 0.7825911670171818.\u001b[0m\n",
            "\u001b[32m[I 2022-04-07 13:30:56,889]\u001b[0m Trial 272 finished with value: 0.7813266669312064 and parameters: {'n_neighbors': 56, 'weights': 'distance', 'metric': 'manhattan'}. Best is trial 18 with value: 0.7825911670171818.\u001b[0m\n",
            "\u001b[32m[I 2022-04-07 13:30:58,902]\u001b[0m Trial 273 finished with value: 0.7808654418475458 and parameters: {'n_neighbors': 68, 'weights': 'distance', 'metric': 'manhattan'}. Best is trial 18 with value: 0.7825911670171818.\u001b[0m\n",
            "\u001b[32m[I 2022-04-07 13:31:00,820]\u001b[0m Trial 274 finished with value: 0.782131000092589 and parameters: {'n_neighbors': 75, 'weights': 'distance', 'metric': 'manhattan'}. Best is trial 18 with value: 0.7825911670171818.\u001b[0m\n",
            "\u001b[32m[I 2022-04-07 13:31:02,741]\u001b[0m Trial 275 finished with value: 0.782246074891208 and parameters: {'n_neighbors': 72, 'weights': 'distance', 'metric': 'manhattan'}. Best is trial 18 with value: 0.7825911670171818.\u001b[0m\n",
            "\u001b[32m[I 2022-04-07 13:31:04,848]\u001b[0m Trial 276 finished with value: 0.78143962541169 and parameters: {'n_neighbors': 73, 'weights': 'uniform', 'metric': 'manhattan'}. Best is trial 18 with value: 0.7825911670171818.\u001b[0m\n",
            "\u001b[32m[I 2022-04-07 13:31:06,758]\u001b[0m Trial 277 finished with value: 0.7816700395486952 and parameters: {'n_neighbors': 69, 'weights': 'distance', 'metric': 'manhattan'}. Best is trial 18 with value: 0.7825911670171818.\u001b[0m\n",
            "\u001b[32m[I 2022-04-07 13:31:08,667]\u001b[0m Trial 278 finished with value: 0.781786172506382 and parameters: {'n_neighbors': 65, 'weights': 'distance', 'metric': 'manhattan'}. Best is trial 18 with value: 0.7825911670171818.\u001b[0m\n",
            "\u001b[32m[I 2022-04-07 13:31:10,585]\u001b[0m Trial 279 finished with value: 0.7816700395486952 and parameters: {'n_neighbors': 69, 'weights': 'distance', 'metric': 'manhattan'}. Best is trial 18 with value: 0.7825911670171818.\u001b[0m\n",
            "\u001b[32m[I 2022-04-07 13:31:12,508]\u001b[0m Trial 280 finished with value: 0.7825910347472984 and parameters: {'n_neighbors': 71, 'weights': 'distance', 'metric': 'manhattan'}. Best is trial 18 with value: 0.7825911670171818.\u001b[0m\n",
            "\u001b[32m[I 2022-04-07 13:31:14,421]\u001b[0m Trial 281 finished with value: 0.7825911670171818 and parameters: {'n_neighbors': 70, 'weights': 'distance', 'metric': 'manhattan'}. Best is trial 18 with value: 0.7825911670171818.\u001b[0m\n",
            "\u001b[32m[I 2022-04-07 13:31:16,244]\u001b[0m Trial 282 finished with value: 0.7738503763078186 and parameters: {'n_neighbors': 12, 'weights': 'distance', 'metric': 'manhattan'}. Best is trial 18 with value: 0.7825911670171818.\u001b[0m\n",
            "\u001b[32m[I 2022-04-07 13:31:18,157]\u001b[0m Trial 283 finished with value: 0.780980252106398 and parameters: {'n_neighbors': 67, 'weights': 'distance', 'metric': 'manhattan'}. Best is trial 18 with value: 0.7825911670171818.\u001b[0m\n",
            "\u001b[32m[I 2022-04-07 13:31:18,958]\u001b[0m Trial 284 finished with value: 0.7629154927714509 and parameters: {'n_neighbors': 73, 'weights': 'distance', 'metric': 'minkowski'}. Best is trial 18 with value: 0.7825911670171818.\u001b[0m\n",
            "\u001b[32m[I 2022-04-07 13:31:20,865]\u001b[0m Trial 285 finished with value: 0.7808654418475458 and parameters: {'n_neighbors': 68, 'weights': 'distance', 'metric': 'manhattan'}. Best is trial 18 with value: 0.7825911670171818.\u001b[0m\n",
            "\u001b[32m[I 2022-04-07 13:31:22,783]\u001b[0m Trial 286 finished with value: 0.7825911670171818 and parameters: {'n_neighbors': 70, 'weights': 'distance', 'metric': 'manhattan'}. Best is trial 18 with value: 0.7825911670171818.\u001b[0m\n",
            "\u001b[32m[I 2022-04-07 13:31:24,701]\u001b[0m Trial 287 finished with value: 0.7812110630530535 and parameters: {'n_neighbors': 66, 'weights': 'distance', 'metric': 'manhattan'}. Best is trial 18 with value: 0.7825911670171818.\u001b[0m\n",
            "\u001b[32m[I 2022-04-07 13:31:26,626]\u001b[0m Trial 288 finished with value: 0.7822454135417906 and parameters: {'n_neighbors': 76, 'weights': 'distance', 'metric': 'manhattan'}. Best is trial 18 with value: 0.7825911670171818.\u001b[0m\n",
            "\u001b[32m[I 2022-04-07 13:31:28,539]\u001b[0m Trial 289 finished with value: 0.7825911670171818 and parameters: {'n_neighbors': 70, 'weights': 'distance', 'metric': 'manhattan'}. Best is trial 18 with value: 0.7825911670171818.\u001b[0m\n",
            "\u001b[32m[I 2022-04-07 13:31:30,413]\u001b[0m Trial 290 finished with value: 0.7805210110709891 and parameters: {'n_neighbors': 39, 'weights': 'distance', 'metric': 'manhattan'}. Best is trial 18 with value: 0.7825911670171818.\u001b[0m\n",
            "\u001b[32m[I 2022-04-07 13:31:32,324]\u001b[0m Trial 291 finished with value: 0.782246074891208 and parameters: {'n_neighbors': 72, 'weights': 'distance', 'metric': 'manhattan'}. Best is trial 18 with value: 0.7825911670171818.\u001b[0m\n",
            "\u001b[32m[I 2022-04-07 13:31:34,243]\u001b[0m Trial 292 finished with value: 0.7816700395486952 and parameters: {'n_neighbors': 69, 'weights': 'distance', 'metric': 'manhattan'}. Best is trial 18 with value: 0.7825911670171818.\u001b[0m\n",
            "\u001b[32m[I 2022-04-07 13:31:36,159]\u001b[0m Trial 293 finished with value: 0.7825910347472984 and parameters: {'n_neighbors': 71, 'weights': 'distance', 'metric': 'manhattan'}. Best is trial 18 with value: 0.7825911670171818.\u001b[0m\n",
            "\u001b[32m[I 2022-04-07 13:31:38,083]\u001b[0m Trial 294 finished with value: 0.7813257410420221 and parameters: {'n_neighbors': 74, 'weights': 'distance', 'metric': 'manhattan'}. Best is trial 18 with value: 0.7825911670171818.\u001b[0m\n",
            "\u001b[32m[I 2022-04-07 13:31:39,999]\u001b[0m Trial 295 finished with value: 0.7808654418475458 and parameters: {'n_neighbors': 68, 'weights': 'distance', 'metric': 'manhattan'}. Best is trial 18 with value: 0.7825911670171818.\u001b[0m\n",
            "\u001b[32m[I 2022-04-07 13:31:42,142]\u001b[0m Trial 296 finished with value: 0.7808645159583614 and parameters: {'n_neighbors': 72, 'weights': 'uniform', 'metric': 'manhattan'}. Best is trial 18 with value: 0.7825911670171818.\u001b[0m\n",
            "\u001b[32m[I 2022-04-07 13:31:44,053]\u001b[0m Trial 297 finished with value: 0.7825911670171818 and parameters: {'n_neighbors': 70, 'weights': 'distance', 'metric': 'manhattan'}. Best is trial 18 with value: 0.7825911670171818.\u001b[0m\n",
            "\u001b[32m[I 2022-04-07 13:31:44,771]\u001b[0m Trial 298 finished with value: 0.7647560281999392 and parameters: {'n_neighbors': 64, 'weights': 'distance', 'metric': 'euclidean'}. Best is trial 18 with value: 0.7825911670171818.\u001b[0m\n",
            "\u001b[32m[I 2022-04-07 13:31:46,699]\u001b[0m Trial 299 finished with value: 0.780980252106398 and parameters: {'n_neighbors': 67, 'weights': 'distance', 'metric': 'manhattan'}. Best is trial 18 with value: 0.7825911670171818.\u001b[0m\n"
          ]
        }
      ]
    },
    {
      "cell_type": "code",
      "source": [
        "study.best_params"
      ],
      "metadata": {
        "colab": {
          "base_uri": "https://localhost:8080/"
        },
        "id": "tKEcmfwWEK7K",
        "outputId": "a97ab9a5-35ca-483b-ba70-db60c1b8b9c6"
      },
      "execution_count": null,
      "outputs": [
        {
          "output_type": "execute_result",
          "data": {
            "text/plain": [
              "{'metric': 'manhattan', 'n_neighbors': 70, 'weights': 'distance'}"
            ]
          },
          "metadata": {},
          "execution_count": 62
        }
      ]
    },
    {
      "cell_type": "markdown",
      "source": [
        "### **XGB**"
      ],
      "metadata": {
        "id": "phpkzS1YAM8E"
      }
    },
    {
      "cell_type": "code",
      "source": [
        "def objective(trial):\n",
        "  max_depth = trial.suggest_int(\"max_depth\", 2, 15)\n",
        "  n_estimators = trial.suggest_int(\"n_estimators\", 1, 300)\n",
        "  learning_rate = trial.suggest_uniform('learning_rate', 0.0000001, 1)\n",
        "  gamma = trial.suggest_uniform('gamma', 0.0000001, 1)\n",
        "  subsample = trial.suggest_uniform('subsample', 0.0001, 1.0)\n",
        "\n",
        "  XGB = XGBClassifier(\n",
        "        learning_rate=learning_rate, \n",
        "        n_estimators=n_estimators, \n",
        "        max_depth=max_depth, \n",
        "        gamma=gamma, \n",
        "        subsample=subsample,\n",
        "        random_state=666)\n",
        "    # -- Make a pipeline\n",
        "  pipeline = make_pipeline(XGB)\n",
        "\n",
        "    # -- Cross-validate the features reduced by dimensionality reduction methods\n",
        "  kfold = StratifiedKFold(n_splits=10)\n",
        "  score = cross_val_score(pipeline, X, y, scoring='accuracy', cv=kfold)\n",
        "  score = score.mean()\n",
        "  return score\n",
        "\n",
        "\n",
        "sampler = TPESampler(seed=42) # create a seed for the sampler for reproducibility\n",
        "study = optuna.create_study(direction=\"maximize\", sampler=sampler)\n",
        "study.optimize(objective, n_trials=100)"
      ],
      "metadata": {
        "id": "xDZzn3pGrehL",
        "colab": {
          "base_uri": "https://localhost:8080/"
        },
        "outputId": "c5906829-49cc-440c-84e8-e9edeabc2126"
      },
      "execution_count": null,
      "outputs": [
        {
          "output_type": "stream",
          "name": "stderr",
          "text": [
            "\u001b[32m[I 2022-04-07 13:35:53,274]\u001b[0m A new study created in memory with name: no-name-36d626a1-9b07-4c3d-876d-b565dec8d8ef\u001b[0m\n",
            "\u001b[32m[I 2022-04-07 13:36:21,188]\u001b[0m Trial 0 finished with value: 0.6747980900228827 and parameters: {'max_depth': 7, 'n_estimators': 286, 'learning_rate': 0.7319939686120109, 'gamma': 0.5986585243311882, 'subsample': 0.15610303857839228}. Best is trial 0 with value: 0.6747980900228827.\u001b[0m\n",
            "\u001b[32m[I 2022-04-07 13:36:23,244]\u001b[0m Trial 1 finished with value: 0.7167912648968957 and parameters: {'max_depth': 4, 'n_estimators': 18, 'learning_rate': 0.8661761591573206, 'gamma': 0.6011150516317076, 'subsample': 0.7081017705382658}. Best is trial 1 with value: 0.7167912648968957.\u001b[0m\n",
            "\u001b[32m[I 2022-04-07 13:36:35,414]\u001b[0m Trial 2 finished with value: 0.6827341507612131 and parameters: {'max_depth': 2, 'n_estimators': 291, 'learning_rate': 0.8324426575561577, 'gamma': 0.2123391894443651, 'subsample': 0.1819067847103799}. Best is trial 1 with value: 0.7167912648968957.\u001b[0m\n",
            "\u001b[32m[I 2022-04-07 13:36:43,486]\u001b[0m Trial 3 finished with value: 0.6996441940134651 and parameters: {'max_depth': 4, 'n_estimators': 92, 'learning_rate': 0.5247564791565946, 'gamma': 0.4319450754476139, 'subsample': 0.2913000172840221}. Best is trial 1 with value: 0.7167912648968957.\u001b[0m\n",
            "\u001b[32m[I 2022-04-07 13:36:54,831]\u001b[0m Trial 4 finished with value: 0.7201208946734918 and parameters: {'max_depth': 10, 'n_estimators': 42, 'learning_rate': 0.2921447193207533, 'gamma': 0.3663619066575074, 'subsample': 0.4561243772186142}. Best is trial 4 with value: 0.7201208946734918.\u001b[0m\n",
            "\u001b[32m[I 2022-04-07 13:37:00,170]\u001b[0m Trial 5 finished with value: 0.6756090366784385 and parameters: {'max_depth': 12, 'n_estimators': 60, 'learning_rate': 0.5142344869901677, 'gamma': 0.5924146096205856, 'subsample': 0.04654576767872573}. Best is trial 4 with value: 0.7201208946734918.\u001b[0m\n",
            "\u001b[32m[I 2022-04-07 13:37:15,391]\u001b[0m Trial 6 finished with value: 0.7700530402232715 and parameters: {'max_depth': 10, 'n_estimators': 52, 'learning_rate': 0.06505168648012022, 'gamma': 0.9488855423647795, 'subsample': 0.9656354698712519}. Best is trial 6 with value: 0.7700530402232715.\u001b[0m\n",
            "\u001b[32m[I 2022-04-07 13:37:45,317]\u001b[0m Trial 7 finished with value: 0.7507247066915335 and parameters: {'max_depth': 13, 'n_estimators': 92, 'learning_rate': 0.09767220423917247, 'gamma': 0.6842330580888543, 'subsample': 0.4402084784902273}. Best is trial 6 with value: 0.7700530402232715.\u001b[0m\n",
            "\u001b[32m[I 2022-04-07 13:37:54,962]\u001b[0m Trial 8 finished with value: 0.7813273282806238 and parameters: {'max_depth': 3, 'n_estimators': 149, 'learning_rate': 0.034388617676366286, 'gamma': 0.9093204111467419, 'subsample': 0.2588541036018569}. Best is trial 8 with value: 0.7813273282806238.\u001b[0m\n",
            "\u001b[32m[I 2022-04-07 13:38:10,960]\u001b[0m Trial 9 finished with value: 0.6996575532716955 and parameters: {'max_depth': 11, 'n_estimators': 94, 'learning_rate': 0.5200680691710087, 'gamma': 0.5467103246722517, 'subsample': 0.18493597007997448}. Best is trial 8 with value: 0.7813273282806238.\u001b[0m\n",
            "\u001b[32m[I 2022-04-07 13:39:26,437]\u001b[0m Trial 10 finished with value: 0.7202341176937423 and parameters: {'max_depth': 15, 'n_estimators': 210, 'learning_rate': 0.256859735332545, 'gamma': 0.9549687383030651, 'subsample': 0.6519013641231006}. Best is trial 8 with value: 0.7813273282806238.\u001b[0m\n",
            "\u001b[32m[I 2022-04-07 13:40:04,001]\u001b[0m Trial 11 finished with value: 0.7672921709455974 and parameters: {'max_depth': 8, 'n_estimators': 166, 'learning_rate': 0.010902628943102607, 'gamma': 0.9815592925056001, 'subsample': 0.9816877448766672}. Best is trial 8 with value: 0.7813273282806238.\u001b[0m\n",
            "\u001b[32m[I 2022-04-07 13:40:29,961]\u001b[0m Trial 12 finished with value: 0.7110258852161951 and parameters: {'max_depth': 7, 'n_estimators': 168, 'learning_rate': 0.2193251492069361, 'gamma': 0.8464423980306888, 'subsample': 0.9940064085138232}. Best is trial 8 with value: 0.7813273282806238.\u001b[0m\n",
            "\u001b[32m[I 2022-04-07 13:41:01,177]\u001b[0m Trial 13 finished with value: 0.7733887544145073 and parameters: {'max_depth': 5, 'n_estimators': 230, 'learning_rate': 0.004589110717694963, 'gamma': 0.8024131112671712, 'subsample': 0.755061653334715}. Best is trial 8 with value: 0.7813273282806238.\u001b[0m\n",
            "\u001b[32m[I 2022-04-07 13:41:30,529]\u001b[0m Trial 14 finished with value: 0.6721446238905864 and parameters: {'max_depth': 5, 'n_estimators': 238, 'learning_rate': 0.39046130198619367, 'gamma': 0.7894770873717578, 'subsample': 0.7453261267609368}. Best is trial 8 with value: 0.7813273282806238.\u001b[0m\n",
            "\u001b[32m[I 2022-04-07 13:41:42,784]\u001b[0m Trial 15 finished with value: 0.7426710580267979 and parameters: {'max_depth': 2, 'n_estimators': 211, 'learning_rate': 0.1483549536588367, 'gamma': 0.7718666906972149, 'subsample': 0.5941061286033988}. Best is trial 8 with value: 0.7813273282806238.\u001b[0m\n",
            "\u001b[32m[I 2022-04-07 13:41:58,106]\u001b[0m Trial 16 finished with value: 0.6843376585585228 and parameters: {'max_depth': 5, 'n_estimators': 126, 'learning_rate': 0.3742165627033252, 'gamma': 0.8359278492795054, 'subsample': 0.809597960461279}. Best is trial 8 with value: 0.7813273282806238.\u001b[0m\n",
            "\u001b[32m[I 2022-04-07 13:42:17,288]\u001b[0m Trial 17 finished with value: 0.7816659391823076 and parameters: {'max_depth': 3, 'n_estimators': 258, 'learning_rate': 0.006658696720851817, 'gamma': 0.13881292367130388, 'subsample': 0.3574153904976688}. Best is trial 17 with value: 0.7816659391823076.\u001b[0m\n",
            "\u001b[32m[I 2022-04-07 13:42:26,575]\u001b[0m Trial 18 finished with value: 0.6907809213920083 and parameters: {'max_depth': 3, 'n_estimators': 133, 'learning_rate': 0.6429119212001615, 'gamma': 0.12058615735853659, 'subsample': 0.3209180936019551}. Best is trial 17 with value: 0.7816659391823076.\u001b[0m\n",
            "\u001b[32m[I 2022-04-07 13:43:02,884]\u001b[0m Trial 19 finished with value: 0.6845753475391189 and parameters: {'max_depth': 6, 'n_estimators': 262, 'learning_rate': 0.9692698551217325, 'gamma': 0.010989288144852394, 'subsample': 0.35158650596739854}. Best is trial 17 with value: 0.7816659391823076.\u001b[0m\n",
            "\u001b[32m[I 2022-04-07 13:43:09,429]\u001b[0m Trial 20 finished with value: 0.7323141938811952 and parameters: {'max_depth': 3, 'n_estimators': 188, 'learning_rate': 0.14158432749392696, 'gamma': 0.26677513058236574, 'subsample': 0.004839645641123935}. Best is trial 17 with value: 0.7816659391823076.\u001b[0m\n",
            "\u001b[32m[I 2022-04-07 13:43:37,303]\u001b[0m Trial 21 finished with value: 0.7714324828379826 and parameters: {'max_depth': 4, 'n_estimators': 252, 'learning_rate': 0.002018711810343135, 'gamma': 0.7019258324782658, 'subsample': 0.5172839664560945}. Best is trial 17 with value: 0.7816659391823076.\u001b[0m\n",
            "\u001b[32m[I 2022-04-07 13:43:48,829]\u001b[0m Trial 22 finished with value: 0.7287483300927212 and parameters: {'max_depth': 2, 'n_estimators': 220, 'learning_rate': 0.17224114095164086, 'gamma': 0.44554183039611595, 'subsample': 0.8706409383518243}. Best is trial 17 with value: 0.7816659391823076.\u001b[0m\n",
            "\u001b[32m[I 2022-04-07 13:44:19,160]\u001b[0m Trial 23 finished with value: 0.7296713093395764 and parameters: {'max_depth': 6, 'n_estimators': 189, 'learning_rate': 0.06988234432964463, 'gamma': 0.895733804336598, 'subsample': 0.5355483383707966}. Best is trial 17 with value: 0.7816659391823076.\u001b[0m\n",
            "\u001b[32m[I 2022-04-07 13:44:38,217]\u001b[0m Trial 24 finished with value: 0.6857159107442826 and parameters: {'max_depth': 3, 'n_estimators': 260, 'learning_rate': 0.32021472130406103, 'gamma': 0.6951044419730731, 'subsample': 0.3770582711693018}. Best is trial 17 with value: 0.7816659391823076.\u001b[0m\n",
            "\u001b[32m[I 2022-04-07 13:44:52,044]\u001b[0m Trial 25 finished with value: 0.7853556075817099 and parameters: {'max_depth': 5, 'n_estimators': 133, 'learning_rate': 0.014197576358675804, 'gamma': 0.3154975300354881, 'subsample': 0.23108792543307252}. Best is trial 25 with value: 0.7853556075817099.\u001b[0m\n",
            "\u001b[32m[I 2022-04-07 13:45:15,180]\u001b[0m Trial 26 finished with value: 0.7315103897993466 and parameters: {'max_depth': 8, 'n_estimators': 134, 'learning_rate': 0.18516299595085337, 'gamma': 0.2872389274068634, 'subsample': 0.279877501519321}. Best is trial 25 with value: 0.7853556075817099.\u001b[0m\n",
            "\u001b[32m[I 2022-04-07 13:45:25,843]\u001b[0m Trial 27 finished with value: 0.7010274724547967 and parameters: {'max_depth': 6, 'n_estimators': 116, 'learning_rate': 0.42273475448587355, 'gamma': 0.13901028667502688, 'subsample': 0.10929279574304063}. Best is trial 25 with value: 0.7853556075817099.\u001b[0m\n",
            "\u001b[32m[I 2022-04-07 13:45:35,622]\u001b[0m Trial 28 finished with value: 0.7552113011388437 and parameters: {'max_depth': 3, 'n_estimators': 156, 'learning_rate': 0.08819956362861452, 'gamma': 0.010182610936474767, 'subsample': 0.2501150240171633}. Best is trial 25 with value: 0.7853556075817099.\u001b[0m\n",
            "\u001b[32m[I 2022-04-07 13:45:55,761]\u001b[0m Trial 29 finished with value: 0.7139145272013016 and parameters: {'max_depth': 7, 'n_estimators': 189, 'learning_rate': 0.22512321163145896, 'gamma': 0.3470239191021161, 'subsample': 0.11324019929506723}. Best is trial 25 with value: 0.7853556075817099.\u001b[0m\n",
            "\u001b[32m[I 2022-04-07 13:46:06,300]\u001b[0m Trial 30 finished with value: 0.7416332685210905 and parameters: {'max_depth': 4, 'n_estimators': 107, 'learning_rate': 0.11694247759136782, 'gamma': 0.1058305766588325, 'subsample': 0.3963973148509875}. Best is trial 25 with value: 0.7853556075817099.\u001b[0m\n",
            "\u001b[32m[I 2022-04-07 13:46:35,855]\u001b[0m Trial 31 finished with value: 0.782248852558761 and parameters: {'max_depth': 5, 'n_estimators': 284, 'learning_rate': 0.004698540172541019, 'gamma': 0.1885146642215726, 'subsample': 0.235442986428064}. Best is trial 25 with value: 0.7853556075817099.\u001b[0m\n",
            "\u001b[32m[I 2022-04-07 13:47:03,948]\u001b[0m Trial 32 finished with value: 0.751760247609222 and parameters: {'max_depth': 5, 'n_estimators': 297, 'learning_rate': 0.05400623614664869, 'gamma': 0.18361133335317692, 'subsample': 0.214072405984106}. Best is trial 25 with value: 0.7853556075817099.\u001b[0m\n",
            "\u001b[32m[I 2022-04-07 13:47:14,494]\u001b[0m Trial 33 finished with value: 0.6929769982672644 and parameters: {'max_depth': 2, 'n_estimators': 275, 'learning_rate': 0.6551913923322842, 'gamma': 0.23976313312331882, 'subsample': 0.12676846140863673}. Best is trial 25 with value: 0.7853556075817099.\u001b[0m\n",
            "\u001b[32m[I 2022-04-07 13:47:37,838]\u001b[0m Trial 34 finished with value: 0.7545211168868959 and parameters: {'max_depth': 4, 'n_estimators': 279, 'learning_rate': 0.043059974867280165, 'gamma': 0.3473404445706597, 'subsample': 0.2744950356846725}. Best is trial 25 with value: 0.7853556075817099.\u001b[0m\n",
            "\u001b[32m[I 2022-04-07 13:47:38,814]\u001b[0m Trial 35 finished with value: 0.782012618546883 and parameters: {'max_depth': 3, 'n_estimators': 12, 'learning_rate': 0.12022298262499653, 'gamma': 0.07276066572225062, 'subsample': 0.21913429918078264}. Best is trial 25 with value: 0.7853556075817099.\u001b[0m\n",
            "\u001b[32m[I 2022-04-07 13:47:40,431]\u001b[0m Trial 36 finished with value: 0.7779917463592716 and parameters: {'max_depth': 7, 'n_estimators': 10, 'learning_rate': 0.12227714489326855, 'gamma': 0.07964555349621469, 'subsample': 0.19271196195964885}. Best is trial 25 with value: 0.7853556075817099.\u001b[0m\n",
            "\u001b[32m[I 2022-04-07 13:47:42,367]\u001b[0m Trial 37 finished with value: 0.7546404243217861 and parameters: {'max_depth': 4, 'n_estimators': 30, 'learning_rate': 0.30189563848015666, 'gamma': 0.19430590168734932, 'subsample': 0.06356299274215738}. Best is trial 25 with value: 0.7853556075817099.\u001b[0m\n",
            "\u001b[32m[I 2022-04-07 13:47:58,891]\u001b[0m Trial 38 finished with value: 0.7263341401796225 and parameters: {'max_depth': 9, 'n_estimators': 69, 'learning_rate': 0.20752138854795973, 'gamma': 0.07225672067365352, 'subsample': 0.43649102662426503}. Best is trial 25 with value: 0.7853556075817099.\u001b[0m\n",
            "\u001b[32m[I 2022-04-07 13:47:59,348]\u001b[0m Trial 39 finished with value: 0.7450826025422272 and parameters: {'max_depth': 2, 'n_estimators': 4, 'learning_rate': 0.08136472857510371, 'gamma': 0.3082557258665993, 'subsample': 0.35249936882376587}. Best is trial 25 with value: 0.7853556075817099.\u001b[0m\n",
            "\u001b[32m[I 2022-04-07 13:48:07,932]\u001b[0m Trial 40 finished with value: 0.6833128315013954 and parameters: {'max_depth': 6, 'n_estimators': 73, 'learning_rate': 0.7610757736702017, 'gamma': 0.43370559106407824, 'subsample': 0.22250015633284223}. Best is trial 25 with value: 0.7853556075817099.\u001b[0m\n",
            "\u001b[32m[I 2022-04-07 13:48:18,783]\u001b[0m Trial 41 finished with value: 0.7675154425088951 and parameters: {'max_depth': 3, 'n_estimators': 151, 'learning_rate': 0.0002362248612663067, 'gamma': 0.16482628689048018, 'subsample': 0.31575436572212284}. Best is trial 25 with value: 0.7853556075817099.\u001b[0m\n",
            "\u001b[32m[I 2022-04-07 13:48:21,728]\u001b[0m Trial 42 finished with value: 0.7891469915215004 and parameters: {'max_depth': 4, 'n_estimators': 38, 'learning_rate': 0.04935493451934547, 'gamma': 0.052247553628855456, 'subsample': 0.15830998651277145}. Best is trial 42 with value: 0.7891469915215004.\u001b[0m\n",
            "\u001b[32m[I 2022-04-07 13:48:25,237]\u001b[0m Trial 43 finished with value: 0.7794848088038835 and parameters: {'max_depth': 5, 'n_estimators': 38, 'learning_rate': 0.11107477682154707, 'gamma': 0.05585042090836634, 'subsample': 0.15200620177955063}. Best is trial 42 with value: 0.7891469915215004.\u001b[0m\n",
            "\u001b[32m[I 2022-04-07 13:48:29,200]\u001b[0m Trial 44 finished with value: 0.7837413859238391 and parameters: {'max_depth': 4, 'n_estimators': 52, 'learning_rate': 0.04826257968952104, 'gamma': 0.2455020375434082, 'subsample': 0.16677800818269672}. Best is trial 42 with value: 0.7891469915215004.\u001b[0m\n",
            "\u001b[32m[I 2022-04-07 13:48:31,099]\u001b[0m Trial 45 finished with value: 0.7728120577225772 and parameters: {'max_depth': 4, 'n_estimators': 29, 'learning_rate': 0.2579379986987397, 'gamma': 0.2196979475729025, 'subsample': 0.07229436638369875}. Best is trial 42 with value: 0.7891469915215004.\u001b[0m\n",
            "\u001b[32m[I 2022-04-07 13:48:33,290]\u001b[0m Trial 46 finished with value: 0.7529100697062285 and parameters: {'max_depth': 5, 'n_estimators': 48, 'learning_rate': 0.05796043975405176, 'gamma': 0.5086218858593629, 'subsample': 0.005403946292498962}. Best is trial 42 with value: 0.7891469915215004.\u001b[0m\n",
            "\u001b[32m[I 2022-04-07 13:48:37,440]\u001b[0m Trial 47 finished with value: 0.7743096173432271 and parameters: {'max_depth': 13, 'n_estimators': 20, 'learning_rate': 0.16130759735497502, 'gamma': 0.04388925300907326, 'subsample': 0.15851736617917378}. Best is trial 42 with value: 0.7891469915215004.\u001b[0m\n",
            "\u001b[32m[I 2022-04-07 13:48:49,918]\u001b[0m Trial 48 finished with value: 0.7561318995277965 and parameters: {'max_depth': 7, 'n_estimators': 87, 'learning_rate': 0.10009486139415566, 'gamma': 0.2530885333140888, 'subsample': 0.2325309804094038}. Best is trial 42 with value: 0.7891469915215004.\u001b[0m\n",
            "\u001b[32m[I 2022-04-07 13:48:56,142]\u001b[0m Trial 49 finished with value: 0.7822456780815575 and parameters: {'max_depth': 6, 'n_estimators': 53, 'learning_rate': 0.046669631942235223, 'gamma': 0.3866582517875229, 'subsample': 0.1814472570616085}. Best is trial 42 with value: 0.7891469915215004.\u001b[0m\n",
            "\u001b[32m[I 2022-04-07 13:49:01,713]\u001b[0m Trial 50 finished with value: 0.7820184384217558 and parameters: {'max_depth': 6, 'n_estimators': 59, 'learning_rate': 0.04680490187253596, 'gamma': 0.39347778075437617, 'subsample': 0.0922258010106034}. Best is trial 42 with value: 0.7891469915215004.\u001b[0m\n",
            "\u001b[32m[I 2022-04-07 13:49:07,827]\u001b[0m Trial 51 finished with value: 0.7819015118447681 and parameters: {'max_depth': 6, 'n_estimators': 54, 'learning_rate': 0.039697860957988655, 'gamma': 0.37955724848205336, 'subsample': 0.16492620089865961}. Best is trial 42 with value: 0.7891469915215004.\u001b[0m\n",
            "\u001b[32m[I 2022-04-07 13:49:14,996]\u001b[0m Trial 52 finished with value: 0.7785665912728332 and parameters: {'max_depth': 8, 'n_estimators': 67, 'learning_rate': 0.04297810519987015, 'gamma': 0.4089537501139061, 'subsample': 0.06439264948949683}. Best is trial 42 with value: 0.7891469915215004.\u001b[0m\n",
            "\u001b[32m[I 2022-04-07 13:49:22,134]\u001b[0m Trial 53 finished with value: 0.7747705778871208 and parameters: {'max_depth': 5, 'n_estimators': 89, 'learning_rate': 0.07687497317606262, 'gamma': 0.31842042256743863, 'subsample': 0.111193429602442}. Best is trial 42 with value: 0.7891469915215004.\u001b[0m\n",
            "\u001b[32m[I 2022-04-07 13:49:26,550]\u001b[0m Trial 54 finished with value: 0.7330062299115114 and parameters: {'max_depth': 6, 'n_estimators': 38, 'learning_rate': 0.457673312039309, 'gamma': 0.473661315841607, 'subsample': 0.18940467894990376}. Best is trial 42 with value: 0.7891469915215004.\u001b[0m\n",
            "\u001b[32m[I 2022-04-07 13:49:34,369]\u001b[0m Trial 55 finished with value: 0.7431363834768462 and parameters: {'max_depth': 7, 'n_estimators': 104, 'learning_rate': 0.15423079946481336, 'gamma': 0.5666006704930955, 'subsample': 0.029679228527840162}. Best is trial 42 with value: 0.7891469915215004.\u001b[0m\n",
            "\u001b[32m[I 2022-04-07 13:49:41,611]\u001b[0m Trial 56 finished with value: 0.7244934724812507 and parameters: {'max_depth': 4, 'n_estimators': 80, 'learning_rate': 0.24486506725384555, 'gamma': 0.3882080003029852, 'subsample': 0.30946818890953787}. Best is trial 42 with value: 0.7891469915215004.\u001b[0m\n",
            "\u001b[32m[I 2022-04-07 13:49:49,431]\u001b[0m Trial 57 finished with value: 0.7822492493684112 and parameters: {'max_depth': 9, 'n_estimators': 60, 'learning_rate': 0.03083576997536837, 'gamma': 0.4924029742557326, 'subsample': 0.08998856443403937}. Best is trial 42 with value: 0.7891469915215004.\u001b[0m\n",
            "\u001b[32m[I 2022-04-07 13:49:56,583]\u001b[0m Trial 58 finished with value: 0.6965427297858551 and parameters: {'max_depth': 10, 'n_estimators': 47, 'learning_rate': 0.5672343886597118, 'gamma': 0.5146876128209059, 'subsample': 0.14318678408991536}. Best is trial 42 with value: 0.7891469915215004.\u001b[0m\n",
            "\u001b[32m[I 2022-04-07 13:50:01,998]\u001b[0m Trial 59 finished with value: 0.7725837599037075 and parameters: {'max_depth': 9, 'n_estimators': 26, 'learning_rate': 3.053955368327241e-05, 'gamma': 0.6271693787100885, 'subsample': 0.26986938567526086}. Best is trial 42 with value: 0.7891469915215004.\u001b[0m\n",
            "\u001b[32m[I 2022-04-07 13:50:14,022]\u001b[0m Trial 60 finished with value: 0.7475016864410142 and parameters: {'max_depth': 11, 'n_estimators': 63, 'learning_rate': 0.18935955102579707, 'gamma': 0.4694475637433558, 'subsample': 0.1852603207146506}. Best is trial 42 with value: 0.7891469915215004.\u001b[0m\n",
            "\u001b[32m[I 2022-04-07 13:50:20,261]\u001b[0m Trial 61 finished with value: 0.780293639141304 and parameters: {'max_depth': 5, 'n_estimators': 81, 'learning_rate': 0.03808982247746555, 'gamma': 0.33752069318701156, 'subsample': 0.08596803039160998}. Best is trial 42 with value: 0.7891469915215004.\u001b[0m\n",
            "\u001b[32m[I 2022-04-07 13:50:25,640]\u001b[0m Trial 62 finished with value: 0.7637241908389879 and parameters: {'max_depth': 9, 'n_estimators': 57, 'learning_rate': 0.0900203200723299, 'gamma': 0.2954244203728699, 'subsample': 0.03726246731152389}. Best is trial 42 with value: 0.7891469915215004.\u001b[0m\n",
            "\u001b[32m[I 2022-04-07 13:50:30,247]\u001b[0m Trial 63 finished with value: 0.783743369972091 and parameters: {'max_depth': 8, 'n_estimators': 38, 'learning_rate': 0.02888254439474715, 'gamma': 0.4075411276902348, 'subsample': 0.08560561630399607}. Best is trial 42 with value: 0.7891469915215004.\u001b[0m\n",
            "\u001b[32m[I 2022-04-07 13:50:35,628]\u001b[0m Trial 64 finished with value: 0.7855833763210455 and parameters: {'max_depth': 8, 'n_estimators': 38, 'learning_rate': 0.023718943184447366, 'gamma': 0.21992096133934858, 'subsample': 0.1355213848320754}. Best is trial 42 with value: 0.7891469915215004.\u001b[0m\n",
            "\u001b[32m[I 2022-04-07 13:50:36,002]\u001b[0m Trial 65 finished with value: 0.726098832056929 and parameters: {'max_depth': 8, 'n_estimators': 1, 'learning_rate': 0.12621202785528837, 'gamma': 0.16365529492112685, 'subsample': 0.12928739216879306}. Best is trial 42 with value: 0.7891469915215004.\u001b[0m\n",
            "\u001b[32m[I 2022-04-07 13:50:40,058]\u001b[0m Trial 66 finished with value: 0.7867301562107324 and parameters: {'max_depth': 9, 'n_estimators': 41, 'learning_rate': 0.02186785146211957, 'gamma': 0.2658787638156595, 'subsample': 0.042372331840722484}. Best is trial 42 with value: 0.7891469915215004.\u001b[0m\n",
            "\u001b[32m[I 2022-04-07 13:50:42,520]\u001b[0m Trial 67 finished with value: 0.680546274618732 and parameters: {'max_depth': 11, 'n_estimators': 41, 'learning_rate': 0.9716452793248658, 'gamma': 0.28645100249397365, 'subsample': 0.027299620772406358}. Best is trial 42 with value: 0.7891469915215004.\u001b[0m\n",
            "\u001b[32m[I 2022-04-07 13:50:44,527]\u001b[0m Trial 68 finished with value: 0.7845462481647554 and parameters: {'max_depth': 10, 'n_estimators': 17, 'learning_rate': 0.02349233204784495, 'gamma': 0.23715943238661885, 'subsample': 0.05579441323241953}. Best is trial 42 with value: 0.7891469915215004.\u001b[0m\n",
            "\u001b[32m[I 2022-04-07 13:50:45,614]\u001b[0m Trial 69 finished with value: 0.7567088607594937 and parameters: {'max_depth': 10, 'n_estimators': 17, 'learning_rate': 0.07723276954670029, 'gamma': 0.23543014527390504, 'subsample': 0.009382249475470505}. Best is trial 42 with value: 0.7891469915215004.\u001b[0m\n",
            "\u001b[32m[I 2022-04-07 13:50:48,405]\u001b[0m Trial 70 finished with value: 0.769131648215018 and parameters: {'max_depth': 10, 'n_estimators': 24, 'learning_rate': 0.14309490554274762, 'gamma': 0.27459755138322295, 'subsample': 0.05090653570207526}. Best is trial 42 with value: 0.7891469915215004.\u001b[0m\n",
            "\u001b[32m[I 2022-04-07 13:50:51,986]\u001b[0m Trial 71 finished with value: 0.6758329695911538 and parameters: {'max_depth': 9, 'n_estimators': 32, 'learning_rate': 0.9212483145463339, 'gamma': 0.21957910907304354, 'subsample': 0.09358233133254948}. Best is trial 42 with value: 0.7891469915215004.\u001b[0m\n",
            "\u001b[32m[I 2022-04-07 13:50:59,822]\u001b[0m Trial 72 finished with value: 0.7827094162930044 and parameters: {'max_depth': 12, 'n_estimators': 45, 'learning_rate': 0.025378873840338316, 'gamma': 0.332173199401453, 'subsample': 0.13127039147898778}. Best is trial 42 with value: 0.7891469915215004.\u001b[0m\n",
            "\u001b[32m[I 2022-04-07 13:51:07,224]\u001b[0m Trial 73 finished with value: 0.7819013795748846 and parameters: {'max_depth': 12, 'n_estimators': 44, 'learning_rate': 0.023717534015120483, 'gamma': 0.3234050728218695, 'subsample': 0.12326152489395699}. Best is trial 42 with value: 0.7891469915215004.\u001b[0m\n",
            "\u001b[32m[I 2022-04-07 13:51:09,358]\u001b[0m Trial 74 finished with value: 0.7690149861777973 and parameters: {'max_depth': 14, 'n_estimators': 17, 'learning_rate': 0.09715669722551856, 'gamma': 0.3551032522185419, 'subsample': 0.05134103862495287}. Best is trial 42 with value: 0.7891469915215004.\u001b[0m\n",
            "\u001b[32m[I 2022-04-07 13:51:17,360]\u001b[0m Trial 75 finished with value: 0.7762657566498683 and parameters: {'max_depth': 12, 'n_estimators': 41, 'learning_rate': 0.06575131328312028, 'gamma': 0.2595267883719762, 'subsample': 0.16067642591084763}. Best is trial 42 with value: 0.7891469915215004.\u001b[0m\n",
            "\u001b[32m[I 2022-04-07 13:51:25,728]\u001b[0m Trial 76 finished with value: 0.7745398992103488 and parameters: {'max_depth': 8, 'n_estimators': 34, 'learning_rate': 0.024215115522939954, 'gamma': 0.11881718184149324, 'subsample': 0.6819741544013286}. Best is trial 42 with value: 0.7891469915215004.\u001b[0m\n",
            "\u001b[32m[I 2022-04-07 13:51:27,950]\u001b[0m Trial 77 finished with value: 0.7715475576366018 and parameters: {'max_depth': 13, 'n_estimators': 9, 'learning_rate': 0.13454841868547956, 'gamma': 0.4162386433929335, 'subsample': 0.20582995790693398}. Best is trial 42 with value: 0.7891469915215004.\u001b[0m\n",
            "\u001b[32m[I 2022-04-07 13:51:44,243]\u001b[0m Trial 78 finished with value: 0.7430172083118395 and parameters: {'max_depth': 11, 'n_estimators': 98, 'learning_rate': 0.1831663788688785, 'gamma': 0.14834370144423042, 'subsample': 0.14449055041090314}. Best is trial 42 with value: 0.7891469915215004.\u001b[0m\n",
            "\u001b[32m[I 2022-04-07 13:52:13,793]\u001b[0m Trial 79 finished with value: 0.7575127971112258 and parameters: {'max_depth': 15, 'n_estimators': 74, 'learning_rate': 0.07382448376273994, 'gamma': 0.20099876469703312, 'subsample': 0.5850365727521929}. Best is trial 42 with value: 0.7891469915215004.\u001b[0m\n",
            "\u001b[32m[I 2022-04-07 13:52:17,121]\u001b[0m Trial 80 finished with value: 0.7810957237146675 and parameters: {'max_depth': 8, 'n_estimators': 25, 'learning_rate': 0.025071944267210572, 'gamma': 0.23923611871800518, 'subsample': 0.10476235210149562}. Best is trial 42 with value: 0.7891469915215004.\u001b[0m\n",
            "\u001b[32m[I 2022-04-07 13:52:23,489]\u001b[0m Trial 81 finished with value: 0.7819008504953506 and parameters: {'max_depth': 10, 'n_estimators': 50, 'learning_rate': 0.0005768258622445357, 'gamma': 0.4690847333185317, 'subsample': 0.08447142892144964}. Best is trial 42 with value: 0.7891469915215004.\u001b[0m\n",
            "\u001b[32m[I 2022-04-07 13:52:36,970]\u001b[0m Trial 82 finished with value: 0.7791430234249963 and parameters: {'max_depth': 9, 'n_estimators': 119, 'learning_rate': 0.024439617591874654, 'gamma': 0.5391835545167066, 'subsample': 0.06541669199356083}. Best is trial 42 with value: 0.7891469915215004.\u001b[0m\n",
            "\u001b[32m[I 2022-04-07 13:52:46,938]\u001b[0m Trial 83 finished with value: 0.7760334907344946 and parameters: {'max_depth': 10, 'n_estimators': 63, 'learning_rate': 0.06239012318017776, 'gamma': 0.3142794163375152, 'subsample': 0.1279411265973618}. Best is trial 42 with value: 0.7891469915215004.\u001b[0m\n",
            "\u001b[32m[I 2022-04-07 13:52:52,059]\u001b[0m Trial 84 finished with value: 0.7751156700130948 and parameters: {'max_depth': 7, 'n_estimators': 33, 'learning_rate': 0.09763142381113062, 'gamma': 0.3520697817713008, 'subsample': 0.24462660128718783}. Best is trial 42 with value: 0.7891469915215004.\u001b[0m\n",
            "\u001b[32m[I 2022-04-07 13:52:53,590]\u001b[0m Trial 85 finished with value: 0.7639547372458764 and parameters: {'max_depth': 9, 'n_estimators': 17, 'learning_rate': 0.11063499999668445, 'gamma': 0.44284063501334686, 'subsample': 0.02431363701994299}. Best is trial 42 with value: 0.7891469915215004.\u001b[0m\n",
            "\u001b[32m[I 2022-04-07 13:53:02,389]\u001b[0m Trial 86 finished with value: 0.781672817216248 and parameters: {'max_depth': 11, 'n_estimators': 47, 'learning_rate': 0.024524799613964823, 'gamma': 0.26487502506846033, 'subsample': 0.1667308616475254}. Best is trial 42 with value: 0.7891469915215004.\u001b[0m\n",
            "\u001b[32m[I 2022-04-07 13:53:27,587]\u001b[0m Trial 87 finished with value: 0.7672912450564132 and parameters: {'max_depth': 14, 'n_estimators': 177, 'learning_rate': 0.060917068265865154, 'gamma': 0.6245474551042087, 'subsample': 0.08605421328098582}. Best is trial 42 with value: 0.7891469915215004.\u001b[0m\n",
            "\u001b[32m[I 2022-04-07 13:53:30,050]\u001b[0m Trial 88 finished with value: 0.7653373543377907 and parameters: {'max_depth': 8, 'n_estimators': 10, 'learning_rate': 0.35753821121008167, 'gamma': 0.17674825005070952, 'subsample': 0.938011980726579}. Best is trial 42 with value: 0.7891469915215004.\u001b[0m\n",
            "\u001b[32m[I 2022-04-07 13:53:35,443]\u001b[0m Trial 89 finished with value: 0.6850304882081398 and parameters: {'max_depth': 9, 'n_estimators': 79, 'learning_rate': 0.8210920487484729, 'gamma': 0.29532820415177885, 'subsample': 0.04852424646556998}. Best is trial 42 with value: 0.7891469915215004.\u001b[0m\n",
            "\u001b[32m[I 2022-04-07 13:53:44,101]\u001b[0m Trial 90 finished with value: 0.7575112098726241 and parameters: {'max_depth': 8, 'n_estimators': 55, 'learning_rate': 0.1658133346429814, 'gamma': 0.36520354586398346, 'subsample': 0.2046324126124738}. Best is trial 42 with value: 0.7891469915215004.\u001b[0m\n",
            "\u001b[32m[I 2022-04-07 13:53:57,970]\u001b[0m Trial 91 finished with value: 0.7886897345343439 and parameters: {'max_depth': 4, 'n_estimators': 203, 'learning_rate': 0.015438825568752, 'gamma': 0.20999607678935456, 'subsample': 0.13687742512948786}. Best is trial 42 with value: 0.7891469915215004.\u001b[0m\n",
            "\u001b[32m[I 2022-04-07 13:54:11,395]\u001b[0m Trial 92 finished with value: 0.776611642395143 and parameters: {'max_depth': 4, 'n_estimators': 211, 'learning_rate': 0.026592094730928172, 'gamma': 0.2229486984064742, 'subsample': 0.1120752801016191}. Best is trial 42 with value: 0.7891469915215004.\u001b[0m\n",
            "\u001b[32m[I 2022-04-07 13:54:24,756]\u001b[0m Trial 93 finished with value: 0.7700550242715236 and parameters: {'max_depth': 4, 'n_estimators': 199, 'learning_rate': 0.056427587745904714, 'gamma': 0.20394121403074822, 'subsample': 0.14151052589139362}. Best is trial 42 with value: 0.7891469915215004.\u001b[0m\n",
            "\u001b[32m[I 2022-04-07 13:54:37,501]\u001b[0m Trial 94 finished with value: 0.7601584593203974 and parameters: {'max_depth': 3, 'n_estimators': 232, 'learning_rate': 0.08619003606389875, 'gamma': 0.036362306779290365, 'subsample': 0.17247553006100133}. Best is trial 42 with value: 0.7891469915215004.\u001b[0m\n",
            "\u001b[32m[I 2022-04-07 13:54:40,231]\u001b[0m Trial 95 finished with value: 0.7838551380236234 and parameters: {'max_depth': 4, 'n_estimators': 39, 'learning_rate': 0.016274989486403137, 'gamma': 0.415558923038828, 'subsample': 0.10136700591157476}. Best is trial 42 with value: 0.7891469915215004.\u001b[0m\n",
            "\u001b[32m[I 2022-04-07 13:54:42,622]\u001b[0m Trial 96 finished with value: 0.7843123950107801 and parameters: {'max_depth': 4, 'n_estimators': 37, 'learning_rate': 0.01038038789987736, 'gamma': 0.32755457360016077, 'subsample': 0.06192523188791732}. Best is trial 42 with value: 0.7891469915215004.\u001b[0m\n",
            "\u001b[32m[I 2022-04-07 13:54:44,114]\u001b[0m Trial 97 finished with value: 0.7385303493247622 and parameters: {'max_depth': 4, 'n_estimators': 36, 'learning_rate': 0.051763134252202365, 'gamma': 0.25298091210625245, 'subsample': 0.003358454280727577}. Best is trial 42 with value: 0.7891469915215004.\u001b[0m\n",
            "\u001b[32m[I 2022-04-07 13:54:45,309]\u001b[0m Trial 98 finished with value: 0.7672860865309576 and parameters: {'max_depth': 3, 'n_estimators': 22, 'learning_rate': 0.0013026509700019336, 'gamma': 0.11265942436053118, 'subsample': 0.039169356711570014}. Best is trial 42 with value: 0.7891469915215004.\u001b[0m\n",
            "\u001b[32m[I 2022-04-07 13:54:54,886]\u001b[0m Trial 99 finished with value: 0.7575125325714589 and parameters: {'max_depth': 5, 'n_estimators': 132, 'learning_rate': 0.11562708700055474, 'gamma': 0.4201660155904224, 'subsample': 0.07773041700564116}. Best is trial 42 with value: 0.7891469915215004.\u001b[0m\n"
          ]
        }
      ]
    },
    {
      "cell_type": "code",
      "source": [
        "study.best_params"
      ],
      "metadata": {
        "colab": {
          "base_uri": "https://localhost:8080/"
        },
        "id": "QGQ_PtYZTyeO",
        "outputId": "e78e58a9-a25e-4ed4-dfa3-8371336b20a0"
      },
      "execution_count": null,
      "outputs": [
        {
          "output_type": "execute_result",
          "data": {
            "text/plain": [
              "{'gamma': 0.052247553628855456,\n",
              " 'learning_rate': 0.04935493451934547,\n",
              " 'max_depth': 4,\n",
              " 'n_estimators': 38,\n",
              " 'subsample': 0.15830998651277145}"
            ]
          },
          "metadata": {},
          "execution_count": 64
        }
      ]
    },
    {
      "cell_type": "markdown",
      "source": [
        "### **LGBM**"
      ],
      "metadata": {
        "id": "KngFtBP8APza"
      }
    },
    {
      "cell_type": "code",
      "source": [
        "def objective(trial):\n",
        "  max_depth = trial.suggest_int(\"max_depth\", 2, 50)\n",
        "  n_estimators = trial.suggest_int(\"n_estimators\", 1, 300)\n",
        "  learning_rate = trial.suggest_uniform('learning_rate', 0.0000001, 1)\n",
        "  num_leaves = trial.suggest_int(\"num_leaves\", 2, 3000)\n",
        "  min_child_samples = trial.suggest_int('min_child_samples', 3, 200)\n",
        "  LGBM = LGBMClassifier(\n",
        "        learning_rate=learning_rate, \n",
        "        n_estimators=n_estimators, \n",
        "        max_depth=max_depth, \n",
        "        num_leaves=num_leaves, \n",
        "        min_child_samples=min_child_samples,\n",
        "        random_state=666\n",
        "     )\n",
        "    # -- Make a pipeline\n",
        "  pipeline = make_pipeline(LGBM)\n",
        "\n",
        "    # -- Cross-validate the features reduced by dimensionality reduction methods\n",
        "  kfold = StratifiedKFold(n_splits=10)\n",
        "  score = cross_val_score(pipeline, X, y, scoring='accuracy', cv=kfold)\n",
        "  score = score.mean()\n",
        "  return score\n",
        "\n",
        "\n",
        "sampler = TPESampler(seed=42) # create a seed for the sampler for reproducibility\n",
        "study = optuna.create_study(direction=\"maximize\", sampler=sampler)\n",
        "study.optimize(objective, n_trials=200)"
      ],
      "metadata": {
        "id": "KUWRDP0WuAyg"
      },
      "execution_count": null,
      "outputs": []
    },
    {
      "cell_type": "code",
      "source": [
        "study.best_params"
      ],
      "metadata": {
        "id": "kMC53rIQ_rLQ",
        "outputId": "30e27cac-4b92-4ac8-e86a-58b06800d09b",
        "colab": {
          "base_uri": "https://localhost:8080/",
          "height": 165
        }
      },
      "execution_count": null,
      "outputs": [
        {
          "output_type": "error",
          "ename": "NameError",
          "evalue": "ignored",
          "traceback": [
            "\u001b[0;31m---------------------------------------------------------------------------\u001b[0m",
            "\u001b[0;31mNameError\u001b[0m                                 Traceback (most recent call last)",
            "\u001b[0;32m<ipython-input-1-5a6cb567333e>\u001b[0m in \u001b[0;36m<module>\u001b[0;34m()\u001b[0m\n\u001b[0;32m----> 1\u001b[0;31m \u001b[0mstudy\u001b[0m\u001b[0;34m.\u001b[0m\u001b[0mbest_params\u001b[0m\u001b[0;34m\u001b[0m\u001b[0;34m\u001b[0m\u001b[0m\n\u001b[0m",
            "\u001b[0;31mNameError\u001b[0m: name 'study' is not defined"
          ]
        }
      ]
    },
    {
      "cell_type": "markdown",
      "source": [
        "### **RF**"
      ],
      "metadata": {
        "id": "vukrdTPcBeTC"
      }
    },
    {
      "cell_type": "code",
      "source": [
        "def objective(trial):\n",
        "  max_depth = trial.suggest_int(\"max_depth\", 2, 70)\n",
        "  n_estimators = trial.suggest_int(\"n_estimators\", 2, 300)\n",
        "  min_samples_leaf = trial.suggest_int(\"min_samples_leaf\", 1, 20)\n",
        "  RF = RandomForestClassifier(\n",
        "        min_samples_leaf=min_samples_leaf, \n",
        "        n_estimators=n_estimators, \n",
        "        max_depth=max_depth, \n",
        "        random_state=666\n",
        "    )\n",
        "    # -- Make a pipeline\n",
        "  pipeline = make_pipeline(RF)\n",
        "\n",
        "    # -- Cross-validate the features reduced by dimensionality reduction methods\n",
        "  kfold = StratifiedKFold(n_splits=10)\n",
        "  score = cross_val_score(pipeline, X, y, scoring='accuracy', cv=kfold)\n",
        "  score = score.mean()\n",
        "  return score\n",
        "\n",
        "\n",
        "sampler = TPESampler(seed=42) # create a seed for the sampler for reproducibility\n",
        "study = optuna.create_study(direction=\"maximize\", sampler=sampler)\n",
        "study.optimize(objective, n_trials=300)"
      ],
      "metadata": {
        "id": "gxmk30dXBddE",
        "colab": {
          "base_uri": "https://localhost:8080/",
          "height": 608
        },
        "outputId": "24f2e5a8-b5e7-4ff3-a6f9-a453be6f5f9c"
      },
      "execution_count": null,
      "outputs": [
        {
          "output_type": "stream",
          "name": "stderr",
          "text": [
            "\u001b[32m[I 2022-04-07 13:16:22,070]\u001b[0m A new study created in memory with name: no-name-2322940d-7114-4ede-9e2a-b10aa6ec968d\u001b[0m\n",
            "\u001b[32m[I 2022-04-07 13:16:32,645]\u001b[0m Trial 0 finished with value: 0.7746539158499002 and parameters: {'max_depth': 27, 'n_estimators': 286, 'min_samples_leaf': 15}. Best is trial 0 with value: 0.7746539158499002.\u001b[0m\n",
            "\u001b[32m[I 2022-04-07 13:16:35,337]\u001b[0m Trial 1 finished with value: 0.7735034324034761 and parameters: {'max_depth': 43, 'n_estimators': 48, 'min_samples_leaf': 4}. Best is trial 0 with value: 0.7746539158499002.\u001b[0m\n",
            "\u001b[32m[I 2022-04-07 13:16:40,864]\u001b[0m Trial 2 finished with value: 0.7738444241630623 and parameters: {'max_depth': 6, 'n_estimators': 260, 'min_samples_leaf': 13}. Best is trial 0 with value: 0.7746539158499002.\u001b[0m\n",
            "\u001b[32m[I 2022-04-07 13:16:41,289]\u001b[0m Trial 3 finished with value: 0.7747703133473539 and parameters: {'max_depth': 50, 'n_estimators': 8, 'min_samples_leaf': 20}. Best is trial 3 with value: 0.7747703133473539.\u001b[0m\n",
            "\u001b[32m[I 2022-04-07 13:16:44,872]\u001b[0m Trial 4 finished with value: 0.773963334788302 and parameters: {'max_depth': 59, 'n_estimators': 65, 'min_samples_leaf': 4}. Best is trial 3 with value: 0.7747703133473539.\u001b[0m\n",
            "\u001b[32m[I 2022-04-07 13:16:48,494]\u001b[0m Trial 5 finished with value: 0.7724700078039232 and parameters: {'max_depth': 14, 'n_estimators': 92, 'min_samples_leaf': 11}. Best is trial 3 with value: 0.7747703133473539.\u001b[0m\n",
            "\u001b[32m[I 2022-04-07 13:16:52,026]\u001b[0m Trial 6 finished with value: 0.7729293811092152 and parameters: {'max_depth': 31, 'n_estimators': 89, 'min_samples_leaf': 13}. Best is trial 3 with value: 0.7747703133473539.\u001b[0m\n",
            "\u001b[32m[I 2022-04-07 13:16:55,317]\u001b[0m Trial 7 finished with value: 0.7721235929791146 and parameters: {'max_depth': 11, 'n_estimators': 89, 'min_samples_leaf': 8}. Best is trial 3 with value: 0.7747703133473539.\u001b[0m\n",
            "\u001b[32m[I 2022-04-07 13:17:07,956]\u001b[0m Trial 8 finished with value: 0.7721241220586486 and parameters: {'max_depth': 33, 'n_estimators': 236, 'min_samples_leaf': 4}. Best is trial 3 with value: 0.7747703133473539.\u001b[0m\n",
            "\u001b[32m[I 2022-04-07 13:17:19,463]\u001b[0m Trial 9 finished with value: 0.7670617568085923 and parameters: {'max_depth': 37, 'n_estimators': 179, 'min_samples_leaf': 1}. Best is trial 3 with value: 0.7747703133473539.\u001b[0m\n",
            "\u001b[32m[I 2022-04-07 13:17:19,735]\u001b[0m Trial 10 finished with value: 0.7645306403185058 and parameters: {'max_depth': 68, 'n_estimators': 3, 'min_samples_leaf': 20}. Best is trial 3 with value: 0.7747703133473539.\u001b[0m\n",
            "\u001b[32m[I 2022-04-07 13:17:29,871]\u001b[0m Trial 11 finished with value: 0.7733895480338082 and parameters: {'max_depth': 50, 'n_estimators': 296, 'min_samples_leaf': 19}. Best is trial 3 with value: 0.7747703133473539.\u001b[0m\n",
            "\u001b[32m[I 2022-04-07 13:17:36,577]\u001b[0m Trial 12 finished with value: 0.7740799968255229 and parameters: {'max_depth': 20, 'n_estimators': 188, 'min_samples_leaf': 17}. Best is trial 3 with value: 0.7747703133473539.\u001b[0m\n"
          ]
        },
        {
          "output_type": "error",
          "ename": "KeyboardInterrupt",
          "evalue": "ignored",
          "traceback": [
            "\u001b[0;31m---------------------------------------------------------------------------\u001b[0m",
            "\u001b[0;31mKeyboardInterrupt\u001b[0m                         Traceback (most recent call last)",
            "\u001b[0;32m<ipython-input-41-09f60a256681>\u001b[0m in \u001b[0;36m<module>\u001b[0;34m()\u001b[0m\n\u001b[1;32m     21\u001b[0m \u001b[0msampler\u001b[0m \u001b[0;34m=\u001b[0m \u001b[0mTPESampler\u001b[0m\u001b[0;34m(\u001b[0m\u001b[0mseed\u001b[0m\u001b[0;34m=\u001b[0m\u001b[0;36m42\u001b[0m\u001b[0;34m)\u001b[0m \u001b[0;31m# create a seed for the sampler for reproducibility\u001b[0m\u001b[0;34m\u001b[0m\u001b[0;34m\u001b[0m\u001b[0m\n\u001b[1;32m     22\u001b[0m \u001b[0mstudy\u001b[0m \u001b[0;34m=\u001b[0m \u001b[0moptuna\u001b[0m\u001b[0;34m.\u001b[0m\u001b[0mcreate_study\u001b[0m\u001b[0;34m(\u001b[0m\u001b[0mdirection\u001b[0m\u001b[0;34m=\u001b[0m\u001b[0;34m\"maximize\"\u001b[0m\u001b[0;34m,\u001b[0m \u001b[0msampler\u001b[0m\u001b[0;34m=\u001b[0m\u001b[0msampler\u001b[0m\u001b[0;34m)\u001b[0m\u001b[0;34m\u001b[0m\u001b[0;34m\u001b[0m\u001b[0m\n\u001b[0;32m---> 23\u001b[0;31m \u001b[0mstudy\u001b[0m\u001b[0;34m.\u001b[0m\u001b[0moptimize\u001b[0m\u001b[0;34m(\u001b[0m\u001b[0mobjective\u001b[0m\u001b[0;34m,\u001b[0m \u001b[0mn_trials\u001b[0m\u001b[0;34m=\u001b[0m\u001b[0;36m300\u001b[0m\u001b[0;34m)\u001b[0m\u001b[0;34m\u001b[0m\u001b[0;34m\u001b[0m\u001b[0m\n\u001b[0m",
            "\u001b[0;32m/usr/local/lib/python3.7/dist-packages/optuna/study/study.py\u001b[0m in \u001b[0;36moptimize\u001b[0;34m(self, func, n_trials, timeout, n_jobs, catch, callbacks, gc_after_trial, show_progress_bar)\u001b[0m\n\u001b[1;32m    407\u001b[0m             \u001b[0mcallbacks\u001b[0m\u001b[0;34m=\u001b[0m\u001b[0mcallbacks\u001b[0m\u001b[0;34m,\u001b[0m\u001b[0;34m\u001b[0m\u001b[0;34m\u001b[0m\u001b[0m\n\u001b[1;32m    408\u001b[0m             \u001b[0mgc_after_trial\u001b[0m\u001b[0;34m=\u001b[0m\u001b[0mgc_after_trial\u001b[0m\u001b[0;34m,\u001b[0m\u001b[0;34m\u001b[0m\u001b[0;34m\u001b[0m\u001b[0m\n\u001b[0;32m--> 409\u001b[0;31m             \u001b[0mshow_progress_bar\u001b[0m\u001b[0;34m=\u001b[0m\u001b[0mshow_progress_bar\u001b[0m\u001b[0;34m,\u001b[0m\u001b[0;34m\u001b[0m\u001b[0;34m\u001b[0m\u001b[0m\n\u001b[0m\u001b[1;32m    410\u001b[0m         )\n\u001b[1;32m    411\u001b[0m \u001b[0;34m\u001b[0m\u001b[0m\n",
            "\u001b[0;32m/usr/local/lib/python3.7/dist-packages/optuna/study/_optimize.py\u001b[0m in \u001b[0;36m_optimize\u001b[0;34m(study, func, n_trials, timeout, n_jobs, catch, callbacks, gc_after_trial, show_progress_bar)\u001b[0m\n\u001b[1;32m     74\u001b[0m                 \u001b[0mreseed_sampler_rng\u001b[0m\u001b[0;34m=\u001b[0m\u001b[0;32mFalse\u001b[0m\u001b[0;34m,\u001b[0m\u001b[0;34m\u001b[0m\u001b[0;34m\u001b[0m\u001b[0m\n\u001b[1;32m     75\u001b[0m                 \u001b[0mtime_start\u001b[0m\u001b[0;34m=\u001b[0m\u001b[0;32mNone\u001b[0m\u001b[0;34m,\u001b[0m\u001b[0;34m\u001b[0m\u001b[0;34m\u001b[0m\u001b[0m\n\u001b[0;32m---> 76\u001b[0;31m                 \u001b[0mprogress_bar\u001b[0m\u001b[0;34m=\u001b[0m\u001b[0mprogress_bar\u001b[0m\u001b[0;34m,\u001b[0m\u001b[0;34m\u001b[0m\u001b[0;34m\u001b[0m\u001b[0m\n\u001b[0m\u001b[1;32m     77\u001b[0m             )\n\u001b[1;32m     78\u001b[0m         \u001b[0;32melse\u001b[0m\u001b[0;34m:\u001b[0m\u001b[0;34m\u001b[0m\u001b[0;34m\u001b[0m\u001b[0m\n",
            "\u001b[0;32m/usr/local/lib/python3.7/dist-packages/optuna/study/_optimize.py\u001b[0m in \u001b[0;36m_optimize_sequential\u001b[0;34m(study, func, n_trials, timeout, catch, callbacks, gc_after_trial, reseed_sampler_rng, time_start, progress_bar)\u001b[0m\n\u001b[1;32m    161\u001b[0m \u001b[0;34m\u001b[0m\u001b[0m\n\u001b[1;32m    162\u001b[0m         \u001b[0;32mtry\u001b[0m\u001b[0;34m:\u001b[0m\u001b[0;34m\u001b[0m\u001b[0;34m\u001b[0m\u001b[0m\n\u001b[0;32m--> 163\u001b[0;31m             \u001b[0mtrial\u001b[0m \u001b[0;34m=\u001b[0m \u001b[0m_run_trial\u001b[0m\u001b[0;34m(\u001b[0m\u001b[0mstudy\u001b[0m\u001b[0;34m,\u001b[0m \u001b[0mfunc\u001b[0m\u001b[0;34m,\u001b[0m \u001b[0mcatch\u001b[0m\u001b[0;34m)\u001b[0m\u001b[0;34m\u001b[0m\u001b[0;34m\u001b[0m\u001b[0m\n\u001b[0m\u001b[1;32m    164\u001b[0m         \u001b[0;32mexcept\u001b[0m \u001b[0mException\u001b[0m\u001b[0;34m:\u001b[0m\u001b[0;34m\u001b[0m\u001b[0;34m\u001b[0m\u001b[0m\n\u001b[1;32m    165\u001b[0m             \u001b[0;32mraise\u001b[0m\u001b[0;34m\u001b[0m\u001b[0;34m\u001b[0m\u001b[0m\n",
            "\u001b[0;32m/usr/local/lib/python3.7/dist-packages/optuna/study/_optimize.py\u001b[0m in \u001b[0;36m_run_trial\u001b[0;34m(study, func, catch)\u001b[0m\n\u001b[1;32m    211\u001b[0m \u001b[0;34m\u001b[0m\u001b[0m\n\u001b[1;32m    212\u001b[0m     \u001b[0;32mtry\u001b[0m\u001b[0;34m:\u001b[0m\u001b[0;34m\u001b[0m\u001b[0;34m\u001b[0m\u001b[0m\n\u001b[0;32m--> 213\u001b[0;31m         \u001b[0mvalue_or_values\u001b[0m \u001b[0;34m=\u001b[0m \u001b[0mfunc\u001b[0m\u001b[0;34m(\u001b[0m\u001b[0mtrial\u001b[0m\u001b[0;34m)\u001b[0m\u001b[0;34m\u001b[0m\u001b[0;34m\u001b[0m\u001b[0m\n\u001b[0m\u001b[1;32m    214\u001b[0m     \u001b[0;32mexcept\u001b[0m \u001b[0mexceptions\u001b[0m\u001b[0;34m.\u001b[0m\u001b[0mTrialPruned\u001b[0m \u001b[0;32mas\u001b[0m \u001b[0me\u001b[0m\u001b[0;34m:\u001b[0m\u001b[0;34m\u001b[0m\u001b[0;34m\u001b[0m\u001b[0m\n\u001b[1;32m    215\u001b[0m         \u001b[0;31m# TODO(mamu): Handle multi-objective cases.\u001b[0m\u001b[0;34m\u001b[0m\u001b[0;34m\u001b[0m\u001b[0;34m\u001b[0m\u001b[0m\n",
            "\u001b[0;32m<ipython-input-41-09f60a256681>\u001b[0m in \u001b[0;36mobjective\u001b[0;34m(trial)\u001b[0m\n\u001b[1;32m     14\u001b[0m     \u001b[0;31m# -- Cross-validate the features reduced by dimensionality reduction methods\u001b[0m\u001b[0;34m\u001b[0m\u001b[0;34m\u001b[0m\u001b[0;34m\u001b[0m\u001b[0m\n\u001b[1;32m     15\u001b[0m   \u001b[0mkfold\u001b[0m \u001b[0;34m=\u001b[0m \u001b[0mStratifiedKFold\u001b[0m\u001b[0;34m(\u001b[0m\u001b[0mn_splits\u001b[0m\u001b[0;34m=\u001b[0m\u001b[0;36m10\u001b[0m\u001b[0;34m)\u001b[0m\u001b[0;34m\u001b[0m\u001b[0;34m\u001b[0m\u001b[0m\n\u001b[0;32m---> 16\u001b[0;31m   \u001b[0mscore\u001b[0m \u001b[0;34m=\u001b[0m \u001b[0mcross_val_score\u001b[0m\u001b[0;34m(\u001b[0m\u001b[0mpipeline\u001b[0m\u001b[0;34m,\u001b[0m \u001b[0mX\u001b[0m\u001b[0;34m,\u001b[0m \u001b[0my\u001b[0m\u001b[0;34m,\u001b[0m \u001b[0mscoring\u001b[0m\u001b[0;34m=\u001b[0m\u001b[0;34m'accuracy'\u001b[0m\u001b[0;34m,\u001b[0m \u001b[0mcv\u001b[0m\u001b[0;34m=\u001b[0m\u001b[0mkfold\u001b[0m\u001b[0;34m)\u001b[0m\u001b[0;34m\u001b[0m\u001b[0;34m\u001b[0m\u001b[0m\n\u001b[0m\u001b[1;32m     17\u001b[0m   \u001b[0mscore\u001b[0m \u001b[0;34m=\u001b[0m \u001b[0mscore\u001b[0m\u001b[0;34m.\u001b[0m\u001b[0mmean\u001b[0m\u001b[0;34m(\u001b[0m\u001b[0;34m)\u001b[0m\u001b[0;34m\u001b[0m\u001b[0;34m\u001b[0m\u001b[0m\n\u001b[1;32m     18\u001b[0m   \u001b[0;32mreturn\u001b[0m \u001b[0mscore\u001b[0m\u001b[0;34m\u001b[0m\u001b[0;34m\u001b[0m\u001b[0m\n",
            "\u001b[0;32m/usr/local/lib/python3.7/dist-packages/sklearn/model_selection/_validation.py\u001b[0m in \u001b[0;36mcross_val_score\u001b[0;34m(estimator, X, y, groups, scoring, cv, n_jobs, verbose, fit_params, pre_dispatch, error_score)\u001b[0m\n\u001b[1;32m    518\u001b[0m         \u001b[0mfit_params\u001b[0m\u001b[0;34m=\u001b[0m\u001b[0mfit_params\u001b[0m\u001b[0;34m,\u001b[0m\u001b[0;34m\u001b[0m\u001b[0;34m\u001b[0m\u001b[0m\n\u001b[1;32m    519\u001b[0m         \u001b[0mpre_dispatch\u001b[0m\u001b[0;34m=\u001b[0m\u001b[0mpre_dispatch\u001b[0m\u001b[0;34m,\u001b[0m\u001b[0;34m\u001b[0m\u001b[0;34m\u001b[0m\u001b[0m\n\u001b[0;32m--> 520\u001b[0;31m         \u001b[0merror_score\u001b[0m\u001b[0;34m=\u001b[0m\u001b[0merror_score\u001b[0m\u001b[0;34m,\u001b[0m\u001b[0;34m\u001b[0m\u001b[0;34m\u001b[0m\u001b[0m\n\u001b[0m\u001b[1;32m    521\u001b[0m     )\n\u001b[1;32m    522\u001b[0m     \u001b[0;32mreturn\u001b[0m \u001b[0mcv_results\u001b[0m\u001b[0;34m[\u001b[0m\u001b[0;34m\"test_score\"\u001b[0m\u001b[0;34m]\u001b[0m\u001b[0;34m\u001b[0m\u001b[0;34m\u001b[0m\u001b[0m\n",
            "\u001b[0;32m/usr/local/lib/python3.7/dist-packages/sklearn/model_selection/_validation.py\u001b[0m in \u001b[0;36mcross_validate\u001b[0;34m(estimator, X, y, groups, scoring, cv, n_jobs, verbose, fit_params, pre_dispatch, return_train_score, return_estimator, error_score)\u001b[0m\n\u001b[1;32m    281\u001b[0m             \u001b[0merror_score\u001b[0m\u001b[0;34m=\u001b[0m\u001b[0merror_score\u001b[0m\u001b[0;34m,\u001b[0m\u001b[0;34m\u001b[0m\u001b[0;34m\u001b[0m\u001b[0m\n\u001b[1;32m    282\u001b[0m         )\n\u001b[0;32m--> 283\u001b[0;31m         \u001b[0;32mfor\u001b[0m \u001b[0mtrain\u001b[0m\u001b[0;34m,\u001b[0m \u001b[0mtest\u001b[0m \u001b[0;32min\u001b[0m \u001b[0mcv\u001b[0m\u001b[0;34m.\u001b[0m\u001b[0msplit\u001b[0m\u001b[0;34m(\u001b[0m\u001b[0mX\u001b[0m\u001b[0;34m,\u001b[0m \u001b[0my\u001b[0m\u001b[0;34m,\u001b[0m \u001b[0mgroups\u001b[0m\u001b[0;34m)\u001b[0m\u001b[0;34m\u001b[0m\u001b[0;34m\u001b[0m\u001b[0m\n\u001b[0m\u001b[1;32m    284\u001b[0m     )\n\u001b[1;32m    285\u001b[0m \u001b[0;34m\u001b[0m\u001b[0m\n",
            "\u001b[0;32m/usr/local/lib/python3.7/dist-packages/joblib/parallel.py\u001b[0m in \u001b[0;36m__call__\u001b[0;34m(self, iterable)\u001b[0m\n\u001b[1;32m   1044\u001b[0m                 \u001b[0mself\u001b[0m\u001b[0;34m.\u001b[0m\u001b[0m_iterating\u001b[0m \u001b[0;34m=\u001b[0m \u001b[0mself\u001b[0m\u001b[0;34m.\u001b[0m\u001b[0m_original_iterator\u001b[0m \u001b[0;32mis\u001b[0m \u001b[0;32mnot\u001b[0m \u001b[0;32mNone\u001b[0m\u001b[0;34m\u001b[0m\u001b[0;34m\u001b[0m\u001b[0m\n\u001b[1;32m   1045\u001b[0m \u001b[0;34m\u001b[0m\u001b[0m\n\u001b[0;32m-> 1046\u001b[0;31m             \u001b[0;32mwhile\u001b[0m \u001b[0mself\u001b[0m\u001b[0;34m.\u001b[0m\u001b[0mdispatch_one_batch\u001b[0m\u001b[0;34m(\u001b[0m\u001b[0miterator\u001b[0m\u001b[0;34m)\u001b[0m\u001b[0;34m:\u001b[0m\u001b[0;34m\u001b[0m\u001b[0;34m\u001b[0m\u001b[0m\n\u001b[0m\u001b[1;32m   1047\u001b[0m                 \u001b[0;32mpass\u001b[0m\u001b[0;34m\u001b[0m\u001b[0;34m\u001b[0m\u001b[0m\n\u001b[1;32m   1048\u001b[0m \u001b[0;34m\u001b[0m\u001b[0m\n",
            "\u001b[0;32m/usr/local/lib/python3.7/dist-packages/joblib/parallel.py\u001b[0m in \u001b[0;36mdispatch_one_batch\u001b[0;34m(self, iterator)\u001b[0m\n\u001b[1;32m    859\u001b[0m                 \u001b[0;32mreturn\u001b[0m \u001b[0;32mFalse\u001b[0m\u001b[0;34m\u001b[0m\u001b[0;34m\u001b[0m\u001b[0m\n\u001b[1;32m    860\u001b[0m             \u001b[0;32melse\u001b[0m\u001b[0;34m:\u001b[0m\u001b[0;34m\u001b[0m\u001b[0;34m\u001b[0m\u001b[0m\n\u001b[0;32m--> 861\u001b[0;31m                 \u001b[0mself\u001b[0m\u001b[0;34m.\u001b[0m\u001b[0m_dispatch\u001b[0m\u001b[0;34m(\u001b[0m\u001b[0mtasks\u001b[0m\u001b[0;34m)\u001b[0m\u001b[0;34m\u001b[0m\u001b[0;34m\u001b[0m\u001b[0m\n\u001b[0m\u001b[1;32m    862\u001b[0m                 \u001b[0;32mreturn\u001b[0m \u001b[0;32mTrue\u001b[0m\u001b[0;34m\u001b[0m\u001b[0;34m\u001b[0m\u001b[0m\n\u001b[1;32m    863\u001b[0m \u001b[0;34m\u001b[0m\u001b[0m\n",
            "\u001b[0;32m/usr/local/lib/python3.7/dist-packages/joblib/parallel.py\u001b[0m in \u001b[0;36m_dispatch\u001b[0;34m(self, batch)\u001b[0m\n\u001b[1;32m    777\u001b[0m         \u001b[0;32mwith\u001b[0m \u001b[0mself\u001b[0m\u001b[0;34m.\u001b[0m\u001b[0m_lock\u001b[0m\u001b[0;34m:\u001b[0m\u001b[0;34m\u001b[0m\u001b[0;34m\u001b[0m\u001b[0m\n\u001b[1;32m    778\u001b[0m             \u001b[0mjob_idx\u001b[0m \u001b[0;34m=\u001b[0m \u001b[0mlen\u001b[0m\u001b[0;34m(\u001b[0m\u001b[0mself\u001b[0m\u001b[0;34m.\u001b[0m\u001b[0m_jobs\u001b[0m\u001b[0;34m)\u001b[0m\u001b[0;34m\u001b[0m\u001b[0;34m\u001b[0m\u001b[0m\n\u001b[0;32m--> 779\u001b[0;31m             \u001b[0mjob\u001b[0m \u001b[0;34m=\u001b[0m \u001b[0mself\u001b[0m\u001b[0;34m.\u001b[0m\u001b[0m_backend\u001b[0m\u001b[0;34m.\u001b[0m\u001b[0mapply_async\u001b[0m\u001b[0;34m(\u001b[0m\u001b[0mbatch\u001b[0m\u001b[0;34m,\u001b[0m \u001b[0mcallback\u001b[0m\u001b[0;34m=\u001b[0m\u001b[0mcb\u001b[0m\u001b[0;34m)\u001b[0m\u001b[0;34m\u001b[0m\u001b[0;34m\u001b[0m\u001b[0m\n\u001b[0m\u001b[1;32m    780\u001b[0m             \u001b[0;31m# A job can complete so quickly than its callback is\u001b[0m\u001b[0;34m\u001b[0m\u001b[0;34m\u001b[0m\u001b[0;34m\u001b[0m\u001b[0m\n\u001b[1;32m    781\u001b[0m             \u001b[0;31m# called before we get here, causing self._jobs to\u001b[0m\u001b[0;34m\u001b[0m\u001b[0;34m\u001b[0m\u001b[0;34m\u001b[0m\u001b[0m\n",
            "\u001b[0;32m/usr/local/lib/python3.7/dist-packages/joblib/_parallel_backends.py\u001b[0m in \u001b[0;36mapply_async\u001b[0;34m(self, func, callback)\u001b[0m\n\u001b[1;32m    206\u001b[0m     \u001b[0;32mdef\u001b[0m \u001b[0mapply_async\u001b[0m\u001b[0;34m(\u001b[0m\u001b[0mself\u001b[0m\u001b[0;34m,\u001b[0m \u001b[0mfunc\u001b[0m\u001b[0;34m,\u001b[0m \u001b[0mcallback\u001b[0m\u001b[0;34m=\u001b[0m\u001b[0;32mNone\u001b[0m\u001b[0;34m)\u001b[0m\u001b[0;34m:\u001b[0m\u001b[0;34m\u001b[0m\u001b[0;34m\u001b[0m\u001b[0m\n\u001b[1;32m    207\u001b[0m         \u001b[0;34m\"\"\"Schedule a func to be run\"\"\"\u001b[0m\u001b[0;34m\u001b[0m\u001b[0;34m\u001b[0m\u001b[0m\n\u001b[0;32m--> 208\u001b[0;31m         \u001b[0mresult\u001b[0m \u001b[0;34m=\u001b[0m \u001b[0mImmediateResult\u001b[0m\u001b[0;34m(\u001b[0m\u001b[0mfunc\u001b[0m\u001b[0;34m)\u001b[0m\u001b[0;34m\u001b[0m\u001b[0;34m\u001b[0m\u001b[0m\n\u001b[0m\u001b[1;32m    209\u001b[0m         \u001b[0;32mif\u001b[0m \u001b[0mcallback\u001b[0m\u001b[0;34m:\u001b[0m\u001b[0;34m\u001b[0m\u001b[0;34m\u001b[0m\u001b[0m\n\u001b[1;32m    210\u001b[0m             \u001b[0mcallback\u001b[0m\u001b[0;34m(\u001b[0m\u001b[0mresult\u001b[0m\u001b[0;34m)\u001b[0m\u001b[0;34m\u001b[0m\u001b[0;34m\u001b[0m\u001b[0m\n",
            "\u001b[0;32m/usr/local/lib/python3.7/dist-packages/joblib/_parallel_backends.py\u001b[0m in \u001b[0;36m__init__\u001b[0;34m(self, batch)\u001b[0m\n\u001b[1;32m    570\u001b[0m         \u001b[0;31m# Don't delay the application, to avoid keeping the input\u001b[0m\u001b[0;34m\u001b[0m\u001b[0;34m\u001b[0m\u001b[0;34m\u001b[0m\u001b[0m\n\u001b[1;32m    571\u001b[0m         \u001b[0;31m# arguments in memory\u001b[0m\u001b[0;34m\u001b[0m\u001b[0;34m\u001b[0m\u001b[0;34m\u001b[0m\u001b[0m\n\u001b[0;32m--> 572\u001b[0;31m         \u001b[0mself\u001b[0m\u001b[0;34m.\u001b[0m\u001b[0mresults\u001b[0m \u001b[0;34m=\u001b[0m \u001b[0mbatch\u001b[0m\u001b[0;34m(\u001b[0m\u001b[0;34m)\u001b[0m\u001b[0;34m\u001b[0m\u001b[0;34m\u001b[0m\u001b[0m\n\u001b[0m\u001b[1;32m    573\u001b[0m \u001b[0;34m\u001b[0m\u001b[0m\n\u001b[1;32m    574\u001b[0m     \u001b[0;32mdef\u001b[0m \u001b[0mget\u001b[0m\u001b[0;34m(\u001b[0m\u001b[0mself\u001b[0m\u001b[0;34m)\u001b[0m\u001b[0;34m:\u001b[0m\u001b[0;34m\u001b[0m\u001b[0;34m\u001b[0m\u001b[0m\n",
            "\u001b[0;32m/usr/local/lib/python3.7/dist-packages/joblib/parallel.py\u001b[0m in \u001b[0;36m__call__\u001b[0;34m(self)\u001b[0m\n\u001b[1;32m    261\u001b[0m         \u001b[0;32mwith\u001b[0m \u001b[0mparallel_backend\u001b[0m\u001b[0;34m(\u001b[0m\u001b[0mself\u001b[0m\u001b[0;34m.\u001b[0m\u001b[0m_backend\u001b[0m\u001b[0;34m,\u001b[0m \u001b[0mn_jobs\u001b[0m\u001b[0;34m=\u001b[0m\u001b[0mself\u001b[0m\u001b[0;34m.\u001b[0m\u001b[0m_n_jobs\u001b[0m\u001b[0;34m)\u001b[0m\u001b[0;34m:\u001b[0m\u001b[0;34m\u001b[0m\u001b[0;34m\u001b[0m\u001b[0m\n\u001b[1;32m    262\u001b[0m             return [func(*args, **kwargs)\n\u001b[0;32m--> 263\u001b[0;31m                     for func, args, kwargs in self.items]\n\u001b[0m\u001b[1;32m    264\u001b[0m \u001b[0;34m\u001b[0m\u001b[0m\n\u001b[1;32m    265\u001b[0m     \u001b[0;32mdef\u001b[0m \u001b[0m__reduce__\u001b[0m\u001b[0;34m(\u001b[0m\u001b[0mself\u001b[0m\u001b[0;34m)\u001b[0m\u001b[0;34m:\u001b[0m\u001b[0;34m\u001b[0m\u001b[0;34m\u001b[0m\u001b[0m\n",
            "\u001b[0;32m/usr/local/lib/python3.7/dist-packages/joblib/parallel.py\u001b[0m in \u001b[0;36m<listcomp>\u001b[0;34m(.0)\u001b[0m\n\u001b[1;32m    261\u001b[0m         \u001b[0;32mwith\u001b[0m \u001b[0mparallel_backend\u001b[0m\u001b[0;34m(\u001b[0m\u001b[0mself\u001b[0m\u001b[0;34m.\u001b[0m\u001b[0m_backend\u001b[0m\u001b[0;34m,\u001b[0m \u001b[0mn_jobs\u001b[0m\u001b[0;34m=\u001b[0m\u001b[0mself\u001b[0m\u001b[0;34m.\u001b[0m\u001b[0m_n_jobs\u001b[0m\u001b[0;34m)\u001b[0m\u001b[0;34m:\u001b[0m\u001b[0;34m\u001b[0m\u001b[0;34m\u001b[0m\u001b[0m\n\u001b[1;32m    262\u001b[0m             return [func(*args, **kwargs)\n\u001b[0;32m--> 263\u001b[0;31m                     for func, args, kwargs in self.items]\n\u001b[0m\u001b[1;32m    264\u001b[0m \u001b[0;34m\u001b[0m\u001b[0m\n\u001b[1;32m    265\u001b[0m     \u001b[0;32mdef\u001b[0m \u001b[0m__reduce__\u001b[0m\u001b[0;34m(\u001b[0m\u001b[0mself\u001b[0m\u001b[0;34m)\u001b[0m\u001b[0;34m:\u001b[0m\u001b[0;34m\u001b[0m\u001b[0;34m\u001b[0m\u001b[0m\n",
            "\u001b[0;32m/usr/local/lib/python3.7/dist-packages/sklearn/utils/fixes.py\u001b[0m in \u001b[0;36m__call__\u001b[0;34m(self, *args, **kwargs)\u001b[0m\n\u001b[1;32m    214\u001b[0m     \u001b[0;32mdef\u001b[0m \u001b[0m__call__\u001b[0m\u001b[0;34m(\u001b[0m\u001b[0mself\u001b[0m\u001b[0;34m,\u001b[0m \u001b[0;34m*\u001b[0m\u001b[0margs\u001b[0m\u001b[0;34m,\u001b[0m \u001b[0;34m**\u001b[0m\u001b[0mkwargs\u001b[0m\u001b[0;34m)\u001b[0m\u001b[0;34m:\u001b[0m\u001b[0;34m\u001b[0m\u001b[0;34m\u001b[0m\u001b[0m\n\u001b[1;32m    215\u001b[0m         \u001b[0;32mwith\u001b[0m \u001b[0mconfig_context\u001b[0m\u001b[0;34m(\u001b[0m\u001b[0;34m**\u001b[0m\u001b[0mself\u001b[0m\u001b[0;34m.\u001b[0m\u001b[0mconfig\u001b[0m\u001b[0;34m)\u001b[0m\u001b[0;34m:\u001b[0m\u001b[0;34m\u001b[0m\u001b[0;34m\u001b[0m\u001b[0m\n\u001b[0;32m--> 216\u001b[0;31m             \u001b[0;32mreturn\u001b[0m \u001b[0mself\u001b[0m\u001b[0;34m.\u001b[0m\u001b[0mfunction\u001b[0m\u001b[0;34m(\u001b[0m\u001b[0;34m*\u001b[0m\u001b[0margs\u001b[0m\u001b[0;34m,\u001b[0m \u001b[0;34m**\u001b[0m\u001b[0mkwargs\u001b[0m\u001b[0;34m)\u001b[0m\u001b[0;34m\u001b[0m\u001b[0;34m\u001b[0m\u001b[0m\n\u001b[0m\u001b[1;32m    217\u001b[0m \u001b[0;34m\u001b[0m\u001b[0m\n\u001b[1;32m    218\u001b[0m \u001b[0;34m\u001b[0m\u001b[0m\n",
            "\u001b[0;32m/usr/local/lib/python3.7/dist-packages/sklearn/model_selection/_validation.py\u001b[0m in \u001b[0;36m_fit_and_score\u001b[0;34m(estimator, X, y, scorer, train, test, verbose, parameters, fit_params, return_train_score, return_parameters, return_n_test_samples, return_times, return_estimator, split_progress, candidate_progress, error_score)\u001b[0m\n\u001b[1;32m    678\u001b[0m             \u001b[0mestimator\u001b[0m\u001b[0;34m.\u001b[0m\u001b[0mfit\u001b[0m\u001b[0;34m(\u001b[0m\u001b[0mX_train\u001b[0m\u001b[0;34m,\u001b[0m \u001b[0;34m**\u001b[0m\u001b[0mfit_params\u001b[0m\u001b[0;34m)\u001b[0m\u001b[0;34m\u001b[0m\u001b[0;34m\u001b[0m\u001b[0m\n\u001b[1;32m    679\u001b[0m         \u001b[0;32melse\u001b[0m\u001b[0;34m:\u001b[0m\u001b[0;34m\u001b[0m\u001b[0;34m\u001b[0m\u001b[0m\n\u001b[0;32m--> 680\u001b[0;31m             \u001b[0mestimator\u001b[0m\u001b[0;34m.\u001b[0m\u001b[0mfit\u001b[0m\u001b[0;34m(\u001b[0m\u001b[0mX_train\u001b[0m\u001b[0;34m,\u001b[0m \u001b[0my_train\u001b[0m\u001b[0;34m,\u001b[0m \u001b[0;34m**\u001b[0m\u001b[0mfit_params\u001b[0m\u001b[0;34m)\u001b[0m\u001b[0;34m\u001b[0m\u001b[0;34m\u001b[0m\u001b[0m\n\u001b[0m\u001b[1;32m    681\u001b[0m \u001b[0;34m\u001b[0m\u001b[0m\n\u001b[1;32m    682\u001b[0m     \u001b[0;32mexcept\u001b[0m \u001b[0mException\u001b[0m\u001b[0;34m:\u001b[0m\u001b[0;34m\u001b[0m\u001b[0;34m\u001b[0m\u001b[0m\n",
            "\u001b[0;32m/usr/local/lib/python3.7/dist-packages/sklearn/pipeline.py\u001b[0m in \u001b[0;36mfit\u001b[0;34m(self, X, y, **fit_params)\u001b[0m\n\u001b[1;32m    392\u001b[0m             \u001b[0;32mif\u001b[0m \u001b[0mself\u001b[0m\u001b[0;34m.\u001b[0m\u001b[0m_final_estimator\u001b[0m \u001b[0;34m!=\u001b[0m \u001b[0;34m\"passthrough\"\u001b[0m\u001b[0;34m:\u001b[0m\u001b[0;34m\u001b[0m\u001b[0;34m\u001b[0m\u001b[0m\n\u001b[1;32m    393\u001b[0m                 \u001b[0mfit_params_last_step\u001b[0m \u001b[0;34m=\u001b[0m \u001b[0mfit_params_steps\u001b[0m\u001b[0;34m[\u001b[0m\u001b[0mself\u001b[0m\u001b[0;34m.\u001b[0m\u001b[0msteps\u001b[0m\u001b[0;34m[\u001b[0m\u001b[0;34m-\u001b[0m\u001b[0;36m1\u001b[0m\u001b[0;34m]\u001b[0m\u001b[0;34m[\u001b[0m\u001b[0;36m0\u001b[0m\u001b[0;34m]\u001b[0m\u001b[0;34m]\u001b[0m\u001b[0;34m\u001b[0m\u001b[0;34m\u001b[0m\u001b[0m\n\u001b[0;32m--> 394\u001b[0;31m                 \u001b[0mself\u001b[0m\u001b[0;34m.\u001b[0m\u001b[0m_final_estimator\u001b[0m\u001b[0;34m.\u001b[0m\u001b[0mfit\u001b[0m\u001b[0;34m(\u001b[0m\u001b[0mXt\u001b[0m\u001b[0;34m,\u001b[0m \u001b[0my\u001b[0m\u001b[0;34m,\u001b[0m \u001b[0;34m**\u001b[0m\u001b[0mfit_params_last_step\u001b[0m\u001b[0;34m)\u001b[0m\u001b[0;34m\u001b[0m\u001b[0;34m\u001b[0m\u001b[0m\n\u001b[0m\u001b[1;32m    395\u001b[0m \u001b[0;34m\u001b[0m\u001b[0m\n\u001b[1;32m    396\u001b[0m         \u001b[0;32mreturn\u001b[0m \u001b[0mself\u001b[0m\u001b[0;34m\u001b[0m\u001b[0;34m\u001b[0m\u001b[0m\n",
            "\u001b[0;32m/usr/local/lib/python3.7/dist-packages/daal4py/sklearn/_device_offload.py\u001b[0m in \u001b[0;36mwrapper_with_self\u001b[0;34m(self, *args, **kwargs)\u001b[0m\n\u001b[1;32m     86\u001b[0m         \u001b[0;34m@\u001b[0m\u001b[0mwraps\u001b[0m\u001b[0;34m(\u001b[0m\u001b[0mfunc\u001b[0m\u001b[0;34m)\u001b[0m\u001b[0;34m\u001b[0m\u001b[0;34m\u001b[0m\u001b[0m\n\u001b[1;32m     87\u001b[0m         \u001b[0;32mdef\u001b[0m \u001b[0mwrapper_with_self\u001b[0m\u001b[0;34m(\u001b[0m\u001b[0mself\u001b[0m\u001b[0;34m,\u001b[0m \u001b[0;34m*\u001b[0m\u001b[0margs\u001b[0m\u001b[0;34m,\u001b[0m \u001b[0;34m**\u001b[0m\u001b[0mkwargs\u001b[0m\u001b[0;34m)\u001b[0m\u001b[0;34m:\u001b[0m\u001b[0;34m\u001b[0m\u001b[0;34m\u001b[0m\u001b[0m\n\u001b[0;32m---> 88\u001b[0;31m             \u001b[0;32mreturn\u001b[0m \u001b[0mwrapper_impl\u001b[0m\u001b[0;34m(\u001b[0m\u001b[0mself\u001b[0m\u001b[0;34m,\u001b[0m \u001b[0;34m*\u001b[0m\u001b[0margs\u001b[0m\u001b[0;34m,\u001b[0m \u001b[0;34m**\u001b[0m\u001b[0mkwargs\u001b[0m\u001b[0;34m)\u001b[0m\u001b[0;34m\u001b[0m\u001b[0;34m\u001b[0m\u001b[0m\n\u001b[0m\u001b[1;32m     89\u001b[0m         \u001b[0;32mreturn\u001b[0m \u001b[0mwrapper_with_self\u001b[0m\u001b[0;34m\u001b[0m\u001b[0;34m\u001b[0m\u001b[0m\n\u001b[1;32m     90\u001b[0m     \u001b[0;32mreturn\u001b[0m \u001b[0mdecorator\u001b[0m\u001b[0;34m\u001b[0m\u001b[0;34m\u001b[0m\u001b[0m\n",
            "\u001b[0;32m/usr/local/lib/python3.7/dist-packages/daal4py/sklearn/_device_offload.py\u001b[0m in \u001b[0;36mwrapper_impl\u001b[0;34m(obj, *args, **kwargs)\u001b[0m\n\u001b[1;32m     72\u001b[0m                 \u001b[0musm_iface\u001b[0m \u001b[0;34m=\u001b[0m \u001b[0m_extract_usm_iface\u001b[0m\u001b[0;34m(\u001b[0m\u001b[0;34m*\u001b[0m\u001b[0margs\u001b[0m\u001b[0;34m,\u001b[0m \u001b[0;34m**\u001b[0m\u001b[0mkwargs\u001b[0m\u001b[0;34m)\u001b[0m\u001b[0;34m\u001b[0m\u001b[0;34m\u001b[0m\u001b[0m\n\u001b[1;32m     73\u001b[0m                 \u001b[0mq\u001b[0m\u001b[0;34m,\u001b[0m \u001b[0mhostargs\u001b[0m\u001b[0;34m,\u001b[0m \u001b[0mhostkwargs\u001b[0m \u001b[0;34m=\u001b[0m \u001b[0m_get_host_inputs\u001b[0m\u001b[0;34m(\u001b[0m\u001b[0;34m*\u001b[0m\u001b[0margs\u001b[0m\u001b[0;34m,\u001b[0m \u001b[0;34m**\u001b[0m\u001b[0mkwargs\u001b[0m\u001b[0;34m)\u001b[0m\u001b[0;34m\u001b[0m\u001b[0;34m\u001b[0m\u001b[0m\n\u001b[0;32m---> 74\u001b[0;31m                 \u001b[0mresult\u001b[0m \u001b[0;34m=\u001b[0m \u001b[0m_run_on_device\u001b[0m\u001b[0;34m(\u001b[0m\u001b[0mfunc\u001b[0m\u001b[0;34m,\u001b[0m \u001b[0mq\u001b[0m\u001b[0;34m,\u001b[0m \u001b[0mobj\u001b[0m\u001b[0;34m,\u001b[0m \u001b[0;34m*\u001b[0m\u001b[0mhostargs\u001b[0m\u001b[0;34m,\u001b[0m \u001b[0;34m**\u001b[0m\u001b[0mhostkwargs\u001b[0m\u001b[0;34m)\u001b[0m\u001b[0;34m\u001b[0m\u001b[0;34m\u001b[0m\u001b[0m\n\u001b[0m\u001b[1;32m     75\u001b[0m                 \u001b[0;32mif\u001b[0m \u001b[0musm_iface\u001b[0m \u001b[0;32mis\u001b[0m \u001b[0;32mnot\u001b[0m \u001b[0;32mNone\u001b[0m \u001b[0;32mand\u001b[0m \u001b[0mhasattr\u001b[0m\u001b[0;34m(\u001b[0m\u001b[0mresult\u001b[0m\u001b[0;34m,\u001b[0m \u001b[0;34m'__array_interface__'\u001b[0m\u001b[0;34m)\u001b[0m\u001b[0;34m:\u001b[0m\u001b[0;34m\u001b[0m\u001b[0;34m\u001b[0m\u001b[0m\n\u001b[1;32m     76\u001b[0m                     \u001b[0;32mreturn\u001b[0m \u001b[0m_copy_to_usm\u001b[0m\u001b[0;34m(\u001b[0m\u001b[0mq\u001b[0m\u001b[0;34m,\u001b[0m \u001b[0mresult\u001b[0m\u001b[0;34m)\u001b[0m\u001b[0;34m\u001b[0m\u001b[0;34m\u001b[0m\u001b[0m\n",
            "\u001b[0;32m/usr/local/lib/python3.7/dist-packages/daal4py/sklearn/_device_offload.py\u001b[0m in \u001b[0;36m_run_on_device\u001b[0;34m(func, queue, obj, *args, **kwargs)\u001b[0m\n\u001b[1;32m     63\u001b[0m                               host_offload_on_fail=host_offload):\n\u001b[1;32m     64\u001b[0m                 \u001b[0;32mreturn\u001b[0m \u001b[0mdispatch_by_obj\u001b[0m\u001b[0;34m(\u001b[0m\u001b[0mobj\u001b[0m\u001b[0;34m,\u001b[0m \u001b[0mfunc\u001b[0m\u001b[0;34m,\u001b[0m \u001b[0;34m*\u001b[0m\u001b[0margs\u001b[0m\u001b[0;34m,\u001b[0m \u001b[0;34m**\u001b[0m\u001b[0mkwargs\u001b[0m\u001b[0;34m)\u001b[0m\u001b[0;34m\u001b[0m\u001b[0;34m\u001b[0m\u001b[0m\n\u001b[0;32m---> 65\u001b[0;31m     \u001b[0;32mreturn\u001b[0m \u001b[0mdispatch_by_obj\u001b[0m\u001b[0;34m(\u001b[0m\u001b[0mobj\u001b[0m\u001b[0;34m,\u001b[0m \u001b[0mfunc\u001b[0m\u001b[0;34m,\u001b[0m \u001b[0;34m*\u001b[0m\u001b[0margs\u001b[0m\u001b[0;34m,\u001b[0m \u001b[0;34m**\u001b[0m\u001b[0mkwargs\u001b[0m\u001b[0;34m)\u001b[0m\u001b[0;34m\u001b[0m\u001b[0;34m\u001b[0m\u001b[0m\n\u001b[0m\u001b[1;32m     66\u001b[0m \u001b[0;34m\u001b[0m\u001b[0m\n\u001b[1;32m     67\u001b[0m \u001b[0;34m\u001b[0m\u001b[0m\n",
            "\u001b[0;32m/usr/local/lib/python3.7/dist-packages/daal4py/sklearn/_device_offload.py\u001b[0m in \u001b[0;36mdispatch_by_obj\u001b[0;34m(obj, func, *args, **kwargs)\u001b[0m\n\u001b[1;32m     51\u001b[0m     \u001b[0;32mdef\u001b[0m \u001b[0mdispatch_by_obj\u001b[0m\u001b[0;34m(\u001b[0m\u001b[0mobj\u001b[0m\u001b[0;34m,\u001b[0m \u001b[0mfunc\u001b[0m\u001b[0;34m,\u001b[0m \u001b[0;34m*\u001b[0m\u001b[0margs\u001b[0m\u001b[0;34m,\u001b[0m \u001b[0;34m**\u001b[0m\u001b[0mkwargs\u001b[0m\u001b[0;34m)\u001b[0m\u001b[0;34m:\u001b[0m\u001b[0;34m\u001b[0m\u001b[0;34m\u001b[0m\u001b[0m\n\u001b[1;32m     52\u001b[0m         \u001b[0;32mif\u001b[0m \u001b[0mobj\u001b[0m \u001b[0;32mis\u001b[0m \u001b[0;32mnot\u001b[0m \u001b[0;32mNone\u001b[0m\u001b[0;34m:\u001b[0m\u001b[0;34m\u001b[0m\u001b[0;34m\u001b[0m\u001b[0m\n\u001b[0;32m---> 53\u001b[0;31m             \u001b[0;32mreturn\u001b[0m \u001b[0mfunc\u001b[0m\u001b[0;34m(\u001b[0m\u001b[0mobj\u001b[0m\u001b[0;34m,\u001b[0m \u001b[0;34m*\u001b[0m\u001b[0margs\u001b[0m\u001b[0;34m,\u001b[0m \u001b[0;34m**\u001b[0m\u001b[0mkwargs\u001b[0m\u001b[0;34m)\u001b[0m\u001b[0;34m\u001b[0m\u001b[0;34m\u001b[0m\u001b[0m\n\u001b[0m\u001b[1;32m     54\u001b[0m         \u001b[0;32mreturn\u001b[0m \u001b[0mfunc\u001b[0m\u001b[0;34m(\u001b[0m\u001b[0;34m*\u001b[0m\u001b[0margs\u001b[0m\u001b[0;34m,\u001b[0m \u001b[0;34m**\u001b[0m\u001b[0mkwargs\u001b[0m\u001b[0;34m)\u001b[0m\u001b[0;34m\u001b[0m\u001b[0;34m\u001b[0m\u001b[0m\n\u001b[1;32m     55\u001b[0m \u001b[0;34m\u001b[0m\u001b[0m\n",
            "\u001b[0;32m/usr/local/lib/python3.7/dist-packages/daal4py/sklearn/ensemble/_forest.py\u001b[0m in \u001b[0;36mfit\u001b[0;34m(self, X, y, sample_weight)\u001b[0m\n\u001b[1;32m    666\u001b[0m         \u001b[0mself\u001b[0m \u001b[0;34m:\u001b[0m \u001b[0mobject\u001b[0m\u001b[0;34m\u001b[0m\u001b[0;34m\u001b[0m\u001b[0m\n\u001b[1;32m    667\u001b[0m         \"\"\"\n\u001b[0;32m--> 668\u001b[0;31m         \u001b[0;32mreturn\u001b[0m \u001b[0m_fit_classifier\u001b[0m\u001b[0;34m(\u001b[0m\u001b[0mself\u001b[0m\u001b[0;34m,\u001b[0m \u001b[0mX\u001b[0m\u001b[0;34m,\u001b[0m \u001b[0my\u001b[0m\u001b[0;34m,\u001b[0m \u001b[0msample_weight\u001b[0m\u001b[0;34m=\u001b[0m\u001b[0msample_weight\u001b[0m\u001b[0;34m)\u001b[0m\u001b[0;34m\u001b[0m\u001b[0;34m\u001b[0m\u001b[0m\n\u001b[0m\u001b[1;32m    669\u001b[0m \u001b[0;34m\u001b[0m\u001b[0m\n\u001b[1;32m    670\u001b[0m     \u001b[0;34m@\u001b[0m\u001b[0msupport_usm_ndarray\u001b[0m\u001b[0;34m(\u001b[0m\u001b[0;34m)\u001b[0m\u001b[0;34m\u001b[0m\u001b[0;34m\u001b[0m\u001b[0m\n",
            "\u001b[0;32m/usr/local/lib/python3.7/dist-packages/daal4py/sklearn/ensemble/_forest.py\u001b[0m in \u001b[0;36m_fit_classifier\u001b[0;34m(self, X, y, sample_weight)\u001b[0m\n\u001b[1;32m    340\u001b[0m     \u001b[0m_patching_status\u001b[0m\u001b[0;34m.\u001b[0m\u001b[0mwrite_log\u001b[0m\u001b[0;34m(\u001b[0m\u001b[0;34m)\u001b[0m\u001b[0;34m\u001b[0m\u001b[0;34m\u001b[0m\u001b[0m\n\u001b[1;32m    341\u001b[0m     \u001b[0;32mif\u001b[0m \u001b[0m_dal_ready\u001b[0m\u001b[0;34m:\u001b[0m\u001b[0;34m\u001b[0m\u001b[0;34m\u001b[0m\u001b[0m\n\u001b[0;32m--> 342\u001b[0;31m         \u001b[0m_daal_fit_classifier\u001b[0m\u001b[0;34m(\u001b[0m\u001b[0mself\u001b[0m\u001b[0;34m,\u001b[0m \u001b[0mX\u001b[0m\u001b[0;34m,\u001b[0m \u001b[0my\u001b[0m\u001b[0;34m,\u001b[0m \u001b[0msample_weight\u001b[0m\u001b[0;34m=\u001b[0m\u001b[0msample_weight\u001b[0m\u001b[0;34m)\u001b[0m\u001b[0;34m\u001b[0m\u001b[0;34m\u001b[0m\u001b[0m\n\u001b[0m\u001b[1;32m    343\u001b[0m \u001b[0;34m\u001b[0m\u001b[0m\n\u001b[1;32m    344\u001b[0m         \u001b[0mself\u001b[0m\u001b[0;34m.\u001b[0m\u001b[0mestimators_\u001b[0m \u001b[0;34m=\u001b[0m \u001b[0mself\u001b[0m\u001b[0;34m.\u001b[0m\u001b[0m_estimators_\u001b[0m\u001b[0;34m\u001b[0m\u001b[0;34m\u001b[0m\u001b[0m\n",
            "\u001b[0;32m/usr/local/lib/python3.7/dist-packages/daal4py/sklearn/ensemble/_forest.py\u001b[0m in \u001b[0;36m_daal_fit_classifier\u001b[0;34m(self, X, y, sample_weight)\u001b[0m\n\u001b[1;32m    242\u001b[0m     \u001b[0mself\u001b[0m\u001b[0;34m.\u001b[0m\u001b[0m_cached_estimators_\u001b[0m \u001b[0;34m=\u001b[0m \u001b[0;32mNone\u001b[0m\u001b[0;34m\u001b[0m\u001b[0;34m\u001b[0m\u001b[0m\n\u001b[1;32m    243\u001b[0m     \u001b[0;31m# compute\u001b[0m\u001b[0;34m\u001b[0m\u001b[0;34m\u001b[0m\u001b[0;34m\u001b[0m\u001b[0m\n\u001b[0;32m--> 244\u001b[0;31m     \u001b[0mdfc_trainingResult\u001b[0m \u001b[0;34m=\u001b[0m \u001b[0mdfc_algorithm\u001b[0m\u001b[0;34m.\u001b[0m\u001b[0mcompute\u001b[0m\u001b[0;34m(\u001b[0m\u001b[0mX\u001b[0m\u001b[0;34m,\u001b[0m \u001b[0my\u001b[0m\u001b[0;34m,\u001b[0m \u001b[0msample_weight\u001b[0m\u001b[0;34m)\u001b[0m\u001b[0;34m\u001b[0m\u001b[0;34m\u001b[0m\u001b[0m\n\u001b[0m\u001b[1;32m    245\u001b[0m \u001b[0;34m\u001b[0m\u001b[0m\n\u001b[1;32m    246\u001b[0m     \u001b[0;31m# get resulting model\u001b[0m\u001b[0;34m\u001b[0m\u001b[0;34m\u001b[0m\u001b[0;34m\u001b[0m\u001b[0m\n",
            "\u001b[0;31mKeyboardInterrupt\u001b[0m: "
          ]
        }
      ]
    },
    {
      "cell_type": "code",
      "source": [
        "study.best_params"
      ],
      "metadata": {
        "colab": {
          "base_uri": "https://localhost:8080/"
        },
        "id": "qPSuyf-bJnc8",
        "outputId": "e14c177e-cea4-4373-ce3a-ad690d363495"
      },
      "execution_count": null,
      "outputs": [
        {
          "output_type": "execute_result",
          "data": {
            "text/plain": [
              "{'max_depth': 30, 'min_samples_leaf': 9, 'n_estimators': 193}"
            ]
          },
          "metadata": {},
          "execution_count": 37
        }
      ]
    },
    {
      "cell_type": "code",
      "source": [
        ""
      ],
      "metadata": {
        "id": "jhVYd-4wMapy"
      },
      "execution_count": null,
      "outputs": []
    },
    {
      "cell_type": "markdown",
      "source": [
        "### **ET**"
      ],
      "metadata": {
        "id": "5Mjkvp8TNKRO"
      }
    },
    {
      "cell_type": "code",
      "source": [
        "from sklearn import svm"
      ],
      "metadata": {
        "id": "siDIuBXQWtuz"
      },
      "execution_count": null,
      "outputs": []
    },
    {
      "cell_type": "code",
      "source": [
        "def objective(trial):\n",
        "\n",
        "   c = trial.suggest_float('svc_c', 1e-10, 1e10, log=True)\n",
        "   SVR_model = svm.SVC(C=c, gamma='auto', random_state=0)\n",
        "\n",
        "   pipeline = make_pipeline(SVR_model)\n",
        "\n",
        "   kfold = StratifiedKFold(n_splits=10)\n",
        "\n",
        "   score = cross_val_score(pipeline, X, y, scoring='accuracy', cv=kfold)\n",
        "   score = score.mean()\n",
        "   return score\n",
        "\n",
        "\n",
        "sampler = TPESampler(seed=42) # create a seed for the sampler for reproducibility\n",
        "study = optuna.create_study(direction=\"maximize\", sampler=sampler)\n",
        "study.optimize(objective, n_trials=300)"
      ],
      "metadata": {
        "colab": {
          "base_uri": "https://localhost:8080/"
        },
        "id": "7TrapaxKNJCH",
        "outputId": "0187cc65-2323-435a-cced-689ecc54d08c"
      },
      "execution_count": null,
      "outputs": [
        {
          "metadata": {
            "tags": null
          },
          "name": "stderr",
          "output_type": "stream",
          "text": [
            "\u001b[32m[I 2022-04-07 14:10:50,621]\u001b[0m A new study created in memory with name: no-name-f1997ff8-eadd-44f3-8ebe-c2a6ac87ed0b\u001b[0m\n",
            "\u001b[32m[I 2022-04-07 14:11:05,017]\u001b[0m Trial 0 finished with value: 0.7457738449532425 and parameters: {'svc_c': 0.0030960101581081526}. Best is trial 0 with value: 0.7457738449532425.\u001b[0m\n"
          ]
        }
      ]
    },
    {
      "cell_type": "markdown",
      "source": [
        "### **BEST PARAMS**"
      ],
      "metadata": {
        "id": "MxQ3EYB3A_A6"
      }
    },
    {
      "cell_type": "code",
      "source": [
        "KNN_param = {'metric': 'manhattan', 'n_neighbors': 70, 'weights': 'distance'}\n",
        "\n",
        "XGB_param = {'gamma': 0.052247553628855456,'learning_rate': 0.04935493451934547,'max_depth': 4,'n_estimators': 38, 'subsample': 0.15830998651277145}\n",
        "\n",
        "LGBM_param = {'learning_rate': 0.09484585697022896,'max_depth': 38,'min_child_samples': 200,'n_estimators': 18,'num_leaves': 540}\n",
        "\n",
        "MLP_params =  {'activation': 'relu', 'alpha': 0.0001, 'hidden_layer_sizes': (10, 30, 10), 'learning_rate': 'constant', 'solver': 'adam'}"
      ],
      "metadata": {
        "id": "UAfzqghem4Aa"
      },
      "execution_count": null,
      "outputs": []
    },
    {
      "cell_type": "code",
      "source": [
        ""
      ],
      "metadata": {
        "id": "yB_p1j8aaCAK"
      },
      "execution_count": null,
      "outputs": []
    },
    {
      "cell_type": "code",
      "source": [
        ""
      ],
      "metadata": {
        "id": "TpJqPmRYaCF-"
      },
      "execution_count": null,
      "outputs": []
    },
    {
      "cell_type": "code",
      "source": [
        "from sklearn.neural_network import MLPClassifier"
      ],
      "metadata": {
        "id": "jsA2TJDoNUrj"
      },
      "execution_count": null,
      "outputs": []
    },
    {
      "cell_type": "code",
      "source": [
        "mlp_gs = MLPClassifier(max_iter=100)\n",
        "parameter_space = {\n",
        "    'hidden_layer_sizes': [(10,30,10),(20,)],\n",
        "    'activation': ['tanh', 'relu'],\n",
        "    'solver': ['sgd', 'adam'],\n",
        "    'alpha': [0.0001, 0.05],\n",
        "    'learning_rate': ['constant','adaptive'],\n",
        "}\n",
        "from sklearn.model_selection import GridSearchCV\n",
        "clf = GridSearchCV(mlp_gs, parameter_space, n_jobs=-1, cv=5)\n",
        "clf.fit(S_train, y) # X is train samples and y is the corresponding labels"
      ],
      "metadata": {
        "colab": {
          "base_uri": "https://localhost:8080/"
        },
        "id": "qZQEV3-ONRGK",
        "outputId": "23e03dc2-1caf-45c8-d045-ec381784a13a"
      },
      "execution_count": null,
      "outputs": [
        {
          "output_type": "execute_result",
          "data": {
            "text/plain": [
              "GridSearchCV(cv=5, estimator=MLPClassifier(max_iter=100), n_jobs=-1,\n",
              "             param_grid={'activation': ['tanh', 'relu'],\n",
              "                         'alpha': [0.0001, 0.05],\n",
              "                         'hidden_layer_sizes': [(10, 30, 10), (20,)],\n",
              "                         'learning_rate': ['constant', 'adaptive'],\n",
              "                         'solver': ['sgd', 'adam']})"
            ]
          },
          "metadata": {},
          "execution_count": 32
        }
      ]
    },
    {
      "cell_type": "code",
      "source": [
        "print('Best parameters found:\\n', clf.best_params_)"
      ],
      "metadata": {
        "colab": {
          "base_uri": "https://localhost:8080/"
        },
        "id": "wDNBGd3WNgul",
        "outputId": "2dfee8fe-9f3d-48f9-c783-2bb97ad472df"
      },
      "execution_count": null,
      "outputs": [
        {
          "output_type": "stream",
          "name": "stdout",
          "text": [
            "Best parameters found:\n",
            " {'activation': 'relu', 'alpha': 0.0001, 'hidden_layer_sizes': (10, 30, 10), 'learning_rate': 'constant', 'solver': 'adam'}\n"
          ]
        }
      ]
    },
    {
      "cell_type": "code",
      "source": [
        "models = [\n",
        "          KNeighborsClassifier(**KNN_param),\n",
        "          LGBMClassifier(**LGBM_param),\n",
        "          XGBClassifier(**XGB_param),\n",
        "           MLPClassifier(**MLP_params),\n",
        "        ]"
      ],
      "metadata": {
        "id": "9vI4RB0iU7kL"
      },
      "execution_count": null,
      "outputs": []
    },
    {
      "cell_type": "code",
      "source": [
        "S_train, S_test = stacking(models,                   \n",
        "                           X, y, X_test1,   \n",
        "                           regression=False, \n",
        "     \n",
        "                           mode='oof_pred_bag',\n",
        "       \n",
        "                           needs_proba=False,\n",
        "         \n",
        "                           save_dir=\"/content\", \n",
        "            \n",
        "                           metric=accuracy_score, \n",
        "    \n",
        "                           n_folds=10, \n",
        "                 \n",
        "                           stratified=False,\n",
        "            \n",
        "                           shuffle=True,  \n",
        "            \n",
        "                           random_state=24,    \n",
        "         \n",
        "                           verbose=2)"
      ],
      "metadata": {
        "id": "uxMHYeIGSLWU",
        "outputId": "05f809b3-08a5-48e3-c7c6-2026a4a83368",
        "colab": {
          "base_uri": "https://localhost:8080/"
        }
      },
      "execution_count": null,
      "outputs": [
        {
          "output_type": "stream",
          "name": "stdout",
          "text": [
            "task:         [classification]\n",
            "n_classes:    [2]\n",
            "metric:       [accuracy_score]\n",
            "mode:         [oof_pred_bag]\n",
            "n_models:     [4]\n",
            "\n",
            "model  0:     [KNeighborsClassifier]\n",
            "    fold  0:  [0.80114943]\n",
            "    fold  1:  [0.78275862]\n",
            "    fold  2:  [0.78505747]\n",
            "    fold  3:  [0.77560414]\n",
            "    fold  4:  [0.79976985]\n",
            "    fold  5:  [0.77100115]\n",
            "    fold  6:  [0.76869965]\n",
            "    fold  7:  [0.77790564]\n",
            "    fold  8:  [0.77330265]\n",
            "    fold  9:  [0.78250863]\n",
            "    ----\n",
            "    MEAN:     [0.78177572] + [0.01059875]\n",
            "    FULL:     [0.78177844]\n",
            "\n",
            "model  1:     [LGBMClassifier]\n",
            "    fold  0:  [0.80804598]\n",
            "    fold  1:  [0.81149425]\n",
            "    fold  2:  [0.80344828]\n",
            "    fold  3:  [0.81012658]\n",
            "    fold  4:  [0.78711162]\n",
            "    fold  5:  [0.79171461]\n",
            "    fold  6:  [0.78941312]\n",
            "    fold  7:  [0.80207135]\n",
            "    fold  8:  [0.78941312]\n",
            "    fold  9:  [0.77905639]\n",
            "    ----\n",
            "    MEAN:     [0.79718953] + [0.01064967]\n",
            "    FULL:     [0.79719314]\n",
            "\n",
            "model  2:     [XGBClassifier]\n",
            "    fold  0:  [0.81264368]\n",
            "    fold  1:  [0.80229885]\n",
            "    fold  2:  [0.78620690]\n",
            "    fold  3:  [0.79746835]\n",
            "    fold  4:  [0.79056387]\n",
            "    fold  5:  [0.78711162]\n",
            "    fold  6:  [0.79056387]\n",
            "    fold  7:  [0.80207135]\n",
            "    fold  8:  [0.78711162]\n",
            "    fold  9:  [0.77790564]\n",
            "    ----\n",
            "    MEAN:     [0.79339457] + [0.00963454]\n",
            "    FULL:     [0.79339699]\n",
            "\n",
            "model  3:     [MLPClassifier]\n",
            "    fold  0:  [0.80344828]\n",
            "    fold  1:  [0.80114943]\n",
            "    fold  2:  [0.80689655]\n",
            "    fold  3:  [0.81127733]\n",
            "    fold  4:  [0.79401611]\n",
            "    fold  5:  [0.78135788]\n",
            "    fold  6:  [0.79401611]\n",
            "    fold  7:  [0.79631761]\n",
            "    fold  8:  [0.81012658]\n",
            "    fold  9:  [0.78020713]\n",
            "    ----\n",
            "    MEAN:     [0.79788130] + [0.01034442]\n",
            "    FULL:     [0.79788335]\n",
            "\n",
            "Result was saved to [/content/[2022.04.07].[14.49.12].781083.95ce7d.npy]\n"
          ]
        }
      ]
    },
    {
      "cell_type": "markdown",
      "source": [
        "### TUNNING THE PARAMS TO META LEARNER MODEL"
      ],
      "metadata": {
        "id": "MBzm9IoMYn27"
      }
    },
    {
      "cell_type": "code",
      "source": [
        "def objective(trial):\n",
        "  max_depth = trial.suggest_int(\"max_depth\", 2, 80)\n",
        "  n_estimators = trial.suggest_int(\"n_estimators\", 1, 300)\n",
        "  learning_rate = trial.suggest_uniform('learning_rate', 0.0000001, 1)\n",
        "  num_leaves = trial.suggest_int(\"num_leaves\", 2, 3000)\n",
        "  min_child_samples = trial.suggest_int('min_child_samples', 3, 200)\n",
        "  LGBM = LGBMClassifier(\n",
        "        learning_rate=learning_rate, \n",
        "        n_estimators=n_estimators, \n",
        "        max_depth=max_depth, \n",
        "        num_leaves=num_leaves, \n",
        "        min_child_samples=min_child_samples,\n",
        "        random_state=666\n",
        "     )\n",
        "    # -- Make a pipeline\n",
        "  pipeline = make_pipeline(LGBM)\n",
        "\n",
        "    # -- Cross-validate the features reduced by dimensionality reduction methods\n",
        "  kfold = StratifiedKFold(n_splits=10)\n",
        "  score = cross_val_score(pipeline, S_train, y, scoring='accuracy', cv=kfold)\n",
        "  score = score.mean()\n",
        "  return score\n",
        "\n",
        "\n",
        "sampler = TPESampler(seed=42) # create a seed for the sampler for reproducibility\n",
        "study = optuna.create_study(direction=\"maximize\", sampler=sampler)\n",
        "study.optimize(objective, n_trials=200)"
      ],
      "metadata": {
        "id": "vCqgyiFSVo_a"
      },
      "execution_count": null,
      "outputs": []
    },
    {
      "cell_type": "code",
      "source": [
        "study.best_params"
      ],
      "metadata": {
        "colab": {
          "base_uri": "https://localhost:8080/"
        },
        "id": "4qKmJzOvXhjf",
        "outputId": "5bd08068-a54d-4c52-cce9-21a7bda630c0"
      },
      "execution_count": null,
      "outputs": [
        {
          "output_type": "execute_result",
          "data": {
            "text/plain": [
              "{'learning_rate': 0.6144581876296981,\n",
              " 'max_depth': 15,\n",
              " 'min_child_samples': 140,\n",
              " 'n_estimators': 161,\n",
              " 'num_leaves': 583}"
            ]
          },
          "metadata": {},
          "execution_count": 86
        }
      ]
    },
    {
      "cell_type": "code",
      "source": [
        "LGBM_param_meta_learner = {'learning_rate': 0.6144581876296981,\n",
        " 'max_depth': 15,\n",
        " 'min_child_samples': 140,\n",
        " 'n_estimators': 161,\n",
        " 'num_leaves': 583}"
      ],
      "metadata": {
        "id": "V0YxdZyhV3Ov"
      },
      "execution_count": null,
      "outputs": []
    },
    {
      "cell_type": "markdown",
      "source": [
        "### **FIT AND PREDICT**"
      ],
      "metadata": {
        "id": "gX_7JhDvBJqP"
      }
    },
    {
      "cell_type": "code",
      "source": [
        "model = LGBMClassifier(**XGB_param, random_state=0) \n",
        "    \n",
        "model = model.fit(S_train, y)\n",
        "y_pred_LGBM = model.predict(S_test)"
      ],
      "metadata": {
        "id": "FLwpgpGJS6YO"
      },
      "execution_count": null,
      "outputs": []
    },
    {
      "cell_type": "code",
      "source": [
        "y_pred"
      ],
      "metadata": {
        "id": "KOOzBsweVsNK",
        "outputId": "1a260497-968b-44f5-eff7-cf99dccddf2d",
        "colab": {
          "base_uri": "https://localhost:8080/"
        }
      },
      "execution_count": null,
      "outputs": [
        {
          "output_type": "execute_result",
          "data": {
            "text/plain": [
              "array([1, 0, 1, ..., 1, 1, 1])"
            ]
          },
          "metadata": {},
          "execution_count": 51
        }
      ]
    },
    {
      "cell_type": "code",
      "source": [
        "MLP = MLPClassifier(**MLP_params, random_state=0) \n",
        "    \n",
        "MLP = MLP.fit(S_train, y)\n",
        "y_pred_MLP = MLP.predict(S_test)"
      ],
      "metadata": {
        "id": "W1hqArMxbAf5"
      },
      "execution_count": null,
      "outputs": []
    },
    {
      "cell_type": "code",
      "source": [
        "submission = pd.DataFrame({\n",
        "        \"PassengerId\": sub[\"PassengerId\"],\n",
        "        \"Transported\":  y_pred_MLP})\n",
        "\n",
        "submission['Transported'] = submission['Transported'].astype('bool')\n",
        "submission.to_csv('pred_MLP_ULTUMOO.csv', index=False)\n",
        "submission"
      ],
      "metadata": {
        "id": "RNAE026rTmoG",
        "outputId": "a9711bb0-bb3b-4b00-895d-1a592eca89af",
        "colab": {
          "base_uri": "https://localhost:8080/",
          "height": 424
        }
      },
      "execution_count": null,
      "outputs": [
        {
          "output_type": "execute_result",
          "data": {
            "text/plain": [
              "     PassengerId  Transported\n",
              "0        0013_01         True\n",
              "1        0018_01        False\n",
              "2        0019_01         True\n",
              "3        0021_01         True\n",
              "4        0023_01         True\n",
              "...          ...          ...\n",
              "4272     9266_02         True\n",
              "4273     9269_01        False\n",
              "4274     9271_01         True\n",
              "4275     9273_01         True\n",
              "4276     9277_01         True\n",
              "\n",
              "[4277 rows x 2 columns]"
            ],
            "text/html": [
              "\n",
              "  <div id=\"df-76e35a89-02b8-49a5-ad18-8c0bcf1cfaeb\">\n",
              "    <div class=\"colab-df-container\">\n",
              "      <div>\n",
              "<style scoped>\n",
              "    .dataframe tbody tr th:only-of-type {\n",
              "        vertical-align: middle;\n",
              "    }\n",
              "\n",
              "    .dataframe tbody tr th {\n",
              "        vertical-align: top;\n",
              "    }\n",
              "\n",
              "    .dataframe thead th {\n",
              "        text-align: right;\n",
              "    }\n",
              "</style>\n",
              "<table border=\"1\" class=\"dataframe\">\n",
              "  <thead>\n",
              "    <tr style=\"text-align: right;\">\n",
              "      <th></th>\n",
              "      <th>PassengerId</th>\n",
              "      <th>Transported</th>\n",
              "    </tr>\n",
              "  </thead>\n",
              "  <tbody>\n",
              "    <tr>\n",
              "      <th>0</th>\n",
              "      <td>0013_01</td>\n",
              "      <td>True</td>\n",
              "    </tr>\n",
              "    <tr>\n",
              "      <th>1</th>\n",
              "      <td>0018_01</td>\n",
              "      <td>False</td>\n",
              "    </tr>\n",
              "    <tr>\n",
              "      <th>2</th>\n",
              "      <td>0019_01</td>\n",
              "      <td>True</td>\n",
              "    </tr>\n",
              "    <tr>\n",
              "      <th>3</th>\n",
              "      <td>0021_01</td>\n",
              "      <td>True</td>\n",
              "    </tr>\n",
              "    <tr>\n",
              "      <th>4</th>\n",
              "      <td>0023_01</td>\n",
              "      <td>True</td>\n",
              "    </tr>\n",
              "    <tr>\n",
              "      <th>...</th>\n",
              "      <td>...</td>\n",
              "      <td>...</td>\n",
              "    </tr>\n",
              "    <tr>\n",
              "      <th>4272</th>\n",
              "      <td>9266_02</td>\n",
              "      <td>True</td>\n",
              "    </tr>\n",
              "    <tr>\n",
              "      <th>4273</th>\n",
              "      <td>9269_01</td>\n",
              "      <td>False</td>\n",
              "    </tr>\n",
              "    <tr>\n",
              "      <th>4274</th>\n",
              "      <td>9271_01</td>\n",
              "      <td>True</td>\n",
              "    </tr>\n",
              "    <tr>\n",
              "      <th>4275</th>\n",
              "      <td>9273_01</td>\n",
              "      <td>True</td>\n",
              "    </tr>\n",
              "    <tr>\n",
              "      <th>4276</th>\n",
              "      <td>9277_01</td>\n",
              "      <td>True</td>\n",
              "    </tr>\n",
              "  </tbody>\n",
              "</table>\n",
              "<p>4277 rows × 2 columns</p>\n",
              "</div>\n",
              "      <button class=\"colab-df-convert\" onclick=\"convertToInteractive('df-76e35a89-02b8-49a5-ad18-8c0bcf1cfaeb')\"\n",
              "              title=\"Convert this dataframe to an interactive table.\"\n",
              "              style=\"display:none;\">\n",
              "        \n",
              "  <svg xmlns=\"http://www.w3.org/2000/svg\" height=\"24px\"viewBox=\"0 0 24 24\"\n",
              "       width=\"24px\">\n",
              "    <path d=\"M0 0h24v24H0V0z\" fill=\"none\"/>\n",
              "    <path d=\"M18.56 5.44l.94 2.06.94-2.06 2.06-.94-2.06-.94-.94-2.06-.94 2.06-2.06.94zm-11 1L8.5 8.5l.94-2.06 2.06-.94-2.06-.94L8.5 2.5l-.94 2.06-2.06.94zm10 10l.94 2.06.94-2.06 2.06-.94-2.06-.94-.94-2.06-.94 2.06-2.06.94z\"/><path d=\"M17.41 7.96l-1.37-1.37c-.4-.4-.92-.59-1.43-.59-.52 0-1.04.2-1.43.59L10.3 9.45l-7.72 7.72c-.78.78-.78 2.05 0 2.83L4 21.41c.39.39.9.59 1.41.59.51 0 1.02-.2 1.41-.59l7.78-7.78 2.81-2.81c.8-.78.8-2.07 0-2.86zM5.41 20L4 18.59l7.72-7.72 1.47 1.35L5.41 20z\"/>\n",
              "  </svg>\n",
              "      </button>\n",
              "      \n",
              "  <style>\n",
              "    .colab-df-container {\n",
              "      display:flex;\n",
              "      flex-wrap:wrap;\n",
              "      gap: 12px;\n",
              "    }\n",
              "\n",
              "    .colab-df-convert {\n",
              "      background-color: #E8F0FE;\n",
              "      border: none;\n",
              "      border-radius: 50%;\n",
              "      cursor: pointer;\n",
              "      display: none;\n",
              "      fill: #1967D2;\n",
              "      height: 32px;\n",
              "      padding: 0 0 0 0;\n",
              "      width: 32px;\n",
              "    }\n",
              "\n",
              "    .colab-df-convert:hover {\n",
              "      background-color: #E2EBFA;\n",
              "      box-shadow: 0px 1px 2px rgba(60, 64, 67, 0.3), 0px 1px 3px 1px rgba(60, 64, 67, 0.15);\n",
              "      fill: #174EA6;\n",
              "    }\n",
              "\n",
              "    [theme=dark] .colab-df-convert {\n",
              "      background-color: #3B4455;\n",
              "      fill: #D2E3FC;\n",
              "    }\n",
              "\n",
              "    [theme=dark] .colab-df-convert:hover {\n",
              "      background-color: #434B5C;\n",
              "      box-shadow: 0px 1px 3px 1px rgba(0, 0, 0, 0.15);\n",
              "      filter: drop-shadow(0px 1px 2px rgba(0, 0, 0, 0.3));\n",
              "      fill: #FFFFFF;\n",
              "    }\n",
              "  </style>\n",
              "\n",
              "      <script>\n",
              "        const buttonEl =\n",
              "          document.querySelector('#df-76e35a89-02b8-49a5-ad18-8c0bcf1cfaeb button.colab-df-convert');\n",
              "        buttonEl.style.display =\n",
              "          google.colab.kernel.accessAllowed ? 'block' : 'none';\n",
              "\n",
              "        async function convertToInteractive(key) {\n",
              "          const element = document.querySelector('#df-76e35a89-02b8-49a5-ad18-8c0bcf1cfaeb');\n",
              "          const dataTable =\n",
              "            await google.colab.kernel.invokeFunction('convertToInteractive',\n",
              "                                                     [key], {});\n",
              "          if (!dataTable) return;\n",
              "\n",
              "          const docLinkHtml = 'Like what you see? Visit the ' +\n",
              "            '<a target=\"_blank\" href=https://colab.research.google.com/notebooks/data_table.ipynb>data table notebook</a>'\n",
              "            + ' to learn more about interactive tables.';\n",
              "          element.innerHTML = '';\n",
              "          dataTable['output_type'] = 'display_data';\n",
              "          await google.colab.output.renderOutput(dataTable, element);\n",
              "          const docLink = document.createElement('div');\n",
              "          docLink.innerHTML = docLinkHtml;\n",
              "          element.appendChild(docLink);\n",
              "        }\n",
              "      </script>\n",
              "    </div>\n",
              "  </div>\n",
              "  "
            ]
          },
          "metadata": {},
          "execution_count": 74
        }
      ]
    },
    {
      "cell_type": "code",
      "source": [
        "MLP_ALONE = MLPClassifier(**MLP_params, random_state=0) \n",
        "    \n",
        "MLP_ALONE = MLP_ALONE.fit(X, y)\n",
        "y_pred_MLP_ALONE = MLP_ALONE.predict(X_test1)"
      ],
      "metadata": {
        "id": "LTJOqPNOgNIs"
      },
      "execution_count": null,
      "outputs": []
    },
    {
      "cell_type": "code",
      "source": [
        "submission = pd.DataFrame({\n",
        "        \"PassengerId\": sub[\"PassengerId\"],\n",
        "        \"Transported\":  y_pred_MLP_ALONE})\n",
        "\n",
        "submission['Transported'] = submission['Transported'].astype('bool')\n",
        "submission.to_csv('pred_MLP_ALONE.csv', index=False)\n",
        "submission"
      ],
      "metadata": {
        "id": "kdckdgXpgWww",
        "outputId": "32d34ec0-9a86-4e44-8d24-66ea6cc946b8",
        "colab": {
          "base_uri": "https://localhost:8080/",
          "height": 424
        }
      },
      "execution_count": null,
      "outputs": [
        {
          "output_type": "execute_result",
          "data": {
            "text/plain": [
              "     PassengerId  Transported\n",
              "0        0013_01         True\n",
              "1        0018_01        False\n",
              "2        0019_01         True\n",
              "3        0021_01         True\n",
              "4        0023_01        False\n",
              "...          ...          ...\n",
              "4272     9266_02        False\n",
              "4273     9269_01        False\n",
              "4274     9271_01         True\n",
              "4275     9273_01         True\n",
              "4276     9277_01         True\n",
              "\n",
              "[4277 rows x 2 columns]"
            ],
            "text/html": [
              "\n",
              "  <div id=\"df-c6545ce8-97c2-49ba-97c1-e22ce46c5323\">\n",
              "    <div class=\"colab-df-container\">\n",
              "      <div>\n",
              "<style scoped>\n",
              "    .dataframe tbody tr th:only-of-type {\n",
              "        vertical-align: middle;\n",
              "    }\n",
              "\n",
              "    .dataframe tbody tr th {\n",
              "        vertical-align: top;\n",
              "    }\n",
              "\n",
              "    .dataframe thead th {\n",
              "        text-align: right;\n",
              "    }\n",
              "</style>\n",
              "<table border=\"1\" class=\"dataframe\">\n",
              "  <thead>\n",
              "    <tr style=\"text-align: right;\">\n",
              "      <th></th>\n",
              "      <th>PassengerId</th>\n",
              "      <th>Transported</th>\n",
              "    </tr>\n",
              "  </thead>\n",
              "  <tbody>\n",
              "    <tr>\n",
              "      <th>0</th>\n",
              "      <td>0013_01</td>\n",
              "      <td>True</td>\n",
              "    </tr>\n",
              "    <tr>\n",
              "      <th>1</th>\n",
              "      <td>0018_01</td>\n",
              "      <td>False</td>\n",
              "    </tr>\n",
              "    <tr>\n",
              "      <th>2</th>\n",
              "      <td>0019_01</td>\n",
              "      <td>True</td>\n",
              "    </tr>\n",
              "    <tr>\n",
              "      <th>3</th>\n",
              "      <td>0021_01</td>\n",
              "      <td>True</td>\n",
              "    </tr>\n",
              "    <tr>\n",
              "      <th>4</th>\n",
              "      <td>0023_01</td>\n",
              "      <td>False</td>\n",
              "    </tr>\n",
              "    <tr>\n",
              "      <th>...</th>\n",
              "      <td>...</td>\n",
              "      <td>...</td>\n",
              "    </tr>\n",
              "    <tr>\n",
              "      <th>4272</th>\n",
              "      <td>9266_02</td>\n",
              "      <td>False</td>\n",
              "    </tr>\n",
              "    <tr>\n",
              "      <th>4273</th>\n",
              "      <td>9269_01</td>\n",
              "      <td>False</td>\n",
              "    </tr>\n",
              "    <tr>\n",
              "      <th>4274</th>\n",
              "      <td>9271_01</td>\n",
              "      <td>True</td>\n",
              "    </tr>\n",
              "    <tr>\n",
              "      <th>4275</th>\n",
              "      <td>9273_01</td>\n",
              "      <td>True</td>\n",
              "    </tr>\n",
              "    <tr>\n",
              "      <th>4276</th>\n",
              "      <td>9277_01</td>\n",
              "      <td>True</td>\n",
              "    </tr>\n",
              "  </tbody>\n",
              "</table>\n",
              "<p>4277 rows × 2 columns</p>\n",
              "</div>\n",
              "      <button class=\"colab-df-convert\" onclick=\"convertToInteractive('df-c6545ce8-97c2-49ba-97c1-e22ce46c5323')\"\n",
              "              title=\"Convert this dataframe to an interactive table.\"\n",
              "              style=\"display:none;\">\n",
              "        \n",
              "  <svg xmlns=\"http://www.w3.org/2000/svg\" height=\"24px\"viewBox=\"0 0 24 24\"\n",
              "       width=\"24px\">\n",
              "    <path d=\"M0 0h24v24H0V0z\" fill=\"none\"/>\n",
              "    <path d=\"M18.56 5.44l.94 2.06.94-2.06 2.06-.94-2.06-.94-.94-2.06-.94 2.06-2.06.94zm-11 1L8.5 8.5l.94-2.06 2.06-.94-2.06-.94L8.5 2.5l-.94 2.06-2.06.94zm10 10l.94 2.06.94-2.06 2.06-.94-2.06-.94-.94-2.06-.94 2.06-2.06.94z\"/><path d=\"M17.41 7.96l-1.37-1.37c-.4-.4-.92-.59-1.43-.59-.52 0-1.04.2-1.43.59L10.3 9.45l-7.72 7.72c-.78.78-.78 2.05 0 2.83L4 21.41c.39.39.9.59 1.41.59.51 0 1.02-.2 1.41-.59l7.78-7.78 2.81-2.81c.8-.78.8-2.07 0-2.86zM5.41 20L4 18.59l7.72-7.72 1.47 1.35L5.41 20z\"/>\n",
              "  </svg>\n",
              "      </button>\n",
              "      \n",
              "  <style>\n",
              "    .colab-df-container {\n",
              "      display:flex;\n",
              "      flex-wrap:wrap;\n",
              "      gap: 12px;\n",
              "    }\n",
              "\n",
              "    .colab-df-convert {\n",
              "      background-color: #E8F0FE;\n",
              "      border: none;\n",
              "      border-radius: 50%;\n",
              "      cursor: pointer;\n",
              "      display: none;\n",
              "      fill: #1967D2;\n",
              "      height: 32px;\n",
              "      padding: 0 0 0 0;\n",
              "      width: 32px;\n",
              "    }\n",
              "\n",
              "    .colab-df-convert:hover {\n",
              "      background-color: #E2EBFA;\n",
              "      box-shadow: 0px 1px 2px rgba(60, 64, 67, 0.3), 0px 1px 3px 1px rgba(60, 64, 67, 0.15);\n",
              "      fill: #174EA6;\n",
              "    }\n",
              "\n",
              "    [theme=dark] .colab-df-convert {\n",
              "      background-color: #3B4455;\n",
              "      fill: #D2E3FC;\n",
              "    }\n",
              "\n",
              "    [theme=dark] .colab-df-convert:hover {\n",
              "      background-color: #434B5C;\n",
              "      box-shadow: 0px 1px 3px 1px rgba(0, 0, 0, 0.15);\n",
              "      filter: drop-shadow(0px 1px 2px rgba(0, 0, 0, 0.3));\n",
              "      fill: #FFFFFF;\n",
              "    }\n",
              "  </style>\n",
              "\n",
              "      <script>\n",
              "        const buttonEl =\n",
              "          document.querySelector('#df-c6545ce8-97c2-49ba-97c1-e22ce46c5323 button.colab-df-convert');\n",
              "        buttonEl.style.display =\n",
              "          google.colab.kernel.accessAllowed ? 'block' : 'none';\n",
              "\n",
              "        async function convertToInteractive(key) {\n",
              "          const element = document.querySelector('#df-c6545ce8-97c2-49ba-97c1-e22ce46c5323');\n",
              "          const dataTable =\n",
              "            await google.colab.kernel.invokeFunction('convertToInteractive',\n",
              "                                                     [key], {});\n",
              "          if (!dataTable) return;\n",
              "\n",
              "          const docLinkHtml = 'Like what you see? Visit the ' +\n",
              "            '<a target=\"_blank\" href=https://colab.research.google.com/notebooks/data_table.ipynb>data table notebook</a>'\n",
              "            + ' to learn more about interactive tables.';\n",
              "          element.innerHTML = '';\n",
              "          dataTable['output_type'] = 'display_data';\n",
              "          await google.colab.output.renderOutput(dataTable, element);\n",
              "          const docLink = document.createElement('div');\n",
              "          docLink.innerHTML = docLinkHtml;\n",
              "          element.appendChild(docLink);\n",
              "        }\n",
              "      </script>\n",
              "    </div>\n",
              "  </div>\n",
              "  "
            ]
          },
          "metadata": {},
          "execution_count": 76
        }
      ]
    },
    {
      "cell_type": "code",
      "source": [
        ""
      ],
      "metadata": {
        "id": "KdIzY8p4ghtj"
      },
      "execution_count": null,
      "outputs": []
    },
    {
      "cell_type": "markdown",
      "source": [
        "**XGB, LGBM, KNN, MLP - MLP AS NETA LEARNER = 0.80734**"
      ],
      "metadata": {
        "id": "G0M02T0zd6ep"
      }
    }
  ],
  "metadata": {
    "colab": {
      "collapsed_sections": [],
      "name": "spaceship_predict_best (2).ipynb",
      "provenance": [],
      "include_colab_link": true
    },
    "kernelspec": {
      "display_name": "Python 3",
      "language": "python",
      "name": "python3"
    },
    "language_info": {
      "codemirror_mode": {
        "name": "ipython",
        "version": 3
      },
      "file_extension": ".py",
      "mimetype": "text/x-python",
      "name": "python",
      "nbconvert_exporter": "python",
      "pygments_lexer": "ipython3",
      "version": "3.7.12"
    }
  },
  "nbformat": 4,
  "nbformat_minor": 0
}