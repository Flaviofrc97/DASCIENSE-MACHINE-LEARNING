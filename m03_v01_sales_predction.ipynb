{
  "nbformat": 4,
  "nbformat_minor": 0,
  "metadata": {
    "kernelspec": {
      "display_name": "Python 3",
      "language": "python",
      "name": "python3"
    },
    "language_info": {
      "codemirror_mode": {
        "name": "ipython",
        "version": 3
      },
      "file_extension": ".py",
      "mimetype": "text/x-python",
      "name": "python",
      "nbconvert_exporter": "python",
      "pygments_lexer": "ipython3",
      "version": "3.8.6"
    },
    "colab": {
      "name": "m03_v01_sales_predction.ipynb",
      "provenance": [],
      "collapsed_sections": [
        "yo4VLPGSrFlZ",
        "dZW0etlGrFmF",
        "UYJaY3X4rFmS",
        "Tl0IdmHwrFmb",
        "r3lS3ya-rFmh",
        "ic23HKPorFmu"
      ],
      "include_colab_link": true
    }
  },
  "cells": [
    {
      "cell_type": "markdown",
      "metadata": {
        "id": "view-in-github",
        "colab_type": "text"
      },
      "source": [
        "<a href=\"https://colab.research.google.com/github/Flaviofrc97/DASCIENSE-MACHINE-LEARNING/blob/main/m03_v01_sales_predction.ipynb\" target=\"_parent\"><img src=\"https://colab.research.google.com/assets/colab-badge.svg\" alt=\"Open In Colab\"/></a>"
      ]
    },
    {
      "cell_type": "markdown",
      "metadata": {
        "id": "s6AxbjScrFjt"
      },
      "source": [
        "# 0.0. IMPORTS"
      ]
    },
    {
      "cell_type": "code",
      "metadata": {
        "id": "p_7nyQLtrFk9"
      },
      "source": [
        "import pandas as pd\n",
        "import math\n",
        "import numpy as np\n",
        "import seaborn as sns\n",
        "import matplotlib.pyplot as plt\n",
        "from IPython.core.display import HTML\n",
        "from IPython.display import Image as img\n",
        "import datetime"
      ],
      "execution_count": 64,
      "outputs": []
    },
    {
      "cell_type": "markdown",
      "metadata": {
        "id": "wpmYuRiMrFlX"
      },
      "source": [
        "## 0.1 Helper Functions"
      ]
    },
    {
      "cell_type": "markdown",
      "metadata": {
        "id": "yo4VLPGSrFlZ"
      },
      "source": [
        "## 0.2 Loading Data"
      ]
    },
    {
      "cell_type": "code",
      "metadata": {
        "id": "KwxRkjG5rFlz"
      },
      "source": [
        "df_sales_raw = pd.read_csv('/content/data/train.csv', low_memory=False)\n",
        "df_store_raw = pd.read_csv('/content/data/store.csv', low_memory=False)\n",
        "\n",
        "#merge\n",
        "\n",
        "df_raw = pd.merge(df_sales_raw, df_store_raw, how=\"left\", on=\"Store\")"
      ],
      "execution_count": 39,
      "outputs": []
    },
    {
      "cell_type": "markdown",
      "metadata": {
        "id": "UDf804tLrFl8"
      },
      "source": [
        "# 1.0. PASSO 1: DESCRICAO DOS DADOS"
      ]
    },
    {
      "cell_type": "markdown",
      "metadata": {
        "id": "dZW0etlGrFmF"
      },
      "source": [
        "## 1.1. Rename Columns"
      ]
    },
    {
      "cell_type": "code",
      "metadata": {
        "id": "DU7SuC24rFmM"
      },
      "source": [
        "df1 = df_raw.copy()"
      ],
      "execution_count": 40,
      "outputs": []
    },
    {
      "cell_type": "code",
      "metadata": {
        "id": "JcXGPzSIrFmO"
      },
      "source": [
        "cols_old = ['Store', 'DayOfWeek', 'Date', 'Sales', 'Customers', 'Open', 'Promo',\n",
        "       'StateHoliday', 'SchoolHoliday', 'StoreType', 'Assortment',\n",
        "       'CompetitionDistance', 'CompetitionOpenSinceMonth',\n",
        "       'CompetitionOpenSinceYear', 'Promo2', 'Promo2SinceWeek',\n",
        "       'Promo2SinceYear', 'PromoInterval']\n",
        "\n",
        "#convertendo para lower\n",
        "df1.columns = map(str.lower, cols_old)"
      ],
      "execution_count": 41,
      "outputs": []
    },
    {
      "cell_type": "markdown",
      "metadata": {
        "id": "UYJaY3X4rFmS"
      },
      "source": [
        "## 1.2. Data Dimesion"
      ]
    },
    {
      "cell_type": "code",
      "metadata": {
        "id": "n2ZQCF3TrFmU",
        "colab": {
          "base_uri": "https://localhost:8080/"
        },
        "outputId": "fa0c68d8-4d4f-4784-a7bf-e9f7cebcf173"
      },
      "source": [
        "print('number of rows: {}'. format(df1.shape[0])) #Shape print linhas e colunas de um dataframe\n",
        "print('number of cols: {}'. format(df1.shape[1])) #Shape print linhas e colunas de um dataframe"
      ],
      "execution_count": 42,
      "outputs": [
        {
          "output_type": "stream",
          "text": [
            "number of rows: 1017209\n",
            "number of cols: 18\n"
          ],
          "name": "stdout"
        }
      ]
    },
    {
      "cell_type": "markdown",
      "metadata": {
        "id": "Tl0IdmHwrFmb"
      },
      "source": [
        "## 1.3. DataTypes"
      ]
    },
    {
      "cell_type": "code",
      "metadata": {
        "id": "L9wm3d1urFme",
        "colab": {
          "base_uri": "https://localhost:8080/"
        },
        "outputId": "5265e12b-fd3f-41d8-deed-4763d1acdd6a"
      },
      "source": [
        "df1['date'] = pd.to_datetime(df1['date'], errors='coerce') #convertendo data para tipo date\n",
        "df1.dtypes"
      ],
      "execution_count": 43,
      "outputs": [
        {
          "output_type": "execute_result",
          "data": {
            "text/plain": [
              "store                                 int64\n",
              "dayofweek                             int64\n",
              "date                         datetime64[ns]\n",
              "sales                                 int64\n",
              "customers                             int64\n",
              "open                                  int64\n",
              "promo                                 int64\n",
              "stateholiday                         object\n",
              "schoolholiday                         int64\n",
              "storetype                            object\n",
              "assortment                           object\n",
              "competitiondistance                 float64\n",
              "competitionopensincemonth           float64\n",
              "competitionopensinceyear            float64\n",
              "promo2                                int64\n",
              "promo2sinceweek                     float64\n",
              "promo2sinceyear                     float64\n",
              "promointerval                        object\n",
              "dtype: object"
            ]
          },
          "metadata": {
            "tags": []
          },
          "execution_count": 43
        }
      ]
    },
    {
      "cell_type": "markdown",
      "metadata": {
        "id": "r3lS3ya-rFmh"
      },
      "source": [
        "## 1.4. Check NA"
      ]
    },
    {
      "cell_type": "code",
      "metadata": {
        "id": "dvpyTXJQrFmi",
        "colab": {
          "base_uri": "https://localhost:8080/"
        },
        "outputId": "23045f16-eb5c-4fec-925d-930fffbcd05d"
      },
      "source": [
        "df1.isna().sum()"
      ],
      "execution_count": 44,
      "outputs": [
        {
          "output_type": "execute_result",
          "data": {
            "text/plain": [
              "store                             0\n",
              "dayofweek                         0\n",
              "date                              0\n",
              "sales                             0\n",
              "customers                         0\n",
              "open                              0\n",
              "promo                             0\n",
              "stateholiday                      0\n",
              "schoolholiday                     0\n",
              "storetype                         0\n",
              "assortment                        0\n",
              "competitiondistance            2642\n",
              "competitionopensincemonth    323348\n",
              "competitionopensinceyear     323348\n",
              "promo2                            0\n",
              "promo2sinceweek              508031\n",
              "promo2sinceyear              508031\n",
              "promointerval                508031\n",
              "dtype: int64"
            ]
          },
          "metadata": {
            "tags": []
          },
          "execution_count": 44
        }
      ]
    },
    {
      "cell_type": "markdown",
      "metadata": {
        "id": "M39X9mjHrFml"
      },
      "source": [
        "## 1.5. Fillout NA"
      ]
    },
    {
      "cell_type": "code",
      "metadata": {
        "id": "vvqmpJEJrFmo",
        "colab": {
          "base_uri": "https://localhost:8080/"
        },
        "outputId": "10ae0b7f-53bc-460b-dbca-5c179bfa0fb6"
      },
      "source": [
        "df1['competitiondistance'].max()"
      ],
      "execution_count": 45,
      "outputs": [
        {
          "output_type": "execute_result",
          "data": {
            "text/plain": [
              "75860.0"
            ]
          },
          "metadata": {
            "tags": []
          },
          "execution_count": 45
        }
      ]
    },
    {
      "cell_type": "code",
      "metadata": {
        "colab": {
          "base_uri": "https://localhost:8080/",
          "height": 309
        },
        "id": "gLz_bwX3zvxs",
        "outputId": "2eec758b-a44f-4d43-f7dc-b48c24b8fcb5"
      },
      "source": [
        "df1.head()"
      ],
      "execution_count": 46,
      "outputs": [
        {
          "output_type": "execute_result",
          "data": {
            "text/html": [
              "<div>\n",
              "<style scoped>\n",
              "    .dataframe tbody tr th:only-of-type {\n",
              "        vertical-align: middle;\n",
              "    }\n",
              "\n",
              "    .dataframe tbody tr th {\n",
              "        vertical-align: top;\n",
              "    }\n",
              "\n",
              "    .dataframe thead th {\n",
              "        text-align: right;\n",
              "    }\n",
              "</style>\n",
              "<table border=\"1\" class=\"dataframe\">\n",
              "  <thead>\n",
              "    <tr style=\"text-align: right;\">\n",
              "      <th></th>\n",
              "      <th>store</th>\n",
              "      <th>dayofweek</th>\n",
              "      <th>date</th>\n",
              "      <th>sales</th>\n",
              "      <th>customers</th>\n",
              "      <th>open</th>\n",
              "      <th>promo</th>\n",
              "      <th>stateholiday</th>\n",
              "      <th>schoolholiday</th>\n",
              "      <th>storetype</th>\n",
              "      <th>assortment</th>\n",
              "      <th>competitiondistance</th>\n",
              "      <th>competitionopensincemonth</th>\n",
              "      <th>competitionopensinceyear</th>\n",
              "      <th>promo2</th>\n",
              "      <th>promo2sinceweek</th>\n",
              "      <th>promo2sinceyear</th>\n",
              "      <th>promointerval</th>\n",
              "    </tr>\n",
              "  </thead>\n",
              "  <tbody>\n",
              "    <tr>\n",
              "      <th>0</th>\n",
              "      <td>1</td>\n",
              "      <td>5</td>\n",
              "      <td>2015-07-31</td>\n",
              "      <td>5263</td>\n",
              "      <td>555</td>\n",
              "      <td>1</td>\n",
              "      <td>1</td>\n",
              "      <td>0</td>\n",
              "      <td>1</td>\n",
              "      <td>c</td>\n",
              "      <td>a</td>\n",
              "      <td>1270.0</td>\n",
              "      <td>9.0</td>\n",
              "      <td>2008.0</td>\n",
              "      <td>0</td>\n",
              "      <td>NaN</td>\n",
              "      <td>NaN</td>\n",
              "      <td>NaN</td>\n",
              "    </tr>\n",
              "    <tr>\n",
              "      <th>1</th>\n",
              "      <td>2</td>\n",
              "      <td>5</td>\n",
              "      <td>2015-07-31</td>\n",
              "      <td>6064</td>\n",
              "      <td>625</td>\n",
              "      <td>1</td>\n",
              "      <td>1</td>\n",
              "      <td>0</td>\n",
              "      <td>1</td>\n",
              "      <td>a</td>\n",
              "      <td>a</td>\n",
              "      <td>570.0</td>\n",
              "      <td>11.0</td>\n",
              "      <td>2007.0</td>\n",
              "      <td>1</td>\n",
              "      <td>13.0</td>\n",
              "      <td>2010.0</td>\n",
              "      <td>Jan,Apr,Jul,Oct</td>\n",
              "    </tr>\n",
              "    <tr>\n",
              "      <th>2</th>\n",
              "      <td>3</td>\n",
              "      <td>5</td>\n",
              "      <td>2015-07-31</td>\n",
              "      <td>8314</td>\n",
              "      <td>821</td>\n",
              "      <td>1</td>\n",
              "      <td>1</td>\n",
              "      <td>0</td>\n",
              "      <td>1</td>\n",
              "      <td>a</td>\n",
              "      <td>a</td>\n",
              "      <td>14130.0</td>\n",
              "      <td>12.0</td>\n",
              "      <td>2006.0</td>\n",
              "      <td>1</td>\n",
              "      <td>14.0</td>\n",
              "      <td>2011.0</td>\n",
              "      <td>Jan,Apr,Jul,Oct</td>\n",
              "    </tr>\n",
              "    <tr>\n",
              "      <th>3</th>\n",
              "      <td>4</td>\n",
              "      <td>5</td>\n",
              "      <td>2015-07-31</td>\n",
              "      <td>13995</td>\n",
              "      <td>1498</td>\n",
              "      <td>1</td>\n",
              "      <td>1</td>\n",
              "      <td>0</td>\n",
              "      <td>1</td>\n",
              "      <td>c</td>\n",
              "      <td>c</td>\n",
              "      <td>620.0</td>\n",
              "      <td>9.0</td>\n",
              "      <td>2009.0</td>\n",
              "      <td>0</td>\n",
              "      <td>NaN</td>\n",
              "      <td>NaN</td>\n",
              "      <td>NaN</td>\n",
              "    </tr>\n",
              "    <tr>\n",
              "      <th>4</th>\n",
              "      <td>5</td>\n",
              "      <td>5</td>\n",
              "      <td>2015-07-31</td>\n",
              "      <td>4822</td>\n",
              "      <td>559</td>\n",
              "      <td>1</td>\n",
              "      <td>1</td>\n",
              "      <td>0</td>\n",
              "      <td>1</td>\n",
              "      <td>a</td>\n",
              "      <td>a</td>\n",
              "      <td>29910.0</td>\n",
              "      <td>4.0</td>\n",
              "      <td>2015.0</td>\n",
              "      <td>0</td>\n",
              "      <td>NaN</td>\n",
              "      <td>NaN</td>\n",
              "      <td>NaN</td>\n",
              "    </tr>\n",
              "  </tbody>\n",
              "</table>\n",
              "</div>"
            ],
            "text/plain": [
              "   store  dayofweek  ... promo2sinceyear    promointerval\n",
              "0      1          5  ...             NaN              NaN\n",
              "1      2          5  ...          2010.0  Jan,Apr,Jul,Oct\n",
              "2      3          5  ...          2011.0  Jan,Apr,Jul,Oct\n",
              "3      4          5  ...             NaN              NaN\n",
              "4      5          5  ...             NaN              NaN\n",
              "\n",
              "[5 rows x 18 columns]"
            ]
          },
          "metadata": {
            "tags": []
          },
          "execution_count": 46
        }
      ]
    },
    {
      "cell_type": "code",
      "metadata": {
        "id": "wbVS3FUnrFmr"
      },
      "source": [
        "# competitiondistance \n",
        "\n",
        "df1.competitiondistance.fillna(200000.0, inplace=True)\n",
        "\n",
        "# competitionopensincemonth  \n",
        "df1.competitionopensincemonth.fillna(df1.date.dt.month, inplace=True)\n",
        "\n",
        "# competitionopensinceyear   \n",
        "\n",
        "df1.competitionopensinceyear.fillna(df1.date.dt.year, inplace=True)\n",
        "\n",
        "# promo2sinceweek  \n",
        "df1.promo2sinceweek.fillna(df1.date.dt.isocalendar().week, inplace=True )\n",
        "\n",
        "# promo2sinceyear    \n",
        "df1.promo2sinceyear.fillna(df1.date.dt.isocalendar().year, inplace=True ) \n",
        "\n",
        "# promointerval                \n",
        "#Os nomes dos intervalos estão em ingles\n",
        "month_map = {1: 'Jan', 2: 'Feb', 3: 'Mar', 4: 'Apr', 5: 'May', 6: 'Jun', 7: 'Jul', 8: 'Aug', 9: 'Sept', 10: 'Oct', 11: 'Nov', 12: 'Dec'}\n",
        "\n",
        "df1.promointerval.fillna(0, inplace=True)\n",
        "\n",
        "df1['month_map'] = df1['date'].dt.month.map(month_map)\n",
        "\n",
        "df1['is_promo'] = df1[['promointerval', 'month_map']].apply( lambda x: 0 if x['promointerval'] == 0 else 1 if x['month_map'] in x['promointerval'].split( ',' ) else 0, axis=1 )"
      ],
      "execution_count": 47,
      "outputs": []
    },
    {
      "cell_type": "code",
      "metadata": {
        "colab": {
          "base_uri": "https://localhost:8080/",
          "height": 309
        },
        "id": "qFqo796b6EkJ",
        "outputId": "7775b826-1fc0-487c-d319-787ffd2b4f8f"
      },
      "source": [
        "df1.sample(5)"
      ],
      "execution_count": 48,
      "outputs": [
        {
          "output_type": "execute_result",
          "data": {
            "text/html": [
              "<div>\n",
              "<style scoped>\n",
              "    .dataframe tbody tr th:only-of-type {\n",
              "        vertical-align: middle;\n",
              "    }\n",
              "\n",
              "    .dataframe tbody tr th {\n",
              "        vertical-align: top;\n",
              "    }\n",
              "\n",
              "    .dataframe thead th {\n",
              "        text-align: right;\n",
              "    }\n",
              "</style>\n",
              "<table border=\"1\" class=\"dataframe\">\n",
              "  <thead>\n",
              "    <tr style=\"text-align: right;\">\n",
              "      <th></th>\n",
              "      <th>store</th>\n",
              "      <th>dayofweek</th>\n",
              "      <th>date</th>\n",
              "      <th>sales</th>\n",
              "      <th>customers</th>\n",
              "      <th>open</th>\n",
              "      <th>promo</th>\n",
              "      <th>stateholiday</th>\n",
              "      <th>schoolholiday</th>\n",
              "      <th>storetype</th>\n",
              "      <th>assortment</th>\n",
              "      <th>competitiondistance</th>\n",
              "      <th>competitionopensincemonth</th>\n",
              "      <th>competitionopensinceyear</th>\n",
              "      <th>promo2</th>\n",
              "      <th>promo2sinceweek</th>\n",
              "      <th>promo2sinceyear</th>\n",
              "      <th>promointerval</th>\n",
              "      <th>month_map</th>\n",
              "      <th>is_promo</th>\n",
              "    </tr>\n",
              "  </thead>\n",
              "  <tbody>\n",
              "    <tr>\n",
              "      <th>546205</th>\n",
              "      <td>641</td>\n",
              "      <td>4</td>\n",
              "      <td>2014-02-27</td>\n",
              "      <td>4869</td>\n",
              "      <td>518</td>\n",
              "      <td>1</td>\n",
              "      <td>0</td>\n",
              "      <td>0</td>\n",
              "      <td>0</td>\n",
              "      <td>a</td>\n",
              "      <td>c</td>\n",
              "      <td>610.0</td>\n",
              "      <td>12.0</td>\n",
              "      <td>2003.0</td>\n",
              "      <td>1</td>\n",
              "      <td>36.0</td>\n",
              "      <td>2013.0</td>\n",
              "      <td>Mar,Jun,Sept,Dec</td>\n",
              "      <td>Feb</td>\n",
              "      <td>0</td>\n",
              "    </tr>\n",
              "    <tr>\n",
              "      <th>977352</th>\n",
              "      <td>283</td>\n",
              "      <td>2</td>\n",
              "      <td>2013-02-05</td>\n",
              "      <td>8853</td>\n",
              "      <td>797</td>\n",
              "      <td>1</td>\n",
              "      <td>1</td>\n",
              "      <td>0</td>\n",
              "      <td>0</td>\n",
              "      <td>a</td>\n",
              "      <td>a</td>\n",
              "      <td>2260.0</td>\n",
              "      <td>2.0</td>\n",
              "      <td>2013.0</td>\n",
              "      <td>1</td>\n",
              "      <td>40.0</td>\n",
              "      <td>2014.0</td>\n",
              "      <td>Jan,Apr,Jul,Oct</td>\n",
              "      <td>Feb</td>\n",
              "      <td>0</td>\n",
              "    </tr>\n",
              "    <tr>\n",
              "      <th>2961</th>\n",
              "      <td>732</td>\n",
              "      <td>3</td>\n",
              "      <td>2015-07-29</td>\n",
              "      <td>10847</td>\n",
              "      <td>1167</td>\n",
              "      <td>1</td>\n",
              "      <td>1</td>\n",
              "      <td>0</td>\n",
              "      <td>1</td>\n",
              "      <td>a</td>\n",
              "      <td>c</td>\n",
              "      <td>35280.0</td>\n",
              "      <td>7.0</td>\n",
              "      <td>2015.0</td>\n",
              "      <td>0</td>\n",
              "      <td>31.0</td>\n",
              "      <td>2015.0</td>\n",
              "      <td>0</td>\n",
              "      <td>Jul</td>\n",
              "      <td>0</td>\n",
              "    </tr>\n",
              "    <tr>\n",
              "      <th>768825</th>\n",
              "      <td>261</td>\n",
              "      <td>7</td>\n",
              "      <td>2013-08-11</td>\n",
              "      <td>0</td>\n",
              "      <td>0</td>\n",
              "      <td>0</td>\n",
              "      <td>0</td>\n",
              "      <td>0</td>\n",
              "      <td>0</td>\n",
              "      <td>d</td>\n",
              "      <td>c</td>\n",
              "      <td>15340.0</td>\n",
              "      <td>4.0</td>\n",
              "      <td>2015.0</td>\n",
              "      <td>1</td>\n",
              "      <td>39.0</td>\n",
              "      <td>2009.0</td>\n",
              "      <td>Jan,Apr,Jul,Oct</td>\n",
              "      <td>Aug</td>\n",
              "      <td>0</td>\n",
              "    </tr>\n",
              "    <tr>\n",
              "      <th>470710</th>\n",
              "      <td>966</td>\n",
              "      <td>2</td>\n",
              "      <td>2014-05-06</td>\n",
              "      <td>5629</td>\n",
              "      <td>682</td>\n",
              "      <td>1</td>\n",
              "      <td>1</td>\n",
              "      <td>0</td>\n",
              "      <td>0</td>\n",
              "      <td>a</td>\n",
              "      <td>a</td>\n",
              "      <td>760.0</td>\n",
              "      <td>2.0</td>\n",
              "      <td>2008.0</td>\n",
              "      <td>0</td>\n",
              "      <td>19.0</td>\n",
              "      <td>2014.0</td>\n",
              "      <td>0</td>\n",
              "      <td>May</td>\n",
              "      <td>0</td>\n",
              "    </tr>\n",
              "  </tbody>\n",
              "</table>\n",
              "</div>"
            ],
            "text/plain": [
              "        store  dayofweek       date  ...     promointerval  month_map  is_promo\n",
              "546205    641          4 2014-02-27  ...  Mar,Jun,Sept,Dec        Feb         0\n",
              "977352    283          2 2013-02-05  ...   Jan,Apr,Jul,Oct        Feb         0\n",
              "2961      732          3 2015-07-29  ...                 0        Jul         0\n",
              "768825    261          7 2013-08-11  ...   Jan,Apr,Jul,Oct        Aug         0\n",
              "470710    966          2 2014-05-06  ...                 0        May         0\n",
              "\n",
              "[5 rows x 20 columns]"
            ]
          },
          "metadata": {
            "tags": []
          },
          "execution_count": 48
        }
      ]
    },
    {
      "cell_type": "markdown",
      "metadata": {
        "id": "ic23HKPorFmu"
      },
      "source": [
        "## 1.6. Change Types\n"
      ]
    },
    {
      "cell_type": "code",
      "metadata": {
        "colab": {
          "base_uri": "https://localhost:8080/"
        },
        "id": "0lGuqtSYrmMg",
        "outputId": "fe0c1ba4-752c-413e-b6b8-79e42a8c99a0"
      },
      "source": [
        "df1.dtypes #Após fazer alteraçao nos dados é bom olhar o tipo pois pode ser alterado"
      ],
      "execution_count": 49,
      "outputs": [
        {
          "output_type": "execute_result",
          "data": {
            "text/plain": [
              "store                                 int64\n",
              "dayofweek                             int64\n",
              "date                         datetime64[ns]\n",
              "sales                                 int64\n",
              "customers                             int64\n",
              "open                                  int64\n",
              "promo                                 int64\n",
              "stateholiday                         object\n",
              "schoolholiday                         int64\n",
              "storetype                            object\n",
              "assortment                           object\n",
              "competitiondistance                 float64\n",
              "competitionopensincemonth           float64\n",
              "competitionopensinceyear            float64\n",
              "promo2                                int64\n",
              "promo2sinceweek                     float64\n",
              "promo2sinceyear                     float64\n",
              "promointerval                        object\n",
              "month_map                            object\n",
              "is_promo                              int64\n",
              "dtype: object"
            ]
          },
          "metadata": {
            "tags": []
          },
          "execution_count": 49
        }
      ]
    },
    {
      "cell_type": "code",
      "metadata": {
        "id": "uXa-cROer2Ig"
      },
      "source": [
        "df1['competitionopensincemonth'] = df1['competitionopensincemonth'].astype(int)\n",
        "df1['competitionopensinceyear'] = df1['competitionopensinceyear'].astype(int)\n",
        "df1['promo2sinceweek'] = df1['promo2sinceweek'].astype(int)\n",
        "df1['promo2sinceyear'] = df1['promo2sinceyear'].astype(int)"
      ],
      "execution_count": 50,
      "outputs": []
    },
    {
      "cell_type": "markdown",
      "metadata": {
        "id": "Id97brGzrFmy"
      },
      "source": [
        "## 1.7. Descriptive Statistical"
      ]
    },
    {
      "cell_type": "code",
      "metadata": {
        "id": "RBQRtpVnwlk9"
      },
      "source": [
        "num_attributes = df1.select_dtypes( include=['int64','float64'])\n",
        "cat_attributes = df1.select_dtypes( exclude=['int64','float64','datetime64[ns]'])"
      ],
      "execution_count": 51,
      "outputs": []
    },
    {
      "cell_type": "markdown",
      "metadata": {
        "id": "EpMnVlg4wUr3"
      },
      "source": [
        "## 1.7.1 Numerical Statistic\n"
      ]
    },
    {
      "cell_type": "code",
      "metadata": {
        "colab": {
          "base_uri": "https://localhost:8080/",
          "height": 483
        },
        "id": "NoGrwYr-zHCG",
        "outputId": "dd2eb57a-7cd6-4946-ddb7-a18d19584087"
      },
      "source": [
        "#CENTRAL TEDENCY - MEAN, MEDIAN \n",
        "ct1 = pd.DataFrame(num_attributes.apply(np.mean)).T\n",
        "ct2 = pd.DataFrame(num_attributes.apply(np.median)).T\n",
        "\n",
        "#Dispersion - std, min, max, range, skew, kurtosis\n",
        "d1 = pd.DataFrame(num_attributes.apply(np.std)).T\n",
        "d2 = pd.DataFrame(num_attributes.apply(np.min)).T\n",
        "d3 = pd.DataFrame(num_attributes.apply(np.max)).T\n",
        "d4 = pd.DataFrame(num_attributes.apply(lambda x: x.max() - x.min())).T\n",
        "d5 = pd.DataFrame( num_attributes.apply(lambda x: x.skew() ) ).T\n",
        "d6 = pd.DataFrame( num_attributes.apply( lambda x: x.kurtosis() ) ).T\n",
        "\n",
        "#Concat\n",
        "metrics = pd.concat( [d2, d3, d4, ct1, ct2, d1, d5, d6] ).T.reset_index()\n",
        "metrics.columns = ['Attributes','Min','Max','Range','Mean','Median','Std','Skew','Kurtosis']\n",
        "metrics"
      ],
      "execution_count": 52,
      "outputs": [
        {
          "output_type": "execute_result",
          "data": {
            "text/html": [
              "<div>\n",
              "<style scoped>\n",
              "    .dataframe tbody tr th:only-of-type {\n",
              "        vertical-align: middle;\n",
              "    }\n",
              "\n",
              "    .dataframe tbody tr th {\n",
              "        vertical-align: top;\n",
              "    }\n",
              "\n",
              "    .dataframe thead th {\n",
              "        text-align: right;\n",
              "    }\n",
              "</style>\n",
              "<table border=\"1\" class=\"dataframe\">\n",
              "  <thead>\n",
              "    <tr style=\"text-align: right;\">\n",
              "      <th></th>\n",
              "      <th>Attributes</th>\n",
              "      <th>Min</th>\n",
              "      <th>Max</th>\n",
              "      <th>Range</th>\n",
              "      <th>Mean</th>\n",
              "      <th>Median</th>\n",
              "      <th>Std</th>\n",
              "      <th>Skew</th>\n",
              "      <th>Kurtosis</th>\n",
              "    </tr>\n",
              "  </thead>\n",
              "  <tbody>\n",
              "    <tr>\n",
              "      <th>0</th>\n",
              "      <td>store</td>\n",
              "      <td>1.0</td>\n",
              "      <td>1115.0</td>\n",
              "      <td>1114.0</td>\n",
              "      <td>558.429727</td>\n",
              "      <td>558.0</td>\n",
              "      <td>321.908493</td>\n",
              "      <td>-0.000955</td>\n",
              "      <td>-1.200524</td>\n",
              "    </tr>\n",
              "    <tr>\n",
              "      <th>1</th>\n",
              "      <td>dayofweek</td>\n",
              "      <td>1.0</td>\n",
              "      <td>7.0</td>\n",
              "      <td>6.0</td>\n",
              "      <td>3.998341</td>\n",
              "      <td>4.0</td>\n",
              "      <td>1.997390</td>\n",
              "      <td>0.001593</td>\n",
              "      <td>-1.246873</td>\n",
              "    </tr>\n",
              "    <tr>\n",
              "      <th>2</th>\n",
              "      <td>sales</td>\n",
              "      <td>0.0</td>\n",
              "      <td>41551.0</td>\n",
              "      <td>41551.0</td>\n",
              "      <td>5773.818972</td>\n",
              "      <td>5744.0</td>\n",
              "      <td>3849.924283</td>\n",
              "      <td>0.641460</td>\n",
              "      <td>1.778375</td>\n",
              "    </tr>\n",
              "    <tr>\n",
              "      <th>3</th>\n",
              "      <td>customers</td>\n",
              "      <td>0.0</td>\n",
              "      <td>7388.0</td>\n",
              "      <td>7388.0</td>\n",
              "      <td>633.145946</td>\n",
              "      <td>609.0</td>\n",
              "      <td>464.411506</td>\n",
              "      <td>1.598650</td>\n",
              "      <td>7.091773</td>\n",
              "    </tr>\n",
              "    <tr>\n",
              "      <th>4</th>\n",
              "      <td>open</td>\n",
              "      <td>0.0</td>\n",
              "      <td>1.0</td>\n",
              "      <td>1.0</td>\n",
              "      <td>0.830107</td>\n",
              "      <td>1.0</td>\n",
              "      <td>0.375539</td>\n",
              "      <td>-1.758045</td>\n",
              "      <td>1.090723</td>\n",
              "    </tr>\n",
              "    <tr>\n",
              "      <th>5</th>\n",
              "      <td>promo</td>\n",
              "      <td>0.0</td>\n",
              "      <td>1.0</td>\n",
              "      <td>1.0</td>\n",
              "      <td>0.381515</td>\n",
              "      <td>0.0</td>\n",
              "      <td>0.485758</td>\n",
              "      <td>0.487838</td>\n",
              "      <td>-1.762018</td>\n",
              "    </tr>\n",
              "    <tr>\n",
              "      <th>6</th>\n",
              "      <td>schoolholiday</td>\n",
              "      <td>0.0</td>\n",
              "      <td>1.0</td>\n",
              "      <td>1.0</td>\n",
              "      <td>0.178647</td>\n",
              "      <td>0.0</td>\n",
              "      <td>0.383056</td>\n",
              "      <td>1.677842</td>\n",
              "      <td>0.815154</td>\n",
              "    </tr>\n",
              "    <tr>\n",
              "      <th>7</th>\n",
              "      <td>competitiondistance</td>\n",
              "      <td>20.0</td>\n",
              "      <td>200000.0</td>\n",
              "      <td>199980.0</td>\n",
              "      <td>5935.442677</td>\n",
              "      <td>2330.0</td>\n",
              "      <td>12547.646829</td>\n",
              "      <td>10.242344</td>\n",
              "      <td>147.789712</td>\n",
              "    </tr>\n",
              "    <tr>\n",
              "      <th>8</th>\n",
              "      <td>competitionopensincemonth</td>\n",
              "      <td>1.0</td>\n",
              "      <td>12.0</td>\n",
              "      <td>11.0</td>\n",
              "      <td>6.786849</td>\n",
              "      <td>7.0</td>\n",
              "      <td>3.311085</td>\n",
              "      <td>-0.042076</td>\n",
              "      <td>-1.232607</td>\n",
              "    </tr>\n",
              "    <tr>\n",
              "      <th>9</th>\n",
              "      <td>competitionopensinceyear</td>\n",
              "      <td>1900.0</td>\n",
              "      <td>2015.0</td>\n",
              "      <td>115.0</td>\n",
              "      <td>2010.324840</td>\n",
              "      <td>2012.0</td>\n",
              "      <td>5.515591</td>\n",
              "      <td>-7.235657</td>\n",
              "      <td>124.071304</td>\n",
              "    </tr>\n",
              "    <tr>\n",
              "      <th>10</th>\n",
              "      <td>promo2</td>\n",
              "      <td>0.0</td>\n",
              "      <td>1.0</td>\n",
              "      <td>1.0</td>\n",
              "      <td>0.500564</td>\n",
              "      <td>1.0</td>\n",
              "      <td>0.500000</td>\n",
              "      <td>-0.002255</td>\n",
              "      <td>-1.999999</td>\n",
              "    </tr>\n",
              "    <tr>\n",
              "      <th>11</th>\n",
              "      <td>promo2sinceweek</td>\n",
              "      <td>1.0</td>\n",
              "      <td>52.0</td>\n",
              "      <td>51.0</td>\n",
              "      <td>23.619033</td>\n",
              "      <td>22.0</td>\n",
              "      <td>14.310057</td>\n",
              "      <td>0.178723</td>\n",
              "      <td>-1.184046</td>\n",
              "    </tr>\n",
              "    <tr>\n",
              "      <th>12</th>\n",
              "      <td>promo2sinceyear</td>\n",
              "      <td>2009.0</td>\n",
              "      <td>2015.0</td>\n",
              "      <td>6.0</td>\n",
              "      <td>2012.795900</td>\n",
              "      <td>2013.0</td>\n",
              "      <td>1.664683</td>\n",
              "      <td>-0.782874</td>\n",
              "      <td>-0.214140</td>\n",
              "    </tr>\n",
              "    <tr>\n",
              "      <th>13</th>\n",
              "      <td>is_promo</td>\n",
              "      <td>0.0</td>\n",
              "      <td>1.0</td>\n",
              "      <td>1.0</td>\n",
              "      <td>0.171835</td>\n",
              "      <td>0.0</td>\n",
              "      <td>0.377237</td>\n",
              "      <td>1.739838</td>\n",
              "      <td>1.027039</td>\n",
              "    </tr>\n",
              "  </tbody>\n",
              "</table>\n",
              "</div>"
            ],
            "text/plain": [
              "                   Attributes     Min  ...       Skew    Kurtosis\n",
              "0                       store     1.0  ...  -0.000955   -1.200524\n",
              "1                   dayofweek     1.0  ...   0.001593   -1.246873\n",
              "2                       sales     0.0  ...   0.641460    1.778375\n",
              "3                   customers     0.0  ...   1.598650    7.091773\n",
              "4                        open     0.0  ...  -1.758045    1.090723\n",
              "5                       promo     0.0  ...   0.487838   -1.762018\n",
              "6               schoolholiday     0.0  ...   1.677842    0.815154\n",
              "7         competitiondistance    20.0  ...  10.242344  147.789712\n",
              "8   competitionopensincemonth     1.0  ...  -0.042076   -1.232607\n",
              "9    competitionopensinceyear  1900.0  ...  -7.235657  124.071304\n",
              "10                     promo2     0.0  ...  -0.002255   -1.999999\n",
              "11            promo2sinceweek     1.0  ...   0.178723   -1.184046\n",
              "12            promo2sinceyear  2009.0  ...  -0.782874   -0.214140\n",
              "13                   is_promo     0.0  ...   1.739838    1.027039\n",
              "\n",
              "[14 rows x 9 columns]"
            ]
          },
          "metadata": {
            "tags": []
          },
          "execution_count": 52
        }
      ]
    },
    {
      "cell_type": "code",
      "metadata": {
        "colab": {
          "base_uri": "https://localhost:8080/",
          "height": 388
        },
        "id": "At3296sZ5SpI",
        "outputId": "3884ef6b-798a-423a-b3f4-4ad25b783614"
      },
      "source": [
        "\n",
        "sns.displot(df1['competitiondistance'])\n"
      ],
      "execution_count": 53,
      "outputs": [
        {
          "output_type": "execute_result",
          "data": {
            "text/plain": [
              "<seaborn.axisgrid.FacetGrid at 0x7f32a19f2a90>"
            ]
          },
          "metadata": {
            "tags": []
          },
          "execution_count": 53
        },
        {
          "output_type": "display_data",
          "data": {
            "image/png": "[encoded data removed]",
            "text/plain": [
              "<Figure size 360x360 with 1 Axes>"
            ]
          },
          "metadata": {
            "tags": [],
            "needs_background": "light"
          }
        }
      ]
    },
    {
      "cell_type": "markdown",
      "metadata": {
        "id": "i1Jv_htQwaTT"
      },
      "source": [
        "## 1.7. Categorical Statistical"
      ]
    },
    {
      "cell_type": "code",
      "metadata": {
        "colab": {
          "base_uri": "https://localhost:8080/"
        },
        "id": "rUhgS1NcAZGh",
        "outputId": "7bfc9674-8562-4b55-fe19-f2e45d929da8"
      },
      "source": [
        "cat_attributes.apply( lambda x: x.unique().shape[0])"
      ],
      "execution_count": 54,
      "outputs": [
        {
          "output_type": "execute_result",
          "data": {
            "text/plain": [
              "stateholiday      4\n",
              "storetype         4\n",
              "assortment        3\n",
              "promointerval     4\n",
              "month_map        12\n",
              "dtype: int64"
            ]
          },
          "metadata": {
            "tags": []
          },
          "execution_count": 54
        }
      ]
    },
    {
      "cell_type": "code",
      "metadata": {
        "colab": {
          "base_uri": "https://localhost:8080/",
          "height": 570
        },
        "id": "d1wRxywTBP06",
        "outputId": "eef8cb1e-bcfa-4c93-dcb6-11e6324afed8"
      },
      "source": [
        "aux1 = df1[(df1['stateholiday'] != '0') & (df1['sales'] > 0)]\n",
        "fig = plt.figure(figsize=(20,9))\n",
        "plt.subplot(1, 3, 1)\n",
        "sns.boxenplot(x='stateholiday', y='sales', data=aux1)\n",
        "plt.subplot(1, 3, 2)\n",
        "sns.boxenplot(x='storetype', y='sales', data=aux1)\n",
        "plt.subplot(1, 3, 3)\n",
        "sns.boxenplot(x='assortment', y='sales', data=aux1)"
      ],
      "execution_count": 55,
      "outputs": [
        {
          "output_type": "execute_result",
          "data": {
            "text/plain": [
              "<matplotlib.axes._subplots.AxesSubplot at 0x7f32a126f350>"
            ]
          },
          "metadata": {
            "tags": []
          },
          "execution_count": 55
        },
        {
          "output_type": "display_data",
          "data": {
            "image/png": "[encoded data removed]",
            "text/plain": [
              "<Figure size 1440x648 with 3 Axes>"
            ]
          },
          "metadata": {
            "tags": [],
            "needs_background": "light"
          }
        }
      ]
    },
    {
      "cell_type": "markdown",
      "metadata": {
        "id": "V4PihMcXW_q1"
      },
      "source": [
        ""
      ]
    },
    {
      "cell_type": "markdown",
      "metadata": {
        "heading_collapsed": true,
        "id": "teil0zH5rFmz"
      },
      "source": [
        "# 2.0. PASSO 2: FEATURE ENGINNEERING\n",
        "\n",
        "\n"
      ]
    },
    {
      "cell_type": "markdown",
      "metadata": {
        "id": "ZBPEkW9yXffA"
      },
      "source": [
        "## 2.1. MAPA MENTAL DE HIPOTESES"
      ]
    },
    {
      "cell_type": "code",
      "metadata": {
        "id": "C3co-sHzkhs6",
        "colab": {
          "base_uri": "https://localhost:8080/",
          "height": 679
        },
        "outputId": "cb5fc58b-a6ec-4657-e4c2-45940113eb71"
      },
      "source": [
        "img('/content/data/MindsMapHypotese.png')"
      ],
      "execution_count": 56,
      "outputs": [
        {
          "output_type": "execute_result",
          "data": {
            "image/png": "[encoded data removed]",
            "text/plain": [
              "<IPython.core.display.Image object>"
            ]
          },
          "metadata": {
            "tags": []
          },
          "execution_count": 56
        }
      ]
    },
    {
      "cell_type": "markdown",
      "metadata": {
        "id": "FSwGYM5GXvQn"
      },
      "source": [
        "## 2.2. Criaca das Hipoteses"
      ]
    },
    {
      "cell_type": "code",
      "metadata": {
        "id": "wRxf4e2mnlHl"
      },
      "source": [
        "df2 = df1.copy()"
      ],
      "execution_count": 58,
      "outputs": []
    },
    {
      "cell_type": "markdown",
      "metadata": {
        "id": "fH-aCSP-X-KR"
      },
      "source": [
        "### 2.2.1 Hipoteses LOJA"
      ]
    },
    {
      "cell_type": "markdown",
      "metadata": {
        "id": "FYee0G82Y7-p"
      },
      "source": [
        "1. Lojas com número maior de funcionários deveriam vender mais.\n",
        "\n",
        "2. Lojas com maior capacidade de estoque deveriam vender mais.\n",
        "\n",
        "3. Lojas com maior porte deveriam vender mais.\n",
        "\n",
        "4. Lojas com maior sortimentos deveriam vender mais.\n",
        "\n",
        "5. Lojas com competidores mais próximos deveriam vender menos.\n",
        "\n",
        "6. Lojas com competidores à mais tempo deveriam vendem mais."
      ]
    },
    {
      "cell_type": "markdown",
      "metadata": {
        "id": "n8JVdXlcYQ5e"
      },
      "source": [
        "### 2.2.2 Hipoteses PRODUTO"
      ]
    },
    {
      "cell_type": "markdown",
      "metadata": {
        "id": "xolmmcSZZznZ"
      },
      "source": [
        "1. Lojas que investem mais em Marketing deveriam vender mais.\n",
        "\n",
        "2. Lojas com maior exposição de produto deveriam vender mais.\n",
        "\n",
        "3. Lojas com produtos com preço menor deveriam vender mais.\n",
        "\n",
        "5. Lojas com promoções mais agressivas ( descontos maiores ), deveriam vender mais.\n",
        "\n",
        "6. Lojas com promoções ativas por mais tempo deveriam vender mais.\n",
        "\n",
        "7. Lojas com mais dias de promoção deveriam vender mais.\n",
        "\n",
        "8. Lojas com mais promoções consecutivas deveriam vender mais."
      ]
    },
    {
      "cell_type": "markdown",
      "metadata": {
        "id": "So94GtmmYWwr"
      },
      "source": [
        "### 2.2.3 Hipoteses TEMPO"
      ]
    },
    {
      "cell_type": "markdown",
      "metadata": {
        "id": "Id_HQK-5aoQL"
      },
      "source": [
        "1. Lojas abertas durante o feriado de Natal deveriam vender mais.\n",
        "\n",
        "2. Lojas deveriam vender mais ao longo dos anos.\n",
        "\n",
        "3. Lojas deveriam vender mais no segundo semestre do ano.\n",
        "\n",
        "4. Lojas deveriam vender mais depois do dia 10 de cada mês.\n",
        "\n",
        "5. Lojas deveriam vender menos aos finais de semana.\n",
        "\n",
        "6. Lojas deveriam vender menos durante os feriados escolares."
      ]
    },
    {
      "cell_type": "markdown",
      "metadata": {
        "id": "0sLSWUjjdwdN"
      },
      "source": [
        "##2.3 lista Final de Hipoteses"
      ]
    },
    {
      "cell_type": "markdown",
      "metadata": {
        "id": "lo9AtjYod1Xs"
      },
      "source": [
        "1. Lojas com maior sortimentos deveriam vender mais.\n",
        "\n",
        "2. Lojas com competidores mais próximos deveriam vender menos.\n",
        "\n",
        "3. Lojas com competidores à mais tempo deveriam vendem mais.\n",
        "\n",
        "4. Lojas com promoções ativas por mais tempo deveriam vender mais.\n",
        "\n",
        "5. Lojas com mais dias de promoção deveriam vender mais.\n",
        "\n",
        "7. Lojas com mais promoções consecutivas deveriam vender mais.\n",
        "\n",
        "8. Lojas abertas durante o feriado de Natal deveriam vender mais.\n",
        "\n",
        "9. Lojas deveriam vender mais ao longo dos anos.\n",
        "\n",
        "10. Lojas deveriam vender mais no segundo semestre do ano.\n",
        "\n",
        "11. Lojas deveriam vender mais depois do dia 10 de cada mês.\n",
        "\n",
        "12. Lojas deveriam vender menos aos finais de semana.\n",
        "\n",
        "13. Lojas deveriam vender menos durante os feriados escolares."
      ]
    },
    {
      "cell_type": "markdown",
      "metadata": {
        "id": "iRCgrEgmoqR0"
      },
      "source": [
        "## 2.4. FEATURE ENGINEERING\n"
      ]
    },
    {
      "cell_type": "code",
      "metadata": {
        "colab": {
          "base_uri": "https://localhost:8080/"
        },
        "id": "7iJcvvWGoxNW",
        "outputId": "f310fe45-bf5d-4325-e3b3-edf1729e8642"
      },
      "source": [
        "#yer\n",
        "df2['year'] = df2['date'].dt.year\n",
        "\n",
        "#month\n",
        "df2['month'] = df2['date'].dt.month\n",
        "\n",
        "#day\n",
        "df2['day'] = df2['date'].dt.day\n",
        "\n",
        "# week for yer\n",
        "df2['week_of_year'] = df2['date'].dt.weekofyear\n",
        "\n",
        "#year week\n",
        "df2['year_week'] = df2['date'].dt.strftime('%Y-%W')\n",
        "\n",
        "#competition since \n",
        "df2['competition_since'] = df2.apply(lambda x: datetime.datetime(year=x['competitionopensinceyear'], month=x['competitionopensincemonth'], day=1),axis=1)\n",
        "df2['competition_time_month'] = ((df2['date'] - df2['competition_since']) / 30).apply(lambda x: x.days).astype(int)\n",
        "\n",
        "#promo since\n",
        "df2['promo_since'] = df2['promo2sinceyear'].astype(str) + '-' + df2['promo2sinceweek'].astype(str)\n",
        "df2['promo_since'] = df2['promo_since'].apply( lambda x: datetime.datetime.strptime( x + '-1', '%Y-%W-%w' ) - datetime.timedelta( days=7 ) )\n",
        "df2['promo_time_week'] = ( ( df2['date'] - df2['promo_since'] )/7 ).apply( lambda x: x.days ).astype( int )\n",
        "\n",
        "#assortment\n",
        "df2['assortment'] = df2['assortment'].apply(lambda x: 'basic' if x == 'a' else 'extra' if x == 'b' else 'extended')\n",
        "\n",
        "#stateholiday\n",
        "df2['stateholiday'] = df2['stateholiday'].apply(lambda x: 'public holiday' if x == 'a' else 'Easter holiday' if x == 'b' else 'Christmas' if x == 'c' else 'regular_day')"
      ],
      "execution_count": 82,
      "outputs": [
        {
          "output_type": "stream",
          "text": [
            "/usr/local/lib/python3.7/dist-packages/ipykernel_launcher.py:11: FutureWarning: Series.dt.weekofyear and Series.dt.week have been deprecated.  Please use Series.dt.isocalendar().week instead.\n",
            "  # This is added back by InteractiveShellApp.init_path()\n"
          ],
          "name": "stderr"
        }
      ]
    }
  ]
}