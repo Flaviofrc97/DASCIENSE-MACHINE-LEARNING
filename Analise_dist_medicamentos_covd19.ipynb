{
  "nbformat": 4,
  "nbformat_minor": 0,
  "metadata": {
    "colab": {
      "name": "dist_medicamentos-covd19.ipynb",
      "provenance": [],
      "collapsed_sections": [],
      "mount_file_id": "13gRT_qpWJ2OUqm0RYid5Zt2pbTefUg0F",
      "authorship_tag": "ABX9TyP4rJG2xwgJqbP8oJLQhv7m",
      "include_colab_link": true
    },
    "kernelspec": {
      "name": "python3",
      "display_name": "Python 3"
    },
    "language_info": {
      "name": "python"
    }
  },
  "cells": [
    {
      "cell_type": "markdown",
      "metadata": {
        "id": "view-in-github",
        "colab_type": "text"
      },
      "source": [
        "<a href=\"https://colab.research.google.com/github/Flaviofrc97/DASCIENSE-MACHINE-LEARNING/blob/main/Analise_dist_medicamentos_covd19.ipynb\" target=\"_parent\"><img src=\"https://colab.research.google.com/assets/colab-badge.svg\" alt=\"Open In Colab\"/></a>"
      ]
    },
    {
      "cell_type": "markdown",
      "metadata": {
        "id": "B-8qN9yqvsM8"
      },
      "source": [
        "# **IMPORTS**"
      ]
    },
    {
      "cell_type": "code",
      "metadata": {
        "id": "pPllAlODJKnM"
      },
      "source": [
        "#!pip install systools"
      ],
      "execution_count": 584,
      "outputs": []
    },
    {
      "cell_type": "code",
      "metadata": {
        "id": "QhhvSKiZ8tqr"
      },
      "source": [
        "import pandas as pd\n",
        "import calendar\n",
        "import numpy as np\n",
        "\n",
        "from systemtools.number import *\n",
        "\n",
        "from pandas.api.types import is_string_dtype, is_numeric_dtype\n",
        "import matplotlib.pyplot as plt\n",
        "import seaborn as sns"
      ],
      "execution_count": 585,
      "outputs": []
    },
    {
      "cell_type": "code",
      "metadata": {
        "id": "88YKwlP_vOqU"
      },
      "source": [
        "sns.set(style='darkgrid')\n",
        "\n",
        "def get_label(g):\n",
        "  for p in g.patches:\n",
        "    height = p.get_height()\n",
        "    g.text(p.get_x()+p.get_width()/2.,\n",
        "            height/2,\n",
        "            '{}'.format(round(height)),\n",
        "            ha=\"center\", color='black')"
      ],
      "execution_count": 586,
      "outputs": []
    },
    {
      "cell_type": "markdown",
      "metadata": {
        "id": "ZzIFFoI9vwEc"
      },
      "source": [
        "# **READING DATA**"
      ]
    },
    {
      "cell_type": "code",
      "metadata": {
        "id": "44nkZpF987ce"
      },
      "source": [
        "df = pd.read_csv('/content/DistribuicaoCloroquinaOseltamivir (2).csv', encoding = 'utf8', sep=';')"
      ],
      "execution_count": 587,
      "outputs": []
    },
    {
      "cell_type": "markdown",
      "metadata": {
        "id": "_hEMXwO8v0KU"
      },
      "source": [
        "# **DATA DESCRIPTION**"
      ]
    },
    {
      "cell_type": "code",
      "metadata": {
        "id": "vfYY3p4L8-y1",
        "colab": {
          "base_uri": "https://localhost:8080/",
          "height": 202
        },
        "outputId": "bc7227c2-9196-422e-f1f8-038f73a035ec"
      },
      "source": [
        "df.tail()"
      ],
      "execution_count": 588,
      "outputs": [
        {
          "output_type": "execute_result",
          "data": {
            "text/html": [
              "<div>\n",
              "<style scoped>\n",
              "    .dataframe tbody tr th:only-of-type {\n",
              "        vertical-align: middle;\n",
              "    }\n",
              "\n",
              "    .dataframe tbody tr th {\n",
              "        vertical-align: top;\n",
              "    }\n",
              "\n",
              "    .dataframe thead th {\n",
              "        text-align: right;\n",
              "    }\n",
              "</style>\n",
              "<table border=\"1\" class=\"dataframe\">\n",
              "  <thead>\n",
              "    <tr style=\"text-align: right;\">\n",
              "      <th></th>\n",
              "      <th>REGIÃO</th>\n",
              "      <th>UF</th>\n",
              "      <th>DESTINATARIO</th>\n",
              "      <th>LOCALIDADE</th>\n",
              "      <th>ITEM</th>\n",
              "      <th>PROGRAMA DE SAÚDE</th>\n",
              "      <th>QUANTIDADE</th>\n",
              "      <th>STATUS</th>\n",
              "      <th>DATA DE ENTREGA</th>\n",
              "      <th>VALOR UNITÁRIO</th>\n",
              "      <th>VALOR TOTAL</th>\n",
              "    </tr>\n",
              "  </thead>\n",
              "  <tbody>\n",
              "    <tr>\n",
              "      <th>976</th>\n",
              "      <td>SUL</td>\n",
              "      <td>SANTA CATARINA</td>\n",
              "      <td>SES</td>\n",
              "      <td>SANTA CATARINA</td>\n",
              "      <td>FOSFATO DE OSELTAMIVIR 30MG</td>\n",
              "      <td>INFLUENZA</td>\n",
              "      <td>10000</td>\n",
              "      <td>ENTREGA REALIZADA</td>\n",
              "      <td>19/04/2021</td>\n",
              "      <td>R$ 2,60</td>\n",
              "      <td>R$ 26.000,00</td>\n",
              "    </tr>\n",
              "    <tr>\n",
              "      <th>977</th>\n",
              "      <td>SUDESTE</td>\n",
              "      <td>SÃO PAULO</td>\n",
              "      <td>SMS</td>\n",
              "      <td>SÃO PAULO</td>\n",
              "      <td>FOSFATO DE OSELTAMIVIR 30MG</td>\n",
              "      <td>INFLUENZA</td>\n",
              "      <td>100000</td>\n",
              "      <td>ENTREGA REALIZADA</td>\n",
              "      <td>20/04/2021</td>\n",
              "      <td>R$ 2,60</td>\n",
              "      <td>R$ 260.000,00</td>\n",
              "    </tr>\n",
              "    <tr>\n",
              "      <th>978</th>\n",
              "      <td>SUDESTE</td>\n",
              "      <td>ESPÍRITO SANTO</td>\n",
              "      <td>SMS</td>\n",
              "      <td>VITÓRIA</td>\n",
              "      <td>FOSFATO DE OSELTAMIVIR 30MG</td>\n",
              "      <td>INFLUENZA</td>\n",
              "      <td>1000</td>\n",
              "      <td>ENTREGA REALIZADA</td>\n",
              "      <td>19/04/2021</td>\n",
              "      <td>R$ 2,60</td>\n",
              "      <td>R$ 2.600,00</td>\n",
              "    </tr>\n",
              "    <tr>\n",
              "      <th>979</th>\n",
              "      <td>SUDESTE</td>\n",
              "      <td>MINAS GERAIS</td>\n",
              "      <td>SMS</td>\n",
              "      <td>BELO HORIZONTE</td>\n",
              "      <td>FOSFATO DE OSELTAMIVIR 75MG</td>\n",
              "      <td>INFLUENZA</td>\n",
              "      <td>35000</td>\n",
              "      <td>ENTREGA REALIZADA</td>\n",
              "      <td>26/04/2021</td>\n",
              "      <td>R$ 5,00</td>\n",
              "      <td>R$ 175.000,00</td>\n",
              "    </tr>\n",
              "    <tr>\n",
              "      <th>980</th>\n",
              "      <td>SUDESTE</td>\n",
              "      <td>SÃO PAULO</td>\n",
              "      <td>SMS</td>\n",
              "      <td>PRESIDENTE PRUDENTE</td>\n",
              "      <td>HIDROXICLOROQUINA 200MG</td>\n",
              "      <td>COVID-19</td>\n",
              "      <td>100000</td>\n",
              "      <td>ENTREGA REALIZADA</td>\n",
              "      <td>27/04/2021</td>\n",
              "      <td>R$                                        -</td>\n",
              "      <td>R$                                 -</td>\n",
              "    </tr>\n",
              "  </tbody>\n",
              "</table>\n",
              "</div>"
            ],
            "text/plain": [
              "      REGIÃO  ...                            VALOR TOTAL  \n",
              "976     SUL   ...                             R$ 26.000,00\n",
              "977  SUDESTE  ...                            R$ 260.000,00\n",
              "978  SUDESTE  ...                              R$ 2.600,00\n",
              "979  SUDESTE  ...                            R$ 175.000,00\n",
              "980  SUDESTE  ...   R$                                 -  \n",
              "\n",
              "[5 rows x 11 columns]"
            ]
          },
          "metadata": {
            "tags": []
          },
          "execution_count": 588
        }
      ]
    },
    {
      "cell_type": "code",
      "metadata": {
        "id": "sH6TleFjX2Av",
        "colab": {
          "base_uri": "https://localhost:8080/"
        },
        "outputId": "877dd95d-d77b-418d-f9d6-6f6bdd7913fc"
      },
      "source": [
        "df.shape"
      ],
      "execution_count": 589,
      "outputs": [
        {
          "output_type": "execute_result",
          "data": {
            "text/plain": [
              "(981, 11)"
            ]
          },
          "metadata": {
            "tags": []
          },
          "execution_count": 589
        }
      ]
    },
    {
      "cell_type": "code",
      "metadata": {
        "id": "ThyyITIov3aR",
        "colab": {
          "base_uri": "https://localhost:8080/"
        },
        "outputId": "71abd4a0-c7e8-46c0-d0b3-5ae0105fa440"
      },
      "source": [
        "df.info()"
      ],
      "execution_count": 590,
      "outputs": [
        {
          "output_type": "stream",
          "text": [
            "<class 'pandas.core.frame.DataFrame'>\n",
            "RangeIndex: 981 entries, 0 to 980\n",
            "Data columns (total 11 columns):\n",
            " #   Column             Non-Null Count  Dtype \n",
            "---  ------             --------------  ----- \n",
            " 0   REGIÃO             981 non-null    object\n",
            " 1   UF                 981 non-null    object\n",
            " 2   DESTINATARIO       981 non-null    object\n",
            " 3   LOCALIDADE         981 non-null    object\n",
            " 4   ITEM               981 non-null    object\n",
            " 5   PROGRAMA DE SAÚDE  981 non-null    object\n",
            " 6   QUANTIDADE         981 non-null    int64 \n",
            " 7   STATUS             981 non-null    object\n",
            " 8   DATA DE ENTREGA    981 non-null    object\n",
            " 9    VALOR UNITÁRIO    981 non-null    object\n",
            " 10   VALOR TOTAL       981 non-null    object\n",
            "dtypes: int64(1), object(10)\n",
            "memory usage: 84.4+ KB\n"
          ],
          "name": "stdout"
        }
      ]
    },
    {
      "cell_type": "code",
      "metadata": {
        "id": "ShK3cU_2v5xP",
        "colab": {
          "base_uri": "https://localhost:8080/"
        },
        "outputId": "e22c68a1-9c9d-4db4-ed39-f2c4d8962041"
      },
      "source": [
        "df.isna().sum()"
      ],
      "execution_count": 591,
      "outputs": [
        {
          "output_type": "execute_result",
          "data": {
            "text/plain": [
              "REGIÃO               0\n",
              "UF                   0\n",
              "DESTINATARIO         0\n",
              "LOCALIDADE           0\n",
              "ITEM                 0\n",
              "PROGRAMA DE SAÚDE    0\n",
              "QUANTIDADE           0\n",
              "STATUS               0\n",
              "DATA DE ENTREGA      0\n",
              " VALOR UNITÁRIO      0\n",
              " VALOR TOTAL         0\n",
              "dtype: int64"
            ]
          },
          "metadata": {
            "tags": []
          },
          "execution_count": 591
        }
      ]
    },
    {
      "cell_type": "markdown",
      "metadata": {
        "id": "0AMrrR67FsGl"
      },
      "source": [
        "# **FEATURE ENGINEERING**"
      ]
    },
    {
      "cell_type": "code",
      "metadata": {
        "id": "JwTeaSMnY6UH",
        "colab": {
          "base_uri": "https://localhost:8080/",
          "height": 78
        },
        "outputId": "14fdda7b-2a49-4820-e846-92797081d145"
      },
      "source": [
        "df.sample()"
      ],
      "execution_count": 592,
      "outputs": [
        {
          "output_type": "execute_result",
          "data": {
            "text/html": [
              "<div>\n",
              "<style scoped>\n",
              "    .dataframe tbody tr th:only-of-type {\n",
              "        vertical-align: middle;\n",
              "    }\n",
              "\n",
              "    .dataframe tbody tr th {\n",
              "        vertical-align: top;\n",
              "    }\n",
              "\n",
              "    .dataframe thead th {\n",
              "        text-align: right;\n",
              "    }\n",
              "</style>\n",
              "<table border=\"1\" class=\"dataframe\">\n",
              "  <thead>\n",
              "    <tr style=\"text-align: right;\">\n",
              "      <th></th>\n",
              "      <th>REGIÃO</th>\n",
              "      <th>UF</th>\n",
              "      <th>DESTINATARIO</th>\n",
              "      <th>LOCALIDADE</th>\n",
              "      <th>ITEM</th>\n",
              "      <th>PROGRAMA DE SAÚDE</th>\n",
              "      <th>QUANTIDADE</th>\n",
              "      <th>STATUS</th>\n",
              "      <th>DATA DE ENTREGA</th>\n",
              "      <th>VALOR UNITÁRIO</th>\n",
              "      <th>VALOR TOTAL</th>\n",
              "    </tr>\n",
              "  </thead>\n",
              "  <tbody>\n",
              "    <tr>\n",
              "      <th>226</th>\n",
              "      <td>SUL</td>\n",
              "      <td>SANTA CATARINA</td>\n",
              "      <td>SMS</td>\n",
              "      <td>PINHALZINHO</td>\n",
              "      <td>HIDROXICLOROQUINA 200MG</td>\n",
              "      <td>COVID-19</td>\n",
              "      <td>3000</td>\n",
              "      <td>ENTREGA REALIZADA</td>\n",
              "      <td>17/09/2020</td>\n",
              "      <td>R$-</td>\n",
              "      <td>R$-</td>\n",
              "    </tr>\n",
              "  </tbody>\n",
              "</table>\n",
              "</div>"
            ],
            "text/plain": [
              "    REGIÃO               UF  ...  VALOR UNITÁRIO    VALOR TOTAL  \n",
              "226   SUL   SANTA CATARINA   ...           R$-             R$-   \n",
              "\n",
              "[1 rows x 11 columns]"
            ]
          },
          "metadata": {
            "tags": []
          },
          "execution_count": 592
        }
      ]
    },
    {
      "cell_type": "code",
      "metadata": {
        "id": "o5X8UCT62Det"
      },
      "source": [
        "df.columns = df.columns.str.strip()\n",
        "df.columns = df.columns.str.lower()\n",
        "\n",
        "# Tirando espaços das linhas\n",
        "for col in df:\n",
        "  if is_string_dtype:\n",
        "    df[col] = df[col].apply(lambda x: str(x).strip())\n",
        "\n",
        "\n",
        "#Convrtendo o tipo\n",
        "df['quantidade'] = df['quantidade'].astype('int64')\n",
        "df['data de entrega'] = pd.to_datetime(df['data de entrega'], format='%d/%m/%Y')\n",
        "df['ano'] = df['data de entrega'].dt.year\n",
        "df['mes'] = df['data de entrega'].dt.month\n",
        "\n",
        "#Retirando caracteres indesejados das colunas vr. unitario e vr. total e convertendo para float\n",
        "df['valor unitário'] = df['valor unitário'].apply(lambda x: parseNumber(x))\n",
        "df['valor total'] = df['valor total'].apply(lambda x: parseNumber(x))\n",
        "\n",
        "# mudando numero do mes para o nome\n",
        "df['nome mes'] = df['mes'].apply(lambda x: calendar.month_abbr[x])\n",
        "df.drop(['destinatario', 'localidade', 'mes'], axis=1, inplace=True)\n",
        "\n",
        "#Renomeando colunas\n",
        "cols = ['regiao', 'uf', 'item', 'programa_saude', 'quantidade', 'status',\n",
        "       'data_entrega', 'valor_unitario', 'valor_total', 'ano', 'nome_mes']\n",
        "\n",
        "df.columns = map(str.lower,cols)"
      ],
      "execution_count": 593,
      "outputs": []
    },
    {
      "cell_type": "markdown",
      "metadata": {
        "id": "qmvwPc9o8IYB"
      },
      "source": [
        "# **Fill NA**"
      ]
    },
    {
      "cell_type": "code",
      "metadata": {
        "id": "KQ4ZKuCNYes7",
        "colab": {
          "base_uri": "https://localhost:8080/"
        },
        "outputId": "b1141357-41b1-408c-d574-cd73a1c3d401"
      },
      "source": [
        "df.dtypes"
      ],
      "execution_count": 595,
      "outputs": [
        {
          "output_type": "execute_result",
          "data": {
            "text/plain": [
              "regiao                    object\n",
              "uf                        object\n",
              "item                      object\n",
              "programa_saude            object\n",
              "quantidade                 int64\n",
              "status                    object\n",
              "data_entrega      datetime64[ns]\n",
              "valor_unitario           float64\n",
              "valor_total              float64\n",
              "ano                        int64\n",
              "nome_mes                  object\n",
              "dtype: object"
            ]
          },
          "metadata": {
            "tags": []
          },
          "execution_count": 595
        }
      ]
    },
    {
      "cell_type": "markdown",
      "metadata": {
        "id": "jJKhFz8lIap9"
      },
      "source": [
        "# **EXPLORATORY DATA ANALYSIS**"
      ]
    },
    {
      "cell_type": "code",
      "metadata": {
        "id": "TO8ZWrkJWMi1"
      },
      "source": [
        "# Estou separando apenas os dados referente a covid-19 e com Status de entregue, uma vez que não consigo analisar o que seria 'remanejamento'.\n",
        "mask = (df['programa_saude'] == 'COVID-19') & (df['status'] == 'ENTREGA REALIZADA')\n",
        "df_covid = df.loc[mask]"
      ],
      "execution_count": 596,
      "outputs": []
    },
    {
      "cell_type": "code",
      "metadata": {
        "id": "UkYzTTi7STH_",
        "colab": {
          "base_uri": "https://localhost:8080/",
          "height": 202
        },
        "outputId": "9106592d-266d-4de3-f2cc-55f366d650f1"
      },
      "source": [
        "df_covid.head()"
      ],
      "execution_count": 597,
      "outputs": [
        {
          "output_type": "execute_result",
          "data": {
            "text/html": [
              "<div>\n",
              "<style scoped>\n",
              "    .dataframe tbody tr th:only-of-type {\n",
              "        vertical-align: middle;\n",
              "    }\n",
              "\n",
              "    .dataframe tbody tr th {\n",
              "        vertical-align: top;\n",
              "    }\n",
              "\n",
              "    .dataframe thead th {\n",
              "        text-align: right;\n",
              "    }\n",
              "</style>\n",
              "<table border=\"1\" class=\"dataframe\">\n",
              "  <thead>\n",
              "    <tr style=\"text-align: right;\">\n",
              "      <th></th>\n",
              "      <th>regiao</th>\n",
              "      <th>uf</th>\n",
              "      <th>item</th>\n",
              "      <th>programa_saude</th>\n",
              "      <th>quantidade</th>\n",
              "      <th>status</th>\n",
              "      <th>data_entrega</th>\n",
              "      <th>valor_unitario</th>\n",
              "      <th>valor_total</th>\n",
              "      <th>ano</th>\n",
              "      <th>nome_mes</th>\n",
              "    </tr>\n",
              "  </thead>\n",
              "  <tbody>\n",
              "    <tr>\n",
              "      <th>6</th>\n",
              "      <td>SUL</td>\n",
              "      <td>SANTA CATARINA</td>\n",
              "      <td>DIFOSFATO DE CLOROQUINA 150MG</td>\n",
              "      <td>COVID-19</td>\n",
              "      <td>1500</td>\n",
              "      <td>ENTREGA REALIZADA</td>\n",
              "      <td>2020-08-24</td>\n",
              "      <td>NaN</td>\n",
              "      <td>NaN</td>\n",
              "      <td>2020</td>\n",
              "      <td>Aug</td>\n",
              "    </tr>\n",
              "    <tr>\n",
              "      <th>7</th>\n",
              "      <td>SUL</td>\n",
              "      <td>RIO GRANDE DO SUL</td>\n",
              "      <td>DIFOSFATO DE CLOROQUINA 150MG</td>\n",
              "      <td>COVID-19</td>\n",
              "      <td>500</td>\n",
              "      <td>ENTREGA REALIZADA</td>\n",
              "      <td>2020-08-18</td>\n",
              "      <td>NaN</td>\n",
              "      <td>NaN</td>\n",
              "      <td>2020</td>\n",
              "      <td>Aug</td>\n",
              "    </tr>\n",
              "    <tr>\n",
              "      <th>8</th>\n",
              "      <td>SUL</td>\n",
              "      <td>RIO GRANDE DO SUL</td>\n",
              "      <td>DIFOSFATO DE CLOROQUINA 150MG</td>\n",
              "      <td>COVID-19</td>\n",
              "      <td>40000</td>\n",
              "      <td>ENTREGA REALIZADA</td>\n",
              "      <td>2020-08-18</td>\n",
              "      <td>NaN</td>\n",
              "      <td>NaN</td>\n",
              "      <td>2020</td>\n",
              "      <td>Aug</td>\n",
              "    </tr>\n",
              "    <tr>\n",
              "      <th>9</th>\n",
              "      <td>SUL</td>\n",
              "      <td>RIO GRANDE DO SUL</td>\n",
              "      <td>DIFOSFATO DE CLOROQUINA 150MG</td>\n",
              "      <td>COVID-19</td>\n",
              "      <td>9000</td>\n",
              "      <td>ENTREGA REALIZADA</td>\n",
              "      <td>2020-08-18</td>\n",
              "      <td>NaN</td>\n",
              "      <td>NaN</td>\n",
              "      <td>2020</td>\n",
              "      <td>Aug</td>\n",
              "    </tr>\n",
              "    <tr>\n",
              "      <th>10</th>\n",
              "      <td>SUL</td>\n",
              "      <td>RIO GRANDE DO SUL</td>\n",
              "      <td>DIFOSFATO DE CLOROQUINA 150MG</td>\n",
              "      <td>COVID-19</td>\n",
              "      <td>500</td>\n",
              "      <td>ENTREGA REALIZADA</td>\n",
              "      <td>2020-08-18</td>\n",
              "      <td>NaN</td>\n",
              "      <td>NaN</td>\n",
              "      <td>2020</td>\n",
              "      <td>Aug</td>\n",
              "    </tr>\n",
              "  </tbody>\n",
              "</table>\n",
              "</div>"
            ],
            "text/plain": [
              "   regiao                 uf  ...   ano nome_mes\n",
              "6     SUL     SANTA CATARINA  ...  2020      Aug\n",
              "7     SUL  RIO GRANDE DO SUL  ...  2020      Aug\n",
              "8     SUL  RIO GRANDE DO SUL  ...  2020      Aug\n",
              "9     SUL  RIO GRANDE DO SUL  ...  2020      Aug\n",
              "10    SUL  RIO GRANDE DO SUL  ...  2020      Aug\n",
              "\n",
              "[5 rows x 11 columns]"
            ]
          },
          "metadata": {
            "tags": []
          },
          "execution_count": 597
        }
      ]
    },
    {
      "cell_type": "code",
      "metadata": {
        "id": "vbATNoEVZZHl"
      },
      "source": [
        "aux = df_covid.groupby(['uf'])['quantidade'].sum().reset_index()\n",
        "aux = pd.DataFrame(aux)\n",
        "top10 = aux.nlargest(10, 'quantidade')"
      ],
      "execution_count": 598,
      "outputs": []
    },
    {
      "cell_type": "code",
      "metadata": {
        "id": "4SQQEqFct0tb",
        "colab": {
          "base_uri": "https://localhost:8080/",
          "height": 465
        },
        "outputId": "307f8174-c5dc-436a-c659-2d15e15e6614"
      },
      "source": [
        "plt.figure(figsize=(18.5,7))\n",
        "g = sns.barplot(y='uf', x='quantidade', data = top10, palette='Blues_r');\n",
        "plt.title(' OS 10 ESTADOS QUE MAIS RECEBERAM MEDICAMENTOS PARA COVID-19 DE 2020 a 15/07/2021', size = 15);\n",
        "plt.ticklabel_format(style='plain', axis='x')\n",
        "#get_label(g)"
      ],
      "execution_count": 599,
      "outputs": [
        {
          "output_type": "display_data",
          "data": {
            "image/png": "[encoded data removed]",
            "text/plain": [
              "<Figure size 1332x504 with 1 Axes>"
            ]
          },
          "metadata": {
            "tags": []
          }
        }
      ]
    },
    {
      "cell_type": "code",
      "metadata": {
        "id": "hF_zUj-aI_ii"
      },
      "source": [
        "aux2 = df_covid.groupby(['regiao'])['quantidade'].sum().reset_index()\n",
        "aux2 = pd.DataFrame(aux2)\n",
        "aux2 = aux2.nlargest(10, 'quantidade')"
      ],
      "execution_count": 600,
      "outputs": []
    },
    {
      "cell_type": "code",
      "metadata": {
        "id": "GSst_dU1JF3m",
        "colab": {
          "base_uri": "https://localhost:8080/",
          "height": 467
        },
        "outputId": "21dd1612-587f-471f-a0a5-46dfc3d06b1a"
      },
      "source": [
        "plt.figure(figsize=(18,7));\n",
        "g = sns.barplot(x='regiao', y='quantidade', data = aux2, palette='Blues_r');\n",
        "plt.title('REGIÕES QUE MAIS RECEBERAM MEDICAMENTOS PARA COMBATE A COVID-19',  size=15);\n",
        "plt.ticklabel_format(style='plain', axis='y')\n",
        "#get_label(g)"
      ],
      "execution_count": 601,
      "outputs": [
        {
          "output_type": "display_data",
          "data": {
            "image/png": "[encoded data removed]",
            "text/plain": [
              "<Figure size 1296x504 with 1 Axes>"
            ]
          },
          "metadata": {
            "tags": []
          }
        }
      ]
    },
    {
      "cell_type": "code",
      "metadata": {
        "id": "YnE9fx8YhEAO",
        "colab": {
          "base_uri": "https://localhost:8080/",
          "height": 324
        },
        "outputId": "080c5406-6a4b-489f-f16e-abd6ed19f8ac"
      },
      "source": [
        "df_covid_2020 = df_covid[df_covid['data_entrega'].dt.year == 2020]\n",
        "\n",
        "aux3 = df_covid_2020.groupby(['nome_mes'])['quantidade'].sum().reset_index()\n",
        "aux3 = pd.DataFrame(aux3)\n",
        "\n",
        "aux3['nome_mes']= pd.Categorical(aux3['nome_mes'],categories=['Mar', 'Apr', 'May', 'Jun', 'Jul', 'Aug', 'Sep', 'Oct', 'Dec'],ordered=True)\n",
        "aux3 = aux3.sort_values('nome_mes',ascending=False)\n",
        "\n",
        "aux3"
      ],
      "execution_count": 602,
      "outputs": [
        {
          "output_type": "execute_result",
          "data": {
            "text/html": [
              "<div>\n",
              "<style scoped>\n",
              "    .dataframe tbody tr th:only-of-type {\n",
              "        vertical-align: middle;\n",
              "    }\n",
              "\n",
              "    .dataframe tbody tr th {\n",
              "        vertical-align: top;\n",
              "    }\n",
              "\n",
              "    .dataframe thead th {\n",
              "        text-align: right;\n",
              "    }\n",
              "</style>\n",
              "<table border=\"1\" class=\"dataframe\">\n",
              "  <thead>\n",
              "    <tr style=\"text-align: right;\">\n",
              "      <th></th>\n",
              "      <th>nome_mes</th>\n",
              "      <th>quantidade</th>\n",
              "    </tr>\n",
              "  </thead>\n",
              "  <tbody>\n",
              "    <tr>\n",
              "      <th>2</th>\n",
              "      <td>Dec</td>\n",
              "      <td>12000</td>\n",
              "    </tr>\n",
              "    <tr>\n",
              "      <th>7</th>\n",
              "      <td>Oct</td>\n",
              "      <td>15000</td>\n",
              "    </tr>\n",
              "    <tr>\n",
              "      <th>8</th>\n",
              "      <td>Sep</td>\n",
              "      <td>1056000</td>\n",
              "    </tr>\n",
              "    <tr>\n",
              "      <th>1</th>\n",
              "      <td>Aug</td>\n",
              "      <td>801000</td>\n",
              "    </tr>\n",
              "    <tr>\n",
              "      <th>3</th>\n",
              "      <td>Jul</td>\n",
              "      <td>870200</td>\n",
              "    </tr>\n",
              "    <tr>\n",
              "      <th>4</th>\n",
              "      <td>Jun</td>\n",
              "      <td>1582500</td>\n",
              "    </tr>\n",
              "    <tr>\n",
              "      <th>6</th>\n",
              "      <td>May</td>\n",
              "      <td>1602000</td>\n",
              "    </tr>\n",
              "    <tr>\n",
              "      <th>0</th>\n",
              "      <td>Apr</td>\n",
              "      <td>830000</td>\n",
              "    </tr>\n",
              "    <tr>\n",
              "      <th>5</th>\n",
              "      <td>Mar</td>\n",
              "      <td>500000</td>\n",
              "    </tr>\n",
              "  </tbody>\n",
              "</table>\n",
              "</div>"
            ],
            "text/plain": [
              "  nome_mes  quantidade\n",
              "2      Dec       12000\n",
              "7      Oct       15000\n",
              "8      Sep     1056000\n",
              "1      Aug      801000\n",
              "3      Jul      870200\n",
              "4      Jun     1582500\n",
              "6      May     1602000\n",
              "0      Apr      830000\n",
              "5      Mar      500000"
            ]
          },
          "metadata": {
            "tags": []
          },
          "execution_count": 602
        }
      ]
    },
    {
      "cell_type": "code",
      "metadata": {
        "id": "ZTneG6g6dITk",
        "colab": {
          "base_uri": "https://localhost:8080/",
          "height": 483
        },
        "outputId": "4b0d0c4f-e57a-42fa-fc9b-ec796fee25eb"
      },
      "source": [
        "plt.figure(figsize=(18.5,7))\n",
        "g = sns.barplot(x='nome_mes', y='quantidade', data = aux3, palette='Reds');\n",
        "plt.title(' TOTAL MEDICAMENTOS DISTRUIBUIDOS EM 2020 POR MÊS', size=15);\n",
        "plt.ticklabel_format(style='plain', axis='y')\n",
        "plt.xlabel('Mês')"
      ],
      "execution_count": 603,
      "outputs": [
        {
          "output_type": "execute_result",
          "data": {
            "text/plain": [
              "Text(0.5, 0, 'Mês')"
            ]
          },
          "metadata": {
            "tags": []
          },
          "execution_count": 603
        },
        {
          "output_type": "display_data",
          "data": {
            "image/png": "[encoded data removed]",
            "text/plain": [
              "<Figure size 1332x504 with 1 Axes>"
            ]
          },
          "metadata": {
            "tags": []
          }
        }
      ]
    },
    {
      "cell_type": "code",
      "metadata": {
        "id": "ei1wo77KdSMx",
        "colab": {
          "base_uri": "https://localhost:8080/",
          "height": 141
        },
        "outputId": "b4fe5e70-bc4e-44a1-b3a2-40ecd19bd259"
      },
      "source": [
        "df_covid_2021 = df_covid[df_covid['data_entrega'].dt.year == 2021]\n",
        "\n",
        "aux4 = df_covid_2021.groupby(['nome_mes'])['quantidade'].sum().reset_index()\n",
        "aux4 = pd.DataFrame(aux4)\n",
        "\n",
        "aux4['nome_mes']= pd.Categorical(aux4['nome_mes'],categories=['Jan', 'Mar', 'Apr'],ordered=True)\n",
        "aux4 = aux4.sort_values('nome_mes',ascending=False)\n",
        "\n",
        "aux4"
      ],
      "execution_count": 604,
      "outputs": [
        {
          "output_type": "execute_result",
          "data": {
            "text/html": [
              "<div>\n",
              "<style scoped>\n",
              "    .dataframe tbody tr th:only-of-type {\n",
              "        vertical-align: middle;\n",
              "    }\n",
              "\n",
              "    .dataframe tbody tr th {\n",
              "        vertical-align: top;\n",
              "    }\n",
              "\n",
              "    .dataframe thead th {\n",
              "        text-align: right;\n",
              "    }\n",
              "</style>\n",
              "<table border=\"1\" class=\"dataframe\">\n",
              "  <thead>\n",
              "    <tr style=\"text-align: right;\">\n",
              "      <th></th>\n",
              "      <th>nome_mes</th>\n",
              "      <th>quantidade</th>\n",
              "    </tr>\n",
              "  </thead>\n",
              "  <tbody>\n",
              "    <tr>\n",
              "      <th>0</th>\n",
              "      <td>Apr</td>\n",
              "      <td>100000</td>\n",
              "    </tr>\n",
              "    <tr>\n",
              "      <th>2</th>\n",
              "      <td>Mar</td>\n",
              "      <td>27500</td>\n",
              "    </tr>\n",
              "    <tr>\n",
              "      <th>1</th>\n",
              "      <td>Jan</td>\n",
              "      <td>167000</td>\n",
              "    </tr>\n",
              "  </tbody>\n",
              "</table>\n",
              "</div>"
            ],
            "text/plain": [
              "  nome_mes  quantidade\n",
              "0      Apr      100000\n",
              "2      Mar       27500\n",
              "1      Jan      167000"
            ]
          },
          "metadata": {
            "tags": []
          },
          "execution_count": 604
        }
      ]
    },
    {
      "cell_type": "code",
      "metadata": {
        "colab": {
          "base_uri": "https://localhost:8080/",
          "height": 483
        },
        "id": "x3-jpHqwLT1t",
        "outputId": "97026b95-925b-4bb4-8fbd-d34dd19fd064"
      },
      "source": [
        "plt.figure(figsize=(18,7))\n",
        "g = sns.barplot(x='nome_mes', y='quantidade', data = aux4, palette='Reds');\n",
        "plt.title(' TOTAL MEDICAMENTOS DISTRUIBUIDOS EM 201 POR MÊS', size = 15);\n",
        "plt.xlabel('Mês')"
      ],
      "execution_count": 605,
      "outputs": [
        {
          "output_type": "execute_result",
          "data": {
            "text/plain": [
              "Text(0.5, 0, 'Mês')"
            ]
          },
          "metadata": {
            "tags": []
          },
          "execution_count": 605
        },
        {
          "output_type": "display_data",
          "data": {
            "image/png": "[encoded data removed]",
            "text/plain": [
              "<Figure size 1296x504 with 1 Axes>"
            ]
          },
          "metadata": {
            "tags": []
          }
        }
      ]
    },
    {
      "cell_type": "code",
      "metadata": {
        "colab": {
          "base_uri": "https://localhost:8080/",
          "height": 202
        },
        "id": "VtI9lImBrJmR",
        "outputId": "668ae58e-49b1-475c-b376-b11744c9540d"
      },
      "source": [
        "df_covid_test = df_covid[df_covid['data_entrega'].dt.year == 2021]\n",
        "\n",
        "aux5 = df_covid_test.groupby(['nome_mes','uf'])['quantidade'].sum().reset_index()\n",
        "aux5 = pd.DataFrame(aux5)\n",
        "\n",
        "aux5['nome_mes']= pd.Categorical(aux5['nome_mes'],categories=['Jan', 'Mar', 'Apr'],ordered=True)\n",
        "aux5 = aux5.sort_values('nome_mes',ascending=False)\n",
        "\n",
        "aux5"
      ],
      "execution_count": 606,
      "outputs": [
        {
          "output_type": "execute_result",
          "data": {
            "text/html": [
              "<div>\n",
              "<style scoped>\n",
              "    .dataframe tbody tr th:only-of-type {\n",
              "        vertical-align: middle;\n",
              "    }\n",
              "\n",
              "    .dataframe tbody tr th {\n",
              "        vertical-align: top;\n",
              "    }\n",
              "\n",
              "    .dataframe thead th {\n",
              "        text-align: right;\n",
              "    }\n",
              "</style>\n",
              "<table border=\"1\" class=\"dataframe\">\n",
              "  <thead>\n",
              "    <tr style=\"text-align: right;\">\n",
              "      <th></th>\n",
              "      <th>nome_mes</th>\n",
              "      <th>uf</th>\n",
              "      <th>quantidade</th>\n",
              "    </tr>\n",
              "  </thead>\n",
              "  <tbody>\n",
              "    <tr>\n",
              "      <th>0</th>\n",
              "      <td>Apr</td>\n",
              "      <td>SÃO PAULO</td>\n",
              "      <td>100000</td>\n",
              "    </tr>\n",
              "    <tr>\n",
              "      <th>4</th>\n",
              "      <td>Mar</td>\n",
              "      <td>SÃO PAULO</td>\n",
              "      <td>27500</td>\n",
              "    </tr>\n",
              "    <tr>\n",
              "      <th>1</th>\n",
              "      <td>Jan</td>\n",
              "      <td>AMAZONAS</td>\n",
              "      <td>130000</td>\n",
              "    </tr>\n",
              "    <tr>\n",
              "      <th>2</th>\n",
              "      <td>Jan</td>\n",
              "      <td>MINAS GERAIS</td>\n",
              "      <td>13000</td>\n",
              "    </tr>\n",
              "    <tr>\n",
              "      <th>3</th>\n",
              "      <td>Jan</td>\n",
              "      <td>RIO GRANDE DO SUL</td>\n",
              "      <td>24000</td>\n",
              "    </tr>\n",
              "  </tbody>\n",
              "</table>\n",
              "</div>"
            ],
            "text/plain": [
              "  nome_mes                 uf  quantidade\n",
              "0      Apr          SÃO PAULO      100000\n",
              "4      Mar          SÃO PAULO       27500\n",
              "1      Jan           AMAZONAS      130000\n",
              "2      Jan       MINAS GERAIS       13000\n",
              "3      Jan  RIO GRANDE DO SUL       24000"
            ]
          },
          "metadata": {
            "tags": []
          },
          "execution_count": 606
        }
      ]
    },
    {
      "cell_type": "code",
      "metadata": {
        "colab": {
          "base_uri": "https://localhost:8080/",
          "height": 465
        },
        "id": "aJSGBDg8rlJo",
        "outputId": "762fab23-f598-421c-c7d8-c3700065796c"
      },
      "source": [
        "plt.figure(figsize=(18,7))\n",
        "g = sns.barplot(x='nome_mes', y='quantidade', hue='uf', data = aux5);\n",
        "plt.title(' TOTAL MEDICAMENTOS DISTRUIBUIDOS EM 201 POR MÊS', size = 15);\n",
        "plt.xlabel('Mês');"
      ],
      "execution_count": 607,
      "outputs": [
        {
          "output_type": "display_data",
          "data": {
            "image/png": "[encoded data removed]",
            "text/plain": [
              "<Figure size 1296x504 with 1 Axes>"
            ]
          },
          "metadata": {
            "tags": []
          }
        }
      ]
    }
  ]
}