{
  "nbformat": 4,
  "nbformat_minor": 0,
  "metadata": {
    "colab": {
      "name": "Diabetes.ipynb",
      "provenance": [],
      "mount_file_id": "1jE6yEQwXg3EYIFcZmhORK422IiFe5g6Z",
      "authorship_tag": "ABX9TyNI5HVsnNSxYyOyY0SoNqme",
      "include_colab_link": true
    },
    "kernelspec": {
      "name": "python3",
      "display_name": "Python 3"
    },
    "language_info": {
      "name": "python"
    }
  },
  "cells": [
    {
      "cell_type": "markdown",
      "metadata": {
        "id": "view-in-github",
        "colab_type": "text"
      },
      "source": [
        "<a href=\"https://colab.research.google.com/github/Flaviofrc97/DASCIENSE-MACHINE-LEARNING/blob/main/Diabetes_Predction.ipynb\" target=\"_parent\"><img src=\"https://colab.research.google.com/assets/colab-badge.svg\" alt=\"Open In Colab\"/></a>"
      ]
    },
    {
      "cell_type": "markdown",
      "metadata": {
        "id": "jfIrrFeOKEH3"
      },
      "source": [
        "# **0. IMPORTS**"
      ]
    },
    {
      "cell_type": "code",
      "metadata": {
        "id": "-L5huninCQLG"
      },
      "source": [
        "import pandas as pd\n",
        "import matplotlib.pyplot as plt\n",
        "import seaborn as sns\n",
        "from sklearn.preprocessing import MinMaxScaler\n",
        "from sklearn.model_selection import train_test_split\n",
        "#Fazendo os mesmos calculos acima, porém com sklearn\n",
        "from sklearn.metrics import precision_score, recall_score, f1_score, classification_report"
      ],
      "execution_count": 85,
      "outputs": []
    },
    {
      "cell_type": "markdown",
      "metadata": {
        "id": "7yBqbHYnKDVX"
      },
      "source": [
        "# **1. DESCRICAO DOS DADOS**"
      ]
    },
    {
      "cell_type": "markdown",
      "metadata": {
        "id": "LjqzS9HKI_pL"
      },
      "source": [
        "Number of times pregnant\n",
        "\n",
        "---\n",
        "\n",
        "\n",
        "Plasma glucose concentration a 2 hours in an oral glucose tolerance test\n",
        "\n",
        "---\n",
        "\n",
        "\n",
        "Diastolic blood pressure (mm Hg)\n",
        "\n",
        "---\n",
        "\n",
        "\n",
        "Triceps skin fold thickness (mm)\n",
        "\n",
        "---\n",
        "\n",
        "\n",
        "2-Hour serum insulin (mu U/ml)\n",
        "\n",
        "---\n",
        "\n",
        "\n",
        "Body mass index (weight in kg/(height in m)^2)\n",
        "\n",
        "---\n",
        "\n",
        "\n",
        "Diabetes pedigree function\n",
        "\n",
        "---\n",
        "\n",
        "\n",
        "Age (years)\n",
        "\n",
        "---\n",
        "\n",
        "\n",
        "target (0 or 1)"
      ]
    },
    {
      "cell_type": "code",
      "metadata": {
        "id": "aZLZY4ouCuRv"
      },
      "source": [
        "df = pd.read_csv('/content/drive/MyDrive/Diabetes/diabetes.csv')"
      ],
      "execution_count": 86,
      "outputs": []
    },
    {
      "cell_type": "code",
      "metadata": {
        "id": "kiAhIFOaCx_G",
        "colab": {
          "base_uri": "https://localhost:8080/",
          "height": 204
        },
        "outputId": "7585138c-a7ff-4375-c88b-454f0649d834"
      },
      "source": [
        "df.head()"
      ],
      "execution_count": 87,
      "outputs": [
        {
          "output_type": "execute_result",
          "data": {
            "text/html": [
              "<div>\n",
              "<style scoped>\n",
              "    .dataframe tbody tr th:only-of-type {\n",
              "        vertical-align: middle;\n",
              "    }\n",
              "\n",
              "    .dataframe tbody tr th {\n",
              "        vertical-align: top;\n",
              "    }\n",
              "\n",
              "    .dataframe thead th {\n",
              "        text-align: right;\n",
              "    }\n",
              "</style>\n",
              "<table border=\"1\" class=\"dataframe\">\n",
              "  <thead>\n",
              "    <tr style=\"text-align: right;\">\n",
              "      <th></th>\n",
              "      <th>Pregnancies</th>\n",
              "      <th>Glucose</th>\n",
              "      <th>BloodPressure</th>\n",
              "      <th>SkinThickness</th>\n",
              "      <th>Insulin</th>\n",
              "      <th>BMI</th>\n",
              "      <th>DiabetesPedigreeFunction</th>\n",
              "      <th>Age</th>\n",
              "      <th>Outcome</th>\n",
              "    </tr>\n",
              "  </thead>\n",
              "  <tbody>\n",
              "    <tr>\n",
              "      <th>0</th>\n",
              "      <td>6</td>\n",
              "      <td>148</td>\n",
              "      <td>72</td>\n",
              "      <td>35</td>\n",
              "      <td>0</td>\n",
              "      <td>33.6</td>\n",
              "      <td>0.627</td>\n",
              "      <td>50</td>\n",
              "      <td>1</td>\n",
              "    </tr>\n",
              "    <tr>\n",
              "      <th>1</th>\n",
              "      <td>1</td>\n",
              "      <td>85</td>\n",
              "      <td>66</td>\n",
              "      <td>29</td>\n",
              "      <td>0</td>\n",
              "      <td>26.6</td>\n",
              "      <td>0.351</td>\n",
              "      <td>31</td>\n",
              "      <td>0</td>\n",
              "    </tr>\n",
              "    <tr>\n",
              "      <th>2</th>\n",
              "      <td>8</td>\n",
              "      <td>183</td>\n",
              "      <td>64</td>\n",
              "      <td>0</td>\n",
              "      <td>0</td>\n",
              "      <td>23.3</td>\n",
              "      <td>0.672</td>\n",
              "      <td>32</td>\n",
              "      <td>1</td>\n",
              "    </tr>\n",
              "    <tr>\n",
              "      <th>3</th>\n",
              "      <td>1</td>\n",
              "      <td>89</td>\n",
              "      <td>66</td>\n",
              "      <td>23</td>\n",
              "      <td>94</td>\n",
              "      <td>28.1</td>\n",
              "      <td>0.167</td>\n",
              "      <td>21</td>\n",
              "      <td>0</td>\n",
              "    </tr>\n",
              "    <tr>\n",
              "      <th>4</th>\n",
              "      <td>0</td>\n",
              "      <td>137</td>\n",
              "      <td>40</td>\n",
              "      <td>35</td>\n",
              "      <td>168</td>\n",
              "      <td>43.1</td>\n",
              "      <td>2.288</td>\n",
              "      <td>33</td>\n",
              "      <td>1</td>\n",
              "    </tr>\n",
              "  </tbody>\n",
              "</table>\n",
              "</div>"
            ],
            "text/plain": [
              "   Pregnancies  Glucose  BloodPressure  ...  DiabetesPedigreeFunction  Age  Outcome\n",
              "0            6      148             72  ...                     0.627   50        1\n",
              "1            1       85             66  ...                     0.351   31        0\n",
              "2            8      183             64  ...                     0.672   32        1\n",
              "3            1       89             66  ...                     0.167   21        0\n",
              "4            0      137             40  ...                     2.288   33        1\n",
              "\n",
              "[5 rows x 9 columns]"
            ]
          },
          "metadata": {
            "tags": []
          },
          "execution_count": 87
        }
      ]
    },
    {
      "cell_type": "code",
      "metadata": {
        "colab": {
          "base_uri": "https://localhost:8080/"
        },
        "id": "yPC2LezRHcV2",
        "outputId": "a2c951cc-258d-41e2-c2c5-800845602a72"
      },
      "source": [
        "df.shape"
      ],
      "execution_count": 88,
      "outputs": [
        {
          "output_type": "execute_result",
          "data": {
            "text/plain": [
              "(768, 9)"
            ]
          },
          "metadata": {
            "tags": []
          },
          "execution_count": 88
        }
      ]
    },
    {
      "cell_type": "code",
      "metadata": {
        "colab": {
          "base_uri": "https://localhost:8080/",
          "height": 297
        },
        "id": "_Ot7g2taHiv8",
        "outputId": "85adc399-2976-4a1d-ed20-d3209c38a053"
      },
      "source": [
        "df.describe()"
      ],
      "execution_count": 89,
      "outputs": [
        {
          "output_type": "execute_result",
          "data": {
            "text/html": [
              "<div>\n",
              "<style scoped>\n",
              "    .dataframe tbody tr th:only-of-type {\n",
              "        vertical-align: middle;\n",
              "    }\n",
              "\n",
              "    .dataframe tbody tr th {\n",
              "        vertical-align: top;\n",
              "    }\n",
              "\n",
              "    .dataframe thead th {\n",
              "        text-align: right;\n",
              "    }\n",
              "</style>\n",
              "<table border=\"1\" class=\"dataframe\">\n",
              "  <thead>\n",
              "    <tr style=\"text-align: right;\">\n",
              "      <th></th>\n",
              "      <th>Pregnancies</th>\n",
              "      <th>Glucose</th>\n",
              "      <th>BloodPressure</th>\n",
              "      <th>SkinThickness</th>\n",
              "      <th>Insulin</th>\n",
              "      <th>BMI</th>\n",
              "      <th>DiabetesPedigreeFunction</th>\n",
              "      <th>Age</th>\n",
              "      <th>Outcome</th>\n",
              "    </tr>\n",
              "  </thead>\n",
              "  <tbody>\n",
              "    <tr>\n",
              "      <th>count</th>\n",
              "      <td>768.000000</td>\n",
              "      <td>768.000000</td>\n",
              "      <td>768.000000</td>\n",
              "      <td>768.000000</td>\n",
              "      <td>768.000000</td>\n",
              "      <td>768.000000</td>\n",
              "      <td>768.000000</td>\n",
              "      <td>768.000000</td>\n",
              "      <td>768.000000</td>\n",
              "    </tr>\n",
              "    <tr>\n",
              "      <th>mean</th>\n",
              "      <td>3.845052</td>\n",
              "      <td>120.894531</td>\n",
              "      <td>69.105469</td>\n",
              "      <td>20.536458</td>\n",
              "      <td>79.799479</td>\n",
              "      <td>31.992578</td>\n",
              "      <td>0.471876</td>\n",
              "      <td>33.240885</td>\n",
              "      <td>0.348958</td>\n",
              "    </tr>\n",
              "    <tr>\n",
              "      <th>std</th>\n",
              "      <td>3.369578</td>\n",
              "      <td>31.972618</td>\n",
              "      <td>19.355807</td>\n",
              "      <td>15.952218</td>\n",
              "      <td>115.244002</td>\n",
              "      <td>7.884160</td>\n",
              "      <td>0.331329</td>\n",
              "      <td>11.760232</td>\n",
              "      <td>0.476951</td>\n",
              "    </tr>\n",
              "    <tr>\n",
              "      <th>min</th>\n",
              "      <td>0.000000</td>\n",
              "      <td>0.000000</td>\n",
              "      <td>0.000000</td>\n",
              "      <td>0.000000</td>\n",
              "      <td>0.000000</td>\n",
              "      <td>0.000000</td>\n",
              "      <td>0.078000</td>\n",
              "      <td>21.000000</td>\n",
              "      <td>0.000000</td>\n",
              "    </tr>\n",
              "    <tr>\n",
              "      <th>25%</th>\n",
              "      <td>1.000000</td>\n",
              "      <td>99.000000</td>\n",
              "      <td>62.000000</td>\n",
              "      <td>0.000000</td>\n",
              "      <td>0.000000</td>\n",
              "      <td>27.300000</td>\n",
              "      <td>0.243750</td>\n",
              "      <td>24.000000</td>\n",
              "      <td>0.000000</td>\n",
              "    </tr>\n",
              "    <tr>\n",
              "      <th>50%</th>\n",
              "      <td>3.000000</td>\n",
              "      <td>117.000000</td>\n",
              "      <td>72.000000</td>\n",
              "      <td>23.000000</td>\n",
              "      <td>30.500000</td>\n",
              "      <td>32.000000</td>\n",
              "      <td>0.372500</td>\n",
              "      <td>29.000000</td>\n",
              "      <td>0.000000</td>\n",
              "    </tr>\n",
              "    <tr>\n",
              "      <th>75%</th>\n",
              "      <td>6.000000</td>\n",
              "      <td>140.250000</td>\n",
              "      <td>80.000000</td>\n",
              "      <td>32.000000</td>\n",
              "      <td>127.250000</td>\n",
              "      <td>36.600000</td>\n",
              "      <td>0.626250</td>\n",
              "      <td>41.000000</td>\n",
              "      <td>1.000000</td>\n",
              "    </tr>\n",
              "    <tr>\n",
              "      <th>max</th>\n",
              "      <td>17.000000</td>\n",
              "      <td>199.000000</td>\n",
              "      <td>122.000000</td>\n",
              "      <td>99.000000</td>\n",
              "      <td>846.000000</td>\n",
              "      <td>67.100000</td>\n",
              "      <td>2.420000</td>\n",
              "      <td>81.000000</td>\n",
              "      <td>1.000000</td>\n",
              "    </tr>\n",
              "  </tbody>\n",
              "</table>\n",
              "</div>"
            ],
            "text/plain": [
              "       Pregnancies     Glucose  ...         Age     Outcome\n",
              "count   768.000000  768.000000  ...  768.000000  768.000000\n",
              "mean      3.845052  120.894531  ...   33.240885    0.348958\n",
              "std       3.369578   31.972618  ...   11.760232    0.476951\n",
              "min       0.000000    0.000000  ...   21.000000    0.000000\n",
              "25%       1.000000   99.000000  ...   24.000000    0.000000\n",
              "50%       3.000000  117.000000  ...   29.000000    0.000000\n",
              "75%       6.000000  140.250000  ...   41.000000    1.000000\n",
              "max      17.000000  199.000000  ...   81.000000    1.000000\n",
              "\n",
              "[8 rows x 9 columns]"
            ]
          },
          "metadata": {
            "tags": []
          },
          "execution_count": 89
        }
      ]
    },
    {
      "cell_type": "code",
      "metadata": {
        "colab": {
          "base_uri": "https://localhost:8080/"
        },
        "id": "fub2pBjIHrrL",
        "outputId": "1b62e280-87e3-4804-cfba-053d606fde01"
      },
      "source": [
        "df.isna().sum()"
      ],
      "execution_count": 90,
      "outputs": [
        {
          "output_type": "execute_result",
          "data": {
            "text/plain": [
              "Pregnancies                 0\n",
              "Glucose                     0\n",
              "BloodPressure               0\n",
              "SkinThickness               0\n",
              "Insulin                     0\n",
              "BMI                         0\n",
              "DiabetesPedigreeFunction    0\n",
              "Age                         0\n",
              "Outcome                     0\n",
              "dtype: int64"
            ]
          },
          "metadata": {
            "tags": []
          },
          "execution_count": 90
        }
      ]
    },
    {
      "cell_type": "code",
      "metadata": {
        "id": "3IpSAKWzHz2T"
      },
      "source": [
        "rename_cols = ['gravidezes', 'Glicose', 'pressao_diastolica', 'espessura_pele', 'Insulina', 'IMC', 'Propabilidade_diabetes', 'idade', 'target']"
      ],
      "execution_count": 91,
      "outputs": []
    },
    {
      "cell_type": "code",
      "metadata": {
        "id": "FLZ2p9phJQgx"
      },
      "source": [
        "df.columns = map(str.lower, rename_cols)"
      ],
      "execution_count": 92,
      "outputs": []
    },
    {
      "cell_type": "code",
      "metadata": {
        "colab": {
          "base_uri": "https://localhost:8080/",
          "height": 204
        },
        "id": "aNORXJI-JYgo",
        "outputId": "e3151af9-8116-4fd1-a8e1-9e932843baaf"
      },
      "source": [
        "df.head()"
      ],
      "execution_count": 93,
      "outputs": [
        {
          "output_type": "execute_result",
          "data": {
            "text/html": [
              "<div>\n",
              "<style scoped>\n",
              "    .dataframe tbody tr th:only-of-type {\n",
              "        vertical-align: middle;\n",
              "    }\n",
              "\n",
              "    .dataframe tbody tr th {\n",
              "        vertical-align: top;\n",
              "    }\n",
              "\n",
              "    .dataframe thead th {\n",
              "        text-align: right;\n",
              "    }\n",
              "</style>\n",
              "<table border=\"1\" class=\"dataframe\">\n",
              "  <thead>\n",
              "    <tr style=\"text-align: right;\">\n",
              "      <th></th>\n",
              "      <th>gravidezes</th>\n",
              "      <th>glicose</th>\n",
              "      <th>pressao_diastolica</th>\n",
              "      <th>espessura_pele</th>\n",
              "      <th>insulina</th>\n",
              "      <th>imc</th>\n",
              "      <th>propabilidade_diabetes</th>\n",
              "      <th>idade</th>\n",
              "      <th>target</th>\n",
              "    </tr>\n",
              "  </thead>\n",
              "  <tbody>\n",
              "    <tr>\n",
              "      <th>0</th>\n",
              "      <td>6</td>\n",
              "      <td>148</td>\n",
              "      <td>72</td>\n",
              "      <td>35</td>\n",
              "      <td>0</td>\n",
              "      <td>33.6</td>\n",
              "      <td>0.627</td>\n",
              "      <td>50</td>\n",
              "      <td>1</td>\n",
              "    </tr>\n",
              "    <tr>\n",
              "      <th>1</th>\n",
              "      <td>1</td>\n",
              "      <td>85</td>\n",
              "      <td>66</td>\n",
              "      <td>29</td>\n",
              "      <td>0</td>\n",
              "      <td>26.6</td>\n",
              "      <td>0.351</td>\n",
              "      <td>31</td>\n",
              "      <td>0</td>\n",
              "    </tr>\n",
              "    <tr>\n",
              "      <th>2</th>\n",
              "      <td>8</td>\n",
              "      <td>183</td>\n",
              "      <td>64</td>\n",
              "      <td>0</td>\n",
              "      <td>0</td>\n",
              "      <td>23.3</td>\n",
              "      <td>0.672</td>\n",
              "      <td>32</td>\n",
              "      <td>1</td>\n",
              "    </tr>\n",
              "    <tr>\n",
              "      <th>3</th>\n",
              "      <td>1</td>\n",
              "      <td>89</td>\n",
              "      <td>66</td>\n",
              "      <td>23</td>\n",
              "      <td>94</td>\n",
              "      <td>28.1</td>\n",
              "      <td>0.167</td>\n",
              "      <td>21</td>\n",
              "      <td>0</td>\n",
              "    </tr>\n",
              "    <tr>\n",
              "      <th>4</th>\n",
              "      <td>0</td>\n",
              "      <td>137</td>\n",
              "      <td>40</td>\n",
              "      <td>35</td>\n",
              "      <td>168</td>\n",
              "      <td>43.1</td>\n",
              "      <td>2.288</td>\n",
              "      <td>33</td>\n",
              "      <td>1</td>\n",
              "    </tr>\n",
              "  </tbody>\n",
              "</table>\n",
              "</div>"
            ],
            "text/plain": [
              "   gravidezes  glicose  ...  idade  target\n",
              "0           6      148  ...     50       1\n",
              "1           1       85  ...     31       0\n",
              "2           8      183  ...     32       1\n",
              "3           1       89  ...     21       0\n",
              "4           0      137  ...     33       1\n",
              "\n",
              "[5 rows x 9 columns]"
            ]
          },
          "metadata": {
            "tags": []
          },
          "execution_count": 93
        }
      ]
    },
    {
      "cell_type": "markdown",
      "metadata": {
        "id": "h78zTES7KRD4"
      },
      "source": [
        "# 2. **ANÁLISE EXPLORATÓRIA**"
      ]
    },
    {
      "cell_type": "code",
      "metadata": {
        "id": "_xpHBxY5sxNv"
      },
      "source": [
        "df1 = df.copy()"
      ],
      "execution_count": 94,
      "outputs": []
    },
    {
      "cell_type": "code",
      "metadata": {
        "colab": {
          "base_uri": "https://localhost:8080/",
          "height": 607
        },
        "id": "7QNYHfzfJdow",
        "outputId": "bc44e1f7-44ee-4d74-94a6-6c433dfd16fc"
      },
      "source": [
        "df1.hist(bins=30, figsize=(10,10), color= \"g\");"
      ],
      "execution_count": 95,
      "outputs": [
        {
          "output_type": "display_data",
          "data": {
            "image/png": "[encoded data removed]",
            "text/plain": [
              "<Figure size 720x720 with 9 Axes>"
            ]
          },
          "metadata": {
            "tags": [],
            "needs_background": "light"
          }
        }
      ]
    },
    {
      "cell_type": "code",
      "metadata": {
        "id": "S0yBV86bK0EN"
      },
      "source": [
        "correlations = df1.corr();\n"
      ],
      "execution_count": 96,
      "outputs": []
    },
    {
      "cell_type": "code",
      "metadata": {
        "colab": {
          "base_uri": "https://localhost:8080/",
          "height": 698
        },
        "id": "3avdpYePKcsf",
        "outputId": "eb39c42a-e195-42fb-dd3d-a2625ffdc82b"
      },
      "source": [
        "f, ax = plt.subplots(figsize=(10,10))\n",
        "sns.heatmap(correlations, annot=True, cbar=False);"
      ],
      "execution_count": 97,
      "outputs": [
        {
          "output_type": "display_data",
          "data": {
            "image/png": "[encoded data removed]",
            "text/plain": [
              "<Figure size 720x720 with 1 Axes>"
            ]
          },
          "metadata": {
            "tags": [],
            "needs_background": "light"
          }
        }
      ]
    },
    {
      "cell_type": "code",
      "metadata": {
        "colab": {
          "base_uri": "https://localhost:8080/",
          "height": 334
        },
        "id": "hGGQAp14L_2t",
        "outputId": "19ef4f05-db03-44c5-90df-973dae06730f"
      },
      "source": [
        "plt.figure(figsize=[15,5])\n",
        "sns.countplot(x= 'idade', hue= 'target', palette=\"Set2\", data= df1);"
      ],
      "execution_count": 98,
      "outputs": [
        {
          "output_type": "display_data",
          "data": {
            "image/png": "[encoded data removed]",
            "text/plain": [
              "<Figure size 1080x360 with 1 Axes>"
            ]
          },
          "metadata": {
            "tags": [],
            "needs_background": "light"
          }
        }
      ]
    },
    {
      "cell_type": "code",
      "metadata": {
        "colab": {
          "base_uri": "https://localhost:8080/",
          "height": 315
        },
        "id": "8gMrBxSJMVLD",
        "outputId": "a5b39dc8-463f-432c-d871-c5515ba4316d"
      },
      "source": [
        "plt.figure(figsize=[20,20])\n",
        "plt.subplot(411)\n",
        "sns.countplot(x = 'gravidezes', hue= 'target', palette=\"Set2\", data= df1)"
      ],
      "execution_count": 99,
      "outputs": [
        {
          "output_type": "execute_result",
          "data": {
            "text/plain": [
              "<matplotlib.axes._subplots.AxesSubplot at 0x7fb51a97a850>"
            ]
          },
          "metadata": {
            "tags": []
          },
          "execution_count": 99
        },
        {
          "output_type": "display_data",
          "data": {
            "image/png": "[encoded data removed]",
            "text/plain": [
              "<Figure size 1440x1440 with 1 Axes>"
            ]
          },
          "metadata": {
            "tags": [],
            "needs_background": "light"
          }
        }
      ]
    },
    {
      "cell_type": "code",
      "metadata": {
        "colab": {
          "base_uri": "https://localhost:8080/",
          "height": 80
        },
        "id": "iezainOAy3iX",
        "outputId": "b3ef9e08-1cb2-4d7b-cff3-3ae6cca3cae3"
      },
      "source": [
        "df1.sample()"
      ],
      "execution_count": 100,
      "outputs": [
        {
          "output_type": "execute_result",
          "data": {
            "text/html": [
              "<div>\n",
              "<style scoped>\n",
              "    .dataframe tbody tr th:only-of-type {\n",
              "        vertical-align: middle;\n",
              "    }\n",
              "\n",
              "    .dataframe tbody tr th {\n",
              "        vertical-align: top;\n",
              "    }\n",
              "\n",
              "    .dataframe thead th {\n",
              "        text-align: right;\n",
              "    }\n",
              "</style>\n",
              "<table border=\"1\" class=\"dataframe\">\n",
              "  <thead>\n",
              "    <tr style=\"text-align: right;\">\n",
              "      <th></th>\n",
              "      <th>gravidezes</th>\n",
              "      <th>glicose</th>\n",
              "      <th>pressao_diastolica</th>\n",
              "      <th>espessura_pele</th>\n",
              "      <th>insulina</th>\n",
              "      <th>imc</th>\n",
              "      <th>propabilidade_diabetes</th>\n",
              "      <th>idade</th>\n",
              "      <th>target</th>\n",
              "    </tr>\n",
              "  </thead>\n",
              "  <tbody>\n",
              "    <tr>\n",
              "      <th>496</th>\n",
              "      <td>5</td>\n",
              "      <td>110</td>\n",
              "      <td>68</td>\n",
              "      <td>0</td>\n",
              "      <td>0</td>\n",
              "      <td>26.0</td>\n",
              "      <td>0.292</td>\n",
              "      <td>30</td>\n",
              "      <td>0</td>\n",
              "    </tr>\n",
              "  </tbody>\n",
              "</table>\n",
              "</div>"
            ],
            "text/plain": [
              "     gravidezes  glicose  ...  idade  target\n",
              "496           5      110  ...     30       0\n",
              "\n",
              "[1 rows x 9 columns]"
            ]
          },
          "metadata": {
            "tags": []
          },
          "execution_count": 100
        }
      ]
    },
    {
      "cell_type": "code",
      "metadata": {
        "colab": {
          "base_uri": "https://localhost:8080/",
          "height": 383
        },
        "id": "XvE4zZppwkiz",
        "outputId": "a7da60da-d92d-4591-d5f5-1070f6a85e29"
      },
      "source": [
        "sns.relplot(x=\"imc\", y=\"glicose\", hue=\"target\", palette=\"Set2\", data=df1);"
      ],
      "execution_count": 101,
      "outputs": [
        {
          "output_type": "display_data",
          "data": {
            "image/png": "[encoded data removed]",
            "text/plain": [
              "<Figure size 402.375x360 with 1 Axes>"
            ]
          },
          "metadata": {
            "tags": [],
            "needs_background": "light"
          }
        }
      ]
    },
    {
      "cell_type": "code",
      "metadata": {
        "colab": {
          "base_uri": "https://localhost:8080/",
          "height": 383
        },
        "id": "F_0k2xnr0PYe",
        "outputId": "a7871390-914d-40c4-e82c-a1ec75896714"
      },
      "source": [
        "sns.catplot(x=\"target\", kind=\"count\", palette=\"Set2\", data=df1);"
      ],
      "execution_count": 102,
      "outputs": [
        {
          "output_type": "display_data",
          "data": {
            "image/png": "[encoded data removed]",
            "text/plain": [
              "<Figure size 360x360 with 1 Axes>"
            ]
          },
          "metadata": {
            "tags": [],
            "needs_background": "light"
          }
        }
      ]
    },
    {
      "cell_type": "markdown",
      "metadata": {
        "id": "C12ad027JJ6k"
      },
      "source": [
        "# **3. Pré-processamento**"
      ]
    },
    {
      "cell_type": "code",
      "metadata": {
        "id": "dohUz7ifJTYI"
      },
      "source": [
        "df2 = df1.copy()"
      ],
      "execution_count": 103,
      "outputs": []
    },
    {
      "cell_type": "code",
      "metadata": {
        "colab": {
          "base_uri": "https://localhost:8080/",
          "height": 204
        },
        "id": "Yx-aUW8XJjuF",
        "outputId": "4552ece6-d2b6-4dce-cf5f-ff86a8fb6966"
      },
      "source": [
        "df2.head()"
      ],
      "execution_count": 104,
      "outputs": [
        {
          "output_type": "execute_result",
          "data": {
            "text/html": [
              "<div>\n",
              "<style scoped>\n",
              "    .dataframe tbody tr th:only-of-type {\n",
              "        vertical-align: middle;\n",
              "    }\n",
              "\n",
              "    .dataframe tbody tr th {\n",
              "        vertical-align: top;\n",
              "    }\n",
              "\n",
              "    .dataframe thead th {\n",
              "        text-align: right;\n",
              "    }\n",
              "</style>\n",
              "<table border=\"1\" class=\"dataframe\">\n",
              "  <thead>\n",
              "    <tr style=\"text-align: right;\">\n",
              "      <th></th>\n",
              "      <th>gravidezes</th>\n",
              "      <th>glicose</th>\n",
              "      <th>pressao_diastolica</th>\n",
              "      <th>espessura_pele</th>\n",
              "      <th>insulina</th>\n",
              "      <th>imc</th>\n",
              "      <th>propabilidade_diabetes</th>\n",
              "      <th>idade</th>\n",
              "      <th>target</th>\n",
              "    </tr>\n",
              "  </thead>\n",
              "  <tbody>\n",
              "    <tr>\n",
              "      <th>0</th>\n",
              "      <td>6</td>\n",
              "      <td>148</td>\n",
              "      <td>72</td>\n",
              "      <td>35</td>\n",
              "      <td>0</td>\n",
              "      <td>33.6</td>\n",
              "      <td>0.627</td>\n",
              "      <td>50</td>\n",
              "      <td>1</td>\n",
              "    </tr>\n",
              "    <tr>\n",
              "      <th>1</th>\n",
              "      <td>1</td>\n",
              "      <td>85</td>\n",
              "      <td>66</td>\n",
              "      <td>29</td>\n",
              "      <td>0</td>\n",
              "      <td>26.6</td>\n",
              "      <td>0.351</td>\n",
              "      <td>31</td>\n",
              "      <td>0</td>\n",
              "    </tr>\n",
              "    <tr>\n",
              "      <th>2</th>\n",
              "      <td>8</td>\n",
              "      <td>183</td>\n",
              "      <td>64</td>\n",
              "      <td>0</td>\n",
              "      <td>0</td>\n",
              "      <td>23.3</td>\n",
              "      <td>0.672</td>\n",
              "      <td>32</td>\n",
              "      <td>1</td>\n",
              "    </tr>\n",
              "    <tr>\n",
              "      <th>3</th>\n",
              "      <td>1</td>\n",
              "      <td>89</td>\n",
              "      <td>66</td>\n",
              "      <td>23</td>\n",
              "      <td>94</td>\n",
              "      <td>28.1</td>\n",
              "      <td>0.167</td>\n",
              "      <td>21</td>\n",
              "      <td>0</td>\n",
              "    </tr>\n",
              "    <tr>\n",
              "      <th>4</th>\n",
              "      <td>0</td>\n",
              "      <td>137</td>\n",
              "      <td>40</td>\n",
              "      <td>35</td>\n",
              "      <td>168</td>\n",
              "      <td>43.1</td>\n",
              "      <td>2.288</td>\n",
              "      <td>33</td>\n",
              "      <td>1</td>\n",
              "    </tr>\n",
              "  </tbody>\n",
              "</table>\n",
              "</div>"
            ],
            "text/plain": [
              "   gravidezes  glicose  ...  idade  target\n",
              "0           6      148  ...     50       1\n",
              "1           1       85  ...     31       0\n",
              "2           8      183  ...     32       1\n",
              "3           1       89  ...     21       0\n",
              "4           0      137  ...     33       1\n",
              "\n",
              "[5 rows x 9 columns]"
            ]
          },
          "metadata": {
            "tags": []
          },
          "execution_count": 104
        }
      ]
    },
    {
      "cell_type": "code",
      "metadata": {
        "id": "zAXoQKeZLGzX"
      },
      "source": [
        "y = df2['target']\n",
        "x = df2.iloc[:,0:7]"
      ],
      "execution_count": 105,
      "outputs": []
    },
    {
      "cell_type": "code",
      "metadata": {
        "colab": {
          "base_uri": "https://localhost:8080/",
          "height": 204
        },
        "id": "Sv6HJCRALYlo",
        "outputId": "d647fa78-f3ad-4b5d-987a-498ed8061f3b"
      },
      "source": [
        "x.head()"
      ],
      "execution_count": 106,
      "outputs": [
        {
          "output_type": "execute_result",
          "data": {
            "text/html": [
              "<div>\n",
              "<style scoped>\n",
              "    .dataframe tbody tr th:only-of-type {\n",
              "        vertical-align: middle;\n",
              "    }\n",
              "\n",
              "    .dataframe tbody tr th {\n",
              "        vertical-align: top;\n",
              "    }\n",
              "\n",
              "    .dataframe thead th {\n",
              "        text-align: right;\n",
              "    }\n",
              "</style>\n",
              "<table border=\"1\" class=\"dataframe\">\n",
              "  <thead>\n",
              "    <tr style=\"text-align: right;\">\n",
              "      <th></th>\n",
              "      <th>gravidezes</th>\n",
              "      <th>glicose</th>\n",
              "      <th>pressao_diastolica</th>\n",
              "      <th>espessura_pele</th>\n",
              "      <th>insulina</th>\n",
              "      <th>imc</th>\n",
              "      <th>propabilidade_diabetes</th>\n",
              "    </tr>\n",
              "  </thead>\n",
              "  <tbody>\n",
              "    <tr>\n",
              "      <th>0</th>\n",
              "      <td>6</td>\n",
              "      <td>148</td>\n",
              "      <td>72</td>\n",
              "      <td>35</td>\n",
              "      <td>0</td>\n",
              "      <td>33.6</td>\n",
              "      <td>0.627</td>\n",
              "    </tr>\n",
              "    <tr>\n",
              "      <th>1</th>\n",
              "      <td>1</td>\n",
              "      <td>85</td>\n",
              "      <td>66</td>\n",
              "      <td>29</td>\n",
              "      <td>0</td>\n",
              "      <td>26.6</td>\n",
              "      <td>0.351</td>\n",
              "    </tr>\n",
              "    <tr>\n",
              "      <th>2</th>\n",
              "      <td>8</td>\n",
              "      <td>183</td>\n",
              "      <td>64</td>\n",
              "      <td>0</td>\n",
              "      <td>0</td>\n",
              "      <td>23.3</td>\n",
              "      <td>0.672</td>\n",
              "    </tr>\n",
              "    <tr>\n",
              "      <th>3</th>\n",
              "      <td>1</td>\n",
              "      <td>89</td>\n",
              "      <td>66</td>\n",
              "      <td>23</td>\n",
              "      <td>94</td>\n",
              "      <td>28.1</td>\n",
              "      <td>0.167</td>\n",
              "    </tr>\n",
              "    <tr>\n",
              "      <th>4</th>\n",
              "      <td>0</td>\n",
              "      <td>137</td>\n",
              "      <td>40</td>\n",
              "      <td>35</td>\n",
              "      <td>168</td>\n",
              "      <td>43.1</td>\n",
              "      <td>2.288</td>\n",
              "    </tr>\n",
              "  </tbody>\n",
              "</table>\n",
              "</div>"
            ],
            "text/plain": [
              "   gravidezes  glicose  ...   imc  propabilidade_diabetes\n",
              "0           6      148  ...  33.6                   0.627\n",
              "1           1       85  ...  26.6                   0.351\n",
              "2           8      183  ...  23.3                   0.672\n",
              "3           1       89  ...  28.1                   0.167\n",
              "4           0      137  ...  43.1                   2.288\n",
              "\n",
              "[5 rows x 7 columns]"
            ]
          },
          "metadata": {
            "tags": []
          },
          "execution_count": 106
        }
      ]
    },
    {
      "cell_type": "code",
      "metadata": {
        "colab": {
          "base_uri": "https://localhost:8080/"
        },
        "id": "qxHjyrujLcYo",
        "outputId": "8c645b23-8215-426d-e9b3-cbbe3c9c2f1e"
      },
      "source": [
        "y.head()"
      ],
      "execution_count": 107,
      "outputs": [
        {
          "output_type": "execute_result",
          "data": {
            "text/plain": [
              "0    1\n",
              "1    0\n",
              "2    1\n",
              "3    0\n",
              "4    1\n",
              "Name: target, dtype: int64"
            ]
          },
          "metadata": {
            "tags": []
          },
          "execution_count": 107
        }
      ]
    },
    {
      "cell_type": "code",
      "metadata": {
        "id": "ghBDwP-VJonD"
      },
      "source": [
        "#Colocando os valores na mesma escala.\n",
        "from sklearn.preprocessing import MinMaxScaler\n",
        "scaler = MinMaxScaler()\n",
        "x = scaler.fit_transform(x)"
      ],
      "execution_count": 108,
      "outputs": []
    },
    {
      "cell_type": "code",
      "metadata": {
        "colab": {
          "base_uri": "https://localhost:8080/"
        },
        "id": "mcYbkMexKu5T",
        "outputId": "02b3a9b7-af9d-40bb-9143-5e25a85b50df"
      },
      "source": [
        "x"
      ],
      "execution_count": 109,
      "outputs": [
        {
          "output_type": "execute_result",
          "data": {
            "text/plain": [
              "array([[0.35294118, 0.74371859, 0.59016393, ..., 0.        , 0.50074516,\n",
              "        0.23441503],\n",
              "       [0.05882353, 0.42713568, 0.54098361, ..., 0.        , 0.39642325,\n",
              "        0.11656704],\n",
              "       [0.47058824, 0.91959799, 0.52459016, ..., 0.        , 0.34724292,\n",
              "        0.25362938],\n",
              "       ...,\n",
              "       [0.29411765, 0.6080402 , 0.59016393, ..., 0.13238771, 0.390462  ,\n",
              "        0.07130658],\n",
              "       [0.05882353, 0.63316583, 0.49180328, ..., 0.        , 0.4485842 ,\n",
              "        0.11571307],\n",
              "       [0.05882353, 0.46733668, 0.57377049, ..., 0.        , 0.45305514,\n",
              "        0.10119556]])"
            ]
          },
          "metadata": {
            "tags": []
          },
          "execution_count": 109
        }
      ]
    },
    {
      "cell_type": "code",
      "metadata": {
        "id": "7WuBWhtJMGLl"
      },
      "source": [
        "x_train, x_test, y_train, y_test = train_test_split(x, y, test_size = 0.25)"
      ],
      "execution_count": 110,
      "outputs": []
    },
    {
      "cell_type": "markdown",
      "metadata": {
        "id": "7xJ2xxHGLqQg"
      },
      "source": [
        "# **4. REGRESSÃO LINEAR**"
      ]
    },
    {
      "cell_type": "code",
      "metadata": {
        "id": "8MnkmE6SLxYw"
      },
      "source": [
        "from sklearn.linear_model import LogisticRegression"
      ],
      "execution_count": 111,
      "outputs": []
    },
    {
      "cell_type": "code",
      "metadata": {
        "id": "K-f3dSihMCEb"
      },
      "source": [
        "lr = LogisticRegression()"
      ],
      "execution_count": 112,
      "outputs": []
    },
    {
      "cell_type": "code",
      "metadata": {
        "colab": {
          "base_uri": "https://localhost:8080/"
        },
        "id": "OxQJRvNeMKX_",
        "outputId": "cc2a05ab-52eb-4066-e336-a37607ddc500"
      },
      "source": [
        "lr.fit(x_train, y_train)"
      ],
      "execution_count": 113,
      "outputs": [
        {
          "output_type": "execute_result",
          "data": {
            "text/plain": [
              "LogisticRegression(C=1.0, class_weight=None, dual=False, fit_intercept=True,\n",
              "                   intercept_scaling=1, l1_ratio=None, max_iter=100,\n",
              "                   multi_class='auto', n_jobs=None, penalty='l2',\n",
              "                   random_state=None, solver='lbfgs', tol=0.0001, verbose=0,\n",
              "                   warm_start=False)"
            ]
          },
          "metadata": {
            "tags": []
          },
          "execution_count": 113
        }
      ]
    },
    {
      "cell_type": "code",
      "metadata": {
        "id": "bjv2tVuYMSIZ"
      },
      "source": [
        "y_pred = lr.predict(x_test)"
      ],
      "execution_count": 114,
      "outputs": []
    },
    {
      "cell_type": "code",
      "metadata": {
        "colab": {
          "base_uri": "https://localhost:8080/"
        },
        "id": "s2Qt9hMfMdEh",
        "outputId": "4d260aaa-a485-455f-b79e-180be7dbda39"
      },
      "source": [
        "from sklearn import metrics\n",
        "print(\"Accuracy:\",metrics.accuracy_score(y_test, y_pred))"
      ],
      "execution_count": 115,
      "outputs": [
        {
          "output_type": "stream",
          "text": [
            "Accuracy: 0.78125\n"
          ],
          "name": "stdout"
        }
      ]
    },
    {
      "cell_type": "code",
      "metadata": {
        "colab": {
          "base_uri": "https://localhost:8080/"
        },
        "id": "iB9MNtREMqHp",
        "outputId": "9f9515d1-e956-4f10-ea7c-190e93004788"
      },
      "source": [
        "print(classification_report(y_test, y_pred)) #Visualizando todas as metricas juntas"
      ],
      "execution_count": 116,
      "outputs": [
        {
          "output_type": "stream",
          "text": [
            "              precision    recall  f1-score   support\n",
            "\n",
            "           0       0.80      0.92      0.85       133\n",
            "           1       0.72      0.47      0.57        59\n",
            "\n",
            "    accuracy                           0.78       192\n",
            "   macro avg       0.76      0.70      0.71       192\n",
            "weighted avg       0.77      0.78      0.77       192\n",
            "\n"
          ],
          "name": "stdout"
        }
      ]
    },
    {
      "cell_type": "markdown",
      "metadata": {
        "id": "rtpvOGit_RAm"
      },
      "source": [
        "# **5. Random forest**"
      ]
    },
    {
      "cell_type": "code",
      "metadata": {
        "id": "ghG2H_tE_P1Q"
      },
      "source": [
        "from sklearn.ensemble import RandomForestClassifier"
      ],
      "execution_count": 117,
      "outputs": []
    },
    {
      "cell_type": "code",
      "metadata": {
        "id": "C_FAybEMAqAS"
      },
      "source": [
        "rf = RandomForestClassifier()"
      ],
      "execution_count": 118,
      "outputs": []
    },
    {
      "cell_type": "code",
      "metadata": {
        "colab": {
          "base_uri": "https://localhost:8080/"
        },
        "id": "EmRXvzUTAuyv",
        "outputId": "3d18614d-9b96-4076-a75f-80b007f96f61"
      },
      "source": [
        "rf.fit(x_train, y_train)"
      ],
      "execution_count": 119,
      "outputs": [
        {
          "output_type": "execute_result",
          "data": {
            "text/plain": [
              "RandomForestClassifier(bootstrap=True, ccp_alpha=0.0, class_weight=None,\n",
              "                       criterion='gini', max_depth=None, max_features='auto',\n",
              "                       max_leaf_nodes=None, max_samples=None,\n",
              "                       min_impurity_decrease=0.0, min_impurity_split=None,\n",
              "                       min_samples_leaf=1, min_samples_split=2,\n",
              "                       min_weight_fraction_leaf=0.0, n_estimators=100,\n",
              "                       n_jobs=None, oob_score=False, random_state=None,\n",
              "                       verbose=0, warm_start=False)"
            ]
          },
          "metadata": {
            "tags": []
          },
          "execution_count": 119
        }
      ]
    },
    {
      "cell_type": "code",
      "metadata": {
        "id": "daF6zcXFA1E8"
      },
      "source": [
        "y_rfpred = rf.predict(x_test)"
      ],
      "execution_count": 120,
      "outputs": []
    },
    {
      "cell_type": "code",
      "metadata": {
        "colab": {
          "base_uri": "https://localhost:8080/"
        },
        "id": "_E_lPyUgBDS-",
        "outputId": "bc498779-879c-407a-c365-6423cd5f0043"
      },
      "source": [
        "print(\"Accuracy:\",metrics.accuracy_score(y_test, y_rfpred))"
      ],
      "execution_count": 121,
      "outputs": [
        {
          "output_type": "stream",
          "text": [
            "Accuracy: 0.7604166666666666\n"
          ],
          "name": "stdout"
        }
      ]
    },
    {
      "cell_type": "code",
      "metadata": {
        "colab": {
          "base_uri": "https://localhost:8080/"
        },
        "id": "V0EyZkxMBRKO",
        "outputId": "174d3f99-8a1e-4b2e-aaa0-6ad86e811f2f"
      },
      "source": [
        "print(classification_report(y_test, y_rfpred)) #Visualiza todas as metricas juntas"
      ],
      "execution_count": 122,
      "outputs": [
        {
          "output_type": "stream",
          "text": [
            "              precision    recall  f1-score   support\n",
            "\n",
            "           0       0.80      0.87      0.83       133\n",
            "           1       0.64      0.51      0.57        59\n",
            "\n",
            "    accuracy                           0.76       192\n",
            "   macro avg       0.72      0.69      0.70       192\n",
            "weighted avg       0.75      0.76      0.75       192\n",
            "\n"
          ],
          "name": "stdout"
        }
      ]
    },
    {
      "cell_type": "code",
      "metadata": {
        "id": "ZWmHJY-Ac05N"
      },
      "source": [
        ""
      ],
      "execution_count": null,
      "outputs": []
    },
    {
      "cell_type": "markdown",
      "metadata": {
        "id": "niS9fdg8c1Vu"
      },
      "source": [
        "# **6. REDE NEURAL**"
      ]
    },
    {
      "cell_type": "code",
      "metadata": {
        "id": "L_tSqV-sc6h9"
      },
      "source": [
        "import tensorflow as tf"
      ],
      "execution_count": 123,
      "outputs": []
    },
    {
      "cell_type": "code",
      "metadata": {
        "colab": {
          "base_uri": "https://localhost:8080/"
        },
        "id": "y0UvGk33dAjf",
        "outputId": "e0140ff0-6c4b-479f-86dd-0f375679ddce"
      },
      "source": [
        "x.shape"
      ],
      "execution_count": 124,
      "outputs": [
        {
          "output_type": "execute_result",
          "data": {
            "text/plain": [
              "(768, 7)"
            ]
          },
          "metadata": {
            "tags": []
          },
          "execution_count": 124
        }
      ]
    },
    {
      "cell_type": "markdown",
      "metadata": {
        "id": "6Il_ypipdWv6"
      },
      "source": [
        "Definindo o número de neurônios: \n",
        "\n",
        "**(7 + 1) / 2**\n",
        "\n",
        "fonte: https://iaexpert.academy/2020/05/04/quantas-camadas-escondidas-e-quantos-neuronios-incluir-numa-rede-neural-artificial/"
      ]
    },
    {
      "cell_type": "code",
      "metadata": {
        "id": "ffP7U0U2c756"
      },
      "source": [
        "rede_neural = tf.keras.models.Sequential()\n",
        "rede_neural.add(tf.keras.layers.Dense(units = 4, activation ='relu', input_shape=(7,))) #cama de entrada\n",
        "rede_neural.add(tf.keras.layers.Dense(units=4, activation='relu')) #camada oculta\n",
        "rede_neural.add(tf.keras.layers.Dense(units=4, activation='relu')) #camada Oculda\n",
        "rede_neural.add(tf.keras.layers.Dense(units=1, activation='sigmoid')) #camada de saida"
      ],
      "execution_count": 136,
      "outputs": []
    },
    {
      "cell_type": "code",
      "metadata": {
        "colab": {
          "base_uri": "https://localhost:8080/"
        },
        "id": "yld4hrnBdnfJ",
        "outputId": "627c5ce0-f49a-4654-87e0-7e220e63ce8f"
      },
      "source": [
        "rede_neural.summary()"
      ],
      "execution_count": 137,
      "outputs": [
        {
          "output_type": "stream",
          "text": [
            "Model: \"sequential_1\"\n",
            "_________________________________________________________________\n",
            "Layer (type)                 Output Shape              Param #   \n",
            "=================================================================\n",
            "dense_4 (Dense)              (None, 4)                 32        \n",
            "_________________________________________________________________\n",
            "dense_5 (Dense)              (None, 4)                 20        \n",
            "_________________________________________________________________\n",
            "dense_6 (Dense)              (None, 4)                 20        \n",
            "_________________________________________________________________\n",
            "dense_7 (Dense)              (None, 1)                 5         \n",
            "=================================================================\n",
            "Total params: 77\n",
            "Trainable params: 77\n",
            "Non-trainable params: 0\n",
            "_________________________________________________________________\n"
          ],
          "name": "stdout"
        }
      ]
    },
    {
      "cell_type": "code",
      "metadata": {
        "id": "Ekk5Xp5KdxQw"
      },
      "source": [
        "#Compilando a rede neural\n",
        "rede_neural.compile(optimizer='adam', loss = 'binary_crossentropy', metrics = ['accuracy'] )"
      ],
      "execution_count": 138,
      "outputs": []
    },
    {
      "cell_type": "code",
      "metadata": {
        "colab": {
          "base_uri": "https://localhost:8080/"
        },
        "id": "d-qHsnR4d2Vp",
        "outputId": "8c439bd6-baa9-4b94-94a1-8c33bc91c390"
      },
      "source": [
        "#Treinando a rede (ajustando os pesos)\n",
        "rede_neural.fit(x_train, y_train, epochs=200); #rodo 200 vezes a atualizar os valores dos pesos."
      ],
      "execution_count": 140,
      "outputs": [
        {
          "output_type": "stream",
          "text": [
            "Epoch 1/200\n",
            "18/18 [==============================] - 0s 1ms/step - loss: 0.4613 - accuracy: 0.7743\n",
            "Epoch 2/200\n",
            "18/18 [==============================] - 0s 1ms/step - loss: 0.4611 - accuracy: 0.7760\n",
            "Epoch 3/200\n",
            "18/18 [==============================] - 0s 1ms/step - loss: 0.4615 - accuracy: 0.7778\n",
            "Epoch 4/200\n",
            "18/18 [==============================] - 0s 1ms/step - loss: 0.4615 - accuracy: 0.7743\n",
            "Epoch 5/200\n",
            "18/18 [==============================] - 0s 1ms/step - loss: 0.4615 - accuracy: 0.7760\n",
            "Epoch 6/200\n",
            "18/18 [==============================] - 0s 1ms/step - loss: 0.4610 - accuracy: 0.7760\n",
            "Epoch 7/200\n",
            "18/18 [==============================] - 0s 1ms/step - loss: 0.4618 - accuracy: 0.7726\n",
            "Epoch 8/200\n",
            "18/18 [==============================] - 0s 1ms/step - loss: 0.4613 - accuracy: 0.7760\n",
            "Epoch 9/200\n",
            "18/18 [==============================] - 0s 1ms/step - loss: 0.4615 - accuracy: 0.7743\n",
            "Epoch 10/200\n",
            "18/18 [==============================] - 0s 1ms/step - loss: 0.4610 - accuracy: 0.7778\n",
            "Epoch 11/200\n",
            "18/18 [==============================] - 0s 2ms/step - loss: 0.4613 - accuracy: 0.7743\n",
            "Epoch 12/200\n",
            "18/18 [==============================] - 0s 2ms/step - loss: 0.4621 - accuracy: 0.7812\n",
            "Epoch 13/200\n",
            "18/18 [==============================] - 0s 1ms/step - loss: 0.4630 - accuracy: 0.7743\n",
            "Epoch 14/200\n",
            "18/18 [==============================] - 0s 1ms/step - loss: 0.4604 - accuracy: 0.7760\n",
            "Epoch 15/200\n",
            "18/18 [==============================] - 0s 1ms/step - loss: 0.4626 - accuracy: 0.7760\n",
            "Epoch 16/200\n",
            "18/18 [==============================] - 0s 1ms/step - loss: 0.4619 - accuracy: 0.7795\n",
            "Epoch 17/200\n",
            "18/18 [==============================] - 0s 1ms/step - loss: 0.4610 - accuracy: 0.7743\n",
            "Epoch 18/200\n",
            "18/18 [==============================] - 0s 1ms/step - loss: 0.4612 - accuracy: 0.7760\n",
            "Epoch 19/200\n",
            "18/18 [==============================] - 0s 1ms/step - loss: 0.4610 - accuracy: 0.7760\n",
            "Epoch 20/200\n",
            "18/18 [==============================] - 0s 1ms/step - loss: 0.4612 - accuracy: 0.7760\n",
            "Epoch 21/200\n",
            "18/18 [==============================] - 0s 1ms/step - loss: 0.4610 - accuracy: 0.7760\n",
            "Epoch 22/200\n",
            "18/18 [==============================] - 0s 1ms/step - loss: 0.4623 - accuracy: 0.7778\n",
            "Epoch 23/200\n",
            "18/18 [==============================] - 0s 1ms/step - loss: 0.4613 - accuracy: 0.7812\n",
            "Epoch 24/200\n",
            "18/18 [==============================] - 0s 1ms/step - loss: 0.4607 - accuracy: 0.7778\n",
            "Epoch 25/200\n",
            "18/18 [==============================] - 0s 1ms/step - loss: 0.4612 - accuracy: 0.7743\n",
            "Epoch 26/200\n",
            "18/18 [==============================] - 0s 2ms/step - loss: 0.4610 - accuracy: 0.7812\n",
            "Epoch 27/200\n",
            "18/18 [==============================] - 0s 2ms/step - loss: 0.4607 - accuracy: 0.7778\n",
            "Epoch 28/200\n",
            "18/18 [==============================] - 0s 2ms/step - loss: 0.4618 - accuracy: 0.7743\n",
            "Epoch 29/200\n",
            "18/18 [==============================] - 0s 2ms/step - loss: 0.4610 - accuracy: 0.7778\n",
            "Epoch 30/200\n",
            "18/18 [==============================] - 0s 1ms/step - loss: 0.4609 - accuracy: 0.7760\n",
            "Epoch 31/200\n",
            "18/18 [==============================] - 0s 1ms/step - loss: 0.4613 - accuracy: 0.7795\n",
            "Epoch 32/200\n",
            "18/18 [==============================] - 0s 1ms/step - loss: 0.4619 - accuracy: 0.7812\n",
            "Epoch 33/200\n",
            "18/18 [==============================] - 0s 1ms/step - loss: 0.4606 - accuracy: 0.7743\n",
            "Epoch 34/200\n",
            "18/18 [==============================] - 0s 1ms/step - loss: 0.4638 - accuracy: 0.7656\n",
            "Epoch 35/200\n",
            "18/18 [==============================] - 0s 1ms/step - loss: 0.4604 - accuracy: 0.7795\n",
            "Epoch 36/200\n",
            "18/18 [==============================] - 0s 2ms/step - loss: 0.4622 - accuracy: 0.7830\n",
            "Epoch 37/200\n",
            "18/18 [==============================] - 0s 2ms/step - loss: 0.4608 - accuracy: 0.7778\n",
            "Epoch 38/200\n",
            "18/18 [==============================] - 0s 2ms/step - loss: 0.4612 - accuracy: 0.7743\n",
            "Epoch 39/200\n",
            "18/18 [==============================] - 0s 1ms/step - loss: 0.4604 - accuracy: 0.7778\n",
            "Epoch 40/200\n",
            "18/18 [==============================] - 0s 1ms/step - loss: 0.4607 - accuracy: 0.7778\n",
            "Epoch 41/200\n",
            "18/18 [==============================] - 0s 1ms/step - loss: 0.4622 - accuracy: 0.7778\n",
            "Epoch 42/200\n",
            "18/18 [==============================] - 0s 2ms/step - loss: 0.4610 - accuracy: 0.7778\n",
            "Epoch 43/200\n",
            "18/18 [==============================] - 0s 2ms/step - loss: 0.4610 - accuracy: 0.7778\n",
            "Epoch 44/200\n",
            "18/18 [==============================] - 0s 1ms/step - loss: 0.4623 - accuracy: 0.7708\n",
            "Epoch 45/200\n",
            "18/18 [==============================] - 0s 1ms/step - loss: 0.4598 - accuracy: 0.7795\n",
            "Epoch 46/200\n",
            "18/18 [==============================] - 0s 1ms/step - loss: 0.4616 - accuracy: 0.7760\n",
            "Epoch 47/200\n",
            "18/18 [==============================] - 0s 1ms/step - loss: 0.4615 - accuracy: 0.7760\n",
            "Epoch 48/200\n",
            "18/18 [==============================] - 0s 1ms/step - loss: 0.4630 - accuracy: 0.7743\n",
            "Epoch 49/200\n",
            "18/18 [==============================] - 0s 2ms/step - loss: 0.4617 - accuracy: 0.7795\n",
            "Epoch 50/200\n",
            "18/18 [==============================] - 0s 2ms/step - loss: 0.4630 - accuracy: 0.7812\n",
            "Epoch 51/200\n",
            "18/18 [==============================] - 0s 1ms/step - loss: 0.4687 - accuracy: 0.7674\n",
            "Epoch 52/200\n",
            "18/18 [==============================] - 0s 1ms/step - loss: 0.4615 - accuracy: 0.7830\n",
            "Epoch 53/200\n",
            "18/18 [==============================] - 0s 1ms/step - loss: 0.4613 - accuracy: 0.7760\n",
            "Epoch 54/200\n",
            "18/18 [==============================] - 0s 1ms/step - loss: 0.4615 - accuracy: 0.7830\n",
            "Epoch 55/200\n",
            "18/18 [==============================] - 0s 1ms/step - loss: 0.4612 - accuracy: 0.7743\n",
            "Epoch 56/200\n",
            "18/18 [==============================] - 0s 1ms/step - loss: 0.4614 - accuracy: 0.7812\n",
            "Epoch 57/200\n",
            "18/18 [==============================] - 0s 1ms/step - loss: 0.4616 - accuracy: 0.7778\n",
            "Epoch 58/200\n",
            "18/18 [==============================] - 0s 2ms/step - loss: 0.4611 - accuracy: 0.7795\n",
            "Epoch 59/200\n",
            "18/18 [==============================] - 0s 2ms/step - loss: 0.4608 - accuracy: 0.7778\n",
            "Epoch 60/200\n",
            "18/18 [==============================] - 0s 1ms/step - loss: 0.4609 - accuracy: 0.7778\n",
            "Epoch 61/200\n",
            "18/18 [==============================] - 0s 1ms/step - loss: 0.4600 - accuracy: 0.7778\n",
            "Epoch 62/200\n",
            "18/18 [==============================] - 0s 1ms/step - loss: 0.4611 - accuracy: 0.7795\n",
            "Epoch 63/200\n",
            "18/18 [==============================] - 0s 1ms/step - loss: 0.4620 - accuracy: 0.7830\n",
            "Epoch 64/200\n",
            "18/18 [==============================] - 0s 1ms/step - loss: 0.4606 - accuracy: 0.7778\n",
            "Epoch 65/200\n",
            "18/18 [==============================] - 0s 2ms/step - loss: 0.4610 - accuracy: 0.7830\n",
            "Epoch 66/200\n",
            "18/18 [==============================] - 0s 1ms/step - loss: 0.4608 - accuracy: 0.7830\n",
            "Epoch 67/200\n",
            "18/18 [==============================] - 0s 2ms/step - loss: 0.4605 - accuracy: 0.7760\n",
            "Epoch 68/200\n",
            "18/18 [==============================] - 0s 1ms/step - loss: 0.4611 - accuracy: 0.7795\n",
            "Epoch 69/200\n",
            "18/18 [==============================] - 0s 2ms/step - loss: 0.4602 - accuracy: 0.7778\n",
            "Epoch 70/200\n",
            "18/18 [==============================] - 0s 1ms/step - loss: 0.4614 - accuracy: 0.7760\n",
            "Epoch 71/200\n",
            "18/18 [==============================] - 0s 2ms/step - loss: 0.4605 - accuracy: 0.7778\n",
            "Epoch 72/200\n",
            "18/18 [==============================] - 0s 2ms/step - loss: 0.4608 - accuracy: 0.7830\n",
            "Epoch 73/200\n",
            "18/18 [==============================] - 0s 1ms/step - loss: 0.4608 - accuracy: 0.7760\n",
            "Epoch 74/200\n",
            "18/18 [==============================] - 0s 2ms/step - loss: 0.4610 - accuracy: 0.7795\n",
            "Epoch 75/200\n",
            "18/18 [==============================] - 0s 2ms/step - loss: 0.4612 - accuracy: 0.7760\n",
            "Epoch 76/200\n",
            "18/18 [==============================] - 0s 2ms/step - loss: 0.4608 - accuracy: 0.7795\n",
            "Epoch 77/200\n",
            "18/18 [==============================] - 0s 2ms/step - loss: 0.4605 - accuracy: 0.7812\n",
            "Epoch 78/200\n",
            "18/18 [==============================] - 0s 1ms/step - loss: 0.4610 - accuracy: 0.7778\n",
            "Epoch 79/200\n",
            "18/18 [==============================] - 0s 1ms/step - loss: 0.4622 - accuracy: 0.7726\n",
            "Epoch 80/200\n",
            "18/18 [==============================] - 0s 2ms/step - loss: 0.4622 - accuracy: 0.7847\n",
            "Epoch 81/200\n",
            "18/18 [==============================] - 0s 1ms/step - loss: 0.4633 - accuracy: 0.7743\n",
            "Epoch 82/200\n",
            "18/18 [==============================] - 0s 1ms/step - loss: 0.4614 - accuracy: 0.7865\n",
            "Epoch 83/200\n",
            "18/18 [==============================] - 0s 1ms/step - loss: 0.4609 - accuracy: 0.7812\n",
            "Epoch 84/200\n",
            "18/18 [==============================] - 0s 2ms/step - loss: 0.4613 - accuracy: 0.7778\n",
            "Epoch 85/200\n",
            "18/18 [==============================] - 0s 1ms/step - loss: 0.4616 - accuracy: 0.7795\n",
            "Epoch 86/200\n",
            "18/18 [==============================] - 0s 1ms/step - loss: 0.4605 - accuracy: 0.7795\n",
            "Epoch 87/200\n",
            "18/18 [==============================] - 0s 1ms/step - loss: 0.4603 - accuracy: 0.7778\n",
            "Epoch 88/200\n",
            "18/18 [==============================] - 0s 1ms/step - loss: 0.4605 - accuracy: 0.7795\n",
            "Epoch 89/200\n",
            "18/18 [==============================] - 0s 1ms/step - loss: 0.4621 - accuracy: 0.7778\n",
            "Epoch 90/200\n",
            "18/18 [==============================] - 0s 2ms/step - loss: 0.4611 - accuracy: 0.7778\n",
            "Epoch 91/200\n",
            "18/18 [==============================] - 0s 1ms/step - loss: 0.4605 - accuracy: 0.7726\n",
            "Epoch 92/200\n",
            "18/18 [==============================] - 0s 2ms/step - loss: 0.4607 - accuracy: 0.7795\n",
            "Epoch 93/200\n",
            "18/18 [==============================] - 0s 2ms/step - loss: 0.4601 - accuracy: 0.7812\n",
            "Epoch 94/200\n",
            "18/18 [==============================] - 0s 2ms/step - loss: 0.4598 - accuracy: 0.7778\n",
            "Epoch 95/200\n",
            "18/18 [==============================] - 0s 2ms/step - loss: 0.4603 - accuracy: 0.7760\n",
            "Epoch 96/200\n",
            "18/18 [==============================] - 0s 1ms/step - loss: 0.4602 - accuracy: 0.7778\n",
            "Epoch 97/200\n",
            "18/18 [==============================] - 0s 1ms/step - loss: 0.4602 - accuracy: 0.7760\n",
            "Epoch 98/200\n",
            "18/18 [==============================] - 0s 1ms/step - loss: 0.4618 - accuracy: 0.7708\n",
            "Epoch 99/200\n",
            "18/18 [==============================] - 0s 2ms/step - loss: 0.4634 - accuracy: 0.7743\n",
            "Epoch 100/200\n",
            "18/18 [==============================] - 0s 1ms/step - loss: 0.4617 - accuracy: 0.7743\n",
            "Epoch 101/200\n",
            "18/18 [==============================] - 0s 1ms/step - loss: 0.4603 - accuracy: 0.7778\n",
            "Epoch 102/200\n",
            "18/18 [==============================] - 0s 2ms/step - loss: 0.4611 - accuracy: 0.7760\n",
            "Epoch 103/200\n",
            "18/18 [==============================] - 0s 2ms/step - loss: 0.4602 - accuracy: 0.7778\n",
            "Epoch 104/200\n",
            "18/18 [==============================] - 0s 2ms/step - loss: 0.4622 - accuracy: 0.7778\n",
            "Epoch 105/200\n",
            "18/18 [==============================] - 0s 1ms/step - loss: 0.4597 - accuracy: 0.7795\n",
            "Epoch 106/200\n",
            "18/18 [==============================] - 0s 2ms/step - loss: 0.4611 - accuracy: 0.7795\n",
            "Epoch 107/200\n",
            "18/18 [==============================] - 0s 1ms/step - loss: 0.4618 - accuracy: 0.7708\n",
            "Epoch 108/200\n",
            "18/18 [==============================] - 0s 2ms/step - loss: 0.4606 - accuracy: 0.7778\n",
            "Epoch 109/200\n",
            "18/18 [==============================] - 0s 2ms/step - loss: 0.4598 - accuracy: 0.7778\n",
            "Epoch 110/200\n",
            "18/18 [==============================] - 0s 1ms/step - loss: 0.4596 - accuracy: 0.7795\n",
            "Epoch 111/200\n",
            "18/18 [==============================] - 0s 1ms/step - loss: 0.4596 - accuracy: 0.7812\n",
            "Epoch 112/200\n",
            "18/18 [==============================] - 0s 1ms/step - loss: 0.4606 - accuracy: 0.7778\n",
            "Epoch 113/200\n",
            "18/18 [==============================] - 0s 1ms/step - loss: 0.4611 - accuracy: 0.7778\n",
            "Epoch 114/200\n",
            "18/18 [==============================] - 0s 2ms/step - loss: 0.4596 - accuracy: 0.7778\n",
            "Epoch 115/200\n",
            "18/18 [==============================] - 0s 2ms/step - loss: 0.4596 - accuracy: 0.7795\n",
            "Epoch 116/200\n",
            "18/18 [==============================] - 0s 2ms/step - loss: 0.4601 - accuracy: 0.7795\n",
            "Epoch 117/200\n",
            "18/18 [==============================] - 0s 1ms/step - loss: 0.4603 - accuracy: 0.7760\n",
            "Epoch 118/200\n",
            "18/18 [==============================] - 0s 1ms/step - loss: 0.4612 - accuracy: 0.7778\n",
            "Epoch 119/200\n",
            "18/18 [==============================] - 0s 1ms/step - loss: 0.4604 - accuracy: 0.7795\n",
            "Epoch 120/200\n",
            "18/18 [==============================] - 0s 1ms/step - loss: 0.4600 - accuracy: 0.7812\n",
            "Epoch 121/200\n",
            "18/18 [==============================] - 0s 2ms/step - loss: 0.4597 - accuracy: 0.7778\n",
            "Epoch 122/200\n",
            "18/18 [==============================] - 0s 2ms/step - loss: 0.4609 - accuracy: 0.7778\n",
            "Epoch 123/200\n",
            "18/18 [==============================] - 0s 2ms/step - loss: 0.4601 - accuracy: 0.7778\n",
            "Epoch 124/200\n",
            "18/18 [==============================] - 0s 1ms/step - loss: 0.4596 - accuracy: 0.7795\n",
            "Epoch 125/200\n",
            "18/18 [==============================] - 0s 1ms/step - loss: 0.4612 - accuracy: 0.7812\n",
            "Epoch 126/200\n",
            "18/18 [==============================] - 0s 1ms/step - loss: 0.4627 - accuracy: 0.7691\n",
            "Epoch 127/200\n",
            "18/18 [==============================] - 0s 2ms/step - loss: 0.4595 - accuracy: 0.7760\n",
            "Epoch 128/200\n",
            "18/18 [==============================] - 0s 1ms/step - loss: 0.4612 - accuracy: 0.7830\n",
            "Epoch 129/200\n",
            "18/18 [==============================] - 0s 1ms/step - loss: 0.4598 - accuracy: 0.7795\n",
            "Epoch 130/200\n",
            "18/18 [==============================] - 0s 2ms/step - loss: 0.4607 - accuracy: 0.7726\n",
            "Epoch 131/200\n",
            "18/18 [==============================] - 0s 1ms/step - loss: 0.4606 - accuracy: 0.7778\n",
            "Epoch 132/200\n",
            "18/18 [==============================] - 0s 2ms/step - loss: 0.4592 - accuracy: 0.7778\n",
            "Epoch 133/200\n",
            "18/18 [==============================] - 0s 2ms/step - loss: 0.4603 - accuracy: 0.7795\n",
            "Epoch 134/200\n",
            "18/18 [==============================] - 0s 2ms/step - loss: 0.4607 - accuracy: 0.7795\n",
            "Epoch 135/200\n",
            "18/18 [==============================] - 0s 2ms/step - loss: 0.4599 - accuracy: 0.7795\n",
            "Epoch 136/200\n",
            "18/18 [==============================] - 0s 2ms/step - loss: 0.4599 - accuracy: 0.7795\n",
            "Epoch 137/200\n",
            "18/18 [==============================] - 0s 2ms/step - loss: 0.4594 - accuracy: 0.7795\n",
            "Epoch 138/200\n",
            "18/18 [==============================] - 0s 1ms/step - loss: 0.4602 - accuracy: 0.7778\n",
            "Epoch 139/200\n",
            "18/18 [==============================] - 0s 1ms/step - loss: 0.4597 - accuracy: 0.7795\n",
            "Epoch 140/200\n",
            "18/18 [==============================] - 0s 1ms/step - loss: 0.4592 - accuracy: 0.7795\n",
            "Epoch 141/200\n",
            "18/18 [==============================] - 0s 2ms/step - loss: 0.4600 - accuracy: 0.7795\n",
            "Epoch 142/200\n",
            "18/18 [==============================] - 0s 2ms/step - loss: 0.4595 - accuracy: 0.7795\n",
            "Epoch 143/200\n",
            "18/18 [==============================] - 0s 1ms/step - loss: 0.4607 - accuracy: 0.7830\n",
            "Epoch 144/200\n",
            "18/18 [==============================] - 0s 2ms/step - loss: 0.4622 - accuracy: 0.7691\n",
            "Epoch 145/200\n",
            "18/18 [==============================] - 0s 2ms/step - loss: 0.4598 - accuracy: 0.7830\n",
            "Epoch 146/200\n",
            "18/18 [==============================] - 0s 2ms/step - loss: 0.4602 - accuracy: 0.7812\n",
            "Epoch 147/200\n",
            "18/18 [==============================] - 0s 2ms/step - loss: 0.4595 - accuracy: 0.7795\n",
            "Epoch 148/200\n",
            "18/18 [==============================] - 0s 2ms/step - loss: 0.4599 - accuracy: 0.7795\n",
            "Epoch 149/200\n",
            "18/18 [==============================] - 0s 2ms/step - loss: 0.4599 - accuracy: 0.7778\n",
            "Epoch 150/200\n",
            "18/18 [==============================] - 0s 2ms/step - loss: 0.4606 - accuracy: 0.7812\n",
            "Epoch 151/200\n",
            "18/18 [==============================] - 0s 2ms/step - loss: 0.4619 - accuracy: 0.7743\n",
            "Epoch 152/200\n",
            "18/18 [==============================] - 0s 1ms/step - loss: 0.4597 - accuracy: 0.7743\n",
            "Epoch 153/200\n",
            "18/18 [==============================] - 0s 2ms/step - loss: 0.4598 - accuracy: 0.7778\n",
            "Epoch 154/200\n",
            "18/18 [==============================] - 0s 2ms/step - loss: 0.4597 - accuracy: 0.7778\n",
            "Epoch 155/200\n",
            "18/18 [==============================] - 0s 2ms/step - loss: 0.4595 - accuracy: 0.7795\n",
            "Epoch 156/200\n",
            "18/18 [==============================] - 0s 1ms/step - loss: 0.4593 - accuracy: 0.7795\n",
            "Epoch 157/200\n",
            "18/18 [==============================] - 0s 2ms/step - loss: 0.4597 - accuracy: 0.7812\n",
            "Epoch 158/200\n",
            "18/18 [==============================] - 0s 1ms/step - loss: 0.4593 - accuracy: 0.7795\n",
            "Epoch 159/200\n",
            "18/18 [==============================] - 0s 1ms/step - loss: 0.4594 - accuracy: 0.7812\n",
            "Epoch 160/200\n",
            "18/18 [==============================] - 0s 2ms/step - loss: 0.4594 - accuracy: 0.7778\n",
            "Epoch 161/200\n",
            "18/18 [==============================] - 0s 2ms/step - loss: 0.4611 - accuracy: 0.7760\n",
            "Epoch 162/200\n",
            "18/18 [==============================] - 0s 1ms/step - loss: 0.4596 - accuracy: 0.7760\n",
            "Epoch 163/200\n",
            "18/18 [==============================] - 0s 1ms/step - loss: 0.4590 - accuracy: 0.7812\n",
            "Epoch 164/200\n",
            "18/18 [==============================] - 0s 1ms/step - loss: 0.4616 - accuracy: 0.7743\n",
            "Epoch 165/200\n",
            "18/18 [==============================] - 0s 2ms/step - loss: 0.4630 - accuracy: 0.7743\n",
            "Epoch 166/200\n",
            "18/18 [==============================] - 0s 1ms/step - loss: 0.4607 - accuracy: 0.7726\n",
            "Epoch 167/200\n",
            "18/18 [==============================] - 0s 2ms/step - loss: 0.4595 - accuracy: 0.7812\n",
            "Epoch 168/200\n",
            "18/18 [==============================] - 0s 1ms/step - loss: 0.4633 - accuracy: 0.7778\n",
            "Epoch 169/200\n",
            "18/18 [==============================] - 0s 2ms/step - loss: 0.4590 - accuracy: 0.7760\n",
            "Epoch 170/200\n",
            "18/18 [==============================] - 0s 1ms/step - loss: 0.4590 - accuracy: 0.7795\n",
            "Epoch 171/200\n",
            "18/18 [==============================] - 0s 2ms/step - loss: 0.4594 - accuracy: 0.7795\n",
            "Epoch 172/200\n",
            "18/18 [==============================] - 0s 2ms/step - loss: 0.4589 - accuracy: 0.7795\n",
            "Epoch 173/200\n",
            "18/18 [==============================] - 0s 1ms/step - loss: 0.4593 - accuracy: 0.7795\n",
            "Epoch 174/200\n",
            "18/18 [==============================] - 0s 1ms/step - loss: 0.4591 - accuracy: 0.7795\n",
            "Epoch 175/200\n",
            "18/18 [==============================] - 0s 2ms/step - loss: 0.4604 - accuracy: 0.7726\n",
            "Epoch 176/200\n",
            "18/18 [==============================] - 0s 2ms/step - loss: 0.4600 - accuracy: 0.7795\n",
            "Epoch 177/200\n",
            "18/18 [==============================] - 0s 1ms/step - loss: 0.4600 - accuracy: 0.7778\n",
            "Epoch 178/200\n",
            "18/18 [==============================] - 0s 2ms/step - loss: 0.4594 - accuracy: 0.7778\n",
            "Epoch 179/200\n",
            "18/18 [==============================] - 0s 2ms/step - loss: 0.4592 - accuracy: 0.7812\n",
            "Epoch 180/200\n",
            "18/18 [==============================] - 0s 1ms/step - loss: 0.4602 - accuracy: 0.7743\n",
            "Epoch 181/200\n",
            "18/18 [==============================] - 0s 2ms/step - loss: 0.4590 - accuracy: 0.7812\n",
            "Epoch 182/200\n",
            "18/18 [==============================] - 0s 2ms/step - loss: 0.4590 - accuracy: 0.7812\n",
            "Epoch 183/200\n",
            "18/18 [==============================] - 0s 1ms/step - loss: 0.4593 - accuracy: 0.7795\n",
            "Epoch 184/200\n",
            "18/18 [==============================] - 0s 1ms/step - loss: 0.4598 - accuracy: 0.7743\n",
            "Epoch 185/200\n",
            "18/18 [==============================] - 0s 2ms/step - loss: 0.4597 - accuracy: 0.7760\n",
            "Epoch 186/200\n",
            "18/18 [==============================] - 0s 1ms/step - loss: 0.4592 - accuracy: 0.7795\n",
            "Epoch 187/200\n",
            "18/18 [==============================] - 0s 1ms/step - loss: 0.4594 - accuracy: 0.7795\n",
            "Epoch 188/200\n",
            "18/18 [==============================] - 0s 2ms/step - loss: 0.4588 - accuracy: 0.7812\n",
            "Epoch 189/200\n",
            "18/18 [==============================] - 0s 2ms/step - loss: 0.4607 - accuracy: 0.7812\n",
            "Epoch 190/200\n",
            "18/18 [==============================] - 0s 1ms/step - loss: 0.4597 - accuracy: 0.7760\n",
            "Epoch 191/200\n",
            "18/18 [==============================] - 0s 1ms/step - loss: 0.4592 - accuracy: 0.7795\n",
            "Epoch 192/200\n",
            "18/18 [==============================] - 0s 1ms/step - loss: 0.4603 - accuracy: 0.7743\n",
            "Epoch 193/200\n",
            "18/18 [==============================] - 0s 2ms/step - loss: 0.4607 - accuracy: 0.7778\n",
            "Epoch 194/200\n",
            "18/18 [==============================] - 0s 2ms/step - loss: 0.4623 - accuracy: 0.7743\n",
            "Epoch 195/200\n",
            "18/18 [==============================] - 0s 2ms/step - loss: 0.4599 - accuracy: 0.7795\n",
            "Epoch 196/200\n",
            "18/18 [==============================] - 0s 1ms/step - loss: 0.4592 - accuracy: 0.7865\n",
            "Epoch 197/200\n",
            "18/18 [==============================] - 0s 1ms/step - loss: 0.4592 - accuracy: 0.7795\n",
            "Epoch 198/200\n",
            "18/18 [==============================] - 0s 2ms/step - loss: 0.4620 - accuracy: 0.7674\n",
            "Epoch 199/200\n",
            "18/18 [==============================] - 0s 2ms/step - loss: 0.4599 - accuracy: 0.7865\n",
            "Epoch 200/200\n",
            "18/18 [==============================] - 0s 2ms/step - loss: 0.4589 - accuracy: 0.7830\n"
          ],
          "name": "stdout"
        }
      ]
    },
    {
      "cell_type": "code",
      "metadata": {
        "colab": {
          "base_uri": "https://localhost:8080/"
        },
        "id": "G-0YecB8eRoS",
        "outputId": "a5adb888-5e67-4694-a8a6-df2d8d2fe5b5"
      },
      "source": [
        "y_pred_neural = rede_neural.predict(x_test)\n",
        "y_pred_neural"
      ],
      "execution_count": 141,
      "outputs": [
        {
          "output_type": "execute_result",
          "data": {
            "text/plain": [
              "array([[0.12327695],\n",
              "       [0.85326433],\n",
              "       [0.44846654],\n",
              "       [0.3503459 ],\n",
              "       [0.27972686],\n",
              "       [0.3988201 ],\n",
              "       [0.4144789 ],\n",
              "       [0.06415781],\n",
              "       [0.17379451],\n",
              "       [0.84471047],\n",
              "       [0.13847598],\n",
              "       [0.86664563],\n",
              "       [0.8218987 ],\n",
              "       [0.35338837],\n",
              "       [0.04980081],\n",
              "       [0.22550935],\n",
              "       [0.14632541],\n",
              "       [0.07732663],\n",
              "       [0.05529749],\n",
              "       [0.08628201],\n",
              "       [0.1798087 ],\n",
              "       [0.7316835 ],\n",
              "       [0.04962355],\n",
              "       [0.1039117 ],\n",
              "       [0.37730083],\n",
              "       [0.44402575],\n",
              "       [0.11470014],\n",
              "       [0.08234763],\n",
              "       [0.05847391],\n",
              "       [0.3836148 ],\n",
              "       [0.12680724],\n",
              "       [0.8250288 ],\n",
              "       [0.15829992],\n",
              "       [0.13693783],\n",
              "       [0.16741663],\n",
              "       [0.15966472],\n",
              "       [0.38693485],\n",
              "       [0.5991416 ],\n",
              "       [0.04580209],\n",
              "       [0.41078642],\n",
              "       [0.77948236],\n",
              "       [0.5017136 ],\n",
              "       [0.3039093 ],\n",
              "       [0.04003924],\n",
              "       [0.03484866],\n",
              "       [0.3273098 ],\n",
              "       [0.03996086],\n",
              "       [0.05737907],\n",
              "       [0.29689497],\n",
              "       [0.08641416],\n",
              "       [0.75659776],\n",
              "       [0.04316562],\n",
              "       [0.04054686],\n",
              "       [0.04160461],\n",
              "       [0.22758567],\n",
              "       [0.03957132],\n",
              "       [0.08115187],\n",
              "       [0.06349409],\n",
              "       [0.03532758],\n",
              "       [0.4461238 ],\n",
              "       [0.38124424],\n",
              "       [0.82799435],\n",
              "       [0.17277923],\n",
              "       [0.12946606],\n",
              "       [0.05934429],\n",
              "       [0.40990344],\n",
              "       [0.05214581],\n",
              "       [0.06864861],\n",
              "       [0.07782295],\n",
              "       [0.16493219],\n",
              "       [0.38488835],\n",
              "       [0.8689313 ],\n",
              "       [0.9071488 ],\n",
              "       [0.9489029 ],\n",
              "       [0.12220064],\n",
              "       [0.45453724],\n",
              "       [0.5399415 ],\n",
              "       [0.08744991],\n",
              "       [0.88021857],\n",
              "       [0.1396516 ],\n",
              "       [0.42781538],\n",
              "       [0.12920114],\n",
              "       [0.04336709],\n",
              "       [0.78913635],\n",
              "       [0.8192773 ],\n",
              "       [0.67671055],\n",
              "       [0.2527033 ],\n",
              "       [0.11845055],\n",
              "       [0.81141746],\n",
              "       [0.07326019],\n",
              "       [0.10137272],\n",
              "       [0.7753483 ],\n",
              "       [0.2116296 ],\n",
              "       [0.17907152],\n",
              "       [0.26040336],\n",
              "       [0.9228771 ],\n",
              "       [0.6194366 ],\n",
              "       [0.29123268],\n",
              "       [0.8128704 ],\n",
              "       [0.5215301 ],\n",
              "       [0.02941403],\n",
              "       [0.08135021],\n",
              "       [0.2019679 ],\n",
              "       [0.2732054 ],\n",
              "       [0.07898787],\n",
              "       [0.6548264 ],\n",
              "       [0.73502725],\n",
              "       [0.6963265 ],\n",
              "       [0.08614713],\n",
              "       [0.18858466],\n",
              "       [0.71629417],\n",
              "       [0.13496208],\n",
              "       [0.46572953],\n",
              "       [0.6860777 ],\n",
              "       [0.21689704],\n",
              "       [0.33293256],\n",
              "       [0.69771177],\n",
              "       [0.25749296],\n",
              "       [0.86901724],\n",
              "       [0.22368312],\n",
              "       [0.3383896 ],\n",
              "       [0.07728139],\n",
              "       [0.29595304],\n",
              "       [0.5609482 ],\n",
              "       [0.71728086],\n",
              "       [0.1069223 ],\n",
              "       [0.514375  ],\n",
              "       [0.4884068 ],\n",
              "       [0.19046023],\n",
              "       [0.87008166],\n",
              "       [0.6168737 ],\n",
              "       [0.13857168],\n",
              "       [0.18914163],\n",
              "       [0.05759189],\n",
              "       [0.2270895 ],\n",
              "       [0.09563795],\n",
              "       [0.3167933 ],\n",
              "       [0.06499958],\n",
              "       [0.09220928],\n",
              "       [0.30248433],\n",
              "       [0.8448168 ],\n",
              "       [0.3740686 ],\n",
              "       [0.7928473 ],\n",
              "       [0.12296864],\n",
              "       [0.39107913],\n",
              "       [0.1291478 ],\n",
              "       [0.2081292 ],\n",
              "       [0.16405174],\n",
              "       [0.3950009 ],\n",
              "       [0.8803298 ],\n",
              "       [0.3468036 ],\n",
              "       [0.7966606 ],\n",
              "       [0.31047916],\n",
              "       [0.8299261 ],\n",
              "       [0.06078944],\n",
              "       [0.41654778],\n",
              "       [0.09505513],\n",
              "       [0.36366567],\n",
              "       [0.17349565],\n",
              "       [0.84040666],\n",
              "       [0.20436755],\n",
              "       [0.2180917 ],\n",
              "       [0.28571254],\n",
              "       [0.40331346],\n",
              "       [0.63265646],\n",
              "       [0.12357539],\n",
              "       [0.8763023 ],\n",
              "       [0.21638021],\n",
              "       [0.27132702],\n",
              "       [0.13619408],\n",
              "       [0.15698391],\n",
              "       [0.3566969 ],\n",
              "       [0.23574317],\n",
              "       [0.11469245],\n",
              "       [0.13547304],\n",
              "       [0.03837427],\n",
              "       [0.08875185],\n",
              "       [0.22748196],\n",
              "       [0.45820895],\n",
              "       [0.34557405],\n",
              "       [0.21593502],\n",
              "       [0.43013805],\n",
              "       [0.5076001 ],\n",
              "       [0.07534087],\n",
              "       [0.04243642],\n",
              "       [0.44309825],\n",
              "       [0.05305699],\n",
              "       [0.04613554],\n",
              "       [0.08724159],\n",
              "       [0.67319345],\n",
              "       [0.92630315],\n",
              "       [0.15361553]], dtype=float32)"
            ]
          },
          "metadata": {
            "tags": []
          },
          "execution_count": 141
        }
      ]
    },
    {
      "cell_type": "code",
      "metadata": {
        "colab": {
          "base_uri": "https://localhost:8080/"
        },
        "id": "u0pRktNlebRI",
        "outputId": "60664acd-9a8e-4a95-85b6-4b78772cc22e"
      },
      "source": [
        "y_pred_neural = (y_pred_neural >= 0.5) #Convertendo para True ou False\n",
        "y_pred_neural"
      ],
      "execution_count": 142,
      "outputs": [
        {
          "output_type": "execute_result",
          "data": {
            "text/plain": [
              "array([[False],\n",
              "       [ True],\n",
              "       [False],\n",
              "       [False],\n",
              "       [False],\n",
              "       [False],\n",
              "       [False],\n",
              "       [False],\n",
              "       [False],\n",
              "       [ True],\n",
              "       [False],\n",
              "       [ True],\n",
              "       [ True],\n",
              "       [False],\n",
              "       [False],\n",
              "       [False],\n",
              "       [False],\n",
              "       [False],\n",
              "       [False],\n",
              "       [False],\n",
              "       [False],\n",
              "       [ True],\n",
              "       [False],\n",
              "       [False],\n",
              "       [False],\n",
              "       [False],\n",
              "       [False],\n",
              "       [False],\n",
              "       [False],\n",
              "       [False],\n",
              "       [False],\n",
              "       [ True],\n",
              "       [False],\n",
              "       [False],\n",
              "       [False],\n",
              "       [False],\n",
              "       [False],\n",
              "       [ True],\n",
              "       [False],\n",
              "       [False],\n",
              "       [ True],\n",
              "       [ True],\n",
              "       [False],\n",
              "       [False],\n",
              "       [False],\n",
              "       [False],\n",
              "       [False],\n",
              "       [False],\n",
              "       [False],\n",
              "       [False],\n",
              "       [ True],\n",
              "       [False],\n",
              "       [False],\n",
              "       [False],\n",
              "       [False],\n",
              "       [False],\n",
              "       [False],\n",
              "       [False],\n",
              "       [False],\n",
              "       [False],\n",
              "       [False],\n",
              "       [ True],\n",
              "       [False],\n",
              "       [False],\n",
              "       [False],\n",
              "       [False],\n",
              "       [False],\n",
              "       [False],\n",
              "       [False],\n",
              "       [False],\n",
              "       [False],\n",
              "       [ True],\n",
              "       [ True],\n",
              "       [ True],\n",
              "       [False],\n",
              "       [False],\n",
              "       [ True],\n",
              "       [False],\n",
              "       [ True],\n",
              "       [False],\n",
              "       [False],\n",
              "       [False],\n",
              "       [False],\n",
              "       [ True],\n",
              "       [ True],\n",
              "       [ True],\n",
              "       [False],\n",
              "       [False],\n",
              "       [ True],\n",
              "       [False],\n",
              "       [False],\n",
              "       [ True],\n",
              "       [False],\n",
              "       [False],\n",
              "       [False],\n",
              "       [ True],\n",
              "       [ True],\n",
              "       [False],\n",
              "       [ True],\n",
              "       [ True],\n",
              "       [False],\n",
              "       [False],\n",
              "       [False],\n",
              "       [False],\n",
              "       [False],\n",
              "       [ True],\n",
              "       [ True],\n",
              "       [ True],\n",
              "       [False],\n",
              "       [False],\n",
              "       [ True],\n",
              "       [False],\n",
              "       [False],\n",
              "       [ True],\n",
              "       [False],\n",
              "       [False],\n",
              "       [ True],\n",
              "       [False],\n",
              "       [ True],\n",
              "       [False],\n",
              "       [False],\n",
              "       [False],\n",
              "       [False],\n",
              "       [ True],\n",
              "       [ True],\n",
              "       [False],\n",
              "       [ True],\n",
              "       [False],\n",
              "       [False],\n",
              "       [ True],\n",
              "       [ True],\n",
              "       [False],\n",
              "       [False],\n",
              "       [False],\n",
              "       [False],\n",
              "       [False],\n",
              "       [False],\n",
              "       [False],\n",
              "       [False],\n",
              "       [False],\n",
              "       [ True],\n",
              "       [False],\n",
              "       [ True],\n",
              "       [False],\n",
              "       [False],\n",
              "       [False],\n",
              "       [False],\n",
              "       [False],\n",
              "       [False],\n",
              "       [ True],\n",
              "       [False],\n",
              "       [ True],\n",
              "       [False],\n",
              "       [ True],\n",
              "       [False],\n",
              "       [False],\n",
              "       [False],\n",
              "       [False],\n",
              "       [False],\n",
              "       [ True],\n",
              "       [False],\n",
              "       [False],\n",
              "       [False],\n",
              "       [False],\n",
              "       [ True],\n",
              "       [False],\n",
              "       [ True],\n",
              "       [False],\n",
              "       [False],\n",
              "       [False],\n",
              "       [False],\n",
              "       [False],\n",
              "       [False],\n",
              "       [False],\n",
              "       [False],\n",
              "       [False],\n",
              "       [False],\n",
              "       [False],\n",
              "       [False],\n",
              "       [False],\n",
              "       [False],\n",
              "       [False],\n",
              "       [ True],\n",
              "       [False],\n",
              "       [False],\n",
              "       [False],\n",
              "       [False],\n",
              "       [False],\n",
              "       [False],\n",
              "       [ True],\n",
              "       [ True],\n",
              "       [False]])"
            ]
          },
          "metadata": {
            "tags": []
          },
          "execution_count": 142
        }
      ]
    },
    {
      "cell_type": "code",
      "metadata": {
        "colab": {
          "base_uri": "https://localhost:8080/"
        },
        "id": "7A4FFKwqedlV",
        "outputId": "8b918841-3e96-43ce-cd2f-26fa04fed4fb"
      },
      "source": [
        "print(classification_report(y_test, y_pred_neural)) #Visualiza todas as metricas juntas"
      ],
      "execution_count": 143,
      "outputs": [
        {
          "output_type": "stream",
          "text": [
            "              precision    recall  f1-score   support\n",
            "\n",
            "           0       0.81      0.87      0.84       133\n",
            "           1       0.65      0.53      0.58        59\n",
            "\n",
            "    accuracy                           0.77       192\n",
            "   macro avg       0.73      0.70      0.71       192\n",
            "weighted avg       0.76      0.77      0.76       192\n",
            "\n"
          ],
          "name": "stdout"
        }
      ]
    }
  ]
}